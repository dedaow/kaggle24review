{
 "cells": [
  {
   "cell_type": "code",
   "execution_count": 1,
   "id": "a2590dd6",
   "metadata": {
    "execution": {
     "iopub.execute_input": "2024-11-07T05:10:27.974470Z",
     "iopub.status.busy": "2024-11-07T05:10:27.973416Z",
     "iopub.status.idle": "2024-11-07T05:10:29.133869Z",
     "shell.execute_reply": "2024-11-07T05:10:29.132193Z"
    },
    "papermill": {
     "duration": 1.194978,
     "end_time": "2024-11-07T05:10:29.136872",
     "exception": false,
     "start_time": "2024-11-07T05:10:27.941894",
     "status": "completed"
    },
    "tags": []
   },
   "outputs": [],
   "source": [
    "import pandas as pd"
   ]
  },
  {
   "cell_type": "code",
   "execution_count": 2,
   "id": "ebdb4c72",
   "metadata": {
    "execution": {
     "iopub.execute_input": "2024-11-07T05:10:29.192979Z",
     "iopub.status.busy": "2024-11-07T05:10:29.192355Z",
     "iopub.status.idle": "2024-11-07T05:10:30.303893Z",
     "shell.execute_reply": "2024-11-07T05:10:30.302509Z"
    },
    "papermill": {
     "duration": 1.142929,
     "end_time": "2024-11-07T05:10:30.306868",
     "exception": false,
     "start_time": "2024-11-07T05:10:29.163939",
     "status": "completed"
    },
    "tags": []
   },
   "outputs": [],
   "source": [
    "train = pd.read_csv(\"/kaggle/input/playground-series-s4e11/train.csv\")\n",
    "\n",
    "test = pd.read_csv(\"/kaggle/input/playground-series-s4e11/test.csv\")\n",
    "\n",
    "sample = pd.read_csv(\"/kaggle/input/playground-series-s4e11/sample_submission.csv\")"
   ]
  },
  {
   "cell_type": "code",
   "execution_count": 3,
   "id": "746053c2",
   "metadata": {
    "execution": {
     "iopub.execute_input": "2024-11-07T05:10:30.363776Z",
     "iopub.status.busy": "2024-11-07T05:10:30.363118Z",
     "iopub.status.idle": "2024-11-07T05:10:30.403266Z",
     "shell.execute_reply": "2024-11-07T05:10:30.402031Z"
    },
    "papermill": {
     "duration": 0.070937,
     "end_time": "2024-11-07T05:10:30.405837",
     "exception": false,
     "start_time": "2024-11-07T05:10:30.334900",
     "status": "completed"
    },
    "tags": []
   },
   "outputs": [
    {
     "data": {
      "text/html": [
       "<div>\n",
       "<style scoped>\n",
       "    .dataframe tbody tr th:only-of-type {\n",
       "        vertical-align: middle;\n",
       "    }\n",
       "\n",
       "    .dataframe tbody tr th {\n",
       "        vertical-align: top;\n",
       "    }\n",
       "\n",
       "    .dataframe thead th {\n",
       "        text-align: right;\n",
       "    }\n",
       "</style>\n",
       "<table border=\"1\" class=\"dataframe\">\n",
       "  <thead>\n",
       "    <tr style=\"text-align: right;\">\n",
       "      <th></th>\n",
       "      <th>id</th>\n",
       "      <th>Name</th>\n",
       "      <th>Gender</th>\n",
       "      <th>Age</th>\n",
       "      <th>City</th>\n",
       "      <th>Working Professional or Student</th>\n",
       "      <th>Profession</th>\n",
       "      <th>Academic Pressure</th>\n",
       "      <th>Work Pressure</th>\n",
       "      <th>CGPA</th>\n",
       "      <th>Study Satisfaction</th>\n",
       "      <th>Job Satisfaction</th>\n",
       "      <th>Sleep Duration</th>\n",
       "      <th>Dietary Habits</th>\n",
       "      <th>Degree</th>\n",
       "      <th>Have you ever had suicidal thoughts ?</th>\n",
       "      <th>Work/Study Hours</th>\n",
       "      <th>Financial Stress</th>\n",
       "      <th>Family History of Mental Illness</th>\n",
       "      <th>Depression</th>\n",
       "    </tr>\n",
       "  </thead>\n",
       "  <tbody>\n",
       "    <tr>\n",
       "      <th>0</th>\n",
       "      <td>0</td>\n",
       "      <td>Aaradhya</td>\n",
       "      <td>Female</td>\n",
       "      <td>49.0</td>\n",
       "      <td>Ludhiana</td>\n",
       "      <td>Working Professional</td>\n",
       "      <td>Chef</td>\n",
       "      <td>NaN</td>\n",
       "      <td>5.0</td>\n",
       "      <td>NaN</td>\n",
       "      <td>NaN</td>\n",
       "      <td>2.0</td>\n",
       "      <td>More than 8 hours</td>\n",
       "      <td>Healthy</td>\n",
       "      <td>BHM</td>\n",
       "      <td>No</td>\n",
       "      <td>1.0</td>\n",
       "      <td>2.0</td>\n",
       "      <td>No</td>\n",
       "      <td>0</td>\n",
       "    </tr>\n",
       "    <tr>\n",
       "      <th>1</th>\n",
       "      <td>1</td>\n",
       "      <td>Vivan</td>\n",
       "      <td>Male</td>\n",
       "      <td>26.0</td>\n",
       "      <td>Varanasi</td>\n",
       "      <td>Working Professional</td>\n",
       "      <td>Teacher</td>\n",
       "      <td>NaN</td>\n",
       "      <td>4.0</td>\n",
       "      <td>NaN</td>\n",
       "      <td>NaN</td>\n",
       "      <td>3.0</td>\n",
       "      <td>Less than 5 hours</td>\n",
       "      <td>Unhealthy</td>\n",
       "      <td>LLB</td>\n",
       "      <td>Yes</td>\n",
       "      <td>7.0</td>\n",
       "      <td>3.0</td>\n",
       "      <td>No</td>\n",
       "      <td>1</td>\n",
       "    </tr>\n",
       "    <tr>\n",
       "      <th>2</th>\n",
       "      <td>2</td>\n",
       "      <td>Yuvraj</td>\n",
       "      <td>Male</td>\n",
       "      <td>33.0</td>\n",
       "      <td>Visakhapatnam</td>\n",
       "      <td>Student</td>\n",
       "      <td>NaN</td>\n",
       "      <td>5.0</td>\n",
       "      <td>NaN</td>\n",
       "      <td>8.97</td>\n",
       "      <td>2.0</td>\n",
       "      <td>NaN</td>\n",
       "      <td>5-6 hours</td>\n",
       "      <td>Healthy</td>\n",
       "      <td>B.Pharm</td>\n",
       "      <td>Yes</td>\n",
       "      <td>3.0</td>\n",
       "      <td>1.0</td>\n",
       "      <td>No</td>\n",
       "      <td>1</td>\n",
       "    </tr>\n",
       "    <tr>\n",
       "      <th>3</th>\n",
       "      <td>3</td>\n",
       "      <td>Yuvraj</td>\n",
       "      <td>Male</td>\n",
       "      <td>22.0</td>\n",
       "      <td>Mumbai</td>\n",
       "      <td>Working Professional</td>\n",
       "      <td>Teacher</td>\n",
       "      <td>NaN</td>\n",
       "      <td>5.0</td>\n",
       "      <td>NaN</td>\n",
       "      <td>NaN</td>\n",
       "      <td>1.0</td>\n",
       "      <td>Less than 5 hours</td>\n",
       "      <td>Moderate</td>\n",
       "      <td>BBA</td>\n",
       "      <td>Yes</td>\n",
       "      <td>10.0</td>\n",
       "      <td>1.0</td>\n",
       "      <td>Yes</td>\n",
       "      <td>1</td>\n",
       "    </tr>\n",
       "    <tr>\n",
       "      <th>4</th>\n",
       "      <td>4</td>\n",
       "      <td>Rhea</td>\n",
       "      <td>Female</td>\n",
       "      <td>30.0</td>\n",
       "      <td>Kanpur</td>\n",
       "      <td>Working Professional</td>\n",
       "      <td>Business Analyst</td>\n",
       "      <td>NaN</td>\n",
       "      <td>1.0</td>\n",
       "      <td>NaN</td>\n",
       "      <td>NaN</td>\n",
       "      <td>1.0</td>\n",
       "      <td>5-6 hours</td>\n",
       "      <td>Unhealthy</td>\n",
       "      <td>BBA</td>\n",
       "      <td>Yes</td>\n",
       "      <td>9.0</td>\n",
       "      <td>4.0</td>\n",
       "      <td>Yes</td>\n",
       "      <td>0</td>\n",
       "    </tr>\n",
       "  </tbody>\n",
       "</table>\n",
       "</div>"
      ],
      "text/plain": [
       "   id      Name  Gender   Age           City Working Professional or Student  \\\n",
       "0   0  Aaradhya  Female  49.0       Ludhiana            Working Professional   \n",
       "1   1     Vivan    Male  26.0       Varanasi            Working Professional   \n",
       "2   2    Yuvraj    Male  33.0  Visakhapatnam                         Student   \n",
       "3   3    Yuvraj    Male  22.0         Mumbai            Working Professional   \n",
       "4   4      Rhea  Female  30.0         Kanpur            Working Professional   \n",
       "\n",
       "         Profession  Academic Pressure  Work Pressure  CGPA  \\\n",
       "0              Chef                NaN            5.0   NaN   \n",
       "1           Teacher                NaN            4.0   NaN   \n",
       "2               NaN                5.0            NaN  8.97   \n",
       "3           Teacher                NaN            5.0   NaN   \n",
       "4  Business Analyst                NaN            1.0   NaN   \n",
       "\n",
       "   Study Satisfaction  Job Satisfaction     Sleep Duration Dietary Habits  \\\n",
       "0                 NaN               2.0  More than 8 hours        Healthy   \n",
       "1                 NaN               3.0  Less than 5 hours      Unhealthy   \n",
       "2                 2.0               NaN          5-6 hours        Healthy   \n",
       "3                 NaN               1.0  Less than 5 hours       Moderate   \n",
       "4                 NaN               1.0          5-6 hours      Unhealthy   \n",
       "\n",
       "    Degree Have you ever had suicidal thoughts ?  Work/Study Hours  \\\n",
       "0      BHM                                    No               1.0   \n",
       "1      LLB                                   Yes               7.0   \n",
       "2  B.Pharm                                   Yes               3.0   \n",
       "3      BBA                                   Yes              10.0   \n",
       "4      BBA                                   Yes               9.0   \n",
       "\n",
       "   Financial Stress Family History of Mental Illness  Depression  \n",
       "0               2.0                               No           0  \n",
       "1               3.0                               No           1  \n",
       "2               1.0                               No           1  \n",
       "3               1.0                              Yes           1  \n",
       "4               4.0                              Yes           0  "
      ]
     },
     "execution_count": 3,
     "metadata": {},
     "output_type": "execute_result"
    }
   ],
   "source": [
    "train.head()"
   ]
  },
  {
   "cell_type": "code",
   "execution_count": 4,
   "id": "1e95a478",
   "metadata": {
    "execution": {
     "iopub.execute_input": "2024-11-07T05:10:30.463215Z",
     "iopub.status.busy": "2024-11-07T05:10:30.462779Z",
     "iopub.status.idle": "2024-11-07T05:10:30.471184Z",
     "shell.execute_reply": "2024-11-07T05:10:30.470083Z"
    },
    "papermill": {
     "duration": 0.04027,
     "end_time": "2024-11-07T05:10:30.473586",
     "exception": false,
     "start_time": "2024-11-07T05:10:30.433316",
     "status": "completed"
    },
    "tags": []
   },
   "outputs": [
    {
     "data": {
      "text/plain": [
       "((140700, 20), (93800, 19), (93800, 2))"
      ]
     },
     "execution_count": 4,
     "metadata": {},
     "output_type": "execute_result"
    }
   ],
   "source": [
    "train.shape,test.shape,sample.shape"
   ]
  },
  {
   "cell_type": "code",
   "execution_count": 5,
   "id": "c9f9ccff",
   "metadata": {
    "execution": {
     "iopub.execute_input": "2024-11-07T05:10:30.531131Z",
     "iopub.status.busy": "2024-11-07T05:10:30.530703Z",
     "iopub.status.idle": "2024-11-07T05:10:30.536059Z",
     "shell.execute_reply": "2024-11-07T05:10:30.534776Z"
    },
    "papermill": {
     "duration": 0.036819,
     "end_time": "2024-11-07T05:10:30.538628",
     "exception": false,
     "start_time": "2024-11-07T05:10:30.501809",
     "status": "completed"
    },
    "tags": []
   },
   "outputs": [],
   "source": [
    "#original=pd.read_csv(\"final_depression_dataset_1.csv\")"
   ]
  },
  {
   "cell_type": "code",
   "execution_count": 6,
   "id": "13b35fdf",
   "metadata": {
    "execution": {
     "iopub.execute_input": "2024-11-07T05:10:30.598002Z",
     "iopub.status.busy": "2024-11-07T05:10:30.596921Z",
     "iopub.status.idle": "2024-11-07T05:10:30.602034Z",
     "shell.execute_reply": "2024-11-07T05:10:30.600920Z"
    },
    "papermill": {
     "duration": 0.037743,
     "end_time": "2024-11-07T05:10:30.604483",
     "exception": false,
     "start_time": "2024-11-07T05:10:30.566740",
     "status": "completed"
    },
    "tags": []
   },
   "outputs": [],
   "source": [
    "#original.shape"
   ]
  },
  {
   "cell_type": "code",
   "execution_count": 7,
   "id": "0cdb5b89",
   "metadata": {
    "execution": {
     "iopub.execute_input": "2024-11-07T05:10:30.662110Z",
     "iopub.status.busy": "2024-11-07T05:10:30.661648Z",
     "iopub.status.idle": "2024-11-07T05:10:30.667038Z",
     "shell.execute_reply": "2024-11-07T05:10:30.665861Z"
    },
    "papermill": {
     "duration": 0.036772,
     "end_time": "2024-11-07T05:10:30.669374",
     "exception": false,
     "start_time": "2024-11-07T05:10:30.632602",
     "status": "completed"
    },
    "tags": []
   },
   "outputs": [],
   "source": [
    "#original.head()"
   ]
  },
  {
   "cell_type": "code",
   "execution_count": 8,
   "id": "f4e74fc6",
   "metadata": {
    "execution": {
     "iopub.execute_input": "2024-11-07T05:10:30.726465Z",
     "iopub.status.busy": "2024-11-07T05:10:30.726005Z",
     "iopub.status.idle": "2024-11-07T05:10:30.741134Z",
     "shell.execute_reply": "2024-11-07T05:10:30.740013Z"
    },
    "papermill": {
     "duration": 0.046778,
     "end_time": "2024-11-07T05:10:30.744006",
     "exception": false,
     "start_time": "2024-11-07T05:10:30.697228",
     "status": "completed"
    },
    "tags": []
   },
   "outputs": [],
   "source": [
    "df = train.copy()"
   ]
  },
  {
   "cell_type": "code",
   "execution_count": 9,
   "id": "cc115514",
   "metadata": {
    "execution": {
     "iopub.execute_input": "2024-11-07T05:10:30.801942Z",
     "iopub.status.busy": "2024-11-07T05:10:30.801421Z",
     "iopub.status.idle": "2024-11-07T05:10:30.970920Z",
     "shell.execute_reply": "2024-11-07T05:10:30.969732Z"
    },
    "papermill": {
     "duration": 0.201765,
     "end_time": "2024-11-07T05:10:30.974051",
     "exception": false,
     "start_time": "2024-11-07T05:10:30.772286",
     "status": "completed"
    },
    "tags": []
   },
   "outputs": [
    {
     "data": {
      "text/plain": [
       "id                                            0\n",
       "Name                                          0\n",
       "Gender                                        0\n",
       "Age                                           0\n",
       "City                                          0\n",
       "Working Professional or Student               0\n",
       "Profession                                36630\n",
       "Academic Pressure                        112803\n",
       "Work Pressure                             27918\n",
       "CGPA                                     112802\n",
       "Study Satisfaction                       112803\n",
       "Job Satisfaction                          27910\n",
       "Sleep Duration                                0\n",
       "Dietary Habits                                4\n",
       "Degree                                        2\n",
       "Have you ever had suicidal thoughts ?         0\n",
       "Work/Study Hours                              0\n",
       "Financial Stress                              4\n",
       "Family History of Mental Illness              0\n",
       "Depression                                    0\n",
       "dtype: int64"
      ]
     },
     "execution_count": 9,
     "metadata": {},
     "output_type": "execute_result"
    }
   ],
   "source": [
    "df.isnull().sum()"
   ]
  },
  {
   "cell_type": "code",
   "execution_count": 10,
   "id": "20abeb38",
   "metadata": {
    "execution": {
     "iopub.execute_input": "2024-11-07T05:10:31.032907Z",
     "iopub.status.busy": "2024-11-07T05:10:31.032413Z",
     "iopub.status.idle": "2024-11-07T05:10:31.142731Z",
     "shell.execute_reply": "2024-11-07T05:10:31.141522Z"
    },
    "papermill": {
     "duration": 0.143342,
     "end_time": "2024-11-07T05:10:31.145481",
     "exception": false,
     "start_time": "2024-11-07T05:10:31.002139",
     "status": "completed"
    },
    "tags": []
   },
   "outputs": [
    {
     "data": {
      "text/plain": [
       "id                                           0\n",
       "Name                                         0\n",
       "Gender                                       0\n",
       "Age                                          0\n",
       "City                                         0\n",
       "Working Professional or Student              0\n",
       "Profession                               24632\n",
       "Academic Pressure                        75033\n",
       "Work Pressure                            18778\n",
       "CGPA                                     75034\n",
       "Study Satisfaction                       75033\n",
       "Job Satisfaction                         18774\n",
       "Sleep Duration                               0\n",
       "Dietary Habits                               5\n",
       "Degree                                       2\n",
       "Have you ever had suicidal thoughts ?        0\n",
       "Work/Study Hours                             0\n",
       "Financial Stress                             0\n",
       "Family History of Mental Illness             0\n",
       "dtype: int64"
      ]
     },
     "execution_count": 10,
     "metadata": {},
     "output_type": "execute_result"
    }
   ],
   "source": [
    "test.isnull().sum()"
   ]
  },
  {
   "cell_type": "code",
   "execution_count": 11,
   "id": "ed445e46",
   "metadata": {
    "execution": {
     "iopub.execute_input": "2024-11-07T05:10:31.203683Z",
     "iopub.status.busy": "2024-11-07T05:10:31.203217Z",
     "iopub.status.idle": "2024-11-07T05:10:31.232459Z",
     "shell.execute_reply": "2024-11-07T05:10:31.231103Z"
    },
    "papermill": {
     "duration": 0.061497,
     "end_time": "2024-11-07T05:10:31.235201",
     "exception": false,
     "start_time": "2024-11-07T05:10:31.173704",
     "status": "completed"
    },
    "tags": []
   },
   "outputs": [
    {
     "data": {
      "text/html": [
       "<div>\n",
       "<style scoped>\n",
       "    .dataframe tbody tr th:only-of-type {\n",
       "        vertical-align: middle;\n",
       "    }\n",
       "\n",
       "    .dataframe tbody tr th {\n",
       "        vertical-align: top;\n",
       "    }\n",
       "\n",
       "    .dataframe thead th {\n",
       "        text-align: right;\n",
       "    }\n",
       "</style>\n",
       "<table border=\"1\" class=\"dataframe\">\n",
       "  <thead>\n",
       "    <tr style=\"text-align: right;\">\n",
       "      <th></th>\n",
       "      <th>id</th>\n",
       "      <th>Name</th>\n",
       "      <th>Gender</th>\n",
       "      <th>Age</th>\n",
       "      <th>City</th>\n",
       "      <th>Working Professional or Student</th>\n",
       "      <th>Profession</th>\n",
       "      <th>Academic Pressure</th>\n",
       "      <th>Work Pressure</th>\n",
       "      <th>CGPA</th>\n",
       "      <th>Study Satisfaction</th>\n",
       "      <th>Job Satisfaction</th>\n",
       "      <th>Sleep Duration</th>\n",
       "      <th>Dietary Habits</th>\n",
       "      <th>Degree</th>\n",
       "      <th>Have you ever had suicidal thoughts ?</th>\n",
       "      <th>Work/Study Hours</th>\n",
       "      <th>Financial Stress</th>\n",
       "      <th>Family History of Mental Illness</th>\n",
       "      <th>Depression</th>\n",
       "    </tr>\n",
       "  </thead>\n",
       "  <tbody>\n",
       "    <tr>\n",
       "      <th>0</th>\n",
       "      <td>0</td>\n",
       "      <td>Aaradhya</td>\n",
       "      <td>Female</td>\n",
       "      <td>49.0</td>\n",
       "      <td>Ludhiana</td>\n",
       "      <td>Working Professional</td>\n",
       "      <td>Chef</td>\n",
       "      <td>NaN</td>\n",
       "      <td>5.0</td>\n",
       "      <td>NaN</td>\n",
       "      <td>NaN</td>\n",
       "      <td>2.0</td>\n",
       "      <td>More than 8 hours</td>\n",
       "      <td>Healthy</td>\n",
       "      <td>BHM</td>\n",
       "      <td>No</td>\n",
       "      <td>1.0</td>\n",
       "      <td>2.0</td>\n",
       "      <td>No</td>\n",
       "      <td>0</td>\n",
       "    </tr>\n",
       "    <tr>\n",
       "      <th>1</th>\n",
       "      <td>1</td>\n",
       "      <td>Vivan</td>\n",
       "      <td>Male</td>\n",
       "      <td>26.0</td>\n",
       "      <td>Varanasi</td>\n",
       "      <td>Working Professional</td>\n",
       "      <td>Teacher</td>\n",
       "      <td>NaN</td>\n",
       "      <td>4.0</td>\n",
       "      <td>NaN</td>\n",
       "      <td>NaN</td>\n",
       "      <td>3.0</td>\n",
       "      <td>Less than 5 hours</td>\n",
       "      <td>Unhealthy</td>\n",
       "      <td>LLB</td>\n",
       "      <td>Yes</td>\n",
       "      <td>7.0</td>\n",
       "      <td>3.0</td>\n",
       "      <td>No</td>\n",
       "      <td>1</td>\n",
       "    </tr>\n",
       "    <tr>\n",
       "      <th>2</th>\n",
       "      <td>2</td>\n",
       "      <td>Yuvraj</td>\n",
       "      <td>Male</td>\n",
       "      <td>33.0</td>\n",
       "      <td>Visakhapatnam</td>\n",
       "      <td>Student</td>\n",
       "      <td>NaN</td>\n",
       "      <td>5.0</td>\n",
       "      <td>NaN</td>\n",
       "      <td>8.97</td>\n",
       "      <td>2.0</td>\n",
       "      <td>NaN</td>\n",
       "      <td>5-6 hours</td>\n",
       "      <td>Healthy</td>\n",
       "      <td>B.Pharm</td>\n",
       "      <td>Yes</td>\n",
       "      <td>3.0</td>\n",
       "      <td>1.0</td>\n",
       "      <td>No</td>\n",
       "      <td>1</td>\n",
       "    </tr>\n",
       "    <tr>\n",
       "      <th>3</th>\n",
       "      <td>3</td>\n",
       "      <td>Yuvraj</td>\n",
       "      <td>Male</td>\n",
       "      <td>22.0</td>\n",
       "      <td>Mumbai</td>\n",
       "      <td>Working Professional</td>\n",
       "      <td>Teacher</td>\n",
       "      <td>NaN</td>\n",
       "      <td>5.0</td>\n",
       "      <td>NaN</td>\n",
       "      <td>NaN</td>\n",
       "      <td>1.0</td>\n",
       "      <td>Less than 5 hours</td>\n",
       "      <td>Moderate</td>\n",
       "      <td>BBA</td>\n",
       "      <td>Yes</td>\n",
       "      <td>10.0</td>\n",
       "      <td>1.0</td>\n",
       "      <td>Yes</td>\n",
       "      <td>1</td>\n",
       "    </tr>\n",
       "    <tr>\n",
       "      <th>4</th>\n",
       "      <td>4</td>\n",
       "      <td>Rhea</td>\n",
       "      <td>Female</td>\n",
       "      <td>30.0</td>\n",
       "      <td>Kanpur</td>\n",
       "      <td>Working Professional</td>\n",
       "      <td>Business Analyst</td>\n",
       "      <td>NaN</td>\n",
       "      <td>1.0</td>\n",
       "      <td>NaN</td>\n",
       "      <td>NaN</td>\n",
       "      <td>1.0</td>\n",
       "      <td>5-6 hours</td>\n",
       "      <td>Unhealthy</td>\n",
       "      <td>BBA</td>\n",
       "      <td>Yes</td>\n",
       "      <td>9.0</td>\n",
       "      <td>4.0</td>\n",
       "      <td>Yes</td>\n",
       "      <td>0</td>\n",
       "    </tr>\n",
       "  </tbody>\n",
       "</table>\n",
       "</div>"
      ],
      "text/plain": [
       "   id      Name  Gender   Age           City Working Professional or Student  \\\n",
       "0   0  Aaradhya  Female  49.0       Ludhiana            Working Professional   \n",
       "1   1     Vivan    Male  26.0       Varanasi            Working Professional   \n",
       "2   2    Yuvraj    Male  33.0  Visakhapatnam                         Student   \n",
       "3   3    Yuvraj    Male  22.0         Mumbai            Working Professional   \n",
       "4   4      Rhea  Female  30.0         Kanpur            Working Professional   \n",
       "\n",
       "         Profession  Academic Pressure  Work Pressure  CGPA  \\\n",
       "0              Chef                NaN            5.0   NaN   \n",
       "1           Teacher                NaN            4.0   NaN   \n",
       "2               NaN                5.0            NaN  8.97   \n",
       "3           Teacher                NaN            5.0   NaN   \n",
       "4  Business Analyst                NaN            1.0   NaN   \n",
       "\n",
       "   Study Satisfaction  Job Satisfaction     Sleep Duration Dietary Habits  \\\n",
       "0                 NaN               2.0  More than 8 hours        Healthy   \n",
       "1                 NaN               3.0  Less than 5 hours      Unhealthy   \n",
       "2                 2.0               NaN          5-6 hours        Healthy   \n",
       "3                 NaN               1.0  Less than 5 hours       Moderate   \n",
       "4                 NaN               1.0          5-6 hours      Unhealthy   \n",
       "\n",
       "    Degree Have you ever had suicidal thoughts ?  Work/Study Hours  \\\n",
       "0      BHM                                    No               1.0   \n",
       "1      LLB                                   Yes               7.0   \n",
       "2  B.Pharm                                   Yes               3.0   \n",
       "3      BBA                                   Yes              10.0   \n",
       "4      BBA                                   Yes               9.0   \n",
       "\n",
       "   Financial Stress Family History of Mental Illness  Depression  \n",
       "0               2.0                               No           0  \n",
       "1               3.0                               No           1  \n",
       "2               1.0                               No           1  \n",
       "3               1.0                              Yes           1  \n",
       "4               4.0                              Yes           0  "
      ]
     },
     "execution_count": 11,
     "metadata": {},
     "output_type": "execute_result"
    }
   ],
   "source": [
    "train.head()"
   ]
  },
  {
   "cell_type": "code",
   "execution_count": 12,
   "id": "92dab821",
   "metadata": {
    "execution": {
     "iopub.execute_input": "2024-11-07T05:10:31.302358Z",
     "iopub.status.busy": "2024-11-07T05:10:31.301906Z",
     "iopub.status.idle": "2024-11-07T05:10:31.340567Z",
     "shell.execute_reply": "2024-11-07T05:10:31.339410Z"
    },
    "papermill": {
     "duration": 0.073421,
     "end_time": "2024-11-07T05:10:31.343393",
     "exception": false,
     "start_time": "2024-11-07T05:10:31.269972",
     "status": "completed"
    },
    "tags": []
   },
   "outputs": [
    {
     "data": {
      "text/plain": [
       "Profession\n",
       "Teacher           24906\n",
       "Content Writer     7814\n",
       "Architect          4370\n",
       "Consultant         4229\n",
       "HR Manager         4022\n",
       "                  ...  \n",
       "BBA                   1\n",
       "City Manager          1\n",
       "FamilyVirar           1\n",
       "B.Com                 1\n",
       "Yuvraj                1\n",
       "Name: count, Length: 64, dtype: int64"
      ]
     },
     "execution_count": 12,
     "metadata": {},
     "output_type": "execute_result"
    }
   ],
   "source": [
    "train['Profession'].value_counts()"
   ]
  },
  {
   "cell_type": "code",
   "execution_count": 13,
   "id": "967cd4ac",
   "metadata": {
    "execution": {
     "iopub.execute_input": "2024-11-07T05:10:31.403289Z",
     "iopub.status.busy": "2024-11-07T05:10:31.402819Z",
     "iopub.status.idle": "2024-11-07T05:10:31.427394Z",
     "shell.execute_reply": "2024-11-07T05:10:31.426235Z"
    },
    "papermill": {
     "duration": 0.057346,
     "end_time": "2024-11-07T05:10:31.430039",
     "exception": false,
     "start_time": "2024-11-07T05:10:31.372693",
     "status": "completed"
    },
    "tags": []
   },
   "outputs": [
    {
     "data": {
      "text/plain": [
       "Profession\n",
       "Teacher           16385\n",
       "Content Writer     5187\n",
       "Architect          2982\n",
       "Consultant         2920\n",
       "Pharmacist         2656\n",
       "                  ...  \n",
       "Manvi                 1\n",
       "24th                  1\n",
       "ME                    1\n",
       "3M                    1\n",
       "M.Pharm               1\n",
       "Name: count, Length: 64, dtype: int64"
      ]
     },
     "execution_count": 13,
     "metadata": {},
     "output_type": "execute_result"
    }
   ],
   "source": [
    "test['Profession'].value_counts()"
   ]
  },
  {
   "cell_type": "markdown",
   "id": "8777cb5e",
   "metadata": {
    "papermill": {
     "duration": 0.028908,
     "end_time": "2024-11-07T05:10:31.488288",
     "exception": false,
     "start_time": "2024-11-07T05:10:31.459380",
     "status": "completed"
    },
    "tags": []
   },
   "source": [
    "## Limpar a colunas 'Profession' do train"
   ]
  },
  {
   "cell_type": "code",
   "execution_count": 14,
   "id": "f0285b39",
   "metadata": {
    "execution": {
     "iopub.execute_input": "2024-11-07T05:10:31.549587Z",
     "iopub.status.busy": "2024-11-07T05:10:31.549109Z",
     "iopub.status.idle": "2024-11-07T05:10:31.600079Z",
     "shell.execute_reply": "2024-11-07T05:10:31.599011Z"
    },
    "papermill": {
     "duration": 0.085359,
     "end_time": "2024-11-07T05:10:31.602838",
     "exception": false,
     "start_time": "2024-11-07T05:10:31.517479",
     "status": "completed"
    },
    "tags": []
   },
   "outputs": [],
   "source": [
    "import numpy as np\n",
    "\n",
    "\n",
    "\n",
    "# Substituir NaN por 'Student'\n",
    "\n",
    "df['Profession'] = df['Profession'].fillna('Student')\n",
    "\n",
    "\n",
    "\n",
    "# Substituir 'Academic' por 'Student'\n",
    "\n",
    "df['Profession'] = df['Profession'].replace('Academic', 'Student')"
   ]
  },
  {
   "cell_type": "code",
   "execution_count": 15,
   "id": "85653764",
   "metadata": {
    "execution": {
     "iopub.execute_input": "2024-11-07T05:10:31.663956Z",
     "iopub.status.busy": "2024-11-07T05:10:31.663531Z",
     "iopub.status.idle": "2024-11-07T05:10:32.765759Z",
     "shell.execute_reply": "2024-11-07T05:10:32.764272Z"
    },
    "papermill": {
     "duration": 1.137167,
     "end_time": "2024-11-07T05:10:32.769668",
     "exception": false,
     "start_time": "2024-11-07T05:10:31.632501",
     "status": "completed"
    },
    "tags": []
   },
   "outputs": [],
   "source": [
    "# Contar ocorrências de cada profissão, ignorando NaN\n",
    "\n",
    "profession_counts = df['Profession'].value_counts()\n",
    "\n",
    "\n",
    "\n",
    "# Substituir profissões com menos de 10 ocorrências ou NaN por 'Outros'\n",
    "\n",
    "df['Profession'] = df['Profession'].apply(lambda x: x if pd.notna(x) and profession_counts.get(x, 0) >= 5 else 'Outros')\n"
   ]
  },
  {
   "cell_type": "code",
   "execution_count": 16,
   "id": "b391543f",
   "metadata": {
    "execution": {
     "iopub.execute_input": "2024-11-07T05:10:32.858190Z",
     "iopub.status.busy": "2024-11-07T05:10:32.857698Z",
     "iopub.status.idle": "2024-11-07T05:10:32.893486Z",
     "shell.execute_reply": "2024-11-07T05:10:32.892243Z"
    },
    "papermill": {
     "duration": 0.081046,
     "end_time": "2024-11-07T05:10:32.896110",
     "exception": false,
     "start_time": "2024-11-07T05:10:32.815064",
     "status": "completed"
    },
    "tags": []
   },
   "outputs": [
    {
     "data": {
      "text/plain": [
       "Profession\n",
       "Student                   36642\n",
       "Teacher                   24906\n",
       "Content Writer             7814\n",
       "Architect                  4370\n",
       "Consultant                 4229\n",
       "HR Manager                 4022\n",
       "Pharmacist                 3893\n",
       "Doctor                     3255\n",
       "Business Analyst           3161\n",
       "Entrepreneur               2968\n",
       "Chemist                    2967\n",
       "Chef                       2862\n",
       "Educational Consultant     2852\n",
       "Data Scientist             2390\n",
       "Researcher                 2328\n",
       "Lawyer                     2212\n",
       "Customer Support           2055\n",
       "Marketing Manager          1976\n",
       "Pilot                      1913\n",
       "Travel Consultant          1860\n",
       "Plumber                    1748\n",
       "Sales Executive            1739\n",
       "Manager                    1737\n",
       "Judge                      1712\n",
       "Electrician                1582\n",
       "Financial Analyst          1574\n",
       "Software Engineer          1510\n",
       "Civil Engineer             1470\n",
       "UX/UI Designer             1452\n",
       "Digital Marketer           1372\n",
       "Accountant                 1339\n",
       "Finanancial Analyst        1329\n",
       "Mechanical Engineer        1177\n",
       "Graphic Designer           1163\n",
       "Research Analyst            690\n",
       "Investment Banker           393\n",
       "Outros                       38\n",
       "Name: count, dtype: int64"
      ]
     },
     "execution_count": 16,
     "metadata": {},
     "output_type": "execute_result"
    }
   ],
   "source": [
    "df['Profession'].value_counts()"
   ]
  },
  {
   "cell_type": "markdown",
   "id": "a178f130",
   "metadata": {
    "papermill": {
     "duration": 0.035408,
     "end_time": "2024-11-07T05:10:32.961485",
     "exception": false,
     "start_time": "2024-11-07T05:10:32.926077",
     "status": "completed"
    },
    "tags": []
   },
   "source": [
    "## Limpar a colunas 'Profession' do test"
   ]
  },
  {
   "cell_type": "code",
   "execution_count": 17,
   "id": "e0cdaf9c",
   "metadata": {
    "execution": {
     "iopub.execute_input": "2024-11-07T05:10:33.032518Z",
     "iopub.status.busy": "2024-11-07T05:10:33.032036Z",
     "iopub.status.idle": "2024-11-07T05:10:33.068548Z",
     "shell.execute_reply": "2024-11-07T05:10:33.067228Z"
    },
    "papermill": {
     "duration": 0.075639,
     "end_time": "2024-11-07T05:10:33.071534",
     "exception": false,
     "start_time": "2024-11-07T05:10:32.995895",
     "status": "completed"
    },
    "tags": []
   },
   "outputs": [],
   "source": [
    "# Substituir NaN por 'Student'\n",
    "\n",
    "test['Profession'] = test['Profession'].fillna('Student')\n",
    "\n",
    "\n",
    "\n",
    "# Substituir 'Academic' por 'Student'\n",
    "\n",
    "test['Profession'] = test['Profession'].replace('Academic', 'Student')"
   ]
  },
  {
   "cell_type": "code",
   "execution_count": 18,
   "id": "008e4c1d",
   "metadata": {
    "execution": {
     "iopub.execute_input": "2024-11-07T05:10:33.132855Z",
     "iopub.status.busy": "2024-11-07T05:10:33.132318Z",
     "iopub.status.idle": "2024-11-07T05:10:33.858129Z",
     "shell.execute_reply": "2024-11-07T05:10:33.856947Z"
    },
    "papermill": {
     "duration": 0.759827,
     "end_time": "2024-11-07T05:10:33.861016",
     "exception": false,
     "start_time": "2024-11-07T05:10:33.101189",
     "status": "completed"
    },
    "tags": []
   },
   "outputs": [],
   "source": [
    "# Contar ocorrências de cada profissão, ignorando NaN\n",
    "\n",
    "profession_counts = test['Profession'].value_counts()\n",
    "\n",
    "\n",
    "\n",
    "# Substituir profissões com menos de 10 ocorrências ou NaN por 'Outros'\n",
    "\n",
    "test['Profession'] = test['Profession'].apply(lambda x: x if pd.notna(x) and profession_counts.get(x, 0) >= 5 else 'Outros')"
   ]
  },
  {
   "cell_type": "code",
   "execution_count": 19,
   "id": "020fdb66",
   "metadata": {
    "execution": {
     "iopub.execute_input": "2024-11-07T05:10:33.923248Z",
     "iopub.status.busy": "2024-11-07T05:10:33.922822Z",
     "iopub.status.idle": "2024-11-07T05:10:33.950092Z",
     "shell.execute_reply": "2024-11-07T05:10:33.948561Z"
    },
    "papermill": {
     "duration": 0.061424,
     "end_time": "2024-11-07T05:10:33.953022",
     "exception": false,
     "start_time": "2024-11-07T05:10:33.891598",
     "status": "completed"
    },
    "tags": []
   },
   "outputs": [
    {
     "data": {
      "text/plain": [
       "Profession\n",
       "Student                   24640\n",
       "Teacher                   16385\n",
       "Content Writer             5187\n",
       "Architect                  2982\n",
       "Consultant                 2920\n",
       "Pharmacist                 2656\n",
       "HR Manager                 2601\n",
       "Doctor                     2198\n",
       "Business Analyst           2186\n",
       "Chemist                    1967\n",
       "Entrepreneur               1935\n",
       "Chef                       1844\n",
       "Educational Consultant     1827\n",
       "Data Scientist             1582\n",
       "Lawyer                     1497\n",
       "Researcher                 1496\n",
       "Pilot                      1448\n",
       "Customer Support           1422\n",
       "Marketing Manager          1284\n",
       "Judge                      1189\n",
       "Travel Consultant          1188\n",
       "Manager                    1155\n",
       "Sales Executive            1139\n",
       "Plumber                    1123\n",
       "Electrician                1121\n",
       "Financial Analyst          1048\n",
       "Software Engineer          1002\n",
       "Digital Marketer            942\n",
       "Civil Engineer              938\n",
       "UX/UI Designer              915\n",
       "Finanancial Analyst         894\n",
       "Accountant                  853\n",
       "Mechanical Engineer         800\n",
       "Graphic Designer            720\n",
       "Research Analyst            423\n",
       "Investment Banker           257\n",
       "Outros                       36\n",
       "Name: count, dtype: int64"
      ]
     },
     "execution_count": 19,
     "metadata": {},
     "output_type": "execute_result"
    }
   ],
   "source": [
    "test['Profession'].value_counts()"
   ]
  },
  {
   "cell_type": "markdown",
   "id": "f8843cfb",
   "metadata": {
    "papermill": {
     "duration": 0.029992,
     "end_time": "2024-11-07T05:10:34.013345",
     "exception": false,
     "start_time": "2024-11-07T05:10:33.983353",
     "status": "completed"
    },
    "tags": []
   },
   "source": [
    "## Limpar a colunas 'Academic Pressure' e 'Work Pressure' do train"
   ]
  },
  {
   "cell_type": "code",
   "execution_count": 20,
   "id": "ad43d82f",
   "metadata": {
    "execution": {
     "iopub.execute_input": "2024-11-07T05:10:34.076144Z",
     "iopub.status.busy": "2024-11-07T05:10:34.075660Z",
     "iopub.status.idle": "2024-11-07T05:10:34.085805Z",
     "shell.execute_reply": "2024-11-07T05:10:34.084392Z"
    },
    "papermill": {
     "duration": 0.045316,
     "end_time": "2024-11-07T05:10:34.088739",
     "exception": false,
     "start_time": "2024-11-07T05:10:34.043423",
     "status": "completed"
    },
    "tags": []
   },
   "outputs": [],
   "source": [
    "# Criar a coluna 'Pressure' dando prioridade para 'Academic Pressure' quando ambas têm valor\n",
    "\n",
    "df['Pressure'] = df['Academic Pressure'].combine_first(df['Work Pressure'])\n"
   ]
  },
  {
   "cell_type": "code",
   "execution_count": 21,
   "id": "6f32c797",
   "metadata": {
    "execution": {
     "iopub.execute_input": "2024-11-07T05:10:34.151094Z",
     "iopub.status.busy": "2024-11-07T05:10:34.150618Z",
     "iopub.status.idle": "2024-11-07T05:10:34.202537Z",
     "shell.execute_reply": "2024-11-07T05:10:34.201140Z"
    },
    "papermill": {
     "duration": 0.085917,
     "end_time": "2024-11-07T05:10:34.205284",
     "exception": false,
     "start_time": "2024-11-07T05:10:34.119367",
     "status": "completed"
    },
    "tags": []
   },
   "outputs": [
    {
     "data": {
      "text/html": [
       "<div>\n",
       "<style scoped>\n",
       "    .dataframe tbody tr th:only-of-type {\n",
       "        vertical-align: middle;\n",
       "    }\n",
       "\n",
       "    .dataframe tbody tr th {\n",
       "        vertical-align: top;\n",
       "    }\n",
       "\n",
       "    .dataframe thead th {\n",
       "        text-align: right;\n",
       "    }\n",
       "</style>\n",
       "<table border=\"1\" class=\"dataframe\">\n",
       "  <thead>\n",
       "    <tr style=\"text-align: right;\">\n",
       "      <th></th>\n",
       "      <th>id</th>\n",
       "      <th>Name</th>\n",
       "      <th>Gender</th>\n",
       "      <th>Age</th>\n",
       "      <th>City</th>\n",
       "      <th>Working Professional or Student</th>\n",
       "      <th>Profession</th>\n",
       "      <th>Academic Pressure</th>\n",
       "      <th>Work Pressure</th>\n",
       "      <th>CGPA</th>\n",
       "      <th>...</th>\n",
       "      <th>Job Satisfaction</th>\n",
       "      <th>Sleep Duration</th>\n",
       "      <th>Dietary Habits</th>\n",
       "      <th>Degree</th>\n",
       "      <th>Have you ever had suicidal thoughts ?</th>\n",
       "      <th>Work/Study Hours</th>\n",
       "      <th>Financial Stress</th>\n",
       "      <th>Family History of Mental Illness</th>\n",
       "      <th>Depression</th>\n",
       "      <th>Pressure</th>\n",
       "    </tr>\n",
       "  </thead>\n",
       "  <tbody>\n",
       "    <tr>\n",
       "      <th>99700</th>\n",
       "      <td>99700</td>\n",
       "      <td>Siddhi</td>\n",
       "      <td>Female</td>\n",
       "      <td>58.0</td>\n",
       "      <td>Agra</td>\n",
       "      <td>Working Professional</td>\n",
       "      <td>Teacher</td>\n",
       "      <td>NaN</td>\n",
       "      <td>3.0</td>\n",
       "      <td>NaN</td>\n",
       "      <td>...</td>\n",
       "      <td>2.0</td>\n",
       "      <td>Less than 5 hours</td>\n",
       "      <td>Moderate</td>\n",
       "      <td>BBA</td>\n",
       "      <td>Yes</td>\n",
       "      <td>7.0</td>\n",
       "      <td>2.0</td>\n",
       "      <td>No</td>\n",
       "      <td>0</td>\n",
       "      <td>3.0</td>\n",
       "    </tr>\n",
       "    <tr>\n",
       "      <th>44982</th>\n",
       "      <td>44982</td>\n",
       "      <td>Ayush</td>\n",
       "      <td>Male</td>\n",
       "      <td>33.0</td>\n",
       "      <td>Indore</td>\n",
       "      <td>Student</td>\n",
       "      <td>Student</td>\n",
       "      <td>3.0</td>\n",
       "      <td>NaN</td>\n",
       "      <td>7.08</td>\n",
       "      <td>...</td>\n",
       "      <td>NaN</td>\n",
       "      <td>5-6 hours</td>\n",
       "      <td>Healthy</td>\n",
       "      <td>B.Arch</td>\n",
       "      <td>Yes</td>\n",
       "      <td>8.0</td>\n",
       "      <td>3.0</td>\n",
       "      <td>Yes</td>\n",
       "      <td>1</td>\n",
       "      <td>3.0</td>\n",
       "    </tr>\n",
       "    <tr>\n",
       "      <th>116034</th>\n",
       "      <td>116034</td>\n",
       "      <td>Tanmay</td>\n",
       "      <td>Male</td>\n",
       "      <td>56.0</td>\n",
       "      <td>Srinagar</td>\n",
       "      <td>Working Professional</td>\n",
       "      <td>Data Scientist</td>\n",
       "      <td>NaN</td>\n",
       "      <td>5.0</td>\n",
       "      <td>NaN</td>\n",
       "      <td>...</td>\n",
       "      <td>4.0</td>\n",
       "      <td>5-6 hours</td>\n",
       "      <td>Unhealthy</td>\n",
       "      <td>B.Tech</td>\n",
       "      <td>No</td>\n",
       "      <td>3.0</td>\n",
       "      <td>5.0</td>\n",
       "      <td>Yes</td>\n",
       "      <td>0</td>\n",
       "      <td>5.0</td>\n",
       "    </tr>\n",
       "    <tr>\n",
       "      <th>110608</th>\n",
       "      <td>110608</td>\n",
       "      <td>Siddharth</td>\n",
       "      <td>Male</td>\n",
       "      <td>45.0</td>\n",
       "      <td>Ludhiana</td>\n",
       "      <td>Working Professional</td>\n",
       "      <td>Mechanical Engineer</td>\n",
       "      <td>NaN</td>\n",
       "      <td>4.0</td>\n",
       "      <td>NaN</td>\n",
       "      <td>...</td>\n",
       "      <td>2.0</td>\n",
       "      <td>More than 8 hours</td>\n",
       "      <td>Unhealthy</td>\n",
       "      <td>PhD</td>\n",
       "      <td>Yes</td>\n",
       "      <td>8.0</td>\n",
       "      <td>2.0</td>\n",
       "      <td>No</td>\n",
       "      <td>0</td>\n",
       "      <td>4.0</td>\n",
       "    </tr>\n",
       "    <tr>\n",
       "      <th>71268</th>\n",
       "      <td>71268</td>\n",
       "      <td>Anand</td>\n",
       "      <td>Male</td>\n",
       "      <td>38.0</td>\n",
       "      <td>Ghaziabad</td>\n",
       "      <td>Working Professional</td>\n",
       "      <td>Student</td>\n",
       "      <td>NaN</td>\n",
       "      <td>4.0</td>\n",
       "      <td>NaN</td>\n",
       "      <td>...</td>\n",
       "      <td>5.0</td>\n",
       "      <td>7-8 hours</td>\n",
       "      <td>Healthy</td>\n",
       "      <td>Class 12</td>\n",
       "      <td>No</td>\n",
       "      <td>1.0</td>\n",
       "      <td>2.0</td>\n",
       "      <td>Yes</td>\n",
       "      <td>0</td>\n",
       "      <td>4.0</td>\n",
       "    </tr>\n",
       "    <tr>\n",
       "      <th>38047</th>\n",
       "      <td>38047</td>\n",
       "      <td>Sanket</td>\n",
       "      <td>Male</td>\n",
       "      <td>38.0</td>\n",
       "      <td>Bangalore</td>\n",
       "      <td>Working Professional</td>\n",
       "      <td>Data Scientist</td>\n",
       "      <td>NaN</td>\n",
       "      <td>5.0</td>\n",
       "      <td>NaN</td>\n",
       "      <td>...</td>\n",
       "      <td>2.0</td>\n",
       "      <td>Less than 5 hours</td>\n",
       "      <td>Healthy</td>\n",
       "      <td>BCA</td>\n",
       "      <td>No</td>\n",
       "      <td>9.0</td>\n",
       "      <td>3.0</td>\n",
       "      <td>No</td>\n",
       "      <td>0</td>\n",
       "      <td>5.0</td>\n",
       "    </tr>\n",
       "    <tr>\n",
       "      <th>68271</th>\n",
       "      <td>68271</td>\n",
       "      <td>Hrithik</td>\n",
       "      <td>Male</td>\n",
       "      <td>52.0</td>\n",
       "      <td>Kalyan</td>\n",
       "      <td>Working Professional</td>\n",
       "      <td>Civil Engineer</td>\n",
       "      <td>NaN</td>\n",
       "      <td>4.0</td>\n",
       "      <td>NaN</td>\n",
       "      <td>...</td>\n",
       "      <td>2.0</td>\n",
       "      <td>Less than 5 hours</td>\n",
       "      <td>Unhealthy</td>\n",
       "      <td>ME</td>\n",
       "      <td>Yes</td>\n",
       "      <td>3.0</td>\n",
       "      <td>2.0</td>\n",
       "      <td>Yes</td>\n",
       "      <td>0</td>\n",
       "      <td>4.0</td>\n",
       "    </tr>\n",
       "    <tr>\n",
       "      <th>5721</th>\n",
       "      <td>5721</td>\n",
       "      <td>Tushar</td>\n",
       "      <td>Male</td>\n",
       "      <td>52.0</td>\n",
       "      <td>Patna</td>\n",
       "      <td>Working Professional</td>\n",
       "      <td>Doctor</td>\n",
       "      <td>NaN</td>\n",
       "      <td>1.0</td>\n",
       "      <td>NaN</td>\n",
       "      <td>...</td>\n",
       "      <td>3.0</td>\n",
       "      <td>Less than 5 hours</td>\n",
       "      <td>Unhealthy</td>\n",
       "      <td>M.Pharm</td>\n",
       "      <td>No</td>\n",
       "      <td>4.0</td>\n",
       "      <td>4.0</td>\n",
       "      <td>No</td>\n",
       "      <td>0</td>\n",
       "      <td>1.0</td>\n",
       "    </tr>\n",
       "    <tr>\n",
       "      <th>7348</th>\n",
       "      <td>7348</td>\n",
       "      <td>Prisha</td>\n",
       "      <td>Female</td>\n",
       "      <td>28.0</td>\n",
       "      <td>Pune</td>\n",
       "      <td>Student</td>\n",
       "      <td>Student</td>\n",
       "      <td>3.0</td>\n",
       "      <td>NaN</td>\n",
       "      <td>9.89</td>\n",
       "      <td>...</td>\n",
       "      <td>NaN</td>\n",
       "      <td>7-8 hours</td>\n",
       "      <td>Unhealthy</td>\n",
       "      <td>B.Ed</td>\n",
       "      <td>Yes</td>\n",
       "      <td>12.0</td>\n",
       "      <td>4.0</td>\n",
       "      <td>Yes</td>\n",
       "      <td>1</td>\n",
       "      <td>3.0</td>\n",
       "    </tr>\n",
       "    <tr>\n",
       "      <th>81423</th>\n",
       "      <td>81423</td>\n",
       "      <td>Shlok</td>\n",
       "      <td>Male</td>\n",
       "      <td>44.0</td>\n",
       "      <td>Agra</td>\n",
       "      <td>Working Professional</td>\n",
       "      <td>Business Analyst</td>\n",
       "      <td>NaN</td>\n",
       "      <td>1.0</td>\n",
       "      <td>NaN</td>\n",
       "      <td>...</td>\n",
       "      <td>5.0</td>\n",
       "      <td>5-6 hours</td>\n",
       "      <td>Moderate</td>\n",
       "      <td>ME</td>\n",
       "      <td>Yes</td>\n",
       "      <td>9.0</td>\n",
       "      <td>5.0</td>\n",
       "      <td>No</td>\n",
       "      <td>0</td>\n",
       "      <td>1.0</td>\n",
       "    </tr>\n",
       "  </tbody>\n",
       "</table>\n",
       "<p>10 rows × 21 columns</p>\n",
       "</div>"
      ],
      "text/plain": [
       "            id       Name  Gender   Age       City  \\\n",
       "99700    99700     Siddhi  Female  58.0       Agra   \n",
       "44982    44982      Ayush    Male  33.0     Indore   \n",
       "116034  116034     Tanmay    Male  56.0   Srinagar   \n",
       "110608  110608  Siddharth    Male  45.0   Ludhiana   \n",
       "71268    71268      Anand    Male  38.0  Ghaziabad   \n",
       "38047    38047     Sanket    Male  38.0  Bangalore   \n",
       "68271    68271    Hrithik    Male  52.0     Kalyan   \n",
       "5721      5721     Tushar    Male  52.0      Patna   \n",
       "7348      7348     Prisha  Female  28.0       Pune   \n",
       "81423    81423      Shlok    Male  44.0       Agra   \n",
       "\n",
       "       Working Professional or Student           Profession  \\\n",
       "99700             Working Professional              Teacher   \n",
       "44982                          Student              Student   \n",
       "116034            Working Professional       Data Scientist   \n",
       "110608            Working Professional  Mechanical Engineer   \n",
       "71268             Working Professional              Student   \n",
       "38047             Working Professional       Data Scientist   \n",
       "68271             Working Professional       Civil Engineer   \n",
       "5721              Working Professional               Doctor   \n",
       "7348                           Student              Student   \n",
       "81423             Working Professional     Business Analyst   \n",
       "\n",
       "        Academic Pressure  Work Pressure  CGPA  ...  Job Satisfaction  \\\n",
       "99700                 NaN            3.0   NaN  ...               2.0   \n",
       "44982                 3.0            NaN  7.08  ...               NaN   \n",
       "116034                NaN            5.0   NaN  ...               4.0   \n",
       "110608                NaN            4.0   NaN  ...               2.0   \n",
       "71268                 NaN            4.0   NaN  ...               5.0   \n",
       "38047                 NaN            5.0   NaN  ...               2.0   \n",
       "68271                 NaN            4.0   NaN  ...               2.0   \n",
       "5721                  NaN            1.0   NaN  ...               3.0   \n",
       "7348                  3.0            NaN  9.89  ...               NaN   \n",
       "81423                 NaN            1.0   NaN  ...               5.0   \n",
       "\n",
       "           Sleep Duration Dietary Habits    Degree  \\\n",
       "99700   Less than 5 hours       Moderate       BBA   \n",
       "44982           5-6 hours        Healthy    B.Arch   \n",
       "116034          5-6 hours      Unhealthy    B.Tech   \n",
       "110608  More than 8 hours      Unhealthy       PhD   \n",
       "71268           7-8 hours        Healthy  Class 12   \n",
       "38047   Less than 5 hours        Healthy       BCA   \n",
       "68271   Less than 5 hours      Unhealthy        ME   \n",
       "5721    Less than 5 hours      Unhealthy   M.Pharm   \n",
       "7348            7-8 hours      Unhealthy      B.Ed   \n",
       "81423           5-6 hours       Moderate        ME   \n",
       "\n",
       "       Have you ever had suicidal thoughts ? Work/Study Hours  \\\n",
       "99700                                    Yes              7.0   \n",
       "44982                                    Yes              8.0   \n",
       "116034                                    No              3.0   \n",
       "110608                                   Yes              8.0   \n",
       "71268                                     No              1.0   \n",
       "38047                                     No              9.0   \n",
       "68271                                    Yes              3.0   \n",
       "5721                                      No              4.0   \n",
       "7348                                     Yes             12.0   \n",
       "81423                                    Yes              9.0   \n",
       "\n",
       "        Financial Stress  Family History of Mental Illness Depression  \\\n",
       "99700                2.0                                No          0   \n",
       "44982                3.0                               Yes          1   \n",
       "116034               5.0                               Yes          0   \n",
       "110608               2.0                                No          0   \n",
       "71268                2.0                               Yes          0   \n",
       "38047                3.0                                No          0   \n",
       "68271                2.0                               Yes          0   \n",
       "5721                 4.0                                No          0   \n",
       "7348                 4.0                               Yes          1   \n",
       "81423                5.0                                No          0   \n",
       "\n",
       "        Pressure  \n",
       "99700        3.0  \n",
       "44982        3.0  \n",
       "116034       5.0  \n",
       "110608       4.0  \n",
       "71268        4.0  \n",
       "38047        5.0  \n",
       "68271        4.0  \n",
       "5721         1.0  \n",
       "7348         3.0  \n",
       "81423        1.0  \n",
       "\n",
       "[10 rows x 21 columns]"
      ]
     },
     "execution_count": 21,
     "metadata": {},
     "output_type": "execute_result"
    }
   ],
   "source": [
    "df.sample(10)"
   ]
  },
  {
   "cell_type": "code",
   "execution_count": 22,
   "id": "4a059d40",
   "metadata": {
    "execution": {
     "iopub.execute_input": "2024-11-07T05:10:34.271021Z",
     "iopub.status.busy": "2024-11-07T05:10:34.270580Z",
     "iopub.status.idle": "2024-11-07T05:10:34.433656Z",
     "shell.execute_reply": "2024-11-07T05:10:34.432420Z"
    },
    "papermill": {
     "duration": 0.199745,
     "end_time": "2024-11-07T05:10:34.436700",
     "exception": false,
     "start_time": "2024-11-07T05:10:34.236955",
     "status": "completed"
    },
    "tags": []
   },
   "outputs": [
    {
     "data": {
      "text/plain": [
       "id                                            0\n",
       "Name                                          0\n",
       "Gender                                        0\n",
       "Age                                           0\n",
       "City                                          0\n",
       "Working Professional or Student               0\n",
       "Profession                                    0\n",
       "Academic Pressure                        112803\n",
       "Work Pressure                             27918\n",
       "CGPA                                     112802\n",
       "Study Satisfaction                       112803\n",
       "Job Satisfaction                          27910\n",
       "Sleep Duration                                0\n",
       "Dietary Habits                                4\n",
       "Degree                                        2\n",
       "Have you ever had suicidal thoughts ?         0\n",
       "Work/Study Hours                              0\n",
       "Financial Stress                              4\n",
       "Family History of Mental Illness              0\n",
       "Depression                                    0\n",
       "Pressure                                     21\n",
       "dtype: int64"
      ]
     },
     "execution_count": 22,
     "metadata": {},
     "output_type": "execute_result"
    }
   ],
   "source": [
    "df.isnull().sum()"
   ]
  },
  {
   "cell_type": "code",
   "execution_count": 23,
   "id": "2745fc09",
   "metadata": {
    "execution": {
     "iopub.execute_input": "2024-11-07T05:10:34.501289Z",
     "iopub.status.busy": "2024-11-07T05:10:34.500779Z",
     "iopub.status.idle": "2024-11-07T05:10:34.518446Z",
     "shell.execute_reply": "2024-11-07T05:10:34.516605Z"
    },
    "papermill": {
     "duration": 0.053613,
     "end_time": "2024-11-07T05:10:34.521621",
     "exception": false,
     "start_time": "2024-11-07T05:10:34.468008",
     "status": "completed"
    },
    "tags": []
   },
   "outputs": [
    {
     "name": "stderr",
     "output_type": "stream",
     "text": [
      "/tmp/ipykernel_18/2907448513.py:9: FutureWarning: A value is trying to be set on a copy of a DataFrame or Series through chained assignment using an inplace method.\n",
      "The behavior will change in pandas 3.0. This inplace method will never work because the intermediate object on which we are setting values always behaves as a copy.\n",
      "\n",
      "For example, when doing 'df[col].method(value, inplace=True)', try using 'df.method({col: value}, inplace=True)' or df[col] = df[col].method(value) instead, to perform the operation inplace on the original object.\n",
      "\n",
      "\n",
      "  df['Pressure'].fillna(mode_value, inplace=True)\n"
     ]
    }
   ],
   "source": [
    "\n",
    "\n",
    "# Calcular a moda da coluna 'Pressure'\n",
    "\n",
    "mode_value = df['Pressure'].mode()[0]\n",
    "\n",
    "\n",
    "\n",
    "# Preencher valores nulos com a moda\n",
    "\n",
    "df['Pressure'].fillna(mode_value, inplace=True)\n"
   ]
  },
  {
   "cell_type": "code",
   "execution_count": 24,
   "id": "56412494",
   "metadata": {
    "execution": {
     "iopub.execute_input": "2024-11-07T05:10:34.586551Z",
     "iopub.status.busy": "2024-11-07T05:10:34.586079Z",
     "iopub.status.idle": "2024-11-07T05:10:34.754204Z",
     "shell.execute_reply": "2024-11-07T05:10:34.752366Z"
    },
    "papermill": {
     "duration": 0.203793,
     "end_time": "2024-11-07T05:10:34.757099",
     "exception": false,
     "start_time": "2024-11-07T05:10:34.553306",
     "status": "completed"
    },
    "tags": []
   },
   "outputs": [
    {
     "data": {
      "text/plain": [
       "id                                            0\n",
       "Name                                          0\n",
       "Gender                                        0\n",
       "Age                                           0\n",
       "City                                          0\n",
       "Working Professional or Student               0\n",
       "Profession                                    0\n",
       "Academic Pressure                        112803\n",
       "Work Pressure                             27918\n",
       "CGPA                                     112802\n",
       "Study Satisfaction                       112803\n",
       "Job Satisfaction                          27910\n",
       "Sleep Duration                                0\n",
       "Dietary Habits                                4\n",
       "Degree                                        2\n",
       "Have you ever had suicidal thoughts ?         0\n",
       "Work/Study Hours                              0\n",
       "Financial Stress                              4\n",
       "Family History of Mental Illness              0\n",
       "Depression                                    0\n",
       "Pressure                                      0\n",
       "dtype: int64"
      ]
     },
     "execution_count": 24,
     "metadata": {},
     "output_type": "execute_result"
    }
   ],
   "source": [
    "df.isnull().sum()"
   ]
  },
  {
   "cell_type": "code",
   "execution_count": 25,
   "id": "4ff20a85",
   "metadata": {
    "execution": {
     "iopub.execute_input": "2024-11-07T05:10:34.823920Z",
     "iopub.status.busy": "2024-11-07T05:10:34.823391Z",
     "iopub.status.idle": "2024-11-07T05:10:34.856519Z",
     "shell.execute_reply": "2024-11-07T05:10:34.855154Z"
    },
    "papermill": {
     "duration": 0.069982,
     "end_time": "2024-11-07T05:10:34.859571",
     "exception": false,
     "start_time": "2024-11-07T05:10:34.789589",
     "status": "completed"
    },
    "tags": []
   },
   "outputs": [],
   "source": [
    "# Excluir as colunas originais, se necessário\n",
    "\n",
    "df = df.drop(columns=['Academic Pressure', 'Work Pressure'])"
   ]
  },
  {
   "cell_type": "code",
   "execution_count": 26,
   "id": "fe74be25",
   "metadata": {
    "execution": {
     "iopub.execute_input": "2024-11-07T05:10:34.927659Z",
     "iopub.status.busy": "2024-11-07T05:10:34.927183Z",
     "iopub.status.idle": "2024-11-07T05:10:34.953833Z",
     "shell.execute_reply": "2024-11-07T05:10:34.952577Z"
    },
    "papermill": {
     "duration": 0.064735,
     "end_time": "2024-11-07T05:10:34.956765",
     "exception": false,
     "start_time": "2024-11-07T05:10:34.892030",
     "status": "completed"
    },
    "tags": []
   },
   "outputs": [],
   "source": [
    "# Reordenar as colunas\n",
    "\n",
    "cols = df.columns.tolist()\n",
    "\n",
    "cols.insert(cols.index('Profession') + 1, cols.pop(cols.index('Pressure')))\n",
    "\n",
    "df = df[cols]"
   ]
  },
  {
   "cell_type": "code",
   "execution_count": 27,
   "id": "1a1700ff",
   "metadata": {
    "execution": {
     "iopub.execute_input": "2024-11-07T05:10:35.025409Z",
     "iopub.status.busy": "2024-11-07T05:10:35.024956Z",
     "iopub.status.idle": "2024-11-07T05:10:35.189477Z",
     "shell.execute_reply": "2024-11-07T05:10:35.188137Z"
    },
    "papermill": {
     "duration": 0.202895,
     "end_time": "2024-11-07T05:10:35.192191",
     "exception": false,
     "start_time": "2024-11-07T05:10:34.989296",
     "status": "completed"
    },
    "tags": []
   },
   "outputs": [
    {
     "data": {
      "text/plain": [
       "id                                            0\n",
       "Name                                          0\n",
       "Gender                                        0\n",
       "Age                                           0\n",
       "City                                          0\n",
       "Working Professional or Student               0\n",
       "Profession                                    0\n",
       "Pressure                                      0\n",
       "CGPA                                     112802\n",
       "Study Satisfaction                       112803\n",
       "Job Satisfaction                          27910\n",
       "Sleep Duration                                0\n",
       "Dietary Habits                                4\n",
       "Degree                                        2\n",
       "Have you ever had suicidal thoughts ?         0\n",
       "Work/Study Hours                              0\n",
       "Financial Stress                              4\n",
       "Family History of Mental Illness              0\n",
       "Depression                                    0\n",
       "dtype: int64"
      ]
     },
     "execution_count": 27,
     "metadata": {},
     "output_type": "execute_result"
    }
   ],
   "source": [
    "df.isnull().sum()"
   ]
  },
  {
   "cell_type": "markdown",
   "id": "514f6a0a",
   "metadata": {
    "papermill": {
     "duration": 0.031566,
     "end_time": "2024-11-07T05:10:35.257745",
     "exception": false,
     "start_time": "2024-11-07T05:10:35.226179",
     "status": "completed"
    },
    "tags": []
   },
   "source": [
    "## Limpar a colunas 'Academic Pressure' e 'Work Pressure' do test"
   ]
  },
  {
   "cell_type": "code",
   "execution_count": 28,
   "id": "2106ce1b",
   "metadata": {
    "execution": {
     "iopub.execute_input": "2024-11-07T05:10:35.325179Z",
     "iopub.status.busy": "2024-11-07T05:10:35.324699Z",
     "iopub.status.idle": "2024-11-07T05:10:35.333304Z",
     "shell.execute_reply": "2024-11-07T05:10:35.332049Z"
    },
    "papermill": {
     "duration": 0.046526,
     "end_time": "2024-11-07T05:10:35.336148",
     "exception": false,
     "start_time": "2024-11-07T05:10:35.289622",
     "status": "completed"
    },
    "tags": []
   },
   "outputs": [],
   "source": [
    "# Criar a coluna 'Pressure' dando prioridade para 'Academic Pressure' quando ambas têm valor\n",
    "\n",
    "test['Pressure'] = test['Academic Pressure'].combine_first(test['Work Pressure'])\n"
   ]
  },
  {
   "cell_type": "code",
   "execution_count": 29,
   "id": "48ed4cb1",
   "metadata": {
    "execution": {
     "iopub.execute_input": "2024-11-07T05:10:35.402208Z",
     "iopub.status.busy": "2024-11-07T05:10:35.401727Z",
     "iopub.status.idle": "2024-11-07T05:10:35.516992Z",
     "shell.execute_reply": "2024-11-07T05:10:35.515553Z"
    },
    "papermill": {
     "duration": 0.151406,
     "end_time": "2024-11-07T05:10:35.519725",
     "exception": false,
     "start_time": "2024-11-07T05:10:35.368319",
     "status": "completed"
    },
    "tags": []
   },
   "outputs": [
    {
     "data": {
      "text/plain": [
       "id                                           0\n",
       "Name                                         0\n",
       "Gender                                       0\n",
       "Age                                          0\n",
       "City                                         0\n",
       "Working Professional or Student              0\n",
       "Profession                                   0\n",
       "Academic Pressure                        75033\n",
       "Work Pressure                            18778\n",
       "CGPA                                     75034\n",
       "Study Satisfaction                       75033\n",
       "Job Satisfaction                         18774\n",
       "Sleep Duration                               0\n",
       "Dietary Habits                               5\n",
       "Degree                                       2\n",
       "Have you ever had suicidal thoughts ?        0\n",
       "Work/Study Hours                             0\n",
       "Financial Stress                             0\n",
       "Family History of Mental Illness             0\n",
       "Pressure                                    12\n",
       "dtype: int64"
      ]
     },
     "execution_count": 29,
     "metadata": {},
     "output_type": "execute_result"
    }
   ],
   "source": [
    "test.isnull().sum()"
   ]
  },
  {
   "cell_type": "code",
   "execution_count": 30,
   "id": "0d979fd1",
   "metadata": {
    "execution": {
     "iopub.execute_input": "2024-11-07T05:10:35.586571Z",
     "iopub.status.busy": "2024-11-07T05:10:35.586105Z",
     "iopub.status.idle": "2024-11-07T05:10:35.597188Z",
     "shell.execute_reply": "2024-11-07T05:10:35.595949Z"
    },
    "papermill": {
     "duration": 0.047866,
     "end_time": "2024-11-07T05:10:35.600231",
     "exception": false,
     "start_time": "2024-11-07T05:10:35.552365",
     "status": "completed"
    },
    "tags": []
   },
   "outputs": [
    {
     "name": "stderr",
     "output_type": "stream",
     "text": [
      "/tmp/ipykernel_18/3382017528.py:9: FutureWarning: A value is trying to be set on a copy of a DataFrame or Series through chained assignment using an inplace method.\n",
      "The behavior will change in pandas 3.0. This inplace method will never work because the intermediate object on which we are setting values always behaves as a copy.\n",
      "\n",
      "For example, when doing 'df[col].method(value, inplace=True)', try using 'df.method({col: value}, inplace=True)' or df[col] = df[col].method(value) instead, to perform the operation inplace on the original object.\n",
      "\n",
      "\n",
      "  test['Pressure'].fillna(mode_value, inplace=True)\n"
     ]
    }
   ],
   "source": [
    "# Calcular a moda da coluna 'Pressure'\n",
    "\n",
    "mode_value = test['Pressure'].mode()[0]\n",
    "\n",
    "\n",
    "\n",
    "# Preencher valores nulos com a moda\n",
    "\n",
    "test['Pressure'].fillna(mode_value, inplace=True)\n"
   ]
  },
  {
   "cell_type": "code",
   "execution_count": 31,
   "id": "09377802",
   "metadata": {
    "execution": {
     "iopub.execute_input": "2024-11-07T05:10:35.670372Z",
     "iopub.status.busy": "2024-11-07T05:10:35.669561Z",
     "iopub.status.idle": "2024-11-07T05:10:35.834626Z",
     "shell.execute_reply": "2024-11-07T05:10:35.833392Z"
    },
    "papermill": {
     "duration": 0.201903,
     "end_time": "2024-11-07T05:10:35.837521",
     "exception": false,
     "start_time": "2024-11-07T05:10:35.635618",
     "status": "completed"
    },
    "tags": []
   },
   "outputs": [
    {
     "data": {
      "text/plain": [
       "id                                            0\n",
       "Name                                          0\n",
       "Gender                                        0\n",
       "Age                                           0\n",
       "City                                          0\n",
       "Working Professional or Student               0\n",
       "Profession                                    0\n",
       "Pressure                                      0\n",
       "CGPA                                     112802\n",
       "Study Satisfaction                       112803\n",
       "Job Satisfaction                          27910\n",
       "Sleep Duration                                0\n",
       "Dietary Habits                                4\n",
       "Degree                                        2\n",
       "Have you ever had suicidal thoughts ?         0\n",
       "Work/Study Hours                              0\n",
       "Financial Stress                              4\n",
       "Family History of Mental Illness              0\n",
       "Depression                                    0\n",
       "dtype: int64"
      ]
     },
     "execution_count": 31,
     "metadata": {},
     "output_type": "execute_result"
    }
   ],
   "source": [
    "df.isnull().sum()"
   ]
  },
  {
   "cell_type": "code",
   "execution_count": 32,
   "id": "f7e77492",
   "metadata": {
    "execution": {
     "iopub.execute_input": "2024-11-07T05:10:35.905930Z",
     "iopub.status.busy": "2024-11-07T05:10:35.905494Z",
     "iopub.status.idle": "2024-11-07T05:10:35.926493Z",
     "shell.execute_reply": "2024-11-07T05:10:35.925182Z"
    },
    "papermill": {
     "duration": 0.058522,
     "end_time": "2024-11-07T05:10:35.929390",
     "exception": false,
     "start_time": "2024-11-07T05:10:35.870868",
     "status": "completed"
    },
    "tags": []
   },
   "outputs": [],
   "source": [
    "# Excluir as colunas originais, se necessário\n",
    "\n",
    "test = test.drop(columns=['Academic Pressure', 'Work Pressure'])"
   ]
  },
  {
   "cell_type": "code",
   "execution_count": 33,
   "id": "53144ed1",
   "metadata": {
    "execution": {
     "iopub.execute_input": "2024-11-07T05:10:35.997900Z",
     "iopub.status.busy": "2024-11-07T05:10:35.997403Z",
     "iopub.status.idle": "2024-11-07T05:10:36.024353Z",
     "shell.execute_reply": "2024-11-07T05:10:36.022571Z"
    },
    "papermill": {
     "duration": 0.065992,
     "end_time": "2024-11-07T05:10:36.028037",
     "exception": false,
     "start_time": "2024-11-07T05:10:35.962045",
     "status": "completed"
    },
    "tags": []
   },
   "outputs": [],
   "source": [
    "# Reordenar as colunas\n",
    "\n",
    "cols = test.columns.tolist()\n",
    "\n",
    "cols.insert(cols.index('Profession') + 1, cols.pop(cols.index('Pressure')))\n",
    "\n",
    "test = test[cols]"
   ]
  },
  {
   "cell_type": "code",
   "execution_count": 34,
   "id": "d9f31312",
   "metadata": {
    "execution": {
     "iopub.execute_input": "2024-11-07T05:10:36.099282Z",
     "iopub.status.busy": "2024-11-07T05:10:36.098554Z",
     "iopub.status.idle": "2024-11-07T05:10:36.212216Z",
     "shell.execute_reply": "2024-11-07T05:10:36.210889Z"
    },
    "papermill": {
     "duration": 0.152439,
     "end_time": "2024-11-07T05:10:36.216078",
     "exception": false,
     "start_time": "2024-11-07T05:10:36.063639",
     "status": "completed"
    },
    "tags": []
   },
   "outputs": [
    {
     "data": {
      "text/plain": [
       "id                                           0\n",
       "Name                                         0\n",
       "Gender                                       0\n",
       "Age                                          0\n",
       "City                                         0\n",
       "Working Professional or Student              0\n",
       "Profession                                   0\n",
       "Pressure                                     0\n",
       "CGPA                                     75034\n",
       "Study Satisfaction                       75033\n",
       "Job Satisfaction                         18774\n",
       "Sleep Duration                               0\n",
       "Dietary Habits                               5\n",
       "Degree                                       2\n",
       "Have you ever had suicidal thoughts ?        0\n",
       "Work/Study Hours                             0\n",
       "Financial Stress                             0\n",
       "Family History of Mental Illness             0\n",
       "dtype: int64"
      ]
     },
     "execution_count": 34,
     "metadata": {},
     "output_type": "execute_result"
    }
   ],
   "source": [
    "test.isnull().sum()"
   ]
  },
  {
   "cell_type": "markdown",
   "id": "42566d8e",
   "metadata": {
    "papermill": {
     "duration": 0.033436,
     "end_time": "2024-11-07T05:10:36.286408",
     "exception": false,
     "start_time": "2024-11-07T05:10:36.252972",
     "status": "completed"
    },
    "tags": []
   },
   "source": [
    "## Limpar a colunas 'CGPA' do train"
   ]
  },
  {
   "cell_type": "code",
   "execution_count": 35,
   "id": "b76f6b92",
   "metadata": {
    "execution": {
     "iopub.execute_input": "2024-11-07T05:10:36.355412Z",
     "iopub.status.busy": "2024-11-07T05:10:36.354380Z",
     "iopub.status.idle": "2024-11-07T05:10:36.364185Z",
     "shell.execute_reply": "2024-11-07T05:10:36.362897Z"
    },
    "papermill": {
     "duration": 0.047035,
     "end_time": "2024-11-07T05:10:36.366771",
     "exception": false,
     "start_time": "2024-11-07T05:10:36.319736",
     "status": "completed"
    },
    "tags": []
   },
   "outputs": [
    {
     "name": "stderr",
     "output_type": "stream",
     "text": [
      "/tmp/ipykernel_18/391995857.py:9: FutureWarning: A value is trying to be set on a copy of a DataFrame or Series through chained assignment using an inplace method.\n",
      "The behavior will change in pandas 3.0. This inplace method will never work because the intermediate object on which we are setting values always behaves as a copy.\n",
      "\n",
      "For example, when doing 'df[col].method(value, inplace=True)', try using 'df.method({col: value}, inplace=True)' or df[col] = df[col].method(value) instead, to perform the operation inplace on the original object.\n",
      "\n",
      "\n",
      "  df['CGPA'].fillna(mean_value, inplace=True)\n"
     ]
    }
   ],
   "source": [
    "# Calcular a média da coluna 'CGPA', ignorando valores nulos\n",
    "\n",
    "mean_value = df['CGPA'].mean()\n",
    "\n",
    "\n",
    "\n",
    "# Preencher valores nulos com a média\n",
    "\n",
    "df['CGPA'].fillna(mean_value, inplace=True)"
   ]
  },
  {
   "cell_type": "code",
   "execution_count": 36,
   "id": "e022feff",
   "metadata": {
    "execution": {
     "iopub.execute_input": "2024-11-07T05:10:36.434799Z",
     "iopub.status.busy": "2024-11-07T05:10:36.434329Z",
     "iopub.status.idle": "2024-11-07T05:10:36.596672Z",
     "shell.execute_reply": "2024-11-07T05:10:36.595463Z"
    },
    "papermill": {
     "duration": 0.199389,
     "end_time": "2024-11-07T05:10:36.599282",
     "exception": false,
     "start_time": "2024-11-07T05:10:36.399893",
     "status": "completed"
    },
    "tags": []
   },
   "outputs": [
    {
     "data": {
      "text/plain": [
       "id                                            0\n",
       "Name                                          0\n",
       "Gender                                        0\n",
       "Age                                           0\n",
       "City                                          0\n",
       "Working Professional or Student               0\n",
       "Profession                                    0\n",
       "Pressure                                      0\n",
       "CGPA                                          0\n",
       "Study Satisfaction                       112803\n",
       "Job Satisfaction                          27910\n",
       "Sleep Duration                                0\n",
       "Dietary Habits                                4\n",
       "Degree                                        2\n",
       "Have you ever had suicidal thoughts ?         0\n",
       "Work/Study Hours                              0\n",
       "Financial Stress                              4\n",
       "Family History of Mental Illness              0\n",
       "Depression                                    0\n",
       "dtype: int64"
      ]
     },
     "execution_count": 36,
     "metadata": {},
     "output_type": "execute_result"
    }
   ],
   "source": [
    "df.isnull().sum()"
   ]
  },
  {
   "cell_type": "markdown",
   "id": "65a3bab1",
   "metadata": {
    "papermill": {
     "duration": 0.033131,
     "end_time": "2024-11-07T05:10:36.668190",
     "exception": false,
     "start_time": "2024-11-07T05:10:36.635059",
     "status": "completed"
    },
    "tags": []
   },
   "source": [
    "## Limpar a colunas 'CGPA' do test"
   ]
  },
  {
   "cell_type": "code",
   "execution_count": 37,
   "id": "08574ab7",
   "metadata": {
    "execution": {
     "iopub.execute_input": "2024-11-07T05:10:36.738410Z",
     "iopub.status.busy": "2024-11-07T05:10:36.737997Z",
     "iopub.status.idle": "2024-11-07T05:10:36.747119Z",
     "shell.execute_reply": "2024-11-07T05:10:36.745962Z"
    },
    "papermill": {
     "duration": 0.0475,
     "end_time": "2024-11-07T05:10:36.750049",
     "exception": false,
     "start_time": "2024-11-07T05:10:36.702549",
     "status": "completed"
    },
    "tags": []
   },
   "outputs": [
    {
     "name": "stderr",
     "output_type": "stream",
     "text": [
      "/tmp/ipykernel_18/2380768955.py:9: FutureWarning: A value is trying to be set on a copy of a DataFrame or Series through chained assignment using an inplace method.\n",
      "The behavior will change in pandas 3.0. This inplace method will never work because the intermediate object on which we are setting values always behaves as a copy.\n",
      "\n",
      "For example, when doing 'df[col].method(value, inplace=True)', try using 'df.method({col: value}, inplace=True)' or df[col] = df[col].method(value) instead, to perform the operation inplace on the original object.\n",
      "\n",
      "\n",
      "  test['CGPA'].fillna(mean_value, inplace=True)\n"
     ]
    }
   ],
   "source": [
    "# Calcular a média da coluna 'CGPA', ignorando valores nulos\n",
    "\n",
    "mean_value = test['CGPA'].mean()\n",
    "\n",
    "\n",
    "\n",
    "# Preencher valores nulos com a média\n",
    "\n",
    "test['CGPA'].fillna(mean_value, inplace=True)"
   ]
  },
  {
   "cell_type": "code",
   "execution_count": 38,
   "id": "ec1bae3e",
   "metadata": {
    "execution": {
     "iopub.execute_input": "2024-11-07T05:10:36.820165Z",
     "iopub.status.busy": "2024-11-07T05:10:36.819707Z",
     "iopub.status.idle": "2024-11-07T05:10:36.932086Z",
     "shell.execute_reply": "2024-11-07T05:10:36.930880Z"
    },
    "papermill": {
     "duration": 0.150393,
     "end_time": "2024-11-07T05:10:36.935018",
     "exception": false,
     "start_time": "2024-11-07T05:10:36.784625",
     "status": "completed"
    },
    "tags": []
   },
   "outputs": [
    {
     "data": {
      "text/plain": [
       "id                                           0\n",
       "Name                                         0\n",
       "Gender                                       0\n",
       "Age                                          0\n",
       "City                                         0\n",
       "Working Professional or Student              0\n",
       "Profession                                   0\n",
       "Pressure                                     0\n",
       "CGPA                                         0\n",
       "Study Satisfaction                       75033\n",
       "Job Satisfaction                         18774\n",
       "Sleep Duration                               0\n",
       "Dietary Habits                               5\n",
       "Degree                                       2\n",
       "Have you ever had suicidal thoughts ?        0\n",
       "Work/Study Hours                             0\n",
       "Financial Stress                             0\n",
       "Family History of Mental Illness             0\n",
       "dtype: int64"
      ]
     },
     "execution_count": 38,
     "metadata": {},
     "output_type": "execute_result"
    }
   ],
   "source": [
    "test.isnull().sum()"
   ]
  },
  {
   "cell_type": "markdown",
   "id": "f29fc6c5",
   "metadata": {
    "papermill": {
     "duration": 0.03343,
     "end_time": "2024-11-07T05:10:37.002658",
     "exception": false,
     "start_time": "2024-11-07T05:10:36.969228",
     "status": "completed"
    },
    "tags": []
   },
   "source": [
    "## Limpar a colunas 'Study Satisfaction' do train"
   ]
  },
  {
   "cell_type": "code",
   "execution_count": 39,
   "id": "7f84097a",
   "metadata": {
    "execution": {
     "iopub.execute_input": "2024-11-07T05:10:37.131424Z",
     "iopub.status.busy": "2024-11-07T05:10:37.130615Z",
     "iopub.status.idle": "2024-11-07T05:10:37.165055Z",
     "shell.execute_reply": "2024-11-07T05:10:37.163764Z"
    },
    "papermill": {
     "duration": 0.131239,
     "end_time": "2024-11-07T05:10:37.168270",
     "exception": false,
     "start_time": "2024-11-07T05:10:37.037031",
     "status": "completed"
    },
    "tags": []
   },
   "outputs": [],
   "source": [
    "# Criar a coluna 'Satisfaction' com prioridade para 'Study Satisfaction' quando ambas têm valor\n",
    "\n",
    "df['Satisfaction'] = df['Study Satisfaction'].combine_first(df['Job Satisfaction'])\n",
    "\n",
    "\n",
    "\n",
    "# Excluir as colunas originais, se necessário\n",
    "\n",
    "df = df.drop(columns=['Study Satisfaction', 'Job Satisfaction'])"
   ]
  },
  {
   "cell_type": "code",
   "execution_count": 40,
   "id": "2bde30b0",
   "metadata": {
    "execution": {
     "iopub.execute_input": "2024-11-07T05:10:37.238979Z",
     "iopub.status.busy": "2024-11-07T05:10:37.238493Z",
     "iopub.status.idle": "2024-11-07T05:10:37.265362Z",
     "shell.execute_reply": "2024-11-07T05:10:37.264071Z"
    },
    "papermill": {
     "duration": 0.065133,
     "end_time": "2024-11-07T05:10:37.268113",
     "exception": false,
     "start_time": "2024-11-07T05:10:37.202980",
     "status": "completed"
    },
    "tags": []
   },
   "outputs": [
    {
     "data": {
      "text/html": [
       "<div>\n",
       "<style scoped>\n",
       "    .dataframe tbody tr th:only-of-type {\n",
       "        vertical-align: middle;\n",
       "    }\n",
       "\n",
       "    .dataframe tbody tr th {\n",
       "        vertical-align: top;\n",
       "    }\n",
       "\n",
       "    .dataframe thead th {\n",
       "        text-align: right;\n",
       "    }\n",
       "</style>\n",
       "<table border=\"1\" class=\"dataframe\">\n",
       "  <thead>\n",
       "    <tr style=\"text-align: right;\">\n",
       "      <th></th>\n",
       "      <th>id</th>\n",
       "      <th>Name</th>\n",
       "      <th>Gender</th>\n",
       "      <th>Age</th>\n",
       "      <th>City</th>\n",
       "      <th>Working Professional or Student</th>\n",
       "      <th>Profession</th>\n",
       "      <th>Pressure</th>\n",
       "      <th>CGPA</th>\n",
       "      <th>Sleep Duration</th>\n",
       "      <th>Dietary Habits</th>\n",
       "      <th>Degree</th>\n",
       "      <th>Have you ever had suicidal thoughts ?</th>\n",
       "      <th>Work/Study Hours</th>\n",
       "      <th>Financial Stress</th>\n",
       "      <th>Family History of Mental Illness</th>\n",
       "      <th>Depression</th>\n",
       "      <th>Satisfaction</th>\n",
       "    </tr>\n",
       "  </thead>\n",
       "  <tbody>\n",
       "    <tr>\n",
       "      <th>0</th>\n",
       "      <td>0</td>\n",
       "      <td>Aaradhya</td>\n",
       "      <td>Female</td>\n",
       "      <td>49.0</td>\n",
       "      <td>Ludhiana</td>\n",
       "      <td>Working Professional</td>\n",
       "      <td>Chef</td>\n",
       "      <td>5.0</td>\n",
       "      <td>7.658636</td>\n",
       "      <td>More than 8 hours</td>\n",
       "      <td>Healthy</td>\n",
       "      <td>BHM</td>\n",
       "      <td>No</td>\n",
       "      <td>1.0</td>\n",
       "      <td>2.0</td>\n",
       "      <td>No</td>\n",
       "      <td>0</td>\n",
       "      <td>2.0</td>\n",
       "    </tr>\n",
       "    <tr>\n",
       "      <th>1</th>\n",
       "      <td>1</td>\n",
       "      <td>Vivan</td>\n",
       "      <td>Male</td>\n",
       "      <td>26.0</td>\n",
       "      <td>Varanasi</td>\n",
       "      <td>Working Professional</td>\n",
       "      <td>Teacher</td>\n",
       "      <td>4.0</td>\n",
       "      <td>7.658636</td>\n",
       "      <td>Less than 5 hours</td>\n",
       "      <td>Unhealthy</td>\n",
       "      <td>LLB</td>\n",
       "      <td>Yes</td>\n",
       "      <td>7.0</td>\n",
       "      <td>3.0</td>\n",
       "      <td>No</td>\n",
       "      <td>1</td>\n",
       "      <td>3.0</td>\n",
       "    </tr>\n",
       "    <tr>\n",
       "      <th>2</th>\n",
       "      <td>2</td>\n",
       "      <td>Yuvraj</td>\n",
       "      <td>Male</td>\n",
       "      <td>33.0</td>\n",
       "      <td>Visakhapatnam</td>\n",
       "      <td>Student</td>\n",
       "      <td>Student</td>\n",
       "      <td>5.0</td>\n",
       "      <td>8.970000</td>\n",
       "      <td>5-6 hours</td>\n",
       "      <td>Healthy</td>\n",
       "      <td>B.Pharm</td>\n",
       "      <td>Yes</td>\n",
       "      <td>3.0</td>\n",
       "      <td>1.0</td>\n",
       "      <td>No</td>\n",
       "      <td>1</td>\n",
       "      <td>2.0</td>\n",
       "    </tr>\n",
       "    <tr>\n",
       "      <th>3</th>\n",
       "      <td>3</td>\n",
       "      <td>Yuvraj</td>\n",
       "      <td>Male</td>\n",
       "      <td>22.0</td>\n",
       "      <td>Mumbai</td>\n",
       "      <td>Working Professional</td>\n",
       "      <td>Teacher</td>\n",
       "      <td>5.0</td>\n",
       "      <td>7.658636</td>\n",
       "      <td>Less than 5 hours</td>\n",
       "      <td>Moderate</td>\n",
       "      <td>BBA</td>\n",
       "      <td>Yes</td>\n",
       "      <td>10.0</td>\n",
       "      <td>1.0</td>\n",
       "      <td>Yes</td>\n",
       "      <td>1</td>\n",
       "      <td>1.0</td>\n",
       "    </tr>\n",
       "    <tr>\n",
       "      <th>4</th>\n",
       "      <td>4</td>\n",
       "      <td>Rhea</td>\n",
       "      <td>Female</td>\n",
       "      <td>30.0</td>\n",
       "      <td>Kanpur</td>\n",
       "      <td>Working Professional</td>\n",
       "      <td>Business Analyst</td>\n",
       "      <td>1.0</td>\n",
       "      <td>7.658636</td>\n",
       "      <td>5-6 hours</td>\n",
       "      <td>Unhealthy</td>\n",
       "      <td>BBA</td>\n",
       "      <td>Yes</td>\n",
       "      <td>9.0</td>\n",
       "      <td>4.0</td>\n",
       "      <td>Yes</td>\n",
       "      <td>0</td>\n",
       "      <td>1.0</td>\n",
       "    </tr>\n",
       "  </tbody>\n",
       "</table>\n",
       "</div>"
      ],
      "text/plain": [
       "   id      Name  Gender   Age           City Working Professional or Student  \\\n",
       "0   0  Aaradhya  Female  49.0       Ludhiana            Working Professional   \n",
       "1   1     Vivan    Male  26.0       Varanasi            Working Professional   \n",
       "2   2    Yuvraj    Male  33.0  Visakhapatnam                         Student   \n",
       "3   3    Yuvraj    Male  22.0         Mumbai            Working Professional   \n",
       "4   4      Rhea  Female  30.0         Kanpur            Working Professional   \n",
       "\n",
       "         Profession  Pressure      CGPA     Sleep Duration Dietary Habits  \\\n",
       "0              Chef       5.0  7.658636  More than 8 hours        Healthy   \n",
       "1           Teacher       4.0  7.658636  Less than 5 hours      Unhealthy   \n",
       "2           Student       5.0  8.970000          5-6 hours        Healthy   \n",
       "3           Teacher       5.0  7.658636  Less than 5 hours       Moderate   \n",
       "4  Business Analyst       1.0  7.658636          5-6 hours      Unhealthy   \n",
       "\n",
       "    Degree Have you ever had suicidal thoughts ?  Work/Study Hours  \\\n",
       "0      BHM                                    No               1.0   \n",
       "1      LLB                                   Yes               7.0   \n",
       "2  B.Pharm                                   Yes               3.0   \n",
       "3      BBA                                   Yes              10.0   \n",
       "4      BBA                                   Yes               9.0   \n",
       "\n",
       "   Financial Stress Family History of Mental Illness  Depression  Satisfaction  \n",
       "0               2.0                               No           0           2.0  \n",
       "1               3.0                               No           1           3.0  \n",
       "2               1.0                               No           1           2.0  \n",
       "3               1.0                              Yes           1           1.0  \n",
       "4               4.0                              Yes           0           1.0  "
      ]
     },
     "execution_count": 40,
     "metadata": {},
     "output_type": "execute_result"
    }
   ],
   "source": [
    "df.head()"
   ]
  },
  {
   "cell_type": "code",
   "execution_count": 41,
   "id": "9ebccad8",
   "metadata": {
    "execution": {
     "iopub.execute_input": "2024-11-07T05:10:37.340135Z",
     "iopub.status.busy": "2024-11-07T05:10:37.339676Z",
     "iopub.status.idle": "2024-11-07T05:10:37.502668Z",
     "shell.execute_reply": "2024-11-07T05:10:37.501360Z"
    },
    "papermill": {
     "duration": 0.202652,
     "end_time": "2024-11-07T05:10:37.505678",
     "exception": false,
     "start_time": "2024-11-07T05:10:37.303026",
     "status": "completed"
    },
    "tags": []
   },
   "outputs": [
    {
     "data": {
      "text/plain": [
       "id                                        0\n",
       "Name                                      0\n",
       "Gender                                    0\n",
       "Age                                       0\n",
       "City                                      0\n",
       "Working Professional or Student           0\n",
       "Profession                                0\n",
       "Pressure                                  0\n",
       "CGPA                                      0\n",
       "Sleep Duration                            0\n",
       "Dietary Habits                            4\n",
       "Degree                                    2\n",
       "Have you ever had suicidal thoughts ?     0\n",
       "Work/Study Hours                          0\n",
       "Financial Stress                          4\n",
       "Family History of Mental Illness          0\n",
       "Depression                                0\n",
       "Satisfaction                             15\n",
       "dtype: int64"
      ]
     },
     "execution_count": 41,
     "metadata": {},
     "output_type": "execute_result"
    }
   ],
   "source": [
    "df.isnull().sum()"
   ]
  },
  {
   "cell_type": "code",
   "execution_count": 42,
   "id": "06f3ca99",
   "metadata": {
    "execution": {
     "iopub.execute_input": "2024-11-07T05:10:37.578195Z",
     "iopub.status.busy": "2024-11-07T05:10:37.577134Z",
     "iopub.status.idle": "2024-11-07T05:10:37.588771Z",
     "shell.execute_reply": "2024-11-07T05:10:37.587379Z"
    },
    "papermill": {
     "duration": 0.05096,
     "end_time": "2024-11-07T05:10:37.591810",
     "exception": false,
     "start_time": "2024-11-07T05:10:37.540850",
     "status": "completed"
    },
    "tags": []
   },
   "outputs": [
    {
     "name": "stderr",
     "output_type": "stream",
     "text": [
      "/tmp/ipykernel_18/1901215158.py:9: FutureWarning: A value is trying to be set on a copy of a DataFrame or Series through chained assignment using an inplace method.\n",
      "The behavior will change in pandas 3.0. This inplace method will never work because the intermediate object on which we are setting values always behaves as a copy.\n",
      "\n",
      "For example, when doing 'df[col].method(value, inplace=True)', try using 'df.method({col: value}, inplace=True)' or df[col] = df[col].method(value) instead, to perform the operation inplace on the original object.\n",
      "\n",
      "\n",
      "  df['Satisfaction'].fillna(mode_value, inplace=True)\n"
     ]
    }
   ],
   "source": [
    "# Calcular a moda da coluna 'Satisfaction'\n",
    "\n",
    "mode_value = df['Satisfaction'].mode()[0]\n",
    "\n",
    "\n",
    "\n",
    "# Preencher valores nulos com a moda\n",
    "\n",
    "df['Satisfaction'].fillna(mode_value, inplace=True)"
   ]
  },
  {
   "cell_type": "code",
   "execution_count": 43,
   "id": "1e18dc37",
   "metadata": {
    "execution": {
     "iopub.execute_input": "2024-11-07T05:10:37.666261Z",
     "iopub.status.busy": "2024-11-07T05:10:37.665824Z",
     "iopub.status.idle": "2024-11-07T05:10:37.827060Z",
     "shell.execute_reply": "2024-11-07T05:10:37.825783Z"
    },
    "papermill": {
     "duration": 0.200969,
     "end_time": "2024-11-07T05:10:37.830018",
     "exception": false,
     "start_time": "2024-11-07T05:10:37.629049",
     "status": "completed"
    },
    "tags": []
   },
   "outputs": [
    {
     "data": {
      "text/plain": [
       "id                                       0\n",
       "Name                                     0\n",
       "Gender                                   0\n",
       "Age                                      0\n",
       "City                                     0\n",
       "Working Professional or Student          0\n",
       "Profession                               0\n",
       "Pressure                                 0\n",
       "CGPA                                     0\n",
       "Sleep Duration                           0\n",
       "Dietary Habits                           4\n",
       "Degree                                   2\n",
       "Have you ever had suicidal thoughts ?    0\n",
       "Work/Study Hours                         0\n",
       "Financial Stress                         4\n",
       "Family History of Mental Illness         0\n",
       "Depression                               0\n",
       "Satisfaction                             0\n",
       "dtype: int64"
      ]
     },
     "execution_count": 43,
     "metadata": {},
     "output_type": "execute_result"
    }
   ],
   "source": [
    "df.isnull().sum()"
   ]
  },
  {
   "cell_type": "code",
   "execution_count": 44,
   "id": "8e02501c",
   "metadata": {
    "execution": {
     "iopub.execute_input": "2024-11-07T05:10:37.903500Z",
     "iopub.status.busy": "2024-11-07T05:10:37.903033Z",
     "iopub.status.idle": "2024-11-07T05:10:37.927030Z",
     "shell.execute_reply": "2024-11-07T05:10:37.925690Z"
    },
    "papermill": {
     "duration": 0.063292,
     "end_time": "2024-11-07T05:10:37.929896",
     "exception": false,
     "start_time": "2024-11-07T05:10:37.866604",
     "status": "completed"
    },
    "tags": []
   },
   "outputs": [],
   "source": [
    "# Reordenar as colunas\n",
    "\n",
    "cols = df.columns.tolist()\n",
    "\n",
    "cols.insert(cols.index('CGPA') + 1, cols.pop(cols.index('Satisfaction')))\n",
    "\n",
    "df = df[cols]"
   ]
  },
  {
   "cell_type": "markdown",
   "id": "33591c7e",
   "metadata": {
    "papermill": {
     "duration": 0.035714,
     "end_time": "2024-11-07T05:10:38.000780",
     "exception": false,
     "start_time": "2024-11-07T05:10:37.965066",
     "status": "completed"
    },
    "tags": []
   },
   "source": [
    "## Limpar a colunas 'Study Satisfaction' do test"
   ]
  },
  {
   "cell_type": "code",
   "execution_count": 45,
   "id": "c76539b4",
   "metadata": {
    "execution": {
     "iopub.execute_input": "2024-11-07T05:10:38.075395Z",
     "iopub.status.busy": "2024-11-07T05:10:38.074539Z",
     "iopub.status.idle": "2024-11-07T05:10:38.104875Z",
     "shell.execute_reply": "2024-11-07T05:10:38.103210Z"
    },
    "papermill": {
     "duration": 0.069901,
     "end_time": "2024-11-07T05:10:38.108031",
     "exception": false,
     "start_time": "2024-11-07T05:10:38.038130",
     "status": "completed"
    },
    "tags": []
   },
   "outputs": [],
   "source": [
    "# Criar a coluna 'Satisfaction' com prioridade para 'Study Satisfaction' quando ambas têm valor\n",
    "\n",
    "test['Satisfaction'] = test['Study Satisfaction'].combine_first(test['Job Satisfaction'])\n",
    "\n",
    "\n",
    "\n",
    "# Excluir as colunas originais, se necessário\n",
    "\n",
    "test = test.drop(columns=['Study Satisfaction', 'Job Satisfaction'])"
   ]
  },
  {
   "cell_type": "code",
   "execution_count": 46,
   "id": "7e8daf3f",
   "metadata": {
    "execution": {
     "iopub.execute_input": "2024-11-07T05:10:38.182542Z",
     "iopub.status.busy": "2024-11-07T05:10:38.181673Z",
     "iopub.status.idle": "2024-11-07T05:10:38.294363Z",
     "shell.execute_reply": "2024-11-07T05:10:38.293200Z"
    },
    "papermill": {
     "duration": 0.152609,
     "end_time": "2024-11-07T05:10:38.297213",
     "exception": false,
     "start_time": "2024-11-07T05:10:38.144604",
     "status": "completed"
    },
    "tags": []
   },
   "outputs": [
    {
     "data": {
      "text/plain": [
       "id                                       0\n",
       "Name                                     0\n",
       "Gender                                   0\n",
       "Age                                      0\n",
       "City                                     0\n",
       "Working Professional or Student          0\n",
       "Profession                               0\n",
       "Pressure                                 0\n",
       "CGPA                                     0\n",
       "Sleep Duration                           0\n",
       "Dietary Habits                           5\n",
       "Degree                                   2\n",
       "Have you ever had suicidal thoughts ?    0\n",
       "Work/Study Hours                         0\n",
       "Financial Stress                         0\n",
       "Family History of Mental Illness         0\n",
       "Satisfaction                             8\n",
       "dtype: int64"
      ]
     },
     "execution_count": 46,
     "metadata": {},
     "output_type": "execute_result"
    }
   ],
   "source": [
    "test.isnull().sum()"
   ]
  },
  {
   "cell_type": "code",
   "execution_count": 47,
   "id": "41eb729e",
   "metadata": {
    "execution": {
     "iopub.execute_input": "2024-11-07T05:10:38.371141Z",
     "iopub.status.busy": "2024-11-07T05:10:38.370710Z",
     "iopub.status.idle": "2024-11-07T05:10:38.381867Z",
     "shell.execute_reply": "2024-11-07T05:10:38.380351Z"
    },
    "papermill": {
     "duration": 0.051785,
     "end_time": "2024-11-07T05:10:38.384852",
     "exception": false,
     "start_time": "2024-11-07T05:10:38.333067",
     "status": "completed"
    },
    "tags": []
   },
   "outputs": [
    {
     "name": "stderr",
     "output_type": "stream",
     "text": [
      "/tmp/ipykernel_18/2628705975.py:9: FutureWarning: A value is trying to be set on a copy of a DataFrame or Series through chained assignment using an inplace method.\n",
      "The behavior will change in pandas 3.0. This inplace method will never work because the intermediate object on which we are setting values always behaves as a copy.\n",
      "\n",
      "For example, when doing 'df[col].method(value, inplace=True)', try using 'df.method({col: value}, inplace=True)' or df[col] = df[col].method(value) instead, to perform the operation inplace on the original object.\n",
      "\n",
      "\n",
      "  test['Satisfaction'].fillna(mode_value, inplace=True)\n"
     ]
    }
   ],
   "source": [
    "# Calcular a moda da coluna 'Satisfaction'\n",
    "\n",
    "mode_value = test['Satisfaction'].mode()[0]\n",
    "\n",
    "\n",
    "\n",
    "# Preencher valores nulos com a moda\n",
    "\n",
    "test['Satisfaction'].fillna(mode_value, inplace=True)"
   ]
  },
  {
   "cell_type": "code",
   "execution_count": 48,
   "id": "08b8806c",
   "metadata": {
    "execution": {
     "iopub.execute_input": "2024-11-07T05:10:38.460941Z",
     "iopub.status.busy": "2024-11-07T05:10:38.460463Z",
     "iopub.status.idle": "2024-11-07T05:10:38.480821Z",
     "shell.execute_reply": "2024-11-07T05:10:38.479648Z"
    },
    "papermill": {
     "duration": 0.062856,
     "end_time": "2024-11-07T05:10:38.483805",
     "exception": false,
     "start_time": "2024-11-07T05:10:38.420949",
     "status": "completed"
    },
    "tags": []
   },
   "outputs": [],
   "source": [
    "# Reordenar as colunas\n",
    "\n",
    "cols = test.columns.tolist()\n",
    "\n",
    "cols.insert(cols.index('CGPA') + 1, cols.pop(cols.index('Satisfaction')))\n",
    "\n",
    "test = test[cols]"
   ]
  },
  {
   "cell_type": "code",
   "execution_count": 49,
   "id": "15552690",
   "metadata": {
    "execution": {
     "iopub.execute_input": "2024-11-07T05:10:38.560986Z",
     "iopub.status.busy": "2024-11-07T05:10:38.559921Z",
     "iopub.status.idle": "2024-11-07T05:10:38.674024Z",
     "shell.execute_reply": "2024-11-07T05:10:38.672728Z"
    },
    "papermill": {
     "duration": 0.155445,
     "end_time": "2024-11-07T05:10:38.676730",
     "exception": false,
     "start_time": "2024-11-07T05:10:38.521285",
     "status": "completed"
    },
    "tags": []
   },
   "outputs": [
    {
     "data": {
      "text/plain": [
       "id                                       0\n",
       "Name                                     0\n",
       "Gender                                   0\n",
       "Age                                      0\n",
       "City                                     0\n",
       "Working Professional or Student          0\n",
       "Profession                               0\n",
       "Pressure                                 0\n",
       "CGPA                                     0\n",
       "Satisfaction                             0\n",
       "Sleep Duration                           0\n",
       "Dietary Habits                           5\n",
       "Degree                                   2\n",
       "Have you ever had suicidal thoughts ?    0\n",
       "Work/Study Hours                         0\n",
       "Financial Stress                         0\n",
       "Family History of Mental Illness         0\n",
       "dtype: int64"
      ]
     },
     "execution_count": 49,
     "metadata": {},
     "output_type": "execute_result"
    }
   ],
   "source": [
    "test.isnull().sum()"
   ]
  },
  {
   "cell_type": "markdown",
   "id": "e6a2c775",
   "metadata": {
    "papermill": {
     "duration": 0.035772,
     "end_time": "2024-11-07T05:10:38.749050",
     "exception": false,
     "start_time": "2024-11-07T05:10:38.713278",
     "status": "completed"
    },
    "tags": []
   },
   "source": [
    "## Agora vamos apagar todos os valores nulos do train"
   ]
  },
  {
   "cell_type": "code",
   "execution_count": 50,
   "id": "a46f0e1a",
   "metadata": {
    "execution": {
     "iopub.execute_input": "2024-11-07T05:10:38.826537Z",
     "iopub.status.busy": "2024-11-07T05:10:38.826083Z",
     "iopub.status.idle": "2024-11-07T05:10:39.016804Z",
     "shell.execute_reply": "2024-11-07T05:10:39.015445Z"
    },
    "papermill": {
     "duration": 0.232354,
     "end_time": "2024-11-07T05:10:39.019827",
     "exception": false,
     "start_time": "2024-11-07T05:10:38.787473",
     "status": "completed"
    },
    "tags": []
   },
   "outputs": [],
   "source": [
    "# Excluir todas as linhas que contêm valores nulos em qualquer coluna\n",
    "\n",
    "df = df.dropna()"
   ]
  },
  {
   "cell_type": "code",
   "execution_count": 51,
   "id": "446bfe25",
   "metadata": {
    "execution": {
     "iopub.execute_input": "2024-11-07T05:10:39.094618Z",
     "iopub.status.busy": "2024-11-07T05:10:39.094138Z",
     "iopub.status.idle": "2024-11-07T05:10:39.255705Z",
     "shell.execute_reply": "2024-11-07T05:10:39.254423Z"
    },
    "papermill": {
     "duration": 0.202042,
     "end_time": "2024-11-07T05:10:39.258312",
     "exception": false,
     "start_time": "2024-11-07T05:10:39.056270",
     "status": "completed"
    },
    "tags": []
   },
   "outputs": [
    {
     "data": {
      "text/plain": [
       "id                                       0\n",
       "Name                                     0\n",
       "Gender                                   0\n",
       "Age                                      0\n",
       "City                                     0\n",
       "Working Professional or Student          0\n",
       "Profession                               0\n",
       "Pressure                                 0\n",
       "CGPA                                     0\n",
       "Satisfaction                             0\n",
       "Sleep Duration                           0\n",
       "Dietary Habits                           0\n",
       "Degree                                   0\n",
       "Have you ever had suicidal thoughts ?    0\n",
       "Work/Study Hours                         0\n",
       "Financial Stress                         0\n",
       "Family History of Mental Illness         0\n",
       "Depression                               0\n",
       "dtype: int64"
      ]
     },
     "execution_count": 51,
     "metadata": {},
     "output_type": "execute_result"
    }
   ],
   "source": [
    "df.isnull().sum()"
   ]
  },
  {
   "cell_type": "markdown",
   "id": "9f87cc74",
   "metadata": {
    "papermill": {
     "duration": 0.036289,
     "end_time": "2024-11-07T05:10:39.331140",
     "exception": false,
     "start_time": "2024-11-07T05:10:39.294851",
     "status": "completed"
    },
    "tags": []
   },
   "source": [
    "## Agora vamos tratar todos os valores nulos do test, pois aqui nao podemos perder registros\n"
   ]
  },
  {
   "cell_type": "code",
   "execution_count": 52,
   "id": "fb114b13",
   "metadata": {
    "execution": {
     "iopub.execute_input": "2024-11-07T05:10:39.406469Z",
     "iopub.status.busy": "2024-11-07T05:10:39.405996Z",
     "iopub.status.idle": "2024-11-07T05:10:39.430762Z",
     "shell.execute_reply": "2024-11-07T05:10:39.429499Z"
    },
    "papermill": {
     "duration": 0.065362,
     "end_time": "2024-11-07T05:10:39.433472",
     "exception": false,
     "start_time": "2024-11-07T05:10:39.368110",
     "status": "completed"
    },
    "tags": []
   },
   "outputs": [
    {
     "data": {
      "text/html": [
       "<div>\n",
       "<style scoped>\n",
       "    .dataframe tbody tr th:only-of-type {\n",
       "        vertical-align: middle;\n",
       "    }\n",
       "\n",
       "    .dataframe tbody tr th {\n",
       "        vertical-align: top;\n",
       "    }\n",
       "\n",
       "    .dataframe thead th {\n",
       "        text-align: right;\n",
       "    }\n",
       "</style>\n",
       "<table border=\"1\" class=\"dataframe\">\n",
       "  <thead>\n",
       "    <tr style=\"text-align: right;\">\n",
       "      <th></th>\n",
       "      <th>id</th>\n",
       "      <th>Name</th>\n",
       "      <th>Gender</th>\n",
       "      <th>Age</th>\n",
       "      <th>City</th>\n",
       "      <th>Working Professional or Student</th>\n",
       "      <th>Profession</th>\n",
       "      <th>Pressure</th>\n",
       "      <th>CGPA</th>\n",
       "      <th>Satisfaction</th>\n",
       "      <th>Sleep Duration</th>\n",
       "      <th>Dietary Habits</th>\n",
       "      <th>Degree</th>\n",
       "      <th>Have you ever had suicidal thoughts ?</th>\n",
       "      <th>Work/Study Hours</th>\n",
       "      <th>Financial Stress</th>\n",
       "      <th>Family History of Mental Illness</th>\n",
       "    </tr>\n",
       "  </thead>\n",
       "  <tbody>\n",
       "    <tr>\n",
       "      <th>0</th>\n",
       "      <td>140700</td>\n",
       "      <td>Shivam</td>\n",
       "      <td>Male</td>\n",
       "      <td>53.0</td>\n",
       "      <td>Visakhapatnam</td>\n",
       "      <td>Working Professional</td>\n",
       "      <td>Judge</td>\n",
       "      <td>2.0</td>\n",
       "      <td>7.674016</td>\n",
       "      <td>5.0</td>\n",
       "      <td>Less than 5 hours</td>\n",
       "      <td>Moderate</td>\n",
       "      <td>LLB</td>\n",
       "      <td>No</td>\n",
       "      <td>9.0</td>\n",
       "      <td>3.0</td>\n",
       "      <td>Yes</td>\n",
       "    </tr>\n",
       "    <tr>\n",
       "      <th>1</th>\n",
       "      <td>140701</td>\n",
       "      <td>Sanya</td>\n",
       "      <td>Female</td>\n",
       "      <td>58.0</td>\n",
       "      <td>Kolkata</td>\n",
       "      <td>Working Professional</td>\n",
       "      <td>Educational Consultant</td>\n",
       "      <td>2.0</td>\n",
       "      <td>7.674016</td>\n",
       "      <td>4.0</td>\n",
       "      <td>Less than 5 hours</td>\n",
       "      <td>Moderate</td>\n",
       "      <td>B.Ed</td>\n",
       "      <td>No</td>\n",
       "      <td>6.0</td>\n",
       "      <td>4.0</td>\n",
       "      <td>No</td>\n",
       "    </tr>\n",
       "    <tr>\n",
       "      <th>2</th>\n",
       "      <td>140702</td>\n",
       "      <td>Yash</td>\n",
       "      <td>Male</td>\n",
       "      <td>53.0</td>\n",
       "      <td>Jaipur</td>\n",
       "      <td>Working Professional</td>\n",
       "      <td>Teacher</td>\n",
       "      <td>4.0</td>\n",
       "      <td>7.674016</td>\n",
       "      <td>1.0</td>\n",
       "      <td>7-8 hours</td>\n",
       "      <td>Moderate</td>\n",
       "      <td>B.Arch</td>\n",
       "      <td>Yes</td>\n",
       "      <td>12.0</td>\n",
       "      <td>4.0</td>\n",
       "      <td>No</td>\n",
       "    </tr>\n",
       "    <tr>\n",
       "      <th>3</th>\n",
       "      <td>140703</td>\n",
       "      <td>Nalini</td>\n",
       "      <td>Female</td>\n",
       "      <td>23.0</td>\n",
       "      <td>Rajkot</td>\n",
       "      <td>Student</td>\n",
       "      <td>Student</td>\n",
       "      <td>5.0</td>\n",
       "      <td>6.840000</td>\n",
       "      <td>1.0</td>\n",
       "      <td>More than 8 hours</td>\n",
       "      <td>Moderate</td>\n",
       "      <td>BSc</td>\n",
       "      <td>Yes</td>\n",
       "      <td>10.0</td>\n",
       "      <td>4.0</td>\n",
       "      <td>No</td>\n",
       "    </tr>\n",
       "    <tr>\n",
       "      <th>4</th>\n",
       "      <td>140704</td>\n",
       "      <td>Shaurya</td>\n",
       "      <td>Male</td>\n",
       "      <td>47.0</td>\n",
       "      <td>Kalyan</td>\n",
       "      <td>Working Professional</td>\n",
       "      <td>Teacher</td>\n",
       "      <td>5.0</td>\n",
       "      <td>7.674016</td>\n",
       "      <td>5.0</td>\n",
       "      <td>7-8 hours</td>\n",
       "      <td>Moderate</td>\n",
       "      <td>BCA</td>\n",
       "      <td>Yes</td>\n",
       "      <td>3.0</td>\n",
       "      <td>4.0</td>\n",
       "      <td>No</td>\n",
       "    </tr>\n",
       "  </tbody>\n",
       "</table>\n",
       "</div>"
      ],
      "text/plain": [
       "       id     Name  Gender   Age           City  \\\n",
       "0  140700   Shivam    Male  53.0  Visakhapatnam   \n",
       "1  140701    Sanya  Female  58.0        Kolkata   \n",
       "2  140702     Yash    Male  53.0         Jaipur   \n",
       "3  140703   Nalini  Female  23.0         Rajkot   \n",
       "4  140704  Shaurya    Male  47.0         Kalyan   \n",
       "\n",
       "  Working Professional or Student              Profession  Pressure      CGPA  \\\n",
       "0            Working Professional                   Judge       2.0  7.674016   \n",
       "1            Working Professional  Educational Consultant       2.0  7.674016   \n",
       "2            Working Professional                 Teacher       4.0  7.674016   \n",
       "3                         Student                 Student       5.0  6.840000   \n",
       "4            Working Professional                 Teacher       5.0  7.674016   \n",
       "\n",
       "   Satisfaction     Sleep Duration Dietary Habits  Degree  \\\n",
       "0           5.0  Less than 5 hours       Moderate     LLB   \n",
       "1           4.0  Less than 5 hours       Moderate    B.Ed   \n",
       "2           1.0          7-8 hours       Moderate  B.Arch   \n",
       "3           1.0  More than 8 hours       Moderate     BSc   \n",
       "4           5.0          7-8 hours       Moderate     BCA   \n",
       "\n",
       "  Have you ever had suicidal thoughts ?  Work/Study Hours  Financial Stress  \\\n",
       "0                                    No               9.0               3.0   \n",
       "1                                    No               6.0               4.0   \n",
       "2                                   Yes              12.0               4.0   \n",
       "3                                   Yes              10.0               4.0   \n",
       "4                                   Yes               3.0               4.0   \n",
       "\n",
       "  Family History of Mental Illness  \n",
       "0                              Yes  \n",
       "1                               No  \n",
       "2                               No  \n",
       "3                               No  \n",
       "4                               No  "
      ]
     },
     "execution_count": 52,
     "metadata": {},
     "output_type": "execute_result"
    }
   ],
   "source": [
    "test.head()"
   ]
  },
  {
   "cell_type": "code",
   "execution_count": 53,
   "id": "59c1ed34",
   "metadata": {
    "execution": {
     "iopub.execute_input": "2024-11-07T05:10:39.509672Z",
     "iopub.status.busy": "2024-11-07T05:10:39.509210Z",
     "iopub.status.idle": "2024-11-07T05:10:39.536219Z",
     "shell.execute_reply": "2024-11-07T05:10:39.534907Z"
    },
    "papermill": {
     "duration": 0.068265,
     "end_time": "2024-11-07T05:10:39.538898",
     "exception": false,
     "start_time": "2024-11-07T05:10:39.470633",
     "status": "completed"
    },
    "tags": []
   },
   "outputs": [
    {
     "data": {
      "text/plain": [
       "Dietary Habits\n",
       "Moderate        33018\n",
       "Unhealthy       30786\n",
       "Healthy         29966\n",
       "No                  6\n",
       "More Healthy        2\n",
       "Academic            1\n",
       "Naina               1\n",
       "1.0                 1\n",
       "Raghav              1\n",
       "Vivaan              1\n",
       "5 Unhealthy         1\n",
       "Soham               1\n",
       "Educational         1\n",
       "MCA                 1\n",
       "5 Healthy           1\n",
       "Resistant           1\n",
       "Mealy               1\n",
       "Less Healthy        1\n",
       "Male                1\n",
       "Prachi              1\n",
       "Indoor              1\n",
       "Kolkata             1\n",
       "Name: count, dtype: int64"
      ]
     },
     "execution_count": 53,
     "metadata": {},
     "output_type": "execute_result"
    }
   ],
   "source": [
    "test['Dietary Habits'].value_counts()"
   ]
  },
  {
   "cell_type": "code",
   "execution_count": 54,
   "id": "a4e536f5",
   "metadata": {
    "execution": {
     "iopub.execute_input": "2024-11-07T05:10:39.616494Z",
     "iopub.status.busy": "2024-11-07T05:10:39.615334Z",
     "iopub.status.idle": "2024-11-07T05:10:39.652512Z",
     "shell.execute_reply": "2024-11-07T05:10:39.651217Z"
    },
    "papermill": {
     "duration": 0.078875,
     "end_time": "2024-11-07T05:10:39.655475",
     "exception": false,
     "start_time": "2024-11-07T05:10:39.576600",
     "status": "completed"
    },
    "tags": []
   },
   "outputs": [
    {
     "data": {
      "text/plain": [
       "Dietary Habits\n",
       "Moderate             49704\n",
       "Unhealthy            46224\n",
       "Healthy              44739\n",
       "Yes                      2\n",
       "No                       2\n",
       "More Healthy             2\n",
       "No Healthy               1\n",
       "Class 12                 1\n",
       "Indoor                   1\n",
       "Male                     1\n",
       "Vegas                    1\n",
       "M.Tech                   1\n",
       "Less Healthy             1\n",
       "1.0                      1\n",
       "Electrician              1\n",
       "Hormonal                 1\n",
       "Mihir                    1\n",
       "Less than Healthy        1\n",
       "3                        1\n",
       "Gender                   1\n",
       "BSc                      1\n",
       "Pratham                  1\n",
       "2                        1\n",
       "Name: count, dtype: int64"
      ]
     },
     "execution_count": 54,
     "metadata": {},
     "output_type": "execute_result"
    }
   ],
   "source": [
    "df['Dietary Habits'].value_counts()"
   ]
  },
  {
   "cell_type": "code",
   "execution_count": 55,
   "id": "63ea000b",
   "metadata": {
    "execution": {
     "iopub.execute_input": "2024-11-07T05:10:39.734005Z",
     "iopub.status.busy": "2024-11-07T05:10:39.733571Z",
     "iopub.status.idle": "2024-11-07T05:10:40.561004Z",
     "shell.execute_reply": "2024-11-07T05:10:40.559819Z"
    },
    "papermill": {
     "duration": 0.86918,
     "end_time": "2024-11-07T05:10:40.563732",
     "exception": false,
     "start_time": "2024-11-07T05:10:39.694552",
     "status": "completed"
    },
    "tags": []
   },
   "outputs": [],
   "source": [
    "# Contar ocorrências de cada categoria\n",
    "\n",
    "habit_counts = df['Dietary Habits'].value_counts()\n",
    "\n",
    "\n",
    "\n",
    "# Substituir as categorias com menos de 10 ocorrências por 'Moderate'\n",
    "\n",
    "df['Dietary Habits'] = df['Dietary Habits'].apply(lambda x: x if habit_counts[x] >= 10 else 'Moderate')"
   ]
  },
  {
   "cell_type": "code",
   "execution_count": 56,
   "id": "38fc1500",
   "metadata": {
    "execution": {
     "iopub.execute_input": "2024-11-07T05:10:40.641562Z",
     "iopub.status.busy": "2024-11-07T05:10:40.640963Z",
     "iopub.status.idle": "2024-11-07T05:10:40.676666Z",
     "shell.execute_reply": "2024-11-07T05:10:40.675398Z"
    },
    "papermill": {
     "duration": 0.07807,
     "end_time": "2024-11-07T05:10:40.679172",
     "exception": false,
     "start_time": "2024-11-07T05:10:40.601102",
     "status": "completed"
    },
    "tags": []
   },
   "outputs": [
    {
     "data": {
      "text/plain": [
       "Dietary Habits\n",
       "Moderate     49727\n",
       "Unhealthy    46224\n",
       "Healthy      44739\n",
       "Name: count, dtype: int64"
      ]
     },
     "execution_count": 56,
     "metadata": {},
     "output_type": "execute_result"
    }
   ],
   "source": [
    "df['Dietary Habits'].value_counts()"
   ]
  },
  {
   "cell_type": "code",
   "execution_count": 57,
   "id": "0a07bd92",
   "metadata": {
    "execution": {
     "iopub.execute_input": "2024-11-07T05:10:40.756099Z",
     "iopub.status.busy": "2024-11-07T05:10:40.755635Z",
     "iopub.status.idle": "2024-11-07T05:10:41.328791Z",
     "shell.execute_reply": "2024-11-07T05:10:41.327576Z"
    },
    "papermill": {
     "duration": 0.615081,
     "end_time": "2024-11-07T05:10:41.331810",
     "exception": false,
     "start_time": "2024-11-07T05:10:40.716729",
     "status": "completed"
    },
    "tags": []
   },
   "outputs": [],
   "source": [
    "# Contar ocorrências de cada categoria\n",
    "\n",
    "habit_counts = test['Dietary Habits'].value_counts()\n",
    "\n",
    "\n",
    "\n",
    "# Substituir as categorias com menos de 10 ocorrências ou valores nulos por 'Moderate'\n",
    "\n",
    "test['Dietary Habits'] = test['Dietary Habits'].apply(lambda x: x if (x is not np.nan and habit_counts[x] >= 10) else 'Moderate')"
   ]
  },
  {
   "cell_type": "code",
   "execution_count": 58,
   "id": "af980ef7",
   "metadata": {
    "execution": {
     "iopub.execute_input": "2024-11-07T05:10:41.411398Z",
     "iopub.status.busy": "2024-11-07T05:10:41.410921Z",
     "iopub.status.idle": "2024-11-07T05:10:41.436923Z",
     "shell.execute_reply": "2024-11-07T05:10:41.435564Z"
    },
    "papermill": {
     "duration": 0.067811,
     "end_time": "2024-11-07T05:10:41.439550",
     "exception": false,
     "start_time": "2024-11-07T05:10:41.371739",
     "status": "completed"
    },
    "tags": []
   },
   "outputs": [
    {
     "data": {
      "text/plain": [
       "Dietary Habits\n",
       "Moderate     33048\n",
       "Unhealthy    30786\n",
       "Healthy      29966\n",
       "Name: count, dtype: int64"
      ]
     },
     "execution_count": 58,
     "metadata": {},
     "output_type": "execute_result"
    }
   ],
   "source": [
    "test['Dietary Habits'].value_counts()"
   ]
  },
  {
   "cell_type": "markdown",
   "id": "9cd00c3e",
   "metadata": {
    "papermill": {
     "duration": 0.039129,
     "end_time": "2024-11-07T05:10:41.517153",
     "exception": false,
     "start_time": "2024-11-07T05:10:41.478024",
     "status": "completed"
    },
    "tags": []
   },
   "source": [
    "## Limpar a colunas 'Degree'"
   ]
  },
  {
   "cell_type": "code",
   "execution_count": 59,
   "id": "5c10934f",
   "metadata": {
    "execution": {
     "iopub.execute_input": "2024-11-07T05:10:41.594971Z",
     "iopub.status.busy": "2024-11-07T05:10:41.594549Z",
     "iopub.status.idle": "2024-11-07T05:10:41.631462Z",
     "shell.execute_reply": "2024-11-07T05:10:41.630241Z"
    },
    "papermill": {
     "duration": 0.078931,
     "end_time": "2024-11-07T05:10:41.634222",
     "exception": false,
     "start_time": "2024-11-07T05:10:41.555291",
     "status": "completed"
    },
    "tags": []
   },
   "outputs": [
    {
     "data": {
      "text/plain": [
       "Degree\n",
       "Class 12    14728\n",
       "B.Ed        11690\n",
       "B.Arch       8742\n",
       "B.Com        8113\n",
       "B.Pharm      5856\n",
       "            ...  \n",
       "Vivaan          1\n",
       "MTech           1\n",
       "29              1\n",
       "LLCom           1\n",
       "Advait          1\n",
       "Name: count, Length: 115, dtype: int64"
      ]
     },
     "execution_count": 59,
     "metadata": {},
     "output_type": "execute_result"
    }
   ],
   "source": [
    "df['Degree'].value_counts()"
   ]
  },
  {
   "cell_type": "code",
   "execution_count": 60,
   "id": "4c3cc730",
   "metadata": {
    "execution": {
     "iopub.execute_input": "2024-11-07T05:10:41.714330Z",
     "iopub.status.busy": "2024-11-07T05:10:41.713920Z",
     "iopub.status.idle": "2024-11-07T05:10:41.740827Z",
     "shell.execute_reply": "2024-11-07T05:10:41.739572Z"
    },
    "papermill": {
     "duration": 0.069151,
     "end_time": "2024-11-07T05:10:41.743515",
     "exception": false,
     "start_time": "2024-11-07T05:10:41.674364",
     "status": "completed"
    },
    "tags": []
   },
   "outputs": [
    {
     "data": {
      "text/plain": [
       "Degree\n",
       "Class 12    9812\n",
       "B.Ed        7762\n",
       "B.Arch      6037\n",
       "B.Com       5439\n",
       "B.Pharm     3987\n",
       "            ... \n",
       "Bian           1\n",
       "Kavya          1\n",
       "M.M.Ed         1\n",
       "Vrinda         1\n",
       "BHCA           1\n",
       "Name: count, Length: 87, dtype: int64"
      ]
     },
     "execution_count": 60,
     "metadata": {},
     "output_type": "execute_result"
    }
   ],
   "source": [
    "test['Degree'].value_counts()"
   ]
  },
  {
   "cell_type": "code",
   "execution_count": 61,
   "id": "7399a519",
   "metadata": {
    "execution": {
     "iopub.execute_input": "2024-11-07T05:10:41.823236Z",
     "iopub.status.busy": "2024-11-07T05:10:41.822811Z",
     "iopub.status.idle": "2024-11-07T05:10:42.664692Z",
     "shell.execute_reply": "2024-11-07T05:10:42.663457Z"
    },
    "papermill": {
     "duration": 0.885613,
     "end_time": "2024-11-07T05:10:42.667731",
     "exception": false,
     "start_time": "2024-11-07T05:10:41.782118",
     "status": "completed"
    },
    "tags": []
   },
   "outputs": [],
   "source": [
    "# Contar ocorrências de cada categoria\n",
    "\n",
    "degree_counts = df['Degree'].value_counts()\n",
    "\n",
    "\n",
    "\n",
    "# Substituir as categorias com menos de 10 ocorrências por 'Outros'\n",
    "\n",
    "df['Degree'] = df['Degree'].apply(lambda x: x if degree_counts[x] >= 10 else 'Outros')"
   ]
  },
  {
   "cell_type": "code",
   "execution_count": 62,
   "id": "7b263269",
   "metadata": {
    "execution": {
     "iopub.execute_input": "2024-11-07T05:10:42.752342Z",
     "iopub.status.busy": "2024-11-07T05:10:42.751892Z",
     "iopub.status.idle": "2024-11-07T05:10:42.796817Z",
     "shell.execute_reply": "2024-11-07T05:10:42.795517Z"
    },
    "papermill": {
     "duration": 0.093187,
     "end_time": "2024-11-07T05:10:42.800276",
     "exception": false,
     "start_time": "2024-11-07T05:10:42.707089",
     "status": "completed"
    },
    "tags": []
   },
   "outputs": [
    {
     "data": {
      "text/plain": [
       "Degree\n",
       "Class 12    14728\n",
       "B.Ed        11690\n",
       "B.Arch       8742\n",
       "B.Com        8113\n",
       "B.Pharm      5856\n",
       "BCA          5738\n",
       "M.Ed         5668\n",
       "MCA          5234\n",
       "BBA          5030\n",
       "BSc          5027\n",
       "MSc          4879\n",
       "LLM          4647\n",
       "M.Pharm      4536\n",
       "M.Tech       4475\n",
       "B.Tech       4424\n",
       "LLB          4348\n",
       "BHM          4305\n",
       "MBA          3817\n",
       "BA           3750\n",
       "ME           3631\n",
       "MD           3383\n",
       "MHM          3286\n",
       "BE           3104\n",
       "PhD          3103\n",
       "M.Com        3094\n",
       "MBBS         3081\n",
       "MA           2887\n",
       "Outros        114\n",
       "Name: count, dtype: int64"
      ]
     },
     "execution_count": 62,
     "metadata": {},
     "output_type": "execute_result"
    }
   ],
   "source": [
    "df['Degree'].value_counts()"
   ]
  },
  {
   "cell_type": "code",
   "execution_count": 63,
   "id": "f8d95694",
   "metadata": {
    "execution": {
     "iopub.execute_input": "2024-11-07T05:10:42.890834Z",
     "iopub.status.busy": "2024-11-07T05:10:42.890379Z",
     "iopub.status.idle": "2024-11-07T05:10:43.569028Z",
     "shell.execute_reply": "2024-11-07T05:10:43.567808Z"
    },
    "papermill": {
     "duration": 0.723382,
     "end_time": "2024-11-07T05:10:43.572069",
     "exception": false,
     "start_time": "2024-11-07T05:10:42.848687",
     "status": "completed"
    },
    "tags": []
   },
   "outputs": [],
   "source": [
    "# Contar ocorrências de cada categoria\n",
    "\n",
    "degree_counts = test['Degree'].value_counts()\n",
    "\n",
    "\n",
    "\n",
    "# Substituir as categorias com menos de 10 ocorrências ou valores nulos por 'Outros'\n",
    "\n",
    "test['Degree'] = test['Degree'].apply(lambda x: x if pd.notnull(x) and degree_counts[x] >= 10 else 'Outros')"
   ]
  },
  {
   "cell_type": "code",
   "execution_count": 64,
   "id": "70567722",
   "metadata": {
    "execution": {
     "iopub.execute_input": "2024-11-07T05:10:43.651834Z",
     "iopub.status.busy": "2024-11-07T05:10:43.651183Z",
     "iopub.status.idle": "2024-11-07T05:10:43.679473Z",
     "shell.execute_reply": "2024-11-07T05:10:43.678265Z"
    },
    "papermill": {
     "duration": 0.070981,
     "end_time": "2024-11-07T05:10:43.681951",
     "exception": false,
     "start_time": "2024-11-07T05:10:43.610970",
     "status": "completed"
    },
    "tags": []
   },
   "outputs": [
    {
     "data": {
      "text/plain": [
       "Degree\n",
       "Class 12    9812\n",
       "B.Ed        7762\n",
       "B.Arch      6037\n",
       "B.Com       5439\n",
       "B.Pharm     3987\n",
       "BCA         3869\n",
       "M.Ed        3707\n",
       "MCA         3438\n",
       "BBA         3387\n",
       "BSc         3314\n",
       "LLM         3133\n",
       "MSc         3096\n",
       "M.Tech      3017\n",
       "M.Pharm     2995\n",
       "LLB         2938\n",
       "B.Tech      2885\n",
       "BHM         2776\n",
       "BA          2490\n",
       "MBA         2470\n",
       "ME          2391\n",
       "MD          2289\n",
       "BE          2166\n",
       "MHM         2149\n",
       "M.Com       2128\n",
       "PhD         2073\n",
       "MBBS        2033\n",
       "MA          1933\n",
       "Outros        86\n",
       "Name: count, dtype: int64"
      ]
     },
     "execution_count": 64,
     "metadata": {},
     "output_type": "execute_result"
    }
   ],
   "source": [
    "test['Degree'].value_counts()"
   ]
  },
  {
   "cell_type": "markdown",
   "id": "5b54082c",
   "metadata": {
    "papermill": {
     "duration": 0.039687,
     "end_time": "2024-11-07T05:10:43.762249",
     "exception": false,
     "start_time": "2024-11-07T05:10:43.722562",
     "status": "completed"
    },
    "tags": []
   },
   "source": [
    "## Verificando as outras variaveis"
   ]
  },
  {
   "cell_type": "code",
   "execution_count": 65,
   "id": "1290e4af",
   "metadata": {
    "execution": {
     "iopub.execute_input": "2024-11-07T05:10:43.842647Z",
     "iopub.status.busy": "2024-11-07T05:10:43.842136Z",
     "iopub.status.idle": "2024-11-07T05:10:44.005350Z",
     "shell.execute_reply": "2024-11-07T05:10:44.004229Z"
    },
    "papermill": {
     "duration": 0.206738,
     "end_time": "2024-11-07T05:10:44.008208",
     "exception": false,
     "start_time": "2024-11-07T05:10:43.801470",
     "status": "completed"
    },
    "tags": []
   },
   "outputs": [
    {
     "data": {
      "text/plain": [
       "id                                       0\n",
       "Name                                     0\n",
       "Gender                                   0\n",
       "Age                                      0\n",
       "City                                     0\n",
       "Working Professional or Student          0\n",
       "Profession                               0\n",
       "Pressure                                 0\n",
       "CGPA                                     0\n",
       "Satisfaction                             0\n",
       "Sleep Duration                           0\n",
       "Dietary Habits                           0\n",
       "Degree                                   0\n",
       "Have you ever had suicidal thoughts ?    0\n",
       "Work/Study Hours                         0\n",
       "Financial Stress                         0\n",
       "Family History of Mental Illness         0\n",
       "Depression                               0\n",
       "dtype: int64"
      ]
     },
     "execution_count": 65,
     "metadata": {},
     "output_type": "execute_result"
    }
   ],
   "source": [
    "df.isnull().sum()"
   ]
  },
  {
   "cell_type": "code",
   "execution_count": 66,
   "id": "d50c7255",
   "metadata": {
    "execution": {
     "iopub.execute_input": "2024-11-07T05:10:44.089182Z",
     "iopub.status.busy": "2024-11-07T05:10:44.088725Z",
     "iopub.status.idle": "2024-11-07T05:10:44.123581Z",
     "shell.execute_reply": "2024-11-07T05:10:44.122282Z"
    },
    "papermill": {
     "duration": 0.078402,
     "end_time": "2024-11-07T05:10:44.126224",
     "exception": false,
     "start_time": "2024-11-07T05:10:44.047822",
     "status": "completed"
    },
    "tags": []
   },
   "outputs": [
    {
     "data": {
      "text/plain": [
       "Gender\n",
       "Male      77459\n",
       "Female    63231\n",
       "Name: count, dtype: int64"
      ]
     },
     "execution_count": 66,
     "metadata": {},
     "output_type": "execute_result"
    }
   ],
   "source": [
    "df['Gender'].value_counts()"
   ]
  },
  {
   "cell_type": "code",
   "execution_count": 67,
   "id": "f3e99c42",
   "metadata": {
    "execution": {
     "iopub.execute_input": "2024-11-07T05:10:44.209378Z",
     "iopub.status.busy": "2024-11-07T05:10:44.208928Z",
     "iopub.status.idle": "2024-11-07T05:10:44.235586Z",
     "shell.execute_reply": "2024-11-07T05:10:44.234235Z"
    },
    "papermill": {
     "duration": 0.071159,
     "end_time": "2024-11-07T05:10:44.238108",
     "exception": false,
     "start_time": "2024-11-07T05:10:44.166949",
     "status": "completed"
    },
    "tags": []
   },
   "outputs": [
    {
     "data": {
      "text/plain": [
       "Gender\n",
       "Male      51262\n",
       "Female    42538\n",
       "Name: count, dtype: int64"
      ]
     },
     "execution_count": 67,
     "metadata": {},
     "output_type": "execute_result"
    }
   ],
   "source": [
    "test['Gender'].value_counts()"
   ]
  },
  {
   "cell_type": "code",
   "execution_count": 68,
   "id": "54e1eef7",
   "metadata": {
    "execution": {
     "iopub.execute_input": "2024-11-07T05:10:44.319384Z",
     "iopub.status.busy": "2024-11-07T05:10:44.318948Z",
     "iopub.status.idle": "2024-11-07T05:10:44.333541Z",
     "shell.execute_reply": "2024-11-07T05:10:44.332465Z"
    },
    "papermill": {
     "duration": 0.058064,
     "end_time": "2024-11-07T05:10:44.336032",
     "exception": false,
     "start_time": "2024-11-07T05:10:44.277968",
     "status": "completed"
    },
    "tags": []
   },
   "outputs": [
    {
     "data": {
      "text/plain": [
       "Age\n",
       "56.0    5246\n",
       "49.0    5099\n",
       "38.0    4564\n",
       "53.0    4526\n",
       "57.0    4395\n",
       "47.0    4199\n",
       "46.0    4080\n",
       "54.0    3928\n",
       "51.0    3927\n",
       "18.0    3921\n",
       "43.0    3856\n",
       "59.0    3781\n",
       "48.0    3694\n",
       "45.0    3535\n",
       "20.0    3514\n",
       "50.0    3439\n",
       "42.0    3393\n",
       "24.0    3355\n",
       "28.0    3336\n",
       "39.0    3262\n",
       "44.0    3217\n",
       "41.0    3140\n",
       "33.0    3140\n",
       "29.0    3096\n",
       "40.0    3094\n",
       "58.0    2932\n",
       "25.0    2931\n",
       "23.0    2899\n",
       "55.0    2846\n",
       "35.0    2834\n",
       "21.0    2742\n",
       "37.0    2722\n",
       "36.0    2703\n",
       "19.0    2634\n",
       "27.0    2613\n",
       "52.0    2589\n",
       "34.0    2577\n",
       "31.0    2560\n",
       "60.0    2501\n",
       "26.0    2108\n",
       "22.0    2066\n",
       "30.0    1912\n",
       "32.0    1784\n",
       "Name: count, dtype: int64"
      ]
     },
     "execution_count": 68,
     "metadata": {},
     "output_type": "execute_result"
    }
   ],
   "source": [
    "df['Age'].value_counts()"
   ]
  },
  {
   "cell_type": "code",
   "execution_count": 69,
   "id": "41a5712f",
   "metadata": {
    "execution": {
     "iopub.execute_input": "2024-11-07T05:10:44.419839Z",
     "iopub.status.busy": "2024-11-07T05:10:44.418300Z",
     "iopub.status.idle": "2024-11-07T05:10:44.432551Z",
     "shell.execute_reply": "2024-11-07T05:10:44.431355Z"
    },
    "papermill": {
     "duration": 0.05847,
     "end_time": "2024-11-07T05:10:44.435242",
     "exception": false,
     "start_time": "2024-11-07T05:10:44.376772",
     "status": "completed"
    },
    "tags": []
   },
   "outputs": [
    {
     "data": {
      "text/plain": [
       "Age\n",
       "56.00    3432\n",
       "49.00    3425\n",
       "38.00    3008\n",
       "53.00    2958\n",
       "57.00    2875\n",
       "47.00    2740\n",
       "46.00    2728\n",
       "18.00    2614\n",
       "59.00    2551\n",
       "54.00    2549\n",
       "51.00    2544\n",
       "43.00    2506\n",
       "48.00    2459\n",
       "20.00    2335\n",
       "45.00    2329\n",
       "50.00    2311\n",
       "24.00    2296\n",
       "42.00    2295\n",
       "28.00    2292\n",
       "39.00    2279\n",
       "44.00    2242\n",
       "29.00    2152\n",
       "41.00    2093\n",
       "33.00    2057\n",
       "58.00    1982\n",
       "25.00    1953\n",
       "40.00    1950\n",
       "35.00    1940\n",
       "21.00    1930\n",
       "55.00    1923\n",
       "23.00    1870\n",
       "37.00    1789\n",
       "34.00    1785\n",
       "36.00    1742\n",
       "19.00    1731\n",
       "27.00    1719\n",
       "60.00    1701\n",
       "52.00    1687\n",
       "31.00    1660\n",
       "22.00    1417\n",
       "26.00    1362\n",
       "30.00    1361\n",
       "32.00    1227\n",
       "32.08       1\n",
       "Name: count, dtype: int64"
      ]
     },
     "execution_count": 69,
     "metadata": {},
     "output_type": "execute_result"
    }
   ],
   "source": [
    "test['Age'].value_counts()"
   ]
  },
  {
   "cell_type": "code",
   "execution_count": 70,
   "id": "8270a8e7",
   "metadata": {
    "execution": {
     "iopub.execute_input": "2024-11-07T05:10:44.517389Z",
     "iopub.status.busy": "2024-11-07T05:10:44.516943Z",
     "iopub.status.idle": "2024-11-07T05:10:44.523867Z",
     "shell.execute_reply": "2024-11-07T05:10:44.522798Z"
    },
    "papermill": {
     "duration": 0.051326,
     "end_time": "2024-11-07T05:10:44.526567",
     "exception": false,
     "start_time": "2024-11-07T05:10:44.475241",
     "status": "completed"
    },
    "tags": []
   },
   "outputs": [],
   "source": [
    "# Substituir '32.08' por '32.00'\n",
    "\n",
    "test['Age'] = test['Age'].replace(32.08, 32.00)\n"
   ]
  },
  {
   "cell_type": "code",
   "execution_count": 71,
   "id": "3ad6d401",
   "metadata": {
    "execution": {
     "iopub.execute_input": "2024-11-07T05:10:44.609340Z",
     "iopub.status.busy": "2024-11-07T05:10:44.608921Z",
     "iopub.status.idle": "2024-11-07T05:10:44.623375Z",
     "shell.execute_reply": "2024-11-07T05:10:44.621978Z"
    },
    "papermill": {
     "duration": 0.05867,
     "end_time": "2024-11-07T05:10:44.625954",
     "exception": false,
     "start_time": "2024-11-07T05:10:44.567284",
     "status": "completed"
    },
    "tags": []
   },
   "outputs": [
    {
     "data": {
      "text/plain": [
       "Age\n",
       "56.0    3432\n",
       "49.0    3425\n",
       "38.0    3008\n",
       "53.0    2958\n",
       "57.0    2875\n",
       "47.0    2740\n",
       "46.0    2728\n",
       "18.0    2614\n",
       "59.0    2551\n",
       "54.0    2549\n",
       "51.0    2544\n",
       "43.0    2506\n",
       "48.0    2459\n",
       "20.0    2335\n",
       "45.0    2329\n",
       "50.0    2311\n",
       "24.0    2296\n",
       "42.0    2295\n",
       "28.0    2292\n",
       "39.0    2279\n",
       "44.0    2242\n",
       "29.0    2152\n",
       "41.0    2093\n",
       "33.0    2057\n",
       "58.0    1982\n",
       "25.0    1953\n",
       "40.0    1950\n",
       "35.0    1940\n",
       "21.0    1930\n",
       "55.0    1923\n",
       "23.0    1870\n",
       "37.0    1789\n",
       "34.0    1785\n",
       "36.0    1742\n",
       "19.0    1731\n",
       "27.0    1719\n",
       "60.0    1701\n",
       "52.0    1687\n",
       "31.0    1660\n",
       "22.0    1417\n",
       "26.0    1362\n",
       "30.0    1361\n",
       "32.0    1228\n",
       "Name: count, dtype: int64"
      ]
     },
     "execution_count": 71,
     "metadata": {},
     "output_type": "execute_result"
    }
   ],
   "source": [
    "test['Age'].value_counts()"
   ]
  },
  {
   "cell_type": "code",
   "execution_count": 72,
   "id": "7503316e",
   "metadata": {
    "execution": {
     "iopub.execute_input": "2024-11-07T05:10:44.711861Z",
     "iopub.status.busy": "2024-11-07T05:10:44.710749Z",
     "iopub.status.idle": "2024-11-07T05:10:44.745782Z",
     "shell.execute_reply": "2024-11-07T05:10:44.744604Z"
    },
    "papermill": {
     "duration": 0.080418,
     "end_time": "2024-11-07T05:10:44.749154",
     "exception": false,
     "start_time": "2024-11-07T05:10:44.668736",
     "status": "completed"
    },
    "tags": []
   },
   "outputs": [
    {
     "name": "stdout",
     "output_type": "stream",
     "text": [
      "City\n",
      "Kalyan                6591\n",
      "Patna                 5924\n",
      "Vasai-Virar           5765\n",
      "Kolkata               5688\n",
      "Ahmedabad             5613\n",
      "Meerut                5528\n",
      "Ludhiana              5226\n",
      "Pune                  5210\n",
      "Rajkot                5207\n",
      "Visakhapatnam         5176\n",
      "Srinagar              5072\n",
      "Mumbai                4966\n",
      "Indore                4872\n",
      "Agra                  4683\n",
      "Surat                 4636\n",
      "Varanasi              4605\n",
      "Vadodara              4568\n",
      "Hyderabad             4493\n",
      "Kanpur                4398\n",
      "Jaipur                4328\n",
      "Thane                 4289\n",
      "Lucknow               4280\n",
      "Nagpur                4209\n",
      "Bangalore             4122\n",
      "Chennai               4044\n",
      "Ghaziabad             3620\n",
      "Delhi                 3593\n",
      "Bhopal                3475\n",
      "Faridabad             3268\n",
      "Nashik                3143\n",
      "Mihir                    7\n",
      "Nandini                  4\n",
      "Mahi                     3\n",
      "Vidya                    3\n",
      "City                     3\n",
      "Pratyush                 3\n",
      "Harsha                   3\n",
      "Saanvi                   3\n",
      "Bhavna                   3\n",
      "Molkata                  2\n",
      "MCA                      2\n",
      "M.Com                    2\n",
      "Atharv                   2\n",
      "Nalini                   2\n",
      "Keshav                   2\n",
      "Ayush                    2\n",
      "M.Tech                   1\n",
      "Researcher               1\n",
      "Vaishnavi                1\n",
      "Chhavi                   1\n",
      "Parth                    1\n",
      "Vidhi                    1\n",
      "Tushar                   1\n",
      "MSc                      1\n",
      "No                       1\n",
      "Rashi                    1\n",
      "ME                       1\n",
      "Ishanabad                1\n",
      "Armaan                   1\n",
      "Kagan                    1\n",
      "Kashish                  1\n",
      "Ithal                    1\n",
      "Nalyan                   1\n",
      "Dhruv                    1\n",
      "Galesabad                1\n",
      "Itheg                    1\n",
      "Aaradhya                 1\n",
      "Pooja                    1\n",
      "Khushi                   1\n",
      "Khaziabad                1\n",
      "Jhanvi                   1\n",
      "Kibara                   1\n",
      "Harsh                    1\n",
      "Reyansh                  1\n",
      "Morena                   1\n",
      "Less Delhi               1\n",
      "Malyansh                 1\n",
      "Aditya                   1\n",
      "Plata                    1\n",
      "Aishwarya                1\n",
      "3.0                      1\n",
      "Less than 5 Kalyan       1\n",
      "Krishna                  1\n",
      "Mira                     1\n",
      "Moreadhyay               1\n",
      "Ishkarsh                 1\n",
      "Raghavendra              1\n",
      "Kashk                    1\n",
      "Gurgaon                  1\n",
      "Tolkata                  1\n",
      "Anvi                     1\n",
      "Krinda                   1\n",
      "Ayansh                   1\n",
      "Shrey                    1\n",
      "Ivaan                    1\n",
      "Vaanya                   1\n",
      "Gaurav                   1\n",
      "Unirar                   1\n",
      "Name: count, dtype: int64\n"
     ]
    }
   ],
   "source": [
    "# Configurar a exibição para mostrar todas as linhas\n",
    "\n",
    "pd.set_option('display.max_rows', None)  # Para mostrar todas as linhas\n",
    "\n",
    "pd.set_option('display.max_columns', None)  # Para mostrar todas as colunas, se necessário\n",
    "\n",
    "\n",
    "\n",
    "# Exibir a contagem de valores na coluna 'City'\n",
    "\n",
    "city_counts = df['City'].value_counts()\n",
    "\n",
    "print(city_counts)\n",
    "\n",
    "\n",
    "\n",
    "# Resetar as opções para o padrão, se necessário\n",
    "\n",
    "pd.reset_option('display.max_rows')"
   ]
  },
  {
   "cell_type": "code",
   "execution_count": 73,
   "id": "50382e6c",
   "metadata": {
    "execution": {
     "iopub.execute_input": "2024-11-07T05:10:44.833233Z",
     "iopub.status.busy": "2024-11-07T05:10:44.832826Z",
     "iopub.status.idle": "2024-11-07T05:10:44.860203Z",
     "shell.execute_reply": "2024-11-07T05:10:44.858768Z"
    },
    "papermill": {
     "duration": 0.072785,
     "end_time": "2024-11-07T05:10:44.862857",
     "exception": false,
     "start_time": "2024-11-07T05:10:44.790072",
     "status": "completed"
    },
    "tags": []
   },
   "outputs": [
    {
     "name": "stdout",
     "output_type": "stream",
     "text": [
      "City\n",
      "Kalyan               4387\n",
      "Vasai-Virar          3897\n",
      "Patna                3888\n",
      "Kolkata              3726\n",
      "Ahmedabad            3677\n",
      "Meerut               3661\n",
      "Srinagar             3547\n",
      "Ludhiana             3545\n",
      "Rajkot               3450\n",
      "Visakhapatnam        3416\n",
      "Pune                 3318\n",
      "Agra                 3189\n",
      "Vadodara             3169\n",
      "Mumbai               3129\n",
      "Hyderabad            3123\n",
      "Surat                3090\n",
      "Varanasi             3052\n",
      "Indore               3040\n",
      "Kanpur               2978\n",
      "Jaipur               2874\n",
      "Lucknow              2860\n",
      "Thane                2835\n",
      "Nagpur               2748\n",
      "Bangalore            2707\n",
      "Chennai              2674\n",
      "Delhi                2536\n",
      "Ghaziabad            2486\n",
      "Bhopal               2370\n",
      "Faridabad            2196\n",
      "Nashik               2182\n",
      "Vidya                   4\n",
      "Siddhesh                3\n",
      "Bhavna                  3\n",
      "Vikram                  2\n",
      "Keshav                  2\n",
      "Nalini                  2\n",
      "City                    2\n",
      "Hrithik                 2\n",
      "San Vasai-Virar         1\n",
      "Vaikot                  1\n",
      "Leela                   1\n",
      "Chemist                 1\n",
      "Ghopal                  1\n",
      "No                      1\n",
      "More Delhi              1\n",
      "Saanvi                  1\n",
      "Pratham                 1\n",
      "Vidhi                   1\n",
      "Abhinav                 1\n",
      "Rolkata                 1\n",
      "Parth                   1\n",
      "Aditi                   1\n",
      "Saurav                  1\n",
      "Sara                    1\n",
      "Less Delhi              1\n",
      "Golkata                 1\n",
      "Is Kanpur               1\n",
      "Unaly                   1\n",
      "Thani                   1\n",
      "Lawyer                  1\n",
      "Vaishnavi               1\n",
      "Ira                     1\n",
      "Avni                    1\n",
      "Mhopal                  1\n",
      "Less than 5 hours       1\n",
      "Pratyush                1\n",
      "Malyan                  1\n",
      "No.12                   1\n",
      "Name: count, dtype: int64\n"
     ]
    }
   ],
   "source": [
    "# Configurar a exibição para mostrar todas as linhas\n",
    "\n",
    "pd.set_option('display.max_rows', None)  # Para mostrar todas as linhas\n",
    "\n",
    "pd.set_option('display.max_columns', None)  # Para mostrar todas as colunas, se necessário\n",
    "\n",
    "\n",
    "\n",
    "# Exibir a contagem de valores na coluna 'City'\n",
    "\n",
    "city_counts = test['City'].value_counts()\n",
    "\n",
    "print(city_counts)\n",
    "\n",
    "\n",
    "\n",
    "# Resetar as opções para o padrão, se necessário\n",
    "\n",
    "pd.reset_option('display.max_rows')"
   ]
  },
  {
   "cell_type": "code",
   "execution_count": 74,
   "id": "02982d0c",
   "metadata": {
    "execution": {
     "iopub.execute_input": "2024-11-07T05:10:44.948509Z",
     "iopub.status.busy": "2024-11-07T05:10:44.948033Z",
     "iopub.status.idle": "2024-11-07T05:10:45.784227Z",
     "shell.execute_reply": "2024-11-07T05:10:45.783015Z"
    },
    "papermill": {
     "duration": 0.882201,
     "end_time": "2024-11-07T05:10:45.787121",
     "exception": false,
     "start_time": "2024-11-07T05:10:44.904920",
     "status": "completed"
    },
    "tags": []
   },
   "outputs": [],
   "source": [
    "# Contar ocorrências de cada cidade\n",
    "\n",
    "city_counts = df['City'].value_counts()\n",
    "\n",
    "\n",
    "\n",
    "# Substituir cidades com menos de 10 ocorrências por 'Outros'\n",
    "\n",
    "df['City'] = df['City'].apply(lambda x: x if city_counts[x] >= 10 else 'Outros')\n"
   ]
  },
  {
   "cell_type": "code",
   "execution_count": 75,
   "id": "f8cca77c",
   "metadata": {
    "execution": {
     "iopub.execute_input": "2024-11-07T05:10:45.873181Z",
     "iopub.status.busy": "2024-11-07T05:10:45.872698Z",
     "iopub.status.idle": "2024-11-07T05:10:45.907636Z",
     "shell.execute_reply": "2024-11-07T05:10:45.906461Z"
    },
    "papermill": {
     "duration": 0.081459,
     "end_time": "2024-11-07T05:10:45.910083",
     "exception": false,
     "start_time": "2024-11-07T05:10:45.828624",
     "status": "completed"
    },
    "tags": []
   },
   "outputs": [
    {
     "data": {
      "text/plain": [
       "City\n",
       "Kalyan           6591\n",
       "Patna            5924\n",
       "Vasai-Virar      5765\n",
       "Kolkata          5688\n",
       "Ahmedabad        5613\n",
       "Meerut           5528\n",
       "Ludhiana         5226\n",
       "Pune             5210\n",
       "Rajkot           5207\n",
       "Visakhapatnam    5176\n",
       "Srinagar         5072\n",
       "Mumbai           4966\n",
       "Indore           4872\n",
       "Agra             4683\n",
       "Surat            4636\n",
       "Varanasi         4605\n",
       "Vadodara         4568\n",
       "Hyderabad        4493\n",
       "Kanpur           4398\n",
       "Jaipur           4328\n",
       "Thane            4289\n",
       "Lucknow          4280\n",
       "Nagpur           4209\n",
       "Bangalore        4122\n",
       "Chennai          4044\n",
       "Ghaziabad        3620\n",
       "Delhi            3593\n",
       "Bhopal           3475\n",
       "Faridabad        3268\n",
       "Nashik           3143\n",
       "Outros             98\n",
       "Name: count, dtype: int64"
      ]
     },
     "execution_count": 75,
     "metadata": {},
     "output_type": "execute_result"
    }
   ],
   "source": [
    "df['City'].value_counts()"
   ]
  },
  {
   "cell_type": "code",
   "execution_count": 76,
   "id": "02f729b8",
   "metadata": {
    "execution": {
     "iopub.execute_input": "2024-11-07T05:10:45.994706Z",
     "iopub.status.busy": "2024-11-07T05:10:45.994154Z",
     "iopub.status.idle": "2024-11-07T05:10:46.551244Z",
     "shell.execute_reply": "2024-11-07T05:10:46.550033Z"
    },
    "papermill": {
     "duration": 0.602847,
     "end_time": "2024-11-07T05:10:46.554238",
     "exception": false,
     "start_time": "2024-11-07T05:10:45.951391",
     "status": "completed"
    },
    "tags": []
   },
   "outputs": [],
   "source": [
    "# Contar ocorrências de cada cidade\n",
    "\n",
    "city_counts = test['City'].value_counts()\n",
    "\n",
    "\n",
    "\n",
    "# Substituir cidades com menos de 10 ocorrências por 'Outros'\n",
    "\n",
    "test['City'] = test['City'].apply(lambda x: x if city_counts[x] >= 10 else 'Outros')\n"
   ]
  },
  {
   "cell_type": "code",
   "execution_count": 77,
   "id": "e8b59fa3",
   "metadata": {
    "execution": {
     "iopub.execute_input": "2024-11-07T05:10:46.639191Z",
     "iopub.status.busy": "2024-11-07T05:10:46.638714Z",
     "iopub.status.idle": "2024-11-07T05:10:46.664978Z",
     "shell.execute_reply": "2024-11-07T05:10:46.663790Z"
    },
    "papermill": {
     "duration": 0.072525,
     "end_time": "2024-11-07T05:10:46.668367",
     "exception": false,
     "start_time": "2024-11-07T05:10:46.595842",
     "status": "completed"
    },
    "tags": []
   },
   "outputs": [
    {
     "data": {
      "text/plain": [
       "City\n",
       "Kalyan           4387\n",
       "Vasai-Virar      3897\n",
       "Patna            3888\n",
       "Kolkata          3726\n",
       "Ahmedabad        3677\n",
       "Meerut           3661\n",
       "Srinagar         3547\n",
       "Ludhiana         3545\n",
       "Rajkot           3450\n",
       "Visakhapatnam    3416\n",
       "Pune             3318\n",
       "Agra             3189\n",
       "Vadodara         3169\n",
       "Mumbai           3129\n",
       "Hyderabad        3123\n",
       "Surat            3090\n",
       "Varanasi         3052\n",
       "Indore           3040\n",
       "Kanpur           2978\n",
       "Jaipur           2874\n",
       "Lucknow          2860\n",
       "Thane            2835\n",
       "Nagpur           2748\n",
       "Bangalore        2707\n",
       "Chennai          2674\n",
       "Delhi            2536\n",
       "Ghaziabad        2486\n",
       "Bhopal           2370\n",
       "Faridabad        2196\n",
       "Nashik           2182\n",
       "Outros             50\n",
       "Name: count, dtype: int64"
      ]
     },
     "execution_count": 77,
     "metadata": {},
     "output_type": "execute_result"
    }
   ],
   "source": [
    "test['City'].value_counts()"
   ]
  },
  {
   "cell_type": "code",
   "execution_count": 78,
   "id": "44c89c9c",
   "metadata": {
    "execution": {
     "iopub.execute_input": "2024-11-07T05:10:46.754154Z",
     "iopub.status.busy": "2024-11-07T05:10:46.753731Z",
     "iopub.status.idle": "2024-11-07T05:10:46.917484Z",
     "shell.execute_reply": "2024-11-07T05:10:46.916356Z"
    },
    "papermill": {
     "duration": 0.209357,
     "end_time": "2024-11-07T05:10:46.920225",
     "exception": false,
     "start_time": "2024-11-07T05:10:46.710868",
     "status": "completed"
    },
    "tags": []
   },
   "outputs": [
    {
     "data": {
      "text/plain": [
       "id                                       0\n",
       "Name                                     0\n",
       "Gender                                   0\n",
       "Age                                      0\n",
       "City                                     0\n",
       "Working Professional or Student          0\n",
       "Profession                               0\n",
       "Pressure                                 0\n",
       "CGPA                                     0\n",
       "Satisfaction                             0\n",
       "Sleep Duration                           0\n",
       "Dietary Habits                           0\n",
       "Degree                                   0\n",
       "Have you ever had suicidal thoughts ?    0\n",
       "Work/Study Hours                         0\n",
       "Financial Stress                         0\n",
       "Family History of Mental Illness         0\n",
       "Depression                               0\n",
       "dtype: int64"
      ]
     },
     "execution_count": 78,
     "metadata": {},
     "output_type": "execute_result"
    }
   ],
   "source": [
    "df.isnull().sum()"
   ]
  },
  {
   "cell_type": "code",
   "execution_count": 79,
   "id": "00bedf8b",
   "metadata": {
    "execution": {
     "iopub.execute_input": "2024-11-07T05:10:47.006142Z",
     "iopub.status.busy": "2024-11-07T05:10:47.005701Z",
     "iopub.status.idle": "2024-11-07T05:10:47.041734Z",
     "shell.execute_reply": "2024-11-07T05:10:47.040406Z"
    },
    "papermill": {
     "duration": 0.08243,
     "end_time": "2024-11-07T05:10:47.044418",
     "exception": false,
     "start_time": "2024-11-07T05:10:46.961988",
     "status": "completed"
    },
    "tags": []
   },
   "outputs": [
    {
     "data": {
      "text/plain": [
       "Working Professional or Student\n",
       "Working Professional    112794\n",
       "Student                  27896\n",
       "Name: count, dtype: int64"
      ]
     },
     "execution_count": 79,
     "metadata": {},
     "output_type": "execute_result"
    }
   ],
   "source": [
    "df['Working Professional or Student'].value_counts()"
   ]
  },
  {
   "cell_type": "code",
   "execution_count": 80,
   "id": "5238c4c7",
   "metadata": {
    "execution": {
     "iopub.execute_input": "2024-11-07T05:10:47.131593Z",
     "iopub.status.busy": "2024-11-07T05:10:47.130627Z",
     "iopub.status.idle": "2024-11-07T05:10:47.157401Z",
     "shell.execute_reply": "2024-11-07T05:10:47.156103Z"
    },
    "papermill": {
     "duration": 0.073061,
     "end_time": "2024-11-07T05:10:47.160274",
     "exception": false,
     "start_time": "2024-11-07T05:10:47.087213",
     "status": "completed"
    },
    "tags": []
   },
   "outputs": [
    {
     "data": {
      "text/plain": [
       "Working Professional or Student\n",
       "Working Professional    75028\n",
       "Student                 18772\n",
       "Name: count, dtype: int64"
      ]
     },
     "execution_count": 80,
     "metadata": {},
     "output_type": "execute_result"
    }
   ],
   "source": [
    "test['Working Professional or Student'].value_counts()"
   ]
  },
  {
   "cell_type": "code",
   "execution_count": 81,
   "id": "261eb48b",
   "metadata": {
    "execution": {
     "iopub.execute_input": "2024-11-07T05:10:47.248178Z",
     "iopub.status.busy": "2024-11-07T05:10:47.247692Z",
     "iopub.status.idle": "2024-11-07T05:10:47.283712Z",
     "shell.execute_reply": "2024-11-07T05:10:47.282535Z"
    },
    "papermill": {
     "duration": 0.082825,
     "end_time": "2024-11-07T05:10:47.286313",
     "exception": false,
     "start_time": "2024-11-07T05:10:47.203488",
     "status": "completed"
    },
    "tags": []
   },
   "outputs": [
    {
     "data": {
      "text/plain": [
       "Sleep Duration\n",
       "Less than 5 hours    38781\n",
       "7-8 hours            36968\n",
       "More than 8 hours    32724\n",
       "5-6 hours            32138\n",
       "3-4 hours               12\n",
       "6-7 hours                8\n",
       "4-5 hours                7\n",
       "2-3 hours                5\n",
       "4-6 hours                5\n",
       "6-8 hours                4\n",
       "1-6 hours                4\n",
       "No                       4\n",
       "9-11 hours               2\n",
       "10-11 hours              2\n",
       "Sleep_Duration           2\n",
       "Unhealthy                2\n",
       "45                       2\n",
       "8-9 hours                2\n",
       "10-6 hours               1\n",
       "9-5                      1\n",
       "45-48 hours              1\n",
       "3-6 hours                1\n",
       "Work_Study_Hours         1\n",
       "49 hours                 1\n",
       "than 5 hours             1\n",
       "Pune                     1\n",
       "9-6 hours                1\n",
       "8 hours                  1\n",
       "35-36 hours              1\n",
       "Indore                   1\n",
       "1-3 hours                1\n",
       "55-66 hours              1\n",
       "Moderate                 1\n",
       "40-45 hours              1\n",
       "1-2 hours                1\n",
       "9-5 hours                1\n",
       "Name: count, dtype: int64"
      ]
     },
     "execution_count": 81,
     "metadata": {},
     "output_type": "execute_result"
    }
   ],
   "source": [
    "df['Sleep Duration'].value_counts()"
   ]
  },
  {
   "cell_type": "code",
   "execution_count": 82,
   "id": "18364bbc",
   "metadata": {
    "execution": {
     "iopub.execute_input": "2024-11-07T05:10:47.374547Z",
     "iopub.status.busy": "2024-11-07T05:10:47.373361Z",
     "iopub.status.idle": "2024-11-07T05:10:47.400160Z",
     "shell.execute_reply": "2024-11-07T05:10:47.398979Z"
    },
    "papermill": {
     "duration": 0.073712,
     "end_time": "2024-11-07T05:10:47.402713",
     "exception": false,
     "start_time": "2024-11-07T05:10:47.329001",
     "status": "completed"
    },
    "tags": []
   },
   "outputs": [
    {
     "data": {
      "text/plain": [
       "Sleep Duration\n",
       "Less than 5 hours                      25661\n",
       "7-8 hours                              24491\n",
       "More than 8 hours                      22190\n",
       "5-6 hours                              21404\n",
       "6-7 hours                                  7\n",
       "8-9 hours                                  6\n",
       "4-5 hours                                  6\n",
       "2-3 hours                                  4\n",
       "3-4 hours                                  3\n",
       "9-5 hours                                  2\n",
       "1-6 hours                                  2\n",
       "9-5                                        2\n",
       "Meerut                                     2\n",
       "4-6 hours                                  2\n",
       "1-2 hours                                  2\n",
       "10-6 hours                                 1\n",
       "9-10 hours                                 1\n",
       "9-11 hours                                 1\n",
       "50-75 hours                                1\n",
       "6 hours                                    1\n",
       "1-3 hours                                  1\n",
       "8-89 hours                                 1\n",
       "20-21 hours                                1\n",
       "Have_you_ever_had_suicidal_thoughts        1\n",
       "60-65 hours                                1\n",
       "9-6 hours                                  1\n",
       "than 5 hours                               1\n",
       "0                                          1\n",
       "Unhealthy                                  1\n",
       "Vivan                                      1\n",
       "3-6 hours                                  1\n",
       "Name: count, dtype: int64"
      ]
     },
     "execution_count": 82,
     "metadata": {},
     "output_type": "execute_result"
    }
   ],
   "source": [
    "test['Sleep Duration'].value_counts()"
   ]
  },
  {
   "cell_type": "code",
   "execution_count": 83,
   "id": "55f20c0d",
   "metadata": {
    "execution": {
     "iopub.execute_input": "2024-11-07T05:10:47.490866Z",
     "iopub.status.busy": "2024-11-07T05:10:47.489829Z",
     "iopub.status.idle": "2024-11-07T05:10:48.323260Z",
     "shell.execute_reply": "2024-11-07T05:10:48.322094Z"
    },
    "papermill": {
     "duration": 0.880639,
     "end_time": "2024-11-07T05:10:48.326308",
     "exception": false,
     "start_time": "2024-11-07T05:10:47.445669",
     "status": "completed"
    },
    "tags": []
   },
   "outputs": [],
   "source": [
    "# Contar ocorrências de cada categoria\n",
    "\n",
    "sleep_counts = df['Sleep Duration'].value_counts()\n",
    "\n",
    "\n",
    "\n",
    "# Substituir categorias com menos de 15 ocorrências por '5-6 hours'\n",
    "\n",
    "df['Sleep Duration'] = df['Sleep Duration'].apply(lambda x: x if sleep_counts[x] >= 15 else '5-6 hours')"
   ]
  },
  {
   "cell_type": "code",
   "execution_count": 84,
   "id": "5b992f24",
   "metadata": {
    "execution": {
     "iopub.execute_input": "2024-11-07T05:10:48.417873Z",
     "iopub.status.busy": "2024-11-07T05:10:48.416861Z",
     "iopub.status.idle": "2024-11-07T05:10:48.451503Z",
     "shell.execute_reply": "2024-11-07T05:10:48.450316Z"
    },
    "papermill": {
     "duration": 0.082815,
     "end_time": "2024-11-07T05:10:48.454096",
     "exception": false,
     "start_time": "2024-11-07T05:10:48.371281",
     "status": "completed"
    },
    "tags": []
   },
   "outputs": [
    {
     "data": {
      "text/plain": [
       "Sleep Duration\n",
       "Less than 5 hours    38781\n",
       "7-8 hours            36968\n",
       "More than 8 hours    32724\n",
       "5-6 hours            32217\n",
       "Name: count, dtype: int64"
      ]
     },
     "execution_count": 84,
     "metadata": {},
     "output_type": "execute_result"
    }
   ],
   "source": [
    "df['Sleep Duration'].value_counts()"
   ]
  },
  {
   "cell_type": "code",
   "execution_count": 85,
   "id": "09087a76",
   "metadata": {
    "execution": {
     "iopub.execute_input": "2024-11-07T05:10:48.543314Z",
     "iopub.status.busy": "2024-11-07T05:10:48.542899Z",
     "iopub.status.idle": "2024-11-07T05:10:49.101027Z",
     "shell.execute_reply": "2024-11-07T05:10:49.099845Z"
    },
    "papermill": {
     "duration": 0.606215,
     "end_time": "2024-11-07T05:10:49.103785",
     "exception": false,
     "start_time": "2024-11-07T05:10:48.497570",
     "status": "completed"
    },
    "tags": []
   },
   "outputs": [],
   "source": [
    "# Contar ocorrências de cada categoria\n",
    "\n",
    "sleep_counts = test['Sleep Duration'].value_counts()\n",
    "\n",
    "\n",
    "\n",
    "# Substituir categorias com menos de 15 ocorrências por '5-6 hours'\n",
    "\n",
    "test['Sleep Duration'] = test['Sleep Duration'].apply(lambda x: x if sleep_counts[x] >= 15 else '5-6 hours')"
   ]
  },
  {
   "cell_type": "code",
   "execution_count": 86,
   "id": "f899022d",
   "metadata": {
    "execution": {
     "iopub.execute_input": "2024-11-07T05:10:49.193474Z",
     "iopub.status.busy": "2024-11-07T05:10:49.193012Z",
     "iopub.status.idle": "2024-11-07T05:10:49.218872Z",
     "shell.execute_reply": "2024-11-07T05:10:49.217553Z"
    },
    "papermill": {
     "duration": 0.074002,
     "end_time": "2024-11-07T05:10:49.221335",
     "exception": false,
     "start_time": "2024-11-07T05:10:49.147333",
     "status": "completed"
    },
    "tags": []
   },
   "outputs": [
    {
     "data": {
      "text/plain": [
       "Sleep Duration\n",
       "Less than 5 hours    25661\n",
       "7-8 hours            24491\n",
       "More than 8 hours    22190\n",
       "5-6 hours            21458\n",
       "Name: count, dtype: int64"
      ]
     },
     "execution_count": 86,
     "metadata": {},
     "output_type": "execute_result"
    }
   ],
   "source": [
    "test['Sleep Duration'].value_counts()"
   ]
  },
  {
   "cell_type": "code",
   "execution_count": 87,
   "id": "23bb2756",
   "metadata": {
    "execution": {
     "iopub.execute_input": "2024-11-07T05:10:49.310924Z",
     "iopub.status.busy": "2024-11-07T05:10:49.310459Z",
     "iopub.status.idle": "2024-11-07T05:10:49.442624Z",
     "shell.execute_reply": "2024-11-07T05:10:49.441493Z"
    },
    "papermill": {
     "duration": 0.180641,
     "end_time": "2024-11-07T05:10:49.445585",
     "exception": false,
     "start_time": "2024-11-07T05:10:49.264944",
     "status": "completed"
    },
    "tags": []
   },
   "outputs": [
    {
     "name": "stderr",
     "output_type": "stream",
     "text": [
      "/tmp/ipykernel_18/62835239.py:19: FutureWarning: Downcasting behavior in `replace` is deprecated and will be removed in a future version. To retain the old behavior, explicitly call `result.infer_objects(copy=False)`. To opt-in to the future behavior, set `pd.set_option('future.no_silent_downcasting', True)`\n",
      "  df['Sleep Duration'] = df['Sleep Duration'].replace(replacements)\n"
     ]
    }
   ],
   "source": [
    "# Criar um dicionário de substituições\n",
    "\n",
    "replacements = {\n",
    "\n",
    "    'Less than 5 hours': 5,\n",
    "\n",
    "    '7-8 hours': 7,\n",
    "\n",
    "    'More than 8 hours': 8,\n",
    "\n",
    "    '5-6 hours': 6\n",
    "\n",
    "}\n",
    "\n",
    "\n",
    "\n",
    "# Substituir os valores de acordo com o dicionário\n",
    "\n",
    "df['Sleep Duration'] = df['Sleep Duration'].replace(replacements)\n"
   ]
  },
  {
   "cell_type": "code",
   "execution_count": 88,
   "id": "9af77057",
   "metadata": {
    "execution": {
     "iopub.execute_input": "2024-11-07T05:10:49.536492Z",
     "iopub.status.busy": "2024-11-07T05:10:49.536031Z",
     "iopub.status.idle": "2024-11-07T05:10:49.549119Z",
     "shell.execute_reply": "2024-11-07T05:10:49.547930Z"
    },
    "papermill": {
     "duration": 0.062145,
     "end_time": "2024-11-07T05:10:49.551963",
     "exception": false,
     "start_time": "2024-11-07T05:10:49.489818",
     "status": "completed"
    },
    "tags": []
   },
   "outputs": [
    {
     "data": {
      "text/plain": [
       "Sleep Duration\n",
       "5    38781\n",
       "7    36968\n",
       "8    32724\n",
       "6    32217\n",
       "Name: count, dtype: int64"
      ]
     },
     "execution_count": 88,
     "metadata": {},
     "output_type": "execute_result"
    }
   ],
   "source": [
    "df['Sleep Duration'].value_counts()"
   ]
  },
  {
   "cell_type": "code",
   "execution_count": 89,
   "id": "96d64b0a",
   "metadata": {
    "execution": {
     "iopub.execute_input": "2024-11-07T05:10:49.642138Z",
     "iopub.status.busy": "2024-11-07T05:10:49.641684Z",
     "iopub.status.idle": "2024-11-07T05:10:49.733803Z",
     "shell.execute_reply": "2024-11-07T05:10:49.732701Z"
    },
    "papermill": {
     "duration": 0.14033,
     "end_time": "2024-11-07T05:10:49.736540",
     "exception": false,
     "start_time": "2024-11-07T05:10:49.596210",
     "status": "completed"
    },
    "tags": []
   },
   "outputs": [
    {
     "name": "stderr",
     "output_type": "stream",
     "text": [
      "/tmp/ipykernel_18/254610215.py:3: FutureWarning: Downcasting behavior in `replace` is deprecated and will be removed in a future version. To retain the old behavior, explicitly call `result.infer_objects(copy=False)`. To opt-in to the future behavior, set `pd.set_option('future.no_silent_downcasting', True)`\n",
      "  test['Sleep Duration'] = test['Sleep Duration'].replace(replacements)\n"
     ]
    }
   ],
   "source": [
    "\n",
    "\n",
    "# Substituir os valores de acordo com o dicionário\n",
    "\n",
    "test['Sleep Duration'] = test['Sleep Duration'].replace(replacements)\n"
   ]
  },
  {
   "cell_type": "code",
   "execution_count": 90,
   "id": "88276cd0",
   "metadata": {
    "execution": {
     "iopub.execute_input": "2024-11-07T05:10:49.827544Z",
     "iopub.status.busy": "2024-11-07T05:10:49.827074Z",
     "iopub.status.idle": "2024-11-07T05:10:49.837715Z",
     "shell.execute_reply": "2024-11-07T05:10:49.836534Z"
    },
    "papermill": {
     "duration": 0.05907,
     "end_time": "2024-11-07T05:10:49.840302",
     "exception": false,
     "start_time": "2024-11-07T05:10:49.781232",
     "status": "completed"
    },
    "tags": []
   },
   "outputs": [
    {
     "data": {
      "text/plain": [
       "Sleep Duration\n",
       "5    25661\n",
       "7    24491\n",
       "8    22190\n",
       "6    21458\n",
       "Name: count, dtype: int64"
      ]
     },
     "execution_count": 90,
     "metadata": {},
     "output_type": "execute_result"
    }
   ],
   "source": [
    "test['Sleep Duration'].value_counts()"
   ]
  },
  {
   "cell_type": "code",
   "execution_count": 91,
   "id": "e6f1b42a",
   "metadata": {
    "execution": {
     "iopub.execute_input": "2024-11-07T05:10:49.934683Z",
     "iopub.status.busy": "2024-11-07T05:10:49.933483Z",
     "iopub.status.idle": "2024-11-07T05:10:50.085064Z",
     "shell.execute_reply": "2024-11-07T05:10:50.083808Z"
    },
    "papermill": {
     "duration": 0.201571,
     "end_time": "2024-11-07T05:10:50.087744",
     "exception": false,
     "start_time": "2024-11-07T05:10:49.886173",
     "status": "completed"
    },
    "tags": []
   },
   "outputs": [
    {
     "data": {
      "text/plain": [
       "id                                       0\n",
       "Name                                     0\n",
       "Gender                                   0\n",
       "Age                                      0\n",
       "City                                     0\n",
       "Working Professional or Student          0\n",
       "Profession                               0\n",
       "Pressure                                 0\n",
       "CGPA                                     0\n",
       "Satisfaction                             0\n",
       "Sleep Duration                           0\n",
       "Dietary Habits                           0\n",
       "Degree                                   0\n",
       "Have you ever had suicidal thoughts ?    0\n",
       "Work/Study Hours                         0\n",
       "Financial Stress                         0\n",
       "Family History of Mental Illness         0\n",
       "Depression                               0\n",
       "dtype: int64"
      ]
     },
     "execution_count": 91,
     "metadata": {},
     "output_type": "execute_result"
    }
   ],
   "source": [
    "df.isnull().sum()"
   ]
  },
  {
   "cell_type": "code",
   "execution_count": 92,
   "id": "98942421",
   "metadata": {
    "execution": {
     "iopub.execute_input": "2024-11-07T05:10:50.182914Z",
     "iopub.status.busy": "2024-11-07T05:10:50.181664Z",
     "iopub.status.idle": "2024-11-07T05:10:50.209777Z",
     "shell.execute_reply": "2024-11-07T05:10:50.208072Z"
    },
    "papermill": {
     "duration": 0.079978,
     "end_time": "2024-11-07T05:10:50.212816",
     "exception": false,
     "start_time": "2024-11-07T05:10:50.132838",
     "status": "completed"
    },
    "tags": []
   },
   "outputs": [
    {
     "data": {
      "text/plain": [
       "Dietary Habits\n",
       "Moderate     33048\n",
       "Unhealthy    30786\n",
       "Healthy      29966\n",
       "Name: count, dtype: int64"
      ]
     },
     "execution_count": 92,
     "metadata": {},
     "output_type": "execute_result"
    }
   ],
   "source": [
    "test['Dietary Habits'].value_counts()"
   ]
  },
  {
   "cell_type": "code",
   "execution_count": 93,
   "id": "e5af7ccb",
   "metadata": {
    "execution": {
     "iopub.execute_input": "2024-11-07T05:10:50.315760Z",
     "iopub.status.busy": "2024-11-07T05:10:50.314463Z",
     "iopub.status.idle": "2024-11-07T05:10:50.344470Z",
     "shell.execute_reply": "2024-11-07T05:10:50.343145Z"
    },
    "papermill": {
     "duration": 0.086056,
     "end_time": "2024-11-07T05:10:50.347601",
     "exception": false,
     "start_time": "2024-11-07T05:10:50.261545",
     "status": "completed"
    },
    "tags": []
   },
   "outputs": [
    {
     "data": {
      "text/plain": [
       "Degree\n",
       "Class 12    9812\n",
       "B.Ed        7762\n",
       "B.Arch      6037\n",
       "B.Com       5439\n",
       "B.Pharm     3987\n",
       "BCA         3869\n",
       "M.Ed        3707\n",
       "MCA         3438\n",
       "BBA         3387\n",
       "BSc         3314\n",
       "LLM         3133\n",
       "MSc         3096\n",
       "M.Tech      3017\n",
       "M.Pharm     2995\n",
       "LLB         2938\n",
       "B.Tech      2885\n",
       "BHM         2776\n",
       "BA          2490\n",
       "MBA         2470\n",
       "ME          2391\n",
       "MD          2289\n",
       "BE          2166\n",
       "MHM         2149\n",
       "M.Com       2128\n",
       "PhD         2073\n",
       "MBBS        2033\n",
       "MA          1933\n",
       "Outros        86\n",
       "Name: count, dtype: int64"
      ]
     },
     "execution_count": 93,
     "metadata": {},
     "output_type": "execute_result"
    }
   ],
   "source": [
    "test['Degree'].value_counts()"
   ]
  },
  {
   "cell_type": "code",
   "execution_count": 94,
   "id": "54c2b40a",
   "metadata": {
    "execution": {
     "iopub.execute_input": "2024-11-07T05:10:50.445098Z",
     "iopub.status.busy": "2024-11-07T05:10:50.443529Z",
     "iopub.status.idle": "2024-11-07T05:10:50.457645Z",
     "shell.execute_reply": "2024-11-07T05:10:50.456138Z"
    },
    "papermill": {
     "duration": 0.065512,
     "end_time": "2024-11-07T05:10:50.460322",
     "exception": false,
     "start_time": "2024-11-07T05:10:50.394810",
     "status": "completed"
    },
    "tags": []
   },
   "outputs": [
    {
     "data": {
      "text/plain": [
       "Work/Study Hours\n",
       "10.0    9450\n",
       "11.0    8555\n",
       "9.0     8315\n",
       "0.0     8132\n",
       "12.0    7657\n",
       "2.0     7083\n",
       "6.0     7029\n",
       "7.0     6646\n",
       "1.0     6525\n",
       "3.0     6261\n",
       "5.0     6118\n",
       "4.0     6079\n",
       "8.0     5950\n",
       "Name: count, dtype: int64"
      ]
     },
     "execution_count": 94,
     "metadata": {},
     "output_type": "execute_result"
    }
   ],
   "source": [
    "test['Work/Study Hours'].value_counts()"
   ]
  },
  {
   "cell_type": "code",
   "execution_count": 95,
   "id": "c97ef487",
   "metadata": {
    "execution": {
     "iopub.execute_input": "2024-11-07T05:10:50.557473Z",
     "iopub.status.busy": "2024-11-07T05:10:50.556997Z",
     "iopub.status.idle": "2024-11-07T05:10:50.571123Z",
     "shell.execute_reply": "2024-11-07T05:10:50.569907Z"
    },
    "papermill": {
     "duration": 0.066926,
     "end_time": "2024-11-07T05:10:50.573872",
     "exception": false,
     "start_time": "2024-11-07T05:10:50.506946",
     "status": "completed"
    },
    "tags": []
   },
   "outputs": [
    {
     "data": {
      "text/plain": [
       "Work/Study Hours\n",
       "10.0    14199\n",
       "11.0    12831\n",
       "9.0     12709\n",
       "0.0     12066\n",
       "12.0    11407\n",
       "2.0     10595\n",
       "6.0     10431\n",
       "7.0      9872\n",
       "1.0      9802\n",
       "3.0      9473\n",
       "5.0      9336\n",
       "4.0      9063\n",
       "8.0      8906\n",
       "Name: count, dtype: int64"
      ]
     },
     "execution_count": 95,
     "metadata": {},
     "output_type": "execute_result"
    }
   ],
   "source": [
    "df['Work/Study Hours'].value_counts()"
   ]
  },
  {
   "cell_type": "code",
   "execution_count": 96,
   "id": "7f29db6f",
   "metadata": {
    "execution": {
     "iopub.execute_input": "2024-11-07T05:10:50.667259Z",
     "iopub.status.busy": "2024-11-07T05:10:50.666843Z",
     "iopub.status.idle": "2024-11-07T05:10:50.678404Z",
     "shell.execute_reply": "2024-11-07T05:10:50.677316Z"
    },
    "papermill": {
     "duration": 0.061298,
     "end_time": "2024-11-07T05:10:50.681051",
     "exception": false,
     "start_time": "2024-11-07T05:10:50.619753",
     "status": "completed"
    },
    "tags": []
   },
   "outputs": [
    {
     "data": {
      "text/plain": [
       "Financial Stress\n",
       "2.0    21151\n",
       "5.0    18694\n",
       "4.0    18453\n",
       "1.0    18341\n",
       "3.0    17161\n",
       "Name: count, dtype: int64"
      ]
     },
     "execution_count": 96,
     "metadata": {},
     "output_type": "execute_result"
    }
   ],
   "source": [
    "test['Financial Stress'].value_counts()"
   ]
  },
  {
   "cell_type": "code",
   "execution_count": 97,
   "id": "eb67828c",
   "metadata": {
    "execution": {
     "iopub.execute_input": "2024-11-07T05:10:50.776575Z",
     "iopub.status.busy": "2024-11-07T05:10:50.776095Z",
     "iopub.status.idle": "2024-11-07T05:10:50.810836Z",
     "shell.execute_reply": "2024-11-07T05:10:50.809646Z"
    },
    "papermill": {
     "duration": 0.084814,
     "end_time": "2024-11-07T05:10:50.813516",
     "exception": false,
     "start_time": "2024-11-07T05:10:50.728702",
     "status": "completed"
    },
    "tags": []
   },
   "outputs": [
    {
     "data": {
      "text/plain": [
       "Family History of Mental Illness\n",
       "No     70753\n",
       "Yes    69937\n",
       "Name: count, dtype: int64"
      ]
     },
     "execution_count": 97,
     "metadata": {},
     "output_type": "execute_result"
    }
   ],
   "source": [
    "df['Family History of Mental Illness'].value_counts()"
   ]
  },
  {
   "cell_type": "code",
   "execution_count": 98,
   "id": "33118227",
   "metadata": {
    "execution": {
     "iopub.execute_input": "2024-11-07T05:10:50.911421Z",
     "iopub.status.busy": "2024-11-07T05:10:50.910391Z",
     "iopub.status.idle": "2024-11-07T05:10:50.937115Z",
     "shell.execute_reply": "2024-11-07T05:10:50.935714Z"
    },
    "papermill": {
     "duration": 0.077757,
     "end_time": "2024-11-07T05:10:50.939769",
     "exception": false,
     "start_time": "2024-11-07T05:10:50.862012",
     "status": "completed"
    },
    "tags": []
   },
   "outputs": [
    {
     "data": {
      "text/plain": [
       "Family History of Mental Illness\n",
       "No     47118\n",
       "Yes    46682\n",
       "Name: count, dtype: int64"
      ]
     },
     "execution_count": 98,
     "metadata": {},
     "output_type": "execute_result"
    }
   ],
   "source": [
    "test['Family History of Mental Illness'].value_counts()"
   ]
  },
  {
   "cell_type": "code",
   "execution_count": 99,
   "id": "53079a40",
   "metadata": {
    "execution": {
     "iopub.execute_input": "2024-11-07T05:10:51.036069Z",
     "iopub.status.busy": "2024-11-07T05:10:51.035480Z",
     "iopub.status.idle": "2024-11-07T05:10:51.047300Z",
     "shell.execute_reply": "2024-11-07T05:10:51.046057Z"
    },
    "papermill": {
     "duration": 0.063831,
     "end_time": "2024-11-07T05:10:51.050685",
     "exception": false,
     "start_time": "2024-11-07T05:10:50.986854",
     "status": "completed"
    },
    "tags": []
   },
   "outputs": [
    {
     "data": {
      "text/plain": [
       "Depression\n",
       "0    115127\n",
       "1     25563\n",
       "Name: count, dtype: int64"
      ]
     },
     "execution_count": 99,
     "metadata": {},
     "output_type": "execute_result"
    }
   ],
   "source": [
    "df['Depression'].value_counts()"
   ]
  },
  {
   "cell_type": "code",
   "execution_count": 100,
   "id": "bb1d6737",
   "metadata": {
    "execution": {
     "iopub.execute_input": "2024-11-07T05:10:51.148349Z",
     "iopub.status.busy": "2024-11-07T05:10:51.147865Z",
     "iopub.status.idle": "2024-11-07T05:10:51.201295Z",
     "shell.execute_reply": "2024-11-07T05:10:51.199746Z"
    },
    "papermill": {
     "duration": 0.105,
     "end_time": "2024-11-07T05:10:51.204396",
     "exception": false,
     "start_time": "2024-11-07T05:10:51.099396",
     "status": "completed"
    },
    "tags": []
   },
   "outputs": [],
   "source": [
    "ts = test.copy()"
   ]
  },
  {
   "cell_type": "code",
   "execution_count": 101,
   "id": "655625d6",
   "metadata": {
    "execution": {
     "iopub.execute_input": "2024-11-07T05:10:51.301915Z",
     "iopub.status.busy": "2024-11-07T05:10:51.301408Z",
     "iopub.status.idle": "2024-11-07T05:10:51.309662Z",
     "shell.execute_reply": "2024-11-07T05:10:51.308316Z"
    },
    "papermill": {
     "duration": 0.061625,
     "end_time": "2024-11-07T05:10:51.312801",
     "exception": false,
     "start_time": "2024-11-07T05:10:51.251176",
     "status": "completed"
    },
    "tags": []
   },
   "outputs": [
    {
     "data": {
      "text/plain": [
       "((140690, 18), (93800, 17))"
      ]
     },
     "execution_count": 101,
     "metadata": {},
     "output_type": "execute_result"
    }
   ],
   "source": [
    "df.shape,ts.shape"
   ]
  },
  {
   "cell_type": "code",
   "execution_count": 102,
   "id": "dff78240",
   "metadata": {
    "execution": {
     "iopub.execute_input": "2024-11-07T05:10:51.409740Z",
     "iopub.status.busy": "2024-11-07T05:10:51.409279Z",
     "iopub.status.idle": "2024-11-07T05:10:51.448734Z",
     "shell.execute_reply": "2024-11-07T05:10:51.447061Z"
    },
    "papermill": {
     "duration": 0.091277,
     "end_time": "2024-11-07T05:10:51.451881",
     "exception": false,
     "start_time": "2024-11-07T05:10:51.360604",
     "status": "completed"
    },
    "tags": []
   },
   "outputs": [],
   "source": [
    "df=df.drop(['id','Name'],axis =1)\n",
    "\n",
    "ts=ts.drop(['id','Name'],axis =1)"
   ]
  },
  {
   "cell_type": "markdown",
   "id": "b73f202f",
   "metadata": {
    "papermill": {
     "duration": 0.047664,
     "end_time": "2024-11-07T05:10:51.546983",
     "exception": false,
     "start_time": "2024-11-07T05:10:51.499319",
     "status": "completed"
    },
    "tags": []
   },
   "source": [
    "# CATBOOST"
   ]
  },
  {
   "cell_type": "code",
   "execution_count": 103,
   "id": "31169675",
   "metadata": {
    "execution": {
     "iopub.execute_input": "2024-11-07T05:10:51.643582Z",
     "iopub.status.busy": "2024-11-07T05:10:51.643109Z",
     "iopub.status.idle": "2024-11-07T05:18:55.743133Z",
     "shell.execute_reply": "2024-11-07T05:18:55.741770Z"
    },
    "papermill": {
     "duration": 484.198583,
     "end_time": "2024-11-07T05:18:55.792865",
     "exception": false,
     "start_time": "2024-11-07T05:10:51.594282",
     "status": "completed"
    },
    "tags": []
   },
   "outputs": [
    {
     "name": "stdout",
     "output_type": "stream",
     "text": [
      "Mean Accuracy: 0.9391\n",
      "Std Deviation: 0.0019\n"
     ]
    }
   ],
   "source": [
    "# Importando as bibliotecas necessárias\n",
    "\n",
    "from catboost import CatBoostClassifier, Pool\n",
    "\n",
    "from sklearn.model_selection import StratifiedKFold\n",
    "\n",
    "import pandas as pd\n",
    "\n",
    "import numpy as np\n",
    "\n",
    "\n",
    "\n",
    "# Definindo variáveis de entrada (X) e variável alvo (y)\n",
    "\n",
    "X = df.drop(columns=['Depression'])  # Remova 'target' do conjunto de variáveis independentes\n",
    "\n",
    "y = df['Depression']\n",
    "\n",
    "\n",
    "\n",
    "# Listando os nomes ou índices das colunas categóricas\n",
    "\n",
    "categorical_features = ['Gender', 'City','Working Professional or Student','Profession','Dietary Habits','Degree','Have you ever had suicidal thoughts ?','Family History of Mental Illness']  # Exemplo: ['coluna1', 'coluna2']\n",
    "\n",
    "\n",
    "\n",
    "# Definindo o modelo CatBoost\n",
    "\n",
    "model = CatBoostClassifier(\n",
    "\n",
    "    iterations=1000,           # Número de iterações (ajuste conforme necessário)\n",
    "\n",
    "    learning_rate=0.1,         # Taxa de aprendizado\n",
    "\n",
    "    depth=6,                   # Profundidade da árvore\n",
    "\n",
    "    loss_function='Logloss',   # Função de perda para classificação binária\n",
    "\n",
    "    eval_metric='Accuracy',    # Métrica de avaliação\n",
    "\n",
    "    verbose=0                  # Evitar saída detalhada\n",
    "\n",
    ")\n",
    "\n",
    "\n",
    "\n",
    "# Configurando a validação cruzada\n",
    "\n",
    "kf = StratifiedKFold(n_splits=5, shuffle=True, random_state=42)\n",
    "\n",
    "accuracies = []\n",
    "\n",
    "\n",
    "\n",
    "for train_index, test_index in kf.split(X, y):\n",
    "\n",
    "    X_train, X_test = X.iloc[train_index], X.iloc[test_index]\n",
    "\n",
    "    y_train, y_test = y.iloc[train_index], y.iloc[test_index]\n",
    "\n",
    "    \n",
    "\n",
    "    # Criando Pool para treinamento e teste\n",
    "\n",
    "    train_pool = Pool(data=X_train, label=y_train, cat_features=categorical_features)\n",
    "\n",
    "    test_pool = Pool(data=X_test, label=y_test, cat_features=categorical_features)\n",
    "\n",
    "    \n",
    "\n",
    "    # Treinando o modelo\n",
    "\n",
    "    model.fit(train_pool)\n",
    "\n",
    "    \n",
    "\n",
    "    # Avaliando no conjunto de teste\n",
    "\n",
    "    accuracy = model.score(test_pool)\n",
    "\n",
    "    accuracies.append(accuracy)\n",
    "\n",
    "\n",
    "\n",
    "# Exibindo a acurácia média e o desvio padrão\n",
    "\n",
    "print(f\"Mean Accuracy: {np.mean(accuracies):.4f}\")\n",
    "\n",
    "print(f\"Std Deviation: {np.std(accuracies):.4f}\")  \n"
   ]
  },
  {
   "cell_type": "code",
   "execution_count": 104,
   "id": "fa0b79ee",
   "metadata": {
    "execution": {
     "iopub.execute_input": "2024-11-07T05:18:55.889455Z",
     "iopub.status.busy": "2024-11-07T05:18:55.888569Z",
     "iopub.status.idle": "2024-11-07T05:18:56.796883Z",
     "shell.execute_reply": "2024-11-07T05:18:56.795347Z"
    },
    "papermill": {
     "duration": 0.960139,
     "end_time": "2024-11-07T05:18:56.799542",
     "exception": false,
     "start_time": "2024-11-07T05:18:55.839403",
     "status": "completed"
    },
    "tags": []
   },
   "outputs": [
    {
     "name": "stdout",
     "output_type": "stream",
     "text": [
      "Predições: [0 0 0 ... 0 1 0]\n",
      "Probabilidades das classes: [[9.99623024e-01 3.76976401e-04]\n",
      " [9.99936534e-01 6.34656346e-05]\n",
      " [9.80255643e-01 1.97443569e-02]\n",
      " ...\n",
      " [9.85535601e-01 1.44643988e-02]\n",
      " [1.40896088e-01 8.59103912e-01]\n",
      " [9.95350576e-01 4.64942440e-03]]\n"
     ]
    }
   ],
   "source": [
    "from catboost import Pool\n",
    "\n",
    "\n",
    "\n",
    "# Crie o Pool para o novo conjunto de dados\n",
    "\n",
    "new_data_pool = Pool(data=ts, cat_features=categorical_features)\n",
    "\n",
    "\n",
    "\n",
    "# Fazer previsões com o modelo treinado\n",
    "\n",
    "predictions = model.predict(new_data_pool)\n",
    "\n",
    "# Para obter a probabilidade de cada classe, use:\n",
    "\n",
    "proba_predictions = model.predict_proba(new_data_pool)\n",
    "\n",
    "\n",
    "\n",
    "# Exibindo as previsões e as probabilidades\n",
    "\n",
    "print(\"Predições:\", predictions)\n",
    "\n",
    "print(\"Probabilidades das classes:\", proba_predictions)\n"
   ]
  },
  {
   "cell_type": "code",
   "execution_count": 105,
   "id": "1f3aeb75",
   "metadata": {
    "execution": {
     "iopub.execute_input": "2024-11-07T05:18:56.897389Z",
     "iopub.status.busy": "2024-11-07T05:18:56.896901Z",
     "iopub.status.idle": "2024-11-07T05:18:56.909972Z",
     "shell.execute_reply": "2024-11-07T05:18:56.908624Z"
    },
    "papermill": {
     "duration": 0.065134,
     "end_time": "2024-11-07T05:18:56.912610",
     "exception": false,
     "start_time": "2024-11-07T05:18:56.847476",
     "status": "completed"
    },
    "tags": []
   },
   "outputs": [
    {
     "data": {
      "text/html": [
       "<div>\n",
       "<style scoped>\n",
       "    .dataframe tbody tr th:only-of-type {\n",
       "        vertical-align: middle;\n",
       "    }\n",
       "\n",
       "    .dataframe tbody tr th {\n",
       "        vertical-align: top;\n",
       "    }\n",
       "\n",
       "    .dataframe thead th {\n",
       "        text-align: right;\n",
       "    }\n",
       "</style>\n",
       "<table border=\"1\" class=\"dataframe\">\n",
       "  <thead>\n",
       "    <tr style=\"text-align: right;\">\n",
       "      <th></th>\n",
       "      <th>id</th>\n",
       "      <th>Depression</th>\n",
       "    </tr>\n",
       "  </thead>\n",
       "  <tbody>\n",
       "    <tr>\n",
       "      <th>0</th>\n",
       "      <td>140700</td>\n",
       "      <td>0</td>\n",
       "    </tr>\n",
       "    <tr>\n",
       "      <th>1</th>\n",
       "      <td>140701</td>\n",
       "      <td>0</td>\n",
       "    </tr>\n",
       "    <tr>\n",
       "      <th>2</th>\n",
       "      <td>140702</td>\n",
       "      <td>0</td>\n",
       "    </tr>\n",
       "    <tr>\n",
       "      <th>3</th>\n",
       "      <td>140703</td>\n",
       "      <td>0</td>\n",
       "    </tr>\n",
       "    <tr>\n",
       "      <th>4</th>\n",
       "      <td>140704</td>\n",
       "      <td>0</td>\n",
       "    </tr>\n",
       "  </tbody>\n",
       "</table>\n",
       "</div>"
      ],
      "text/plain": [
       "       id  Depression\n",
       "0  140700           0\n",
       "1  140701           0\n",
       "2  140702           0\n",
       "3  140703           0\n",
       "4  140704           0"
      ]
     },
     "execution_count": 105,
     "metadata": {},
     "output_type": "execute_result"
    }
   ],
   "source": [
    "sample.head()"
   ]
  },
  {
   "cell_type": "code",
   "execution_count": 106,
   "id": "d00db991",
   "metadata": {
    "execution": {
     "iopub.execute_input": "2024-11-07T05:18:57.011151Z",
     "iopub.status.busy": "2024-11-07T05:18:57.010292Z",
     "iopub.status.idle": "2024-11-07T05:18:57.016364Z",
     "shell.execute_reply": "2024-11-07T05:18:57.015239Z"
    },
    "papermill": {
     "duration": 0.059053,
     "end_time": "2024-11-07T05:18:57.018969",
     "exception": false,
     "start_time": "2024-11-07T05:18:56.959916",
     "status": "completed"
    },
    "tags": []
   },
   "outputs": [],
   "source": [
    "sample['Depression'] = predictions"
   ]
  },
  {
   "cell_type": "code",
   "execution_count": 107,
   "id": "c70ad920",
   "metadata": {
    "execution": {
     "iopub.execute_input": "2024-11-07T05:18:57.116496Z",
     "iopub.status.busy": "2024-11-07T05:18:57.116030Z",
     "iopub.status.idle": "2024-11-07T05:18:57.127226Z",
     "shell.execute_reply": "2024-11-07T05:18:57.125943Z"
    },
    "papermill": {
     "duration": 0.062701,
     "end_time": "2024-11-07T05:18:57.129707",
     "exception": false,
     "start_time": "2024-11-07T05:18:57.067006",
     "status": "completed"
    },
    "tags": []
   },
   "outputs": [
    {
     "data": {
      "text/html": [
       "<div>\n",
       "<style scoped>\n",
       "    .dataframe tbody tr th:only-of-type {\n",
       "        vertical-align: middle;\n",
       "    }\n",
       "\n",
       "    .dataframe tbody tr th {\n",
       "        vertical-align: top;\n",
       "    }\n",
       "\n",
       "    .dataframe thead th {\n",
       "        text-align: right;\n",
       "    }\n",
       "</style>\n",
       "<table border=\"1\" class=\"dataframe\">\n",
       "  <thead>\n",
       "    <tr style=\"text-align: right;\">\n",
       "      <th></th>\n",
       "      <th>id</th>\n",
       "      <th>Depression</th>\n",
       "    </tr>\n",
       "  </thead>\n",
       "  <tbody>\n",
       "    <tr>\n",
       "      <th>0</th>\n",
       "      <td>140700</td>\n",
       "      <td>0</td>\n",
       "    </tr>\n",
       "    <tr>\n",
       "      <th>1</th>\n",
       "      <td>140701</td>\n",
       "      <td>0</td>\n",
       "    </tr>\n",
       "    <tr>\n",
       "      <th>2</th>\n",
       "      <td>140702</td>\n",
       "      <td>0</td>\n",
       "    </tr>\n",
       "    <tr>\n",
       "      <th>3</th>\n",
       "      <td>140703</td>\n",
       "      <td>1</td>\n",
       "    </tr>\n",
       "    <tr>\n",
       "      <th>4</th>\n",
       "      <td>140704</td>\n",
       "      <td>0</td>\n",
       "    </tr>\n",
       "  </tbody>\n",
       "</table>\n",
       "</div>"
      ],
      "text/plain": [
       "       id  Depression\n",
       "0  140700           0\n",
       "1  140701           0\n",
       "2  140702           0\n",
       "3  140703           1\n",
       "4  140704           0"
      ]
     },
     "execution_count": 107,
     "metadata": {},
     "output_type": "execute_result"
    }
   ],
   "source": [
    "sample.head()"
   ]
  },
  {
   "cell_type": "code",
   "execution_count": 108,
   "id": "a2f091da",
   "metadata": {
    "execution": {
     "iopub.execute_input": "2024-11-07T05:18:57.228135Z",
     "iopub.status.busy": "2024-11-07T05:18:57.227675Z",
     "iopub.status.idle": "2024-11-07T05:18:57.232861Z",
     "shell.execute_reply": "2024-11-07T05:18:57.231648Z"
    },
    "papermill": {
     "duration": 0.057914,
     "end_time": "2024-11-07T05:18:57.235379",
     "exception": false,
     "start_time": "2024-11-07T05:18:57.177465",
     "status": "completed"
    },
    "tags": []
   },
   "outputs": [],
   "source": [
    "# Exemplo para salvar um DataFrame df como CSV\n",
    "\n",
    "#sample.to_csv('v1.csv', index=False, encoding='utf-8')"
   ]
  }
 ],
 "metadata": {
  "kaggle": {
   "accelerator": "none",
   "dataSources": [
    {
     "databundleVersionId": 10008389,
     "sourceId": 84895,
     "sourceType": "competition"
    }
   ],
   "dockerImageVersionId": 30786,
   "isGpuEnabled": false,
   "isInternetEnabled": true,
   "language": "python",
   "sourceType": "notebook"
  },
  "kernelspec": {
   "display_name": "Python 3",
   "language": "python",
   "name": "python3"
  },
  "language_info": {
   "codemirror_mode": {
    "name": "ipython",
    "version": 3
   },
   "file_extension": ".py",
   "mimetype": "text/x-python",
   "name": "python",
   "nbconvert_exporter": "python",
   "pygments_lexer": "ipython3",
   "version": "3.10.14"
  },
  "papermill": {
   "default_parameters": {},
   "duration": 513.628999,
   "end_time": "2024-11-07T05:18:58.107298",
   "environment_variables": {},
   "exception": null,
   "input_path": "__notebook__.ipynb",
   "output_path": "__notebook__.ipynb",
   "parameters": {},
   "start_time": "2024-11-07T05:10:24.478299",
   "version": "2.6.0"
  }
 },
 "nbformat": 4,
 "nbformat_minor": 5
}
