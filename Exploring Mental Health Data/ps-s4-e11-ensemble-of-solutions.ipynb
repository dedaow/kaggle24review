{
 "cells": [
  {
   "cell_type": "markdown",
   "id": "ac3f078e",
   "metadata": {
    "papermill": {
     "duration": 0.051469,
     "end_time": "2024-11-07T02:13:06.206924",
     "exception": false,
     "start_time": "2024-11-07T02:13:06.155455",
     "status": "completed"
    },
    "tags": []
   },
   "source": [
    "One of the [outstanding members](https://www.kaggle.com/cdeotte) of the Kaggle community, grandmaster, gives a link to his [**work**](https://www.kaggle.com/code/cdeotte/top-solutions-ensemble-0-947), where he shows the refinement of the prediction using an experimental example. In order to try to refine our predictions at the [Exploring Mental Health Data](https://www.kaggle.com/competitions/playground-series-s4e11/leaderboard) competition.\n",
    "\n",
    "This approach - direct weighing, showed the following results: [Ariel](https://www.kaggle.com/competitions/ariel-data-challenge-2024/leaderboard) - 149[/](https://www.kaggle.com/code/vyacheslavbolotin/stat-ensemble-of-solutions)1152, [PS-S4 E10](https://www.kaggle.com/competitions/playground-series-s4e10/leaderboard) - 166[/](https://www.kaggle.com/code/vyacheslavbolotin/stat-ensemble-of-solutions)3859, [RSNA](https://www.kaggle.com/competitions/rsna-2024-lumbar-spine-degenerative-classification/leaderboard) - 283[/](https://www.kaggle.com/code/vyacheslavbolotin/stat-ensemble-of-solutions)1875, [ISIC](https://www.kaggle.com/competitions/isic-2024-challenge/leaderboard) - 83[/](https://www.kaggle.com/code/vyacheslavbolotin/stat-ensemble-of-solutions)2740, [Connect X](https://www.kaggle.com/competitions/connectx/leaderboard?) - 4[/](https://www.kaggle.com/code/vyacheslavbolotin/stat-ensemble-of-solutions)221. On average, eight percent in our Leaderboard's.\n",
    "\n",
    "Starting from the middle of the [PS-S4 E11](https://www.kaggle.com/competitions/playground-series-s4e11/leaderboard) competition, two more techniques will be added to refine public decisions:\n",
    "1. Techniques and approaches, examples of their work, located in the [collection of works](https://www.kaggle.com/carlmcbrideellis/code) of grandmaster [Carl McBride Ellis](https://www.kaggle.com/carlmcbrideellis), described with good support and experienced examples.\n",
    "2. Technique and approach of the Norwegian master [Mahdi Ravaghi](https://www.kaggle.com/ravaghi), with [numerous examples](https://www.kaggle.com/ravaghi/code) and demonstration of their application in various competitions.\n",
    "\n",
    "So far, there is only one, direct approach has proven itself in the following competitions: 1. [ISIC 2024 - Skin Cancer Detection with 3D-TBP](https://www.kaggle.com/competitions/isic-2024-challenge/code?competitionId=63056&sortBy=scoreDescending&excludeNonAccessedDatasources=true), 2. [RSNA 2024 Lumbar Spine Degenerative Classification](https://www.kaggle.com/competitions/rsna-2024-lumbar-spine-degenerative-classification/code?competitionId=71549&sortBy=scoreAscending&excludeNonAccessedDatasources=true), 3. [NeurIPS - Ariel Data Challenge 2024](https://www.kaggle.com/competitions/ariel-data-challenge-2024/code?competitionId=70367&sortBy=scoreDescending&excludeNonAccessedDatasources=true), 4. [Child Mind Institute — Problematic Internet Use](https://www.kaggle.com/competitions/child-mind-institute-problematic-internet-use/code?competitionId=81933&sortBy=scoreDescending&excludeNonAccessedDatasources=true), 5. [BrisT1D Blood Glucose Prediction Competition](https://www.kaggle.com/competitions/brist1d/code?competitionId=82611&sortBy=scoreAscending&excludeNonAccessedDatasources=true), 6. [Eedi - Mining Misconceptions in Mathematics](https://www.kaggle.com/competitions/eedi-mining-misconceptions-in-mathematics/code?competitionId=82695&sortBy=scoreDescending&excludeNonAccessedDatasources=true), 7. [Connect X](https://www.kaggle.com/competitions/connectx/leaderboard?), 8. [Loan Approval Prediction {PS-S4.E10}](https://www.kaggle.com/competitions/brist1d/code), 9. [Jane Street Real-Time Market Data Forecasting](https://www.kaggle.com/competitions/jane-street-real-time-market-data-forecasting/code?competitionId=84493&sortBy=scoreDescending&excludeNonAccessedDatasources=true), 10. [UM - Game-Playing Strength of MCTS Variants](https://www.kaggle.com/competitions/um-game-playing-strength-of-mcts-variants/code?competitionId=70089&sortBy=scoreAscending&excludeNonAccessedDatasources=true)\n",
    "\n",
    "And accordingly in the following notebooks: 1. [ISIC | Ensemble of solutions](https://www.kaggle.com/code/vyacheslavbolotin/isic-2024-ensemble-of-solutions), 2. [RSNA | Ensemble of solutions](https://www.kaggle.com/code/vyacheslavbolotin/rsna-ensemble-of-solutions), 3. [Ariel | Ensemble of solutions](https://www.kaggle.com/code/vyacheslavbolotin/ariel-ensemble-of-solutions), 4. [CMI | Ensemble of solutions](https://www.kaggle.com/code/vyacheslavbolotin/cmi-ensemble-of-solutions), 5. [*BrisT1D* | Ensemble of solutions](https://www.kaggle.com/code/vyacheslavbolotin/brist1d-ensemble-of-solutions), 6. [Eedi | Ensemble of solutions](https://www.kaggle.com/code/vyacheslavbolotin/eedi-ensemble-of-solutions), 7. [agents Connect X](https://www.kaggle.com/code/vyacheslavbolotin/agents-connect-x), 8. [PS-S4.E10 | Ensemble of solutions](https://www.kaggle.com/code/vyacheslavbolotin/pss4e10-ensemble-of-solutions), 9. [Jane Street | Ensemble of solutions](https://www.kaggle.com/code/vyacheslavbolotin/jane-street-ensemble-of-solutions), 10. [MCTS | Ensemble of solutions](https://www.kaggle.com/code/vyacheslavbolotin/mcts-ensemble-of-solutions/)\n",
    "\n",
    "<br />\n",
    "\n",
    "This notebook is divided into two parts, you see the second half, here is the [first half](https://www.kaggle.com/code/vyacheslavbolotin/ps-s4-e11-ensemble-of-solutions-first-glance)\n",
    "\n",
    "<br />\n",
    "\n",
    "#### PS-S4 E11 | Exploring Mental Health Data | Ensemble of solutions:\n",
    "* &nbsp;&nbsp;**[1]()** Lb=[0.94307](), World [Mental health | Catboost | First place](https://www.kaggle.com/code/igorvolianiuk/mental-health-catboost-first-place) by expert [Igor Volianiuk](https://www.kaggle.com/igorvolianiuk) [1]\n",
    "* &nbsp;&nbsp;**[3]()** Lb=[0.94248](), India [Mental Health Autogluon](https://www.kaggle.com/code/dheerajcl/mental-health-autogluon) by contributor [Dheeraj](https://www.kaggle.com/dheerajcl)\n",
    "* &nbsp;&nbsp;**[5]()** Lb=[0.94264](), Australia [Mental Health | Starter](https://www.kaggle.com/code/backpaker/mental-health-starter) by expert [Backpacker](https://www.kaggle.com/backpaker) [1]\n",
    "* &nbsp;&nbsp;[**6**]() Lb=[0.94237](), England [🙁 Mental Health Quick Start 📊](https://www.kaggle.com/code/gkitchen/mental-health-quick-start) by master [Wonderer](https://www.kaggle.com/gkitchen)\n",
    "* [**10**]() Lb=[0.94131](), Bangladesh [AutoML | H2o | Baseline](https://www.kaggle.com/code/syednazmussakib/automl-h2o-baseline) by expert [Syed Nazmus Sakib](https://www.kaggle.com/syednazmussakib)\n",
    "* [**11**]() Lb=[0.94365](https://www.kaggle.com/code/igorvolianiuk/mental-health-eda-modeling-shap?scriptVersionId=204825931), World [Mental Health | EDA + Modeling + SHAP](https://www.kaggle.com/code/igorvolianiuk/mental-health-eda-modeling-shap), by expert [Igor Volianiuk](https://www.kaggle.com/igorvolianiuk) [2]\n",
    "* [**12**]() Lb=[0.94371](), World [Mental Health - Depression Classification](https://www.kaggle.com/code/ahsuna123/mental-health-depression-classification) by expert [AC](https://www.kaggle.com/ahsuna123)\n",
    "* [**14**]() Lb=[0.94349](), India [100000 % EASY || CATBoost CHILL ,No Depression](https://www.kaggle.com/code/sunilkumarmuduli/100000-easy-catboost-chill-no-depression),  by contributor [SUNIL KUMAR MUDULI](https://www.kaggle.com/sunilkumarmuduli)\n",
    "* [**15**]() Lb=[0.94339](), Australia [Mental Health | Starter](https://www.kaggle.com/code/backpaker/mental-health-starter),  by expert [Backpacker](https://www.kaggle.com/backpaker) [2]\n",
    "* [**18**]() Lb=[0.94371](), Pakistan [EMH | CatBoost Only](https://www.kaggle.com/code/abdmental01/emh-catboost-only), V[7](),  by grandmaster [Sheikh Muhammad Abdullah](https://www.kaggle.com/abdmental01)\n",
    "* [**19**]() Lb=[0.94339](), Pakistan [EMH | CatBoost Only](https://www.kaggle.com/code/abdmental01/emh-catboost-only), V[8](),  by grandmaster [Sheikh Muhammad Abdullah](https://www.kaggle.com/abdmental01)\n",
    "* [**20**]() Lb=[0.94264](), Norway [S04E11 | Depression Prediction | Ensemble](https://www.kaggle.com/code/ravaghi/s04e11-depression-prediction-ensemble), by master [Mahdi Ravaghi](https://www.kaggle.com/ravaghi)\n",
    "\n",
    "\n",
    "#### options\n",
    "- Lb=[0.94259](https://www.kaggle.com/code/vyacheslavbolotin/ps-s4-e11-ensemble-of-solutions?scriptVersionId=204715465) option.1, [v01](https://www.kaggle.com/code/vyacheslavbolotin/ps-s4-e11-ensemble-of-solutions?scriptVersionId=204715465) -> solutions.( [**1**](),[**6**]() ), weight.( 0.600 + 0.400 )\n",
    "- Lb=[0.94269](https://www.kaggle.com/code/vyacheslavbolotin/ps-s4-e11-ensemble-of-solutions?scriptVersionId=204715518) option.2, [v02](https://www.kaggle.com/code/vyacheslavbolotin/ps-s4-e11-ensemble-of-solutions?scriptVersionId=204715518) -> solutions.( [**1**](),[**6**]() ), weight.( 0.500 + 0.500 )\n",
    "- Lb=[0.94237](https://www.kaggle.com/code/vyacheslavbolotin/ps-s4-e11-ensemble-of-solutions?scriptVersionId=204715586) option.3, [v03](https://www.kaggle.com/code/vyacheslavbolotin/ps-s4-e11-ensemble-of-solutions?scriptVersionId=204715586) -> solutions.( [**1**](),[**6**]() ), weight.( 0.400 + 0.600 )\n",
    "- Lb=[0.94317](https://www.kaggle.com/code/vyacheslavbolotin/ps-s4-e11-ensemble-of-solutions?scriptVersionId=204720733) option.4, [v06](https://www.kaggle.com/code/vyacheslavbolotin/ps-s4-e11-ensemble-of-solutions?scriptVersionId=204720733) -> solutions.( [**1**](),[**6**]() ), weight.( round( 0.50+0.50 )*0.33 + 0.33 + 0.33 )\n",
    "- \n",
    "- Lb=[0.94125](https://www.kaggle.com/code/vyacheslavbolotin/ps-s4-e11-ensemble-of-solutions?scriptVersionId=204769661) option.5, [v08](https://www.kaggle.com/code/vyacheslavbolotin/ps-s4-e11-ensemble-of-solutions?scriptVersionId=204769661) -> solutions.( [**7**](),[**8**]() ), weight.( 0.600 + 0.400 )\n",
    "- Lb=[0.94275](https://www.kaggle.com/code/vyacheslavbolotin/ps-s4-e11-ensemble-of-solutions?scriptVersionId=204769732) option.6, [v09](https://www.kaggle.com/code/vyacheslavbolotin/ps-s4-e11-ensemble-of-solutions?scriptVersionId=204769732) -> solutions.( [**7**](),[**8**]() ), weight.( 0.500 + 0.500 )\n",
    "- Lb=[0.94339](https://www.kaggle.com/code/vyacheslavbolotin/ps-s4-e11-ensemble-of-solutions?scriptVersionId=204770559) option.7, [v10](https://www.kaggle.com/code/vyacheslavbolotin/ps-s4-e11-ensemble-of-solutions?scriptVersionId=204770559) -> solutions.( [**7**](),[**8**]() ), weight.( 0.400 + 0.600 )\n",
    "- Lb=[0.94312](https://www.kaggle.com/code/vyacheslavbolotin/ps-s4-e11-ensemble-of-solutions?scriptVersionId=204775084) option.9, [v12](https://www.kaggle.com/code/vyacheslavbolotin/ps-s4-e11-ensemble-of-solutions?scriptVersionId=204775084) -> solutions.( [**7**](),[**8**]() ), weight.( round( 0.50+0.50 )*0.33 + 0.33 + 0.33 )\n",
    "- \n",
    "- Lb=[0.94365](https://www.kaggle.com/code/vyacheslavbolotin/ps-s4-e11-ensemble-of-solutions?scriptVersionId=204947912) option.10, [v17](https://www.kaggle.com/code/vyacheslavbolotin/ps-s4-e11-ensemble-of-solutions?scriptVersionId=204947912) -> solutions.( [**11**](),[**12**]() ), weight.( 0.600 + 0.400 )\n",
    "- Lb=[0.94328](https://www.kaggle.com/code/vyacheslavbolotin/ps-s4-e11-ensemble-of-solutions?scriptVersionId=204948955) option.11, [v18](https://www.kaggle.com/code/vyacheslavbolotin/ps-s4-e11-ensemble-of-solutions?scriptVersionId=204948955) -> solutions.( [**11**](),[**12**]() ), weight.( 0.500 + 0.500 )\n",
    "- Lb=[0.94328](https://www.kaggle.com/code/vyacheslavbolotin/ps-s4-e11-ensemble-of-solutions?scriptVersionId=204955614) option.12, [v19](https://www.kaggle.com/code/vyacheslavbolotin/ps-s4-e11-ensemble-of-solutions?scriptVersionId=204955614)  -> solutions.( [**11**](),[**12**]() ), weight.( 0.400 + 0.600 )\n",
    "- Lb=0.943?? option. 13, v?? -> solutions.( [**11**](),[**12**]() ), weight.( round( 0.50+0.50 )*0.34 + 0.33 + 0.33 )\n",
    "-  \n",
    "- Lb=[0.94365](https://www.kaggle.com/code/vyacheslavbolotin/ps-s4-e11-ensemble-of-solutions?scriptVersionId=205124293) option.14, [v21](https://www.kaggle.com/code/vyacheslavbolotin/ps-s4-e11-ensemble-of-solutions?scriptVersionId=205124293) -> solutions.( [**11**](),[**14**]() ), weight.( 0.600 + 0.400 )\n",
    "- Lb=[0.94349](https://www.kaggle.com/code/vyacheslavbolotin/ps-s4-e11-ensemble-of-solutions?scriptVersionId=205134558) option.14, [v22](https://www.kaggle.com/code/vyacheslavbolotin/ps-s4-e11-ensemble-of-solutions?scriptVersionId=205134558) -> solutions.( [**11**](),[**14**]() ), weight.( 0.500 + 0.500 )\n",
    "- Lb=[0.94349](https://www.kaggle.com/code/vyacheslavbolotin/ps-s4-e11-ensemble-of-solutions?scriptVersionId=205143795) option.14, [v23](https://www.kaggle.com/code/vyacheslavbolotin/ps-s4-e11-ensemble-of-solutions?scriptVersionId=205143795) -> solutions.( [**11**](),[**14**]() ), weight.( 0.400 + 0.600 )\n",
    "- Lb=[0.94323](https://www.kaggle.com/code/vyacheslavbolotin/ps-s4-e11-ensemble-of-solutions?scriptVersionId=205152896) option.14, [v24](https://www.kaggle.com/code/vyacheslavbolotin/ps-s4-e11-ensemble-of-solutions?scriptVersionId=205152896) -> solutions.( [**11**](),[**14**]() ), weight.( round( 0.50+0.50 )*0.33 + 0.33 + 0.34 )\n",
    "- \n",
    "- Lb=[0.94259](https://www.kaggle.com/code/vyacheslavbolotin/ps-s4-e11-ensemble-of-solutions?scriptVersionId=204942466) option.15, [v15](https://www.kaggle.com/code/vyacheslavbolotin/ps-s4-e11-ensemble-of-solutions?scriptVersionId=204942466) -> solutions.( [**5**](), [**9**](), [**10**]() )\n",
    "- Lb=[0.94307](https://www.kaggle.com/code/vyacheslavbolotin/ps-s4-e11-ensemble-of-solutions?scriptVersionId=204966551) option.16, [v20](https://www.kaggle.com/code/vyacheslavbolotin/ps-s4-e11-ensemble-of-solutions?scriptVersionId=204966551) -> solutions.( [**11**](),[**12**](),[**8**]() )\n",
    "- \n",
    "- Lb=[0.94349](https://www.kaggle.com/code/vyacheslavbolotin/ps-s4-e11-ensemble-of-solutions?scriptVersionId=205163979) option.17, [v25](https://www.kaggle.com/code/vyacheslavbolotin/ps-s4-e11-ensemble-of-solutions?scriptVersionId=205163979) -> solutions.( [**1**](),[**8**](),[**11**](),[**12**](),[**15**]() )\n",
    "- \n",
    "- Lb=[0.94344](https://www.kaggle.com/code/vyacheslavbolotin/ps-s4-e11-ensemble-of-solutions?scriptVersionId=205295486) option.19, [v30](https://www.kaggle.com/code/vyacheslavbolotin/ps-s4-e11-ensemble-of-solutions?scriptVersionId=205295486) -> solutions.( [**14**](), [**12**]() ), weight.( 0.600 + 0.400 )\n",
    "- \n",
    "- Lb=[0.94333](https://www.kaggle.com/code/vyacheslavbolotin/ps-s4-e11-ensemble-of-solutions?scriptVersionId=205315025) option.18, [v34](https://www.kaggle.com/code/vyacheslavbolotin/ps-s4-e11-ensemble-of-solutions?scriptVersionId=205315025) -> solutions.( [**5**](), [**11**](), [**15**]() ) + weight ( 0.33+0.33+0.34 ) &nbsp;[[0.94264]()+[0.94365]()+[0.94339]()]\n",
    "- Lb=[0.94339](https://www.kaggle.com/code/vyacheslavbolotin/ps-s4-e11-ensemble-of-solutions?scriptVersionId=205314007) option.18, [v33](https://www.kaggle.com/code/vyacheslavbolotin/ps-s4-e11-ensemble-of-solutions?scriptVersionId=205314007) -> solutions.( [**5**](), [**12**](), [**15**]() ) + weight ( 0.33+0.33+0.34 ) &nbsp;[[0.94264]()+[0.94371]()+[0.94339]()]\n",
    "- \n",
    "- Lb=[0.94307](https://www.kaggle.com/code/vyacheslavbolotin/ps-s4-e11-ensemble-of-solutions?scriptVersionId=205490423) option.21, [v37](https://www.kaggle.com/code/vyacheslavbolotin/ps-s4-e11-ensemble-of-solutions?scriptVersionId=205490423) -> solutions.( [**5**](), [**11**](),[**12**](), [**15**]() ) + weight ( 0.25+0.25+0.25+0.25 )\n",
    "- Lb=[0.94333](https://www.kaggle.com/code/vyacheslavbolotin/ps-s4-e11-ensemble-of-solutions?scriptVersionId=205500916) option.22, [v38](https://www.kaggle.com/code/vyacheslavbolotin/ps-s4-e11-ensemble-of-solutions?scriptVersionId=205500916) -> solutions.( [**5**](), [**11**](),[**12**](), [**15**]() ) + weight ( 0.30+0.20+0.20+0.30 )\n",
    "- Lb=[0.94355](https://www.kaggle.com/code/vyacheslavbolotin/ps-s4-e11-ensemble-of-solutions?scriptVersionId=205500983) option.23, [v39](https://www.kaggle.com/code/vyacheslavbolotin/ps-s4-e11-ensemble-of-solutions?scriptVersionId=205500983) -> solutions.( [**5**](), [**11**](),[**12**](), [**15**]() ) + weight ( 0.20+0.30+0.30+0.20 )\n",
    "- Lb=[0.93365](https://www.kaggle.com/code/vyacheslavbolotin/ps-s4-e11-ensemble-of-solutions?scriptVersionId=205509697) option.24, [v40](https://www.kaggle.com/code/vyacheslavbolotin/ps-s4-e11-ensemble-of-solutions?scriptVersionId=205509697) -> solutions.( [**5**](), [**11**](),[**12**](), [**15**]() ) + weight ( 0.10+0.20+0.30+0.40 )\n",
    "- Lb=[0.94317](https://www.kaggle.com/code/vyacheslavbolotin/ps-s4-e11-ensemble-of-solutions?scriptVersionId=205509749) option.25, [v41](https://www.kaggle.com/code/vyacheslavbolotin/ps-s4-e11-ensemble-of-solutions?scriptVersionId=205509749) -> solutions.( [**5**](), [**11**](),[**12**](), [**15**]() ) + weight ( 0.40+0.30+0.20+0.10 )\n",
    "- \n",
    "- Lb=[0.94344](https://www.kaggle.com/code/vyacheslavbolotin/ps-s4-e11-ensemble-of-solutions?scriptVersionId=205668776) option.26, [v45](https://www.kaggle.com/code/vyacheslavbolotin/ps-s4-e11-ensemble-of-solutions?scriptVersionId=205668776) -> solutions.( [**18**](),[**12**]() ) + weight ( 0.55+0.45 ) &nbsp;[[0.94371]()+[0.94371]()]\n",
    "- Lb=[0.94291](https://www.kaggle.com/code/vyacheslavbolotin/ps-s4-e11-ensemble-of-solutions?scriptVersionId=205669347) option.26, [v46](https://www.kaggle.com/code/vyacheslavbolotin/ps-s4-e11-ensemble-of-solutions?scriptVersionId=205669347) -> solutions.( [**18**](),[**12**]() ) + weight ( 0.50+0.50 ) &nbsp;[[0.94371]()+[0.94371]()]\n",
    "- Lb=[0.94301](https://www.kaggle.com/code/vyacheslavbolotin/ps-s4-e11-ensemble-of-solutions?scriptVersionId=205670148) option.26, [v47](https://www.kaggle.com/code/vyacheslavbolotin/ps-s4-e11-ensemble-of-solutions?scriptVersionId=205670148) -> solutions.( [**18**](),[**12**]() ) + weight ( 0.45+0.55 ) &nbsp;[[0.94371]()+[0.94371]()]\n",
    "\n",
    "\n",
    "#### best rezult\n",
    "- Lb=[0.94365](https://www.kaggle.com/code/vyacheslavbolotin/ps-s4-e11-ensemble-of-solutions?scriptVersionId=204947912) option.10, [v17](https://www.kaggle.com/code/vyacheslavbolotin/ps-s4-e11-ensemble-of-solutions?scriptVersionId=204947912) -> solutions.( [**11**](),[**12**]() ) + weight ( 0.600 + 0.400 ), **best**\n",
    "\n",
    "#### current options\n",
    "- Lb=[0.93365](https://www.kaggle.com/code/vyacheslavbolotin/ps-s4-e11-ensemble-of-solutions?scriptVersionId=205509697) option.24, [v40](https://www.kaggle.com/code/vyacheslavbolotin/ps-s4-e11-ensemble-of-solutions?scriptVersionId=205509697) -> solutions.( [**5**](), [**11**](),[**12**](), [**15**]() ) + weight ( 0.10+0.20+0.30+0.40 ), version.40 + current.version\n",
    "\n",
    "\n",
    "#### next options\n",
    "- Lb=**?** option.27, v49 -> solutions.( [**18**](),[**11**](),[**15**]() ) + weight ( 0.33+0.33+0.34 ) &nbsp;[[0.94371]()+[0.94365]()+[0.94339]()]\n",
    "- Lb=**?** option.27, v51 -> solutions.( [**18**](),[**12**](),[**15**]() ) + weight ( 0.33+0.33+0.34 ) &nbsp;[[0.94371]()+[0.94371]()+[0.94339]()]\n",
    "- \n",
    "- Lb=**?** option.29, v52 -> solutions.( [**18**](), [**11**](),[**12**](), [**15**]() ) + weight (  0.25+0.25+0.25+0.25 ) &nbsp;[[0.94371]()+[0.94365]()+[0.94371]()+[0.94339]()]\n",
    "- Lb=**?** option.29, v53 -> solutions.( [**18**](), [**11**](),[**12**](), [**15**]() ) + weight (  0.30+0.20+0.20+0.30 ) &nbsp;[[0.94371]()+[0.94365]()+[0.94371]()+[0.94339]()]\n",
    "- Lb=**?** option.29, v54 -> solutions.( [**18**](), [**11**](),[**12**](), [**15**]() ) + weight (  0.20+0.30+0.30+0.20 ) &nbsp;[[0.94371]()+[0.94365]()+[0.94371]()+[0.94339]()]\n",
    "- Lb=**?** option.29, v55 -> solutions.( [**18**](), [**11**](),[**12**](), [**15**]() ) + weight (   0.10+0.20+0.30+0.40 ) &nbsp;[[0.94371]()+[0.94365]()+[0.94371]()+[0.94339]()]\n",
    "- Lb=**?** option.29, v56 -> solutions.( [**18**](), [**11**](),[**12**](), [**15**]() ) + weight (  0.40+0.30+0.20+0.10 ) &nbsp;[[0.94371]()+[0.94365]()+[0.94371]()+[0.94339]()]\n",
    "- \n",
    "- Lb=**?** option.28, v57 -> solutions.( &nbsp;&nbsp;[**5**](), [**11**](),[**12**](), [**15**]() ) + weight ( 0.05+0.25+0.30+0.30 ) &nbsp;[[0.94264]()+[0.94365]()+[0.94371]()+[0.94339]()]\n",
    "- Lb=**?** option.28, v58 -> solutions.( &nbsp;&nbsp;[**5**](), [**11**](),[**12**](), [**15**]() ) + weight ( 0.01+0.19+0.30+0.48 ) &nbsp;[[0.94264]()+[0.94365]()+[0.94371]()+[0.94339]()]\n",
    "- \n",
    "- iScheme\n",
    "- iScheme + weights\n",
    "- huge overkill, ML required"
   ]
  },
  {
   "cell_type": "markdown",
   "id": "12dd2cc2",
   "metadata": {
    "papermill": {
     "duration": 0.048799,
     "end_time": "2024-11-07T02:13:06.306405",
     "exception": false,
     "start_time": "2024-11-07T02:13:06.257606",
     "status": "completed"
    },
    "tags": []
   },
   "source": [
    "At the end of the competition, all data will be grouped and presented in the usual tables. [Stat | Ensemble of solutions](https://www.kaggle.com/code/vyacheslavbolotin/stat-ensemble-of-solutions)"
   ]
  },
  {
   "cell_type": "markdown",
   "id": "f3df9cc2",
   "metadata": {
    "papermill": {
     "duration": 0.048772,
     "end_time": "2024-11-07T02:13:06.405532",
     "exception": false,
     "start_time": "2024-11-07T02:13:06.356760",
     "status": "completed"
    },
    "tags": []
   },
   "source": [
    "## Ensembles of solutions"
   ]
  },
  {
   "cell_type": "code",
   "execution_count": 1,
   "id": "9001907f",
   "metadata": {
    "execution": {
     "iopub.execute_input": "2024-11-07T02:13:06.505101Z",
     "iopub.status.busy": "2024-11-07T02:13:06.504688Z",
     "iopub.status.idle": "2024-11-07T02:13:06.515919Z",
     "shell.execute_reply": "2024-11-07T02:13:06.515145Z"
    },
    "papermill": {
     "duration": 0.063606,
     "end_time": "2024-11-07T02:13:06.517992",
     "exception": false,
     "start_time": "2024-11-07T02:13:06.454386",
     "status": "completed"
    },
    "tags": []
   },
   "outputs": [],
   "source": [
    "\n",
    "#FILES_SUBM          = ['subm_18.csv','subm_11.csv','subm_15.csv']\n",
    "#ENSEMBLE_SOLUTIONS  = ['SOLUTION_18','SOLUTION_11','SOLUTION_15']\n",
    "#OPTION, WEIGHTS     = 'option 27', [0.330, 0.330, 0.340]\n",
    "\n",
    "OPTION, WEIGHTS     = 'option 27', [0.330, 0.330, 0.340]\n",
    "ENSEMBLE_SOLUTIONS  = ['SOLUTION_18','SOLUTION_12','SOLUTION_15']\n",
    "FILES_SUBM          = ['subm_18.csv','subm_12.csv','subm_15.csv']\n",
    "\n",
    "# - - - - - - - - - - - - - - - - - - - - - - - - - - - - - - - - -\n",
    "\n",
    "#FILES_SUBM         = ['subm_18.csv','subm_11.csv','subm_12.csv','subm_15.csv']\n",
    "#ENSEMBLE_SOLUTIONS = ['SOLUTION_18','SOLUTION_11','SOLUTION_12','SOLUTION_15']\n",
    "\n",
    "#OPTION, WEIGHTS     = 'option 29', [0.25, 0.25, 0.25, 0.25]\n",
    "#OPTION, WEIGHTS     = 'option 29', [0.30, 0.20, 0.20, 0.30]\n",
    "#OPTION, WEIGHTS     = 'option 29', [0.20, 0.30, 0.30, 0.20]\n",
    "#OPTION, WEIGHTS     = 'option 29', [0.10, 0.20, 0.30, 0.40]\n",
    "#OPTION, WEIGHTS     = 'option 29', [0.40, 0.30, 0.20, 0.10]"
   ]
  },
  {
   "cell_type": "code",
   "execution_count": 2,
   "id": "d9289a07",
   "metadata": {
    "execution": {
     "iopub.execute_input": "2024-11-07T02:13:06.618939Z",
     "iopub.status.busy": "2024-11-07T02:13:06.618538Z",
     "iopub.status.idle": "2024-11-07T02:13:06.628026Z",
     "shell.execute_reply": "2024-11-07T02:13:06.627137Z"
    },
    "papermill": {
     "duration": 0.06157,
     "end_time": "2024-11-07T02:13:06.630036",
     "exception": false,
     "start_time": "2024-11-07T02:13:06.568466",
     "status": "completed"
    },
    "tags": []
   },
   "outputs": [],
   "source": [
    "if len(WEIGHTS) == 4:\n",
    "\n",
    "    def ensemble_of_solutions(\n",
    "            option     = OPTION, \n",
    "            solution   = ENSEMBLE_SOLUTIONS, \n",
    "            weights    = WEIGHTS, \n",
    "            files_subm = FILES_SUBM):\n",
    "\n",
    "        sm0 = pd.read_csv(files_subm[0])\n",
    "        sm1 = pd.read_csv(files_subm[1])\n",
    "        sm2 = pd.read_csv(files_subm[2])\n",
    "        sm3 = pd.read_csv(files_subm[3])\n",
    "\n",
    "        sm0 = sm0.rename(columns={'Depression': 'Depression_0'})\n",
    "        sm1 = sm1.rename(columns={'Depression': 'Depression_1'})\n",
    "        sm2 = sm2.rename(columns={'Depression': 'Depression_2'})\n",
    "        sm3 = sm3.rename(columns={'Depression': 'Depression_3'})\n",
    "\n",
    "        sms = pd.merge(sm0,sm1,on=['id'])\n",
    "        sms = pd.merge(sms,sm2,on=['id'])\n",
    "        sms = pd.merge(sms,sm3,on=['id'])\n",
    "\n",
    "        sms['Depression'] =\\\n",
    "            round(sms['Depression_0']* weights[0] +\\\n",
    "                  sms['Depression_1']* weights[1] +\\\n",
    "                  sms['Depression_2']* weights[2] +\\\n",
    "                  sms['Depression_3']* weights[3])      \n",
    "\n",
    "        print('\\n',option)\n",
    "        print('\\n',solution,weights)\n",
    "        display(sms)\n",
    "        return sms,option,solution,weights"
   ]
  },
  {
   "cell_type": "code",
   "execution_count": 3,
   "id": "f2f33b6a",
   "metadata": {
    "_kg_hide-input": true,
    "_kg_hide-output": true,
    "execution": {
     "iopub.execute_input": "2024-11-07T02:13:06.730569Z",
     "iopub.status.busy": "2024-11-07T02:13:06.730197Z",
     "iopub.status.idle": "2024-11-07T02:13:06.743014Z",
     "shell.execute_reply": "2024-11-07T02:13:06.742137Z"
    },
    "papermill": {
     "duration": 0.065655,
     "end_time": "2024-11-07T02:13:06.745024",
     "exception": false,
     "start_time": "2024-11-07T02:13:06.679369",
     "status": "completed"
    },
    "tags": []
   },
   "outputs": [],
   "source": [
    "if len(WEIGHTS) == 3:\n",
    "\n",
    "    def ensemble_of_solutions(\n",
    "            option     = OPTION, \n",
    "            solution   = ENSEMBLE_SOLUTIONS, \n",
    "            weights    = WEIGHTS, \n",
    "            files_subm = FILES_SUBM):\n",
    "\n",
    "        sm0 = pd.read_csv(files_subm[0])\n",
    "        sm1 = pd.read_csv(files_subm[1])\n",
    "        sm2 = pd.read_csv(files_subm[2])\n",
    "\n",
    "        sm0 = sm0.rename(columns={'Depression': 'Depression_0'})\n",
    "        sm1 = sm1.rename(columns={'Depression': 'Depression_1'})\n",
    "        sm2 = sm2.rename(columns={'Depression': 'Depression_2'})\n",
    "\n",
    "        sms = pd.merge(sm0,sm1,on=['id'])\n",
    "        sms = pd.merge(sms,sm2,on=['id'])\n",
    "\n",
    "        sms['Depression'] =\\\n",
    "            round(weights[0] * sms['Depression_0']+\\\n",
    "                  weights[1] * sms['Depression_1']+\\\n",
    "                  weights[2] * sms['Depression_2'])      \n",
    "\n",
    "        print('\\n',option,solution,weights)\n",
    "        display(sms)\n",
    "        return sms,option,solution,weights\n",
    "    \n",
    "    \n",
    "if len(WEIGHTS) == 2:\n",
    "    \n",
    "    def ensemble_of_solutions(\n",
    "            option     = OPTION, \n",
    "            solution   = ENSEMBLE_SOLUTIONS, \n",
    "            weights    = WEIGHTS, \n",
    "            files_subm = FILES_SUBM):\n",
    "        \n",
    "        sm0 = pd.read_csv(files_subm[0])\n",
    "        sm1 = pd.read_csv(files_subm[1])\n",
    "        \n",
    "        sm0 = sm0.rename(columns={'Depression': 'Depression_0'})\n",
    "        sm1 = sm1.rename(columns={'Depression': 'Depression_1'})\n",
    "        \n",
    "        sms = pd.merge(sm0,sm1,on=['id'])\n",
    "\n",
    "        if len(weights) == 2:      \n",
    "            sms['Depression'] =\\\n",
    "                round(weights[0] * sms['Depression_0']+\\\n",
    "                      weights[1] * sms['Depression_1'])\n",
    "\n",
    "        elif len(weights) == 3:\n",
    "            sms['Depression'] =\\\n",
    "                round( weights[0] * sms['Depression_0']+\\\n",
    "                       weights[1] * sms['Depression_1']+\\\n",
    "                       weights[2] * round(sms['Depression_0'] *0.5 + 0.5* sms['Depression_1']))\n",
    "\n",
    "        print('\\n',option,solution,weights)\n",
    "        display(sms)\n",
    "        return sms,option,solution,weights"
   ]
  },
  {
   "cell_type": "markdown",
   "id": "ac5cecfb",
   "metadata": {
    "_kg_hide-input": true,
    "_kg_hide-output": true,
    "papermill": {
     "duration": 0.048898,
     "end_time": "2024-11-07T02:13:06.844155",
     "exception": false,
     "start_time": "2024-11-07T02:13:06.795257",
     "status": "completed"
    },
    "tags": []
   },
   "source": [
    "Thank you for visiting my notebook. If you liked the notebook and it was useful for you, don't forget to give it a plus. Thank you!"
   ]
  },
  {
   "cell_type": "markdown",
   "id": "bdd8a8eb",
   "metadata": {
    "papermill": {
     "duration": 0.049237,
     "end_time": "2024-11-07T02:13:06.942465",
     "exception": false,
     "start_time": "2024-11-07T02:13:06.893228",
     "status": "completed"
    },
    "tags": []
   },
   "source": [
    "## 1. [Mental health | Catboost | First place](https://www.kaggle.com/code/igorvolianiuk/mental-health-catboost-first-place), Lb=0.94307\n",
    "### [Igor Volianiuk](https://www.kaggle.com/igorvolianiuk)"
   ]
  },
  {
   "cell_type": "code",
   "execution_count": 4,
   "id": "28db136b",
   "metadata": {
    "_kg_hide-input": true,
    "_kg_hide-output": true,
    "execution": {
     "iopub.execute_input": "2024-11-07T02:13:07.090926Z",
     "iopub.status.busy": "2024-11-07T02:13:07.090562Z",
     "iopub.status.idle": "2024-11-07T02:13:07.096325Z",
     "shell.execute_reply": "2024-11-07T02:13:07.095441Z"
    },
    "papermill": {
     "duration": 0.106818,
     "end_time": "2024-11-07T02:13:07.098207",
     "exception": false,
     "start_time": "2024-11-07T02:13:06.991389",
     "status": "completed"
    },
    "tags": []
   },
   "outputs": [],
   "source": [
    "if 'SOLUTION_1' in ENSEMBLE_SOLUTIONS:\n",
    "\n",
    "    import pandas as pd\n",
    "    import numpy as np\n",
    "    import matplotlib.pyplot as plt\n",
    "    import seaborn as sns\n",
    "    from catboost import Pool, CatBoostClassifier\n",
    "    from sklearn.model_selection import StratifiedKFold\n",
    "    from sklearn.metrics import accuracy_score, f1_score, roc_auc_score\n",
    "    import optuna\n",
    "    from optuna.samplers import TPESampler\n",
    "    import warnings\n",
    "    import shap\n",
    "    warnings.filterwarnings(\"ignore\")"
   ]
  },
  {
   "cell_type": "markdown",
   "id": "802979a7",
   "metadata": {
    "_kg_hide-input": true,
    "_kg_hide-output": true,
    "papermill": {
     "duration": 0.048661,
     "end_time": "2024-11-07T02:13:07.196273",
     "exception": false,
     "start_time": "2024-11-07T02:13:07.147612",
     "status": "completed"
    },
    "tags": []
   },
   "source": [
    "### Read data\n",
    "#### This dataset was collected as part of a comprehensive survey aimed at understanding the factors contributing to depression risk among adults.\n",
    "#### Feature Descriptions\n",
    "1. Name: paticipant's name.\n",
    "\n",
    "2. Gender: paticipant's gender (Male/Female).\n",
    "\n",
    "3. Age: paticipant's age (18-60).\n",
    "\n",
    "4. City: paticipant's city.\n",
    "\n",
    "5. Working Professional or Student: whether the participant is a working professional or a student\n",
    "\n",
    "6. Profession: participant's current profession \n",
    "\n",
    "7. Academic Pressure: academic workload level on a scale from 1 to 5\n",
    "\n",
    "8. Work Pressure: work workload level on a scale from 1 to 5\n",
    "\n",
    "9. CGPA: cumulative grade point average\n",
    "\n",
    "10. Study Satisfaction: participant's satisfaction level with their studies on a scale from 1 to 5\n",
    "\n",
    "11. Job Satisfaction: participant's satisfaction level with their job on a scale from 1 to 5\n",
    "\n",
    "12. Sleep Duration: the average duration of sleep \n",
    "\n",
    "13. Dietary Habits: information about the participant's eating habits\n",
    "\n",
    "14. Degree: the highest degree or qualification obtained by the participant\n",
    "\n",
    "15. Have you ever had suicidal thoughts ?: Yes or No\n",
    "\n",
    "16. Work/Study Hours: average hours spent working or/and studying daily\n",
    "\n",
    "17. Financial Stress: the level of financial stress experienced on a scale from 1 to 5\n",
    "\n",
    "18. Family History of Mental Illness: Yes or No\n",
    "\n",
    "19. Depression: represents whether the participant is at risk of depression (Yes or No), based on their responses to lifestyle and demographic factors."
   ]
  },
  {
   "cell_type": "code",
   "execution_count": 5,
   "id": "099b6659",
   "metadata": {
    "_kg_hide-input": true,
    "_kg_hide-output": true,
    "execution": {
     "iopub.execute_input": "2024-11-07T02:13:07.296374Z",
     "iopub.status.busy": "2024-11-07T02:13:07.295994Z",
     "iopub.status.idle": "2024-11-07T02:13:07.300643Z",
     "shell.execute_reply": "2024-11-07T02:13:07.299785Z"
    },
    "papermill": {
     "duration": 0.057514,
     "end_time": "2024-11-07T02:13:07.302620",
     "exception": false,
     "start_time": "2024-11-07T02:13:07.245106",
     "status": "completed"
    },
    "tags": []
   },
   "outputs": [],
   "source": [
    "if 'SOLUTION_1' in ENSEMBLE_SOLUTIONS:\n",
    "\n",
    "    train = pd.read_csv('/kaggle/input/playground-series-s4e11/train.csv', index_col='id')\n",
    "    train.head()"
   ]
  },
  {
   "cell_type": "code",
   "execution_count": 6,
   "id": "36d8c98d",
   "metadata": {
    "_kg_hide-input": true,
    "_kg_hide-output": true,
    "execution": {
     "iopub.execute_input": "2024-11-07T02:13:07.405004Z",
     "iopub.status.busy": "2024-11-07T02:13:07.404633Z",
     "iopub.status.idle": "2024-11-07T02:13:07.409336Z",
     "shell.execute_reply": "2024-11-07T02:13:07.408435Z"
    },
    "papermill": {
     "duration": 0.057082,
     "end_time": "2024-11-07T02:13:07.411205",
     "exception": false,
     "start_time": "2024-11-07T02:13:07.354123",
     "status": "completed"
    },
    "tags": []
   },
   "outputs": [],
   "source": [
    "if 'SOLUTION_1' in ENSEMBLE_SOLUTIONS:\n",
    "    \n",
    "    test = pd.read_csv('/kaggle/input/playground-series-s4e11/test.csv', index_col='id')\n",
    "    test.head()"
   ]
  },
  {
   "cell_type": "markdown",
   "id": "09576aca",
   "metadata": {
    "_kg_hide-input": true,
    "_kg_hide-output": true,
    "papermill": {
     "duration": 0.048871,
     "end_time": "2024-11-07T02:13:07.509579",
     "exception": false,
     "start_time": "2024-11-07T02:13:07.460708",
     "status": "completed"
    },
    "tags": []
   },
   "source": [
    "### EDA + preprocessing"
   ]
  },
  {
   "cell_type": "code",
   "execution_count": 7,
   "id": "e85d8739",
   "metadata": {
    "_kg_hide-input": true,
    "_kg_hide-output": true,
    "execution": {
     "iopub.execute_input": "2024-11-07T02:13:07.609944Z",
     "iopub.status.busy": "2024-11-07T02:13:07.609111Z",
     "iopub.status.idle": "2024-11-07T02:13:07.614264Z",
     "shell.execute_reply": "2024-11-07T02:13:07.613460Z"
    },
    "papermill": {
     "duration": 0.057436,
     "end_time": "2024-11-07T02:13:07.616251",
     "exception": false,
     "start_time": "2024-11-07T02:13:07.558815",
     "status": "completed"
    },
    "tags": []
   },
   "outputs": [],
   "source": [
    "if 'SOLUTION_1' in ENSEMBLE_SOLUTIONS:\n",
    "    \n",
    "    colors = ['#4780f0', '#e70101']\n",
    "    plt.pie(train.Depression.value_counts(), labels=['Not at Risk', 'At Risk'], autopct=\"%.1f%%\", colors=colors)\n",
    "    plt.title('Target distribution')\n",
    "    plt.show()"
   ]
  },
  {
   "cell_type": "markdown",
   "id": "c3dadaf1",
   "metadata": {
    "_kg_hide-input": true,
    "_kg_hide-output": true,
    "papermill": {
     "duration": 0.049245,
     "end_time": "2024-11-07T02:13:07.714916",
     "exception": false,
     "start_time": "2024-11-07T02:13:07.665671",
     "status": "completed"
    },
    "tags": []
   },
   "source": [
    "Since classes are imbalanced, accuracy is not the best way to evaluate the model performance. We can get 82% accuracy just by constantly predicting 0 on all samples.\n",
    "\n",
    "\n",
    "\n",
    "#### Preprocessing:"
   ]
  },
  {
   "cell_type": "code",
   "execution_count": 8,
   "id": "ae713556",
   "metadata": {
    "_kg_hide-input": true,
    "_kg_hide-output": true,
    "execution": {
     "iopub.execute_input": "2024-11-07T02:13:07.815737Z",
     "iopub.status.busy": "2024-11-07T02:13:07.814971Z",
     "iopub.status.idle": "2024-11-07T02:13:07.820022Z",
     "shell.execute_reply": "2024-11-07T02:13:07.819225Z"
    },
    "papermill": {
     "duration": 0.057888,
     "end_time": "2024-11-07T02:13:07.822020",
     "exception": false,
     "start_time": "2024-11-07T02:13:07.764132",
     "status": "completed"
    },
    "tags": []
   },
   "outputs": [],
   "source": [
    "if 'SOLUTION_1' in ENSEMBLE_SOLUTIONS:\n",
    "    \n",
    "    train = train.fillna('None').astype('string')\n",
    "    test = test.fillna('None').astype('string')\n",
    "\n",
    "    y = train['Depression']\n",
    "    X = train.drop(['Depression'], axis=1)"
   ]
  },
  {
   "cell_type": "markdown",
   "id": "a59356b6",
   "metadata": {
    "_kg_hide-input": true,
    "_kg_hide-output": true,
    "papermill": {
     "duration": 0.049411,
     "end_time": "2024-11-07T02:13:07.920930",
     "exception": false,
     "start_time": "2024-11-07T02:13:07.871519",
     "status": "completed"
    },
    "tags": []
   },
   "source": [
    "### Model\n",
    "\n",
    "I'll be using ROC-AUC and Accuracy to assess the model, actually focusing on ROC-AUC during training."
   ]
  },
  {
   "cell_type": "code",
   "execution_count": 9,
   "id": "7c0e45ca",
   "metadata": {
    "_kg_hide-input": true,
    "_kg_hide-output": true,
    "execution": {
     "iopub.execute_input": "2024-11-07T02:13:08.022216Z",
     "iopub.status.busy": "2024-11-07T02:13:08.021461Z",
     "iopub.status.idle": "2024-11-07T02:13:08.026880Z",
     "shell.execute_reply": "2024-11-07T02:13:08.026016Z"
    },
    "papermill": {
     "duration": 0.058151,
     "end_time": "2024-11-07T02:13:08.028832",
     "exception": false,
     "start_time": "2024-11-07T02:13:07.970681",
     "status": "completed"
    },
    "tags": []
   },
   "outputs": [],
   "source": [
    "if 'SOLUTION_1' in ENSEMBLE_SOLUTIONS:    \n",
    "    \n",
    "    catboost_params = {\n",
    "        'loss_function': 'Logloss',\n",
    "        'eval_metric': 'AUC',\n",
    "        'learning_rate': 0.08114394459649094,\n",
    "        'iterations': 1000,\n",
    "        'depth': 6,\n",
    "        'random_strength':0,\n",
    "        'l2_leaf_reg': 0.7047064221215757,\n",
    "        'task_type':'CPU',\n",
    "        'random_seed':42,\n",
    "        'verbose':False    \n",
    "    }"
   ]
  },
  {
   "cell_type": "code",
   "execution_count": 10,
   "id": "40ccd72e",
   "metadata": {
    "_kg_hide-input": true,
    "_kg_hide-output": true,
    "execution": {
     "iopub.execute_input": "2024-11-07T02:13:08.130209Z",
     "iopub.status.busy": "2024-11-07T02:13:08.129117Z",
     "iopub.status.idle": "2024-11-07T02:13:08.138351Z",
     "shell.execute_reply": "2024-11-07T02:13:08.137588Z"
    },
    "papermill": {
     "duration": 0.062255,
     "end_time": "2024-11-07T02:13:08.140499",
     "exception": false,
     "start_time": "2024-11-07T02:13:08.078244",
     "status": "completed"
    },
    "tags": []
   },
   "outputs": [],
   "source": [
    "if 'SOLUTION_1' in ENSEMBLE_SOLUTIONS:\n",
    "    \n",
    "    cv = StratifiedKFold(5, shuffle=True, random_state=0)\n",
    "    cv_splits = cv.split(X, y)\n",
    "    scores = []\n",
    "    test_preds = []\n",
    "    X_test_pool = Pool(test, cat_features=X.columns.values)\n",
    "    for i, (train_idx, val_idx) in enumerate(cv_splits):\n",
    "        model = CatBoostClassifier(**catboost_params)\n",
    "        X_train_fold, X_val_fold = X.loc[train_idx], X.loc[val_idx]\n",
    "        y_train_fold, y_val_fold = y.loc[train_idx], y.loc[val_idx]\n",
    "        X_train_pool = Pool(X_train_fold, y_train_fold, cat_features=X.columns.values)\n",
    "        X_valid_pool = Pool(X_val_fold, y_val_fold, cat_features=X.columns.values)\n",
    "        model.fit(X=X_train_pool, eval_set=X_valid_pool, verbose=False, early_stopping_rounds=200)\n",
    "        val_pred = model.predict(X_valid_pool)\n",
    "        score = accuracy_score(y_val_fold, val_pred)\n",
    "        scores.append(score)\n",
    "        test_pred = model.predict_proba(X_test_pool)[:, 1]\n",
    "        test_preds.append(test_pred)\n",
    "        print(f'Fold {i + 1} accuracy_score: {score}')\n",
    "    print(f'Cross-validated accuracy_score: {np.mean(scores):.3f} +/- {np.std(scores):.3f}')\n",
    "    print(f'Max accuracy_score score: {np.max(scores):.3f}')\n",
    "    print(f'Min accuracy_score score: {np.min(scores):.3f}')"
   ]
  },
  {
   "cell_type": "markdown",
   "id": "bcd8aa5f",
   "metadata": {
    "_kg_hide-input": true,
    "papermill": {
     "duration": 0.049682,
     "end_time": "2024-11-07T02:13:08.239511",
     "exception": false,
     "start_time": "2024-11-07T02:13:08.189829",
     "status": "completed"
    },
    "tags": []
   },
   "source": [
    "### Submission"
   ]
  },
  {
   "cell_type": "code",
   "execution_count": 11,
   "id": "ce9b877c",
   "metadata": {
    "_kg_hide-input": true,
    "_kg_hide-output": true,
    "execution": {
     "iopub.execute_input": "2024-11-07T02:13:08.341057Z",
     "iopub.status.busy": "2024-11-07T02:13:08.340678Z",
     "iopub.status.idle": "2024-11-07T02:13:08.346026Z",
     "shell.execute_reply": "2024-11-07T02:13:08.345052Z"
    },
    "papermill": {
     "duration": 0.059163,
     "end_time": "2024-11-07T02:13:08.348053",
     "exception": false,
     "start_time": "2024-11-07T02:13:08.288890",
     "status": "completed"
    },
    "tags": []
   },
   "outputs": [],
   "source": [
    "if 'SOLUTION_1' in ENSEMBLE_SOLUTIONS:\n",
    "    \n",
    "    sample_submission = pd.read_csv('/kaggle/input/playground-series-s4e11/sample_submission.csv')\n",
    "    sample_submission['Depression'] = np.round(np.mean(test_preds, axis=0))\n",
    "    sample_submission.to_csv('subm_1.csv', index=False)\n",
    "    sample_submission.head(10)"
   ]
  },
  {
   "cell_type": "markdown",
   "id": "a66e8c1f",
   "metadata": {
    "papermill": {
     "duration": 0.048884,
     "end_time": "2024-11-07T02:13:08.446507",
     "exception": false,
     "start_time": "2024-11-07T02:13:08.397623",
     "status": "completed"
    },
    "tags": []
   },
   "source": [
    "## 3. [Mental Health Autogluon](https://www.kaggle.com/code/dheerajcl/mental-health-autogluon), Lb=0.94248\n",
    "### [Dheeraj](https://www.kaggle.com/dheerajcl)"
   ]
  },
  {
   "cell_type": "code",
   "execution_count": 12,
   "id": "66feef5b",
   "metadata": {
    "_kg_hide-input": true,
    "_kg_hide-output": true,
    "execution": {
     "iopub.execute_input": "2024-11-07T02:13:08.547133Z",
     "iopub.status.busy": "2024-11-07T02:13:08.546740Z",
     "iopub.status.idle": "2024-11-07T02:13:08.552024Z",
     "shell.execute_reply": "2024-11-07T02:13:08.551211Z"
    },
    "papermill": {
     "duration": 0.057925,
     "end_time": "2024-11-07T02:13:08.554031",
     "exception": false,
     "start_time": "2024-11-07T02:13:08.496106",
     "status": "completed"
    },
    "tags": []
   },
   "outputs": [],
   "source": [
    "if 'SOLUTION_3' in ENSEMBLE_SOLUTIONS:\n",
    "    \n",
    "    train = pd.read_csv(\"/kaggle/input/playground-series-s4e11/train.csv\")\n",
    "    test = pd.read_csv(\"/kaggle/input/playground-series-s4e11/test.csv\")\n",
    "\n",
    "    display(train.head(), test.head(), train.info(), train.isnull().sum(), test.info(), test.isnull().sum())"
   ]
  },
  {
   "cell_type": "code",
   "execution_count": 13,
   "id": "bd1fcfe1",
   "metadata": {
    "_kg_hide-input": true,
    "_kg_hide-output": true,
    "execution": {
     "iopub.execute_input": "2024-11-07T02:13:08.655238Z",
     "iopub.status.busy": "2024-11-07T02:13:08.654853Z",
     "iopub.status.idle": "2024-11-07T02:13:08.660956Z",
     "shell.execute_reply": "2024-11-07T02:13:08.660037Z"
    },
    "papermill": {
     "duration": 0.059276,
     "end_time": "2024-11-07T02:13:08.663125",
     "exception": false,
     "start_time": "2024-11-07T02:13:08.603849",
     "status": "completed"
    },
    "tags": []
   },
   "outputs": [],
   "source": [
    "if 'SOLUTION_3' in ENSEMBLE_SOLUTIONS:\n",
    "    \n",
    "    !pip install ray==2.10.0\n",
    "    !pip install autogluon.tabular\n",
    "    !pip install -U ipywidgets"
   ]
  },
  {
   "cell_type": "code",
   "execution_count": 14,
   "id": "ffcfb86e",
   "metadata": {
    "_kg_hide-input": true,
    "_kg_hide-output": true,
    "execution": {
     "iopub.execute_input": "2024-11-07T02:13:08.764125Z",
     "iopub.status.busy": "2024-11-07T02:13:08.763009Z",
     "iopub.status.idle": "2024-11-07T02:13:08.768099Z",
     "shell.execute_reply": "2024-11-07T02:13:08.767314Z"
    },
    "papermill": {
     "duration": 0.057519,
     "end_time": "2024-11-07T02:13:08.770037",
     "exception": false,
     "start_time": "2024-11-07T02:13:08.712518",
     "status": "completed"
    },
    "tags": []
   },
   "outputs": [],
   "source": [
    "if 'SOLUTION_3' in ENSEMBLE_SOLUTIONS:\n",
    "    \n",
    "    train=train.drop(['id'],axis=1)\n",
    "    train.head()"
   ]
  },
  {
   "cell_type": "code",
   "execution_count": 15,
   "id": "d45fe6c4",
   "metadata": {
    "_kg_hide-input": true,
    "_kg_hide-output": true,
    "execution": {
     "iopub.execute_input": "2024-11-07T02:13:08.870573Z",
     "iopub.status.busy": "2024-11-07T02:13:08.869723Z",
     "iopub.status.idle": "2024-11-07T02:13:08.874443Z",
     "shell.execute_reply": "2024-11-07T02:13:08.873544Z"
    },
    "papermill": {
     "duration": 0.056992,
     "end_time": "2024-11-07T02:13:08.876358",
     "exception": false,
     "start_time": "2024-11-07T02:13:08.819366",
     "status": "completed"
    },
    "tags": []
   },
   "outputs": [],
   "source": [
    "if 'SOLUTION_3' in ENSEMBLE_SOLUTIONS:\n",
    "    \n",
    "    test=test.drop(['id'],axis=1)\n",
    "    test.head()"
   ]
  },
  {
   "cell_type": "code",
   "execution_count": 16,
   "id": "37c869cb",
   "metadata": {
    "_kg_hide-input": true,
    "_kg_hide-output": true,
    "execution": {
     "iopub.execute_input": "2024-11-07T02:13:08.977799Z",
     "iopub.status.busy": "2024-11-07T02:13:08.977052Z",
     "iopub.status.idle": "2024-11-07T02:13:08.982885Z",
     "shell.execute_reply": "2024-11-07T02:13:08.982036Z"
    },
    "papermill": {
     "duration": 0.058619,
     "end_time": "2024-11-07T02:13:08.984903",
     "exception": false,
     "start_time": "2024-11-07T02:13:08.926284",
     "status": "completed"
    },
    "tags": []
   },
   "outputs": [],
   "source": [
    "if 'SOLUTION_3' in ENSEMBLE_SOLUTIONS:\n",
    "    \n",
    "    import pandas as pd\n",
    "    from autogluon.tabular import TabularPredictor\n",
    "\n",
    "    predictor = TabularPredictor(\n",
    "        label='Depression',  # Target column\n",
    "        eval_metric='accuracy',  \n",
    "        problem_type='binary'  \n",
    "    ).fit(\n",
    "        train_data=train,  \n",
    "        presets='best_quality', \n",
    "        excluded_model_types=['KNN'],\n",
    "        time_limit=int(3600*1), \n",
    "        verbosity=2,\n",
    "    )\n",
    "\n",
    "    # Output summary of the training process\n",
    "    results = predictor.fit_summary()"
   ]
  },
  {
   "cell_type": "code",
   "execution_count": 17,
   "id": "1d07d624",
   "metadata": {
    "_kg_hide-input": true,
    "_kg_hide-output": true,
    "execution": {
     "iopub.execute_input": "2024-11-07T02:13:09.085607Z",
     "iopub.status.busy": "2024-11-07T02:13:09.084739Z",
     "iopub.status.idle": "2024-11-07T02:13:09.089178Z",
     "shell.execute_reply": "2024-11-07T02:13:09.088288Z"
    },
    "papermill": {
     "duration": 0.056987,
     "end_time": "2024-11-07T02:13:09.091219",
     "exception": false,
     "start_time": "2024-11-07T02:13:09.034232",
     "status": "completed"
    },
    "tags": []
   },
   "outputs": [],
   "source": [
    "if 'SOLUTION_3' in ENSEMBLE_SOLUTIONS:\n",
    "    \n",
    "    predictor.leaderboard()"
   ]
  },
  {
   "cell_type": "code",
   "execution_count": 18,
   "id": "90a40fdb",
   "metadata": {
    "_kg_hide-input": true,
    "_kg_hide-output": true,
    "execution": {
     "iopub.execute_input": "2024-11-07T02:13:09.192601Z",
     "iopub.status.busy": "2024-11-07T02:13:09.192246Z",
     "iopub.status.idle": "2024-11-07T02:13:09.196614Z",
     "shell.execute_reply": "2024-11-07T02:13:09.195710Z"
    },
    "papermill": {
     "duration": 0.057111,
     "end_time": "2024-11-07T02:13:09.198577",
     "exception": false,
     "start_time": "2024-11-07T02:13:09.141466",
     "status": "completed"
    },
    "tags": []
   },
   "outputs": [],
   "source": [
    "if 'SOLUTION_3' in ENSEMBLE_SOLUTIONS:\n",
    "    \n",
    "    test_preds = predictor.predict(test)"
   ]
  },
  {
   "cell_type": "code",
   "execution_count": 19,
   "id": "50ba815d",
   "metadata": {
    "_kg_hide-input": true,
    "_kg_hide-output": true,
    "execution": {
     "iopub.execute_input": "2024-11-07T02:13:09.299300Z",
     "iopub.status.busy": "2024-11-07T02:13:09.298910Z",
     "iopub.status.idle": "2024-11-07T02:13:09.304272Z",
     "shell.execute_reply": "2024-11-07T02:13:09.303327Z"
    },
    "papermill": {
     "duration": 0.058215,
     "end_time": "2024-11-07T02:13:09.306357",
     "exception": false,
     "start_time": "2024-11-07T02:13:09.248142",
     "status": "completed"
    },
    "tags": []
   },
   "outputs": [],
   "source": [
    "if 'SOLUTION_3' in ENSEMBLE_SOLUTIONS:\n",
    "    \n",
    "    sub = pd.read_csv('/kaggle/input/playground-series-s4e11/sample_submission.csv')\n",
    "    sub['Depression'] = test_preds.values\n",
    "    sub.to_csv('subm_3.csv', index=False)\n",
    "    sub.head()"
   ]
  },
  {
   "cell_type": "markdown",
   "id": "29dddcd8",
   "metadata": {
    "papermill": {
     "duration": 0.049552,
     "end_time": "2024-11-07T02:13:09.407018",
     "exception": false,
     "start_time": "2024-11-07T02:13:09.357466",
     "status": "completed"
    },
    "tags": []
   },
   "source": [
    "## 5. [Mental Health | Starter](https://www.kaggle.com/code/backpaker/mental-health-starter), Lb=0.94168\n",
    "### [Backpacker](https://www.kaggle.com/backpaker)"
   ]
  },
  {
   "cell_type": "code",
   "execution_count": 20,
   "id": "99a930d2",
   "metadata": {
    "_kg_hide-input": true,
    "_kg_hide-output": true,
    "execution": {
     "iopub.execute_input": "2024-11-07T02:13:09.507073Z",
     "iopub.status.busy": "2024-11-07T02:13:09.506223Z",
     "iopub.status.idle": "2024-11-07T02:13:09.512835Z",
     "shell.execute_reply": "2024-11-07T02:13:09.511945Z"
    },
    "papermill": {
     "duration": 0.058217,
     "end_time": "2024-11-07T02:13:09.514723",
     "exception": false,
     "start_time": "2024-11-07T02:13:09.456506",
     "status": "completed"
    },
    "tags": []
   },
   "outputs": [],
   "source": [
    "if 'SOLUTION_5' in ENSEMBLE_SOLUTIONS:\n",
    "    \n",
    "    import warnings\n",
    "    warnings.filterwarnings(\"ignore\")\n",
    "\n",
    "    import pandas as pd\n",
    "    import numpy as np\n",
    "\n",
    "    import matplotlib.pyplot as plt\n",
    "    import seaborn as sns\n",
    "\n",
    "    import lightgbm as lgb\n",
    "    from lightgbm import log_evaluation, early_stopping\n",
    "\n",
    "    from catboost import CatBoostClassifier, Pool\n",
    "\n",
    "    from sklearn.metrics import roc_auc_score, accuracy_score\n",
    "\n",
    "    import random\n",
    "    from sklearn.model_selection import KFold , StratifiedKFold\n",
    "    from xgboost import XGBClassifier\n",
    "    import optuna\n",
    "\n",
    "    from sklearn.linear_model import Lasso, Ridge\n",
    "\n",
    "    from sklearn.preprocessing import LabelEncoder, OrdinalEncoder\n",
    "    from sklearn.preprocessing import OneHotEncoder\n",
    "\n",
    "    USE_OPTUNA = False"
   ]
  },
  {
   "cell_type": "markdown",
   "id": "08a888c5",
   "metadata": {
    "_kg_hide-input": true,
    "papermill": {
     "duration": 0.048044,
     "end_time": "2024-11-07T02:13:09.611291",
     "exception": false,
     "start_time": "2024-11-07T02:13:09.563247",
     "status": "completed"
    },
    "tags": []
   },
   "source": [
    "### Encoding category feature into numerical pipeline"
   ]
  },
  {
   "cell_type": "code",
   "execution_count": 21,
   "id": "a87fa8a5",
   "metadata": {
    "_kg_hide-input": true,
    "_kg_hide-output": true,
    "execution": {
     "iopub.execute_input": "2024-11-07T02:13:09.710306Z",
     "iopub.status.busy": "2024-11-07T02:13:09.709477Z",
     "iopub.status.idle": "2024-11-07T02:13:09.714892Z",
     "shell.execute_reply": "2024-11-07T02:13:09.713963Z"
    },
    "papermill": {
     "duration": 0.057132,
     "end_time": "2024-11-07T02:13:09.716880",
     "exception": false,
     "start_time": "2024-11-07T02:13:09.659748",
     "status": "completed"
    },
    "tags": []
   },
   "outputs": [],
   "source": [
    "if 'SOLUTION_5' in ENSEMBLE_SOLUTIONS:\n",
    "    \n",
    "    train = pd.read_csv(\"/kaggle/input/playground-series-s4e11/train.csv\")\n",
    "    test = pd.read_csv(\"/kaggle/input/playground-series-s4e11/test.csv\")\n",
    "    original = pd.read_csv(\"/kaggle/input/depression-surveydataset-for-analysis/final_depression_dataset_1.csv\")\n",
    "\n",
    "    original['Depression'] = original['Depression'].map({'Yes': 1, 'No': 0})\n",
    "    # train = pd.concat([train, original], ignore_index=True)"
   ]
  },
  {
   "cell_type": "markdown",
   "id": "e3b8e41b",
   "metadata": {
    "_kg_hide-input": true,
    "_kg_hide-output": true,
    "papermill": {
     "duration": 0.047949,
     "end_time": "2024-11-07T02:13:09.813180",
     "exception": false,
     "start_time": "2024-11-07T02:13:09.765231",
     "status": "completed"
    },
    "tags": []
   },
   "source": [
    "### Use original data to train a model for stacking"
   ]
  },
  {
   "cell_type": "code",
   "execution_count": 22,
   "id": "8f1f5444",
   "metadata": {
    "_kg_hide-input": true,
    "_kg_hide-output": true,
    "execution": {
     "iopub.execute_input": "2024-11-07T02:13:09.912079Z",
     "iopub.status.busy": "2024-11-07T02:13:09.911426Z",
     "iopub.status.idle": "2024-11-07T02:13:09.926400Z",
     "shell.execute_reply": "2024-11-07T02:13:09.925529Z"
    },
    "papermill": {
     "duration": 0.066295,
     "end_time": "2024-11-07T02:13:09.928409",
     "exception": false,
     "start_time": "2024-11-07T02:13:09.862114",
     "status": "completed"
    },
    "tags": []
   },
   "outputs": [],
   "source": [
    "if 'SOLUTION_5' in ENSEMBLE_SOLUTIONS:\n",
    "    \n",
    "    original = original.fillna('None').astype('string')\n",
    "    train = train.fillna('None').astype('string')\n",
    "    test = train.fillna('None').astype('string')\n",
    "\n",
    "    y = original['Depression']\n",
    "    X = original.drop(['Depression'], axis=1)\n",
    "\n",
    "    catboost_params = {\n",
    "        'loss_function': 'Logloss',\n",
    "        'eval_metric': 'AUC',\n",
    "        'learning_rate': 0.08114394459649094,\n",
    "        'iterations': 1000,\n",
    "        'depth': 6,\n",
    "        'random_strength':0,\n",
    "        'l2_leaf_reg': 0.7047064221215757,\n",
    "        'task_type':'GPU',\n",
    "        'random_seed':42,\n",
    "        'verbose':False    \n",
    "    }\n",
    "\n",
    "    cv = StratifiedKFold(5, shuffle=True, random_state=0)\n",
    "    cv_splits = cv.split(X, y)\n",
    "    scores = []\n",
    "    test_preds = []\n",
    "    models=[]\n",
    "    X_test_pool = Pool(test, cat_features=X.columns.values)\n",
    "    for i, (train_idx, val_idx) in enumerate(cv_splits):\n",
    "        model = CatBoostClassifier(**catboost_params)\n",
    "        X_train_fold, X_val_fold = X.iloc[train_idx], X.iloc[val_idx]\n",
    "        y_train_fold, y_val_fold = y.iloc[train_idx], y.iloc[val_idx]\n",
    "        X_train_pool = Pool(X_train_fold, y_train_fold, cat_features=X.columns.values)\n",
    "        X_valid_pool = Pool(X_val_fold, y_val_fold, cat_features=X.columns.values)\n",
    "        model.fit(X=X_train_pool, eval_set=X_valid_pool, verbose=False, early_stopping_rounds=200)\n",
    "        models.append(model)\n",
    "        val_pred = model.predict(X_valid_pool)\n",
    "        score = accuracy_score(y_val_fold, val_pred)\n",
    "        scores.append(score)\n",
    "    print(score)\n",
    "\n",
    "    train = pd.read_csv(\"/kaggle/input/playground-series-s4e11/train.csv\")\n",
    "    test = pd.read_csv(\"/kaggle/input/playground-series-s4e11/test.csv\")\n",
    "    train = train.fillna('None').astype('string')\n",
    "    test = test.fillna('None').astype('string')\n",
    "\n",
    "    train_preds = np.zeros(train.shape[0])\n",
    "    train_pool = Pool(train.drop(columns=['Depression']), cat_features=X.columns.values)\n",
    "    for model in models:\n",
    "        train_preds += model.predict_proba(train_pool)[:, 1] / len(models)\n",
    "\n",
    "    test_preds = np.zeros(test.shape[0])\n",
    "    test_pool = Pool(test , cat_features=X.columns.values)\n",
    "    for model in models:\n",
    "        test_preds += model.predict_proba(test_pool)[:, 1] / len(models) \n",
    "\n",
    "    train = pd.read_csv(\"/kaggle/input/playground-series-s4e11/train.csv\")\n",
    "    test = pd.read_csv(\"/kaggle/input/playground-series-s4e11/test.csv\")\n",
    "\n",
    "    train['org_oof'] = train_preds\n",
    "    test['org_oof'] = test_preds"
   ]
  },
  {
   "cell_type": "code",
   "execution_count": 23,
   "id": "26a798a8",
   "metadata": {
    "_kg_hide-input": true,
    "_kg_hide-output": true,
    "execution": {
     "iopub.execute_input": "2024-11-07T02:13:10.026642Z",
     "iopub.status.busy": "2024-11-07T02:13:10.025843Z",
     "iopub.status.idle": "2024-11-07T02:13:10.033779Z",
     "shell.execute_reply": "2024-11-07T02:13:10.032862Z"
    },
    "papermill": {
     "duration": 0.059183,
     "end_time": "2024-11-07T02:13:10.035678",
     "exception": false,
     "start_time": "2024-11-07T02:13:09.976495",
     "status": "completed"
    },
    "tags": []
   },
   "outputs": [],
   "source": [
    "if 'SOLUTION_5' in ENSEMBLE_SOLUTIONS:\n",
    "    \n",
    "    cat_cols = test.select_dtypes(include='object').columns\n",
    "\n",
    "    train.drop(columns=['Name','id'] , inplace =True)\n",
    "    test.drop(columns=['Name','id'] , inplace =True)\n",
    "\n",
    "\n",
    "    cat_cols = list(train.select_dtypes(include=['category','object']).columns.tolist())\n",
    "    num_cols = list(train.select_dtypes(include=['int','float']).columns)\n",
    "    if 'Depression' in num_cols:\n",
    "        num_cols.remove('Depression')\n",
    "\n",
    "    train[cat_cols].fillna(\"unknown\",inplace=True)\n",
    "    test[cat_cols].fillna(\"unknown\",inplace=True)\n",
    "\n",
    "    train[num_cols].fillna(999, inplace=True)\n",
    "    test[num_cols].fillna(999, inplace=True)\n",
    "\n",
    "\n",
    "    train[cat_cols] = train[cat_cols].astype('category')\n",
    "    test[cat_cols] = test[cat_cols].astype('category')\n",
    "\n",
    "    feature_cols = cat_cols + num_cols"
   ]
  },
  {
   "cell_type": "code",
   "execution_count": 24,
   "id": "e6144f5b",
   "metadata": {
    "_kg_hide-input": true,
    "_kg_hide-output": true,
    "execution": {
     "iopub.execute_input": "2024-11-07T02:13:10.134598Z",
     "iopub.status.busy": "2024-11-07T02:13:10.133934Z",
     "iopub.status.idle": "2024-11-07T02:13:10.138389Z",
     "shell.execute_reply": "2024-11-07T02:13:10.137500Z"
    },
    "papermill": {
     "duration": 0.056263,
     "end_time": "2024-11-07T02:13:10.140332",
     "exception": false,
     "start_time": "2024-11-07T02:13:10.084069",
     "status": "completed"
    },
    "tags": []
   },
   "outputs": [],
   "source": [
    "if 'SOLUTION_5' in ENSEMBLE_SOLUTIONS: pass\n",
    "    \n",
    "    # nan_ratio = train[feature_cols].isna().mean()\n",
    "    # high_nan_cols = nan_ratio[nan_ratio > 0.7].index.tolist()\n",
    "\n",
    "\n",
    "    # feature_cols = [col for col in feature_cols if col not in high_nan_cols]\n",
    "    # cat_cols = [col for col in cat_cols if col not in high_nan_cols]"
   ]
  },
  {
   "cell_type": "code",
   "execution_count": 25,
   "id": "04d28898",
   "metadata": {
    "_kg_hide-input": true,
    "_kg_hide-output": true,
    "execution": {
     "iopub.execute_input": "2024-11-07T02:13:10.238189Z",
     "iopub.status.busy": "2024-11-07T02:13:10.237862Z",
     "iopub.status.idle": "2024-11-07T02:13:10.249703Z",
     "shell.execute_reply": "2024-11-07T02:13:10.248853Z"
    },
    "papermill": {
     "duration": 0.063198,
     "end_time": "2024-11-07T02:13:10.251728",
     "exception": false,
     "start_time": "2024-11-07T02:13:10.188530",
     "status": "completed"
    },
    "tags": []
   },
   "outputs": [],
   "source": [
    "if 'SOLUTION_5' in ENSEMBLE_SOLUTIONS:\n",
    "    \n",
    "    class CategoricalEncoder:\n",
    "        def __init__(self, train, test):\n",
    "            self.train = train\n",
    "            self.test = test\n",
    "\n",
    "        def one_hot_encode(self, cat_cols, feature_cols):\n",
    "            encoder = OneHotEncoder(sparse_output=False, handle_unknown='ignore')\n",
    "            encoder.fit(self.train[cat_cols])\n",
    "\n",
    "            new_cat_cols = [f'onehot_{i}' for i in range(len(encoder.get_feature_names_out()))]\n",
    "            self.train[new_cat_cols] = encoder.transform(self.train[cat_cols])\n",
    "            self.train[new_cat_cols] = self.train[new_cat_cols].astype('category')\n",
    "\n",
    "            self.test[new_cat_cols] = encoder.transform(self.test[cat_cols])\n",
    "            self.test[new_cat_cols] = self.test[new_cat_cols].astype('category')\n",
    "\n",
    "            for col in cat_cols:\n",
    "                feature_cols.remove(col)\n",
    "            feature_cols.extend(new_cat_cols)\n",
    "\n",
    "            return self.train, self.test, new_cat_cols, feature_cols\n",
    "\n",
    "        def label_encode(self, cat_cols, feature_cols):\n",
    "\n",
    "            encoder = OrdinalEncoder(handle_unknown=\"use_encoded_value\", unknown_value=-1)\n",
    "            self.train[cat_cols] = encoder.fit_transform(self.train[cat_cols]).astype(\"float32\")\n",
    "            self.test[cat_cols] = encoder.transform(self.test[cat_cols]).astype(\"float32\")\n",
    "\n",
    "            return self.train, self.test, cat_cols, feature_cols\n",
    "\n",
    "        def frequency_encode(self, cat_cols, feature_cols, drop_org=False):\n",
    "\n",
    "            new_cat_cols = []\n",
    "            for col in cat_cols:\n",
    "                freq_encoding = self.train[col].value_counts().to_dict()\n",
    "\n",
    "                self.train[f\"{col}_freq\"] = self.train[col].map(freq_encoding).astype('float32')\n",
    "                self.test[f\"{col}_freq\"] = self.test[col].map(freq_encoding).astype('float32')\n",
    "\n",
    "                new_col_name = f\"{col}_freq\"\n",
    "                new_cat_cols.append(col)\n",
    "                feature_cols.append(new_col_name)\n",
    "                if drop_org:\n",
    "                    feature_cols.remove(col)\n",
    "\n",
    "            return self.train, self.test, new_cat_cols, feature_cols"
   ]
  },
  {
   "cell_type": "code",
   "execution_count": 26,
   "id": "aac5bd5b",
   "metadata": {
    "_kg_hide-input": true,
    "_kg_hide-output": true,
    "execution": {
     "iopub.execute_input": "2024-11-07T02:13:10.359904Z",
     "iopub.status.busy": "2024-11-07T02:13:10.359535Z",
     "iopub.status.idle": "2024-11-07T02:13:10.364690Z",
     "shell.execute_reply": "2024-11-07T02:13:10.363772Z"
    },
    "papermill": {
     "duration": 0.064516,
     "end_time": "2024-11-07T02:13:10.366565",
     "exception": false,
     "start_time": "2024-11-07T02:13:10.302049",
     "status": "completed"
    },
    "tags": []
   },
   "outputs": [],
   "source": [
    "if 'SOLUTION_5' in ENSEMBLE_SOLUTIONS:\n",
    "    \n",
    "    encoder = CategoricalEncoder(train, test)\n",
    "    train, test, cat_cols, feature_cols = encoder.frequency_encode(cat_cols, feature_cols,drop_org=False)\n",
    "    train, test, cat_cols, feature_cols = encoder.label_encode(cat_cols, feature_cols)"
   ]
  },
  {
   "cell_type": "code",
   "execution_count": 27,
   "id": "3fc478e3",
   "metadata": {
    "_kg_hide-input": true,
    "_kg_hide-output": true,
    "execution": {
     "iopub.execute_input": "2024-11-07T02:13:10.485182Z",
     "iopub.status.busy": "2024-11-07T02:13:10.484319Z",
     "iopub.status.idle": "2024-11-07T02:13:10.489013Z",
     "shell.execute_reply": "2024-11-07T02:13:10.487981Z"
    },
    "papermill": {
     "duration": 0.073669,
     "end_time": "2024-11-07T02:13:10.491593",
     "exception": false,
     "start_time": "2024-11-07T02:13:10.417924",
     "status": "completed"
    },
    "tags": []
   },
   "outputs": [],
   "source": [
    "# if 'SOLUTION_5' in ENSEMBLE_SOLUTIONS:\n",
    "    \n",
    "    # train = train.fillna('None').astype('string')\n",
    "    # test = test.fillna('None').astype('string')"
   ]
  },
  {
   "cell_type": "code",
   "execution_count": 28,
   "id": "bf737b0c",
   "metadata": {
    "_kg_hide-input": true,
    "_kg_hide-output": true,
    "execution": {
     "iopub.execute_input": "2024-11-07T02:13:10.600212Z",
     "iopub.status.busy": "2024-11-07T02:13:10.599313Z",
     "iopub.status.idle": "2024-11-07T02:13:10.603951Z",
     "shell.execute_reply": "2024-11-07T02:13:10.602981Z"
    },
    "papermill": {
     "duration": 0.061046,
     "end_time": "2024-11-07T02:13:10.605880",
     "exception": false,
     "start_time": "2024-11-07T02:13:10.544834",
     "status": "completed"
    },
    "tags": []
   },
   "outputs": [],
   "source": [
    "if 'SOLUTION_5' in ENSEMBLE_SOLUTIONS:\n",
    "    \n",
    "    train[feature_cols].head()"
   ]
  },
  {
   "cell_type": "code",
   "execution_count": 29,
   "id": "04c1d73c",
   "metadata": {
    "_kg_hide-input": true,
    "_kg_hide-output": true,
    "execution": {
     "iopub.execute_input": "2024-11-07T02:13:10.722950Z",
     "iopub.status.busy": "2024-11-07T02:13:10.722067Z",
     "iopub.status.idle": "2024-11-07T02:13:10.726696Z",
     "shell.execute_reply": "2024-11-07T02:13:10.725825Z"
    },
    "papermill": {
     "duration": 0.067934,
     "end_time": "2024-11-07T02:13:10.728664",
     "exception": false,
     "start_time": "2024-11-07T02:13:10.660730",
     "status": "completed"
    },
    "tags": []
   },
   "outputs": [],
   "source": [
    "if 'SOLUTION_5' in ENSEMBLE_SOLUTIONS:\n",
    "\n",
    "    train[cat_cols].head()"
   ]
  },
  {
   "cell_type": "code",
   "execution_count": 30,
   "id": "f89b1d0a",
   "metadata": {
    "_kg_hide-input": true,
    "_kg_hide-output": true,
    "execution": {
     "iopub.execute_input": "2024-11-07T02:13:10.839382Z",
     "iopub.status.busy": "2024-11-07T02:13:10.838989Z",
     "iopub.status.idle": "2024-11-07T02:13:10.844660Z",
     "shell.execute_reply": "2024-11-07T02:13:10.843812Z"
    },
    "papermill": {
     "duration": 0.062524,
     "end_time": "2024-11-07T02:13:10.846586",
     "exception": false,
     "start_time": "2024-11-07T02:13:10.784062",
     "status": "completed"
    },
    "tags": []
   },
   "outputs": [],
   "source": [
    "if 'SOLUTION_5' in ENSEMBLE_SOLUTIONS:\n",
    "    \n",
    "    def FE(df, feature_cols, cat_cols,if_train=True):\n",
    "        df['job_sat']  = (df['Work Pressure']/df['Job Satisfaction']).astype(\"float\")\n",
    "        df['age_wp'] = (df['Age'] * df['Work Pressure']).astype(\"float\")\n",
    "\n",
    "        if if_train:\n",
    "            feature_cols += ['job_sat','age_wp']\n",
    "\n",
    "        return df, feature_cols, cat_cols"
   ]
  },
  {
   "cell_type": "code",
   "execution_count": 31,
   "id": "40dd601c",
   "metadata": {
    "_kg_hide-input": true,
    "_kg_hide-output": true,
    "execution": {
     "iopub.execute_input": "2024-11-07T02:13:10.946303Z",
     "iopub.status.busy": "2024-11-07T02:13:10.945881Z",
     "iopub.status.idle": "2024-11-07T02:13:10.951419Z",
     "shell.execute_reply": "2024-11-07T02:13:10.950498Z"
    },
    "papermill": {
     "duration": 0.057926,
     "end_time": "2024-11-07T02:13:10.953453",
     "exception": false,
     "start_time": "2024-11-07T02:13:10.895527",
     "status": "completed"
    },
    "tags": []
   },
   "outputs": [],
   "source": [
    "if 'SOLUTION_5' in ENSEMBLE_SOLUTIONS:\n",
    "    \n",
    "    # train['Depression'] = train['Depression'].map({'Yes': 1, 'No': 0 , 1 : 1, 0 : 0})\n",
    "\n",
    "    train , feature_cols, cat_cols= FE(train, feature_cols, cat_cols)\n",
    "    test ,_,_= FE(test, feature_cols, cat_cols,if_train=False)\n",
    "\n",
    "    X = train[feature_cols]\n",
    "    y = train['Depression']"
   ]
  },
  {
   "cell_type": "code",
   "execution_count": 32,
   "id": "3feb9997",
   "metadata": {
    "_kg_hide-input": true,
    "_kg_hide-output": true,
    "execution": {
     "iopub.execute_input": "2024-11-07T02:13:11.052718Z",
     "iopub.status.busy": "2024-11-07T02:13:11.052344Z",
     "iopub.status.idle": "2024-11-07T02:13:11.062727Z",
     "shell.execute_reply": "2024-11-07T02:13:11.061865Z"
    },
    "papermill": {
     "duration": 0.06272,
     "end_time": "2024-11-07T02:13:11.064806",
     "exception": false,
     "start_time": "2024-11-07T02:13:11.002086",
     "status": "completed"
    },
    "tags": []
   },
   "outputs": [],
   "source": [
    "if 'SOLUTION_5' in ENSEMBLE_SOLUTIONS:\n",
    "    \n",
    "    callbacks = [log_evaluation(period=1000), early_stopping(stopping_rounds=250)]\n",
    "   \n",
    "    def objective(trial):\n",
    "\n",
    "        param = {\n",
    "            'objective': 'binary',\n",
    "            'metric': 'auc',\n",
    "            'boosting_type': 'gbdt',\n",
    "            'random_state': 42,\n",
    "            'learning_rate': trial.suggest_loguniform('learning_rate', 0.005, 0.1),\n",
    "            'num_leaves': trial.suggest_int('num_leaves', 20, 150),\n",
    "            'max_depth': trial.suggest_int('max_depth', 6, 15),\n",
    "            'min_data_in_leaf': trial.suggest_int('min_data_in_leaf', 1, 100),\n",
    "            'feature_fraction': trial.suggest_uniform('feature_fraction', 0.4, 0.8),\n",
    "            'bagging_fraction': trial.suggest_uniform('bagging_fraction', 0.4, 0.8),\n",
    "            'bagging_freq': trial.suggest_int('bagging_freq', 1, 5),\n",
    "            'n_estimators': 3000,\n",
    "            'verbose' : -1,\n",
    "            'device':'gpu'\n",
    "        }\n",
    "\n",
    "        kf = KFold(n_splits=5, shuffle=True, random_state=42)\n",
    "        cv_results = []\n",
    "\n",
    "        for train_index, val_index in kf.split(X):\n",
    "            X_train, X_val = X.iloc[train_index], X.iloc[val_index]\n",
    "            y_train, y_val = y.iloc[train_index], y.iloc[val_index]\n",
    "\n",
    "            model = lgb.LGBMClassifier(**param)\n",
    "            model.fit(X_train, y_train,\n",
    "                      eval_set=[(X_val, y_val)],\n",
    "                      eval_metric='logloss',\n",
    "                      callbacks = callbacks\n",
    "\n",
    "                    )\n",
    "\n",
    "            y_pred = model.predict_proba(X_val)[:, 1]\n",
    "            score = roc_auc_score(y_val, y_pred)\n",
    "            cv_results.append(score)\n",
    "\n",
    "        return np.mean(cv_results)"
   ]
  },
  {
   "cell_type": "code",
   "execution_count": 33,
   "id": "923862a3",
   "metadata": {
    "_kg_hide-input": true,
    "_kg_hide-output": true,
    "execution": {
     "iopub.execute_input": "2024-11-07T02:13:11.164968Z",
     "iopub.status.busy": "2024-11-07T02:13:11.164139Z",
     "iopub.status.idle": "2024-11-07T02:13:11.169329Z",
     "shell.execute_reply": "2024-11-07T02:13:11.168442Z"
    },
    "papermill": {
     "duration": 0.057687,
     "end_time": "2024-11-07T02:13:11.171225",
     "exception": false,
     "start_time": "2024-11-07T02:13:11.113538",
     "status": "completed"
    },
    "tags": []
   },
   "outputs": [],
   "source": [
    "if 'SOLUTION_5' in ENSEMBLE_SOLUTIONS:\n",
    "    \n",
    "    if USE_OPTUNA:\n",
    "        study = optuna.create_study(direction='maximize')\n",
    "        study.optimize(objective, n_trials=20)  \n",
    "\n",
    "        print(\"Best hyperparameters: \", study.best_params)\n",
    "        lgbm_params = study.best_params"
   ]
  },
  {
   "cell_type": "code",
   "execution_count": 34,
   "id": "55b66756",
   "metadata": {
    "_kg_hide-input": true,
    "_kg_hide-output": true,
    "execution": {
     "iopub.execute_input": "2024-11-07T02:13:11.271858Z",
     "iopub.status.busy": "2024-11-07T02:13:11.271074Z",
     "iopub.status.idle": "2024-11-07T02:13:11.285593Z",
     "shell.execute_reply": "2024-11-07T02:13:11.284885Z"
    },
    "papermill": {
     "duration": 0.067066,
     "end_time": "2024-11-07T02:13:11.287537",
     "exception": false,
     "start_time": "2024-11-07T02:13:11.220471",
     "status": "completed"
    },
    "tags": []
   },
   "outputs": [],
   "source": [
    "if 'SOLUTION_5' in ENSEMBLE_SOLUTIONS:\n",
    "    \n",
    "    def train_models(model_type='lgbm'):\n",
    "        models, scores = [], []\n",
    "        oof_preds = np.zeros(len(X))\n",
    "\n",
    "        skf = StratifiedKFold(n_splits=10, shuffle=True, random_state=42)\n",
    "\n",
    "        for fold, (train_index, val_index) in enumerate(skf.split(X, y)):\n",
    "            X_train, X_val = X.iloc[train_index], X.iloc[val_index]\n",
    "            y_train, y_val = y.iloc[train_index], y.iloc[val_index]\n",
    "\n",
    "            lgbm_params = {\n",
    "                'objective': 'binary',\n",
    "                'n_estimators': 3000,\n",
    "                'metric': 'binary_logloss',\n",
    "                'boosting_type': 'gbdt',\n",
    "                'random_state': 42,\n",
    "                'learning_rate': 0.009471852762599606,\n",
    "                'num_leaves': 21,\n",
    "                'max_depth': 11,\n",
    "                'min_data_in_leaf': 87,\n",
    "                'feature_fraction': 0.40471223405843854,\n",
    "                'bagging_fraction': 0.6642922498166329, \n",
    "                'bagging_freq': 3,\n",
    "                'device':'gpu',\n",
    "                'verbose' : -1,\n",
    "            }\n",
    "\n",
    "            cat_params = {\n",
    "                'loss_function': 'Logloss',\n",
    "                'eval_metric': 'AUC',\n",
    "                'learning_rate': 0.08114394459649094,\n",
    "                'iterations': 1000,\n",
    "                'depth': 6,\n",
    "                'random_strength':0,\n",
    "                'l2_leaf_reg': 0.7047064221215757,\n",
    "                'task_type':'GPU',\n",
    "                'random_seed':42,\n",
    "                'verbose':0\n",
    "            }\n",
    "\n",
    "            xgb_params = {\n",
    "                'objective': 'binary:logistic',\n",
    "                'eval_metric': 'auc',\n",
    "                'n_estimators': 3000,\n",
    "                'learning_rate': 0.01,\n",
    "                'max_depth': 6,\n",
    "                'subsample': 0.8,\n",
    "                'colsample_bytree': 0.8,\n",
    "                'random_state': 42,\n",
    "                'tree_method': 'gpu_hist',  \n",
    "            }\n",
    "\n",
    "\n",
    "            if model_type=='lgbm':\n",
    "                model = lgb.LGBMClassifier(**lgbm_params)\n",
    "\n",
    "                model.fit(\n",
    "                    X_train, y_train,\n",
    "                    eval_set=[(X_val, y_val)],\n",
    "                    eval_metric='auc',\n",
    "                    callbacks=callbacks,\n",
    "                    # categorical_feature=cat_cols\n",
    "                )\n",
    "                models.append(model)\n",
    "\n",
    "            elif model_type == 'cat':\n",
    "                model = CatBoostClassifier(**cat_params)\n",
    "                model.fit(\n",
    "                    X_train, y_train,\n",
    "                    eval_set=(X_val, y_val),\n",
    "                    early_stopping_rounds=250,\n",
    "                )\n",
    "                models.append(model)\n",
    "\n",
    "            elif model_type == 'xgb':\n",
    "                model = XGBClassifier(**xgb_params)\n",
    "                model.fit(\n",
    "                    X_train, y_train,\n",
    "                    eval_set=[(X_val, y_val)],\n",
    "                    early_stopping_rounds=250,\n",
    "                    verbose=0\n",
    "                )\n",
    "                models.append(model)\n",
    "\n",
    "\n",
    "            y_pred_proba = model.predict_proba(X_val)[:, 1]\n",
    "            oof_preds[val_index] = y_pred_proba\n",
    "            auc_score = roc_auc_score(y_val, y_pred_proba)\n",
    "            scores.append(auc_score)\n",
    "\n",
    "\n",
    "        oof_auc = roc_auc_score(y, oof_preds)\n",
    "        print(f\"oof_auc : {oof_auc}\")\n",
    "        print(f\"each auc : {scores}\")\n",
    "\n",
    "        return models ,oof_preds"
   ]
  },
  {
   "cell_type": "code",
   "execution_count": 35,
   "id": "3acee1be",
   "metadata": {
    "_kg_hide-input": true,
    "_kg_hide-output": true,
    "execution": {
     "iopub.execute_input": "2024-11-07T02:13:11.389898Z",
     "iopub.status.busy": "2024-11-07T02:13:11.389539Z",
     "iopub.status.idle": "2024-11-07T02:13:11.394510Z",
     "shell.execute_reply": "2024-11-07T02:13:11.393654Z"
    },
    "papermill": {
     "duration": 0.058698,
     "end_time": "2024-11-07T02:13:11.396504",
     "exception": false,
     "start_time": "2024-11-07T02:13:11.337806",
     "status": "completed"
    },
    "tags": []
   },
   "outputs": [],
   "source": [
    "if 'SOLUTION_5' in ENSEMBLE_SOLUTIONS:\n",
    "    \n",
    "    LGBM_models , lgbm_oof = train_models(model_type='lgbm')\n",
    "    cat_models , cat_oof = train_models(model_type='cat')\n",
    "    xgb_models , xgb_oof = train_models(model_type='xgb')"
   ]
  },
  {
   "cell_type": "code",
   "execution_count": 36,
   "id": "e6599f5c",
   "metadata": {
    "_kg_hide-input": true,
    "_kg_hide-output": true,
    "execution": {
     "iopub.execute_input": "2024-11-07T02:13:11.497288Z",
     "iopub.status.busy": "2024-11-07T02:13:11.496657Z",
     "iopub.status.idle": "2024-11-07T02:13:11.503513Z",
     "shell.execute_reply": "2024-11-07T02:13:11.502634Z"
    },
    "papermill": {
     "duration": 0.059131,
     "end_time": "2024-11-07T02:13:11.505391",
     "exception": false,
     "start_time": "2024-11-07T02:13:11.446260",
     "status": "completed"
    },
    "tags": []
   },
   "outputs": [],
   "source": [
    "if 'SOLUTION_5' in ENSEMBLE_SOLUTIONS:\n",
    "    \n",
    "    lgbm_preds = np.zeros(test[feature_cols].shape[0])\n",
    "    for model in LGBM_models:\n",
    "        lgbm_preds += model.predict_proba(test[feature_cols])[:, 1] / len(LGBM_models)\n",
    "\n",
    "    cat_preds = np.zeros(test[feature_cols].shape[0])\n",
    "    for model in cat_models:\n",
    "        cat_preds += model.predict_proba(test[feature_cols])[:, 1] / len(cat_models)\n",
    "\n",
    "    xgb_preds = np.zeros(test[feature_cols].shape[0])\n",
    "    for model in xgb_models:\n",
    "        xgb_preds += model.predict_proba(test[feature_cols])[:, 1] / len(xgb_models)"
   ]
  },
  {
   "cell_type": "markdown",
   "id": "2918dbfc",
   "metadata": {
    "_kg_hide-input": true,
    "_kg_hide-output": true,
    "papermill": {
     "duration": 0.048539,
     "end_time": "2024-11-07T02:13:11.602606",
     "exception": false,
     "start_time": "2024-11-07T02:13:11.554067",
     "status": "completed"
    },
    "tags": []
   },
   "source": [
    "### All category feature pipeline"
   ]
  },
  {
   "cell_type": "code",
   "execution_count": 37,
   "id": "d2a1ea76",
   "metadata": {
    "_kg_hide-input": true,
    "_kg_hide-output": true,
    "execution": {
     "iopub.execute_input": "2024-11-07T02:13:11.702424Z",
     "iopub.status.busy": "2024-11-07T02:13:11.701898Z",
     "iopub.status.idle": "2024-11-07T02:13:11.714477Z",
     "shell.execute_reply": "2024-11-07T02:13:11.713579Z"
    },
    "papermill": {
     "duration": 0.064978,
     "end_time": "2024-11-07T02:13:11.716383",
     "exception": false,
     "start_time": "2024-11-07T02:13:11.651405",
     "status": "completed"
    },
    "tags": []
   },
   "outputs": [],
   "source": [
    "if 'SOLUTION_5' in ENSEMBLE_SOLUTIONS:    \n",
    "    \n",
    "    import numpy as np\n",
    "    import pandas as pd\n",
    "    from catboost import CatBoostClassifier, Pool\n",
    "    from sklearn.metrics import accuracy_score\n",
    "    from sklearn.model_selection import StratifiedKFold\n",
    "\n",
    "    train = pd.read_csv(\"/kaggle/input/playground-series-s4e11/train.csv\")\n",
    "    test = pd.read_csv(\"/kaggle/input/playground-series-s4e11/test.csv\")\n",
    "\n",
    "    # train['org_oof'] = train_preds\n",
    "    # test['org_oof'] = test_preds\n",
    "\n",
    "    train = train.fillna('None').astype('string')\n",
    "    test = test.fillna('None').astype('string')\n",
    "\n",
    "\n",
    "    y = train['Depression'].astype(int)\n",
    "    X = train.drop(['Depression'], axis=1)\n",
    "\n",
    "    catboost_params = {\n",
    "        'loss_function': 'Logloss',\n",
    "        'eval_metric': 'AUC',\n",
    "        'learning_rate': 0.08114394459649094,\n",
    "        'iterations': 1000,\n",
    "        'depth': 6,\n",
    "        'random_strength': 0,\n",
    "        'l2_leaf_reg': 0.7047064221215757,\n",
    "        'task_type': 'GPU',\n",
    "        'random_seed': 42,\n",
    "        'verbose': False\n",
    "    }\n",
    "\n",
    "    cv = StratifiedKFold(10, shuffle=True, random_state=0)\n",
    "    p2_oof_preds = np.zeros(len(train))\n",
    "    scores = []\n",
    "    p2_cat_models = []\n",
    "    X_test_pool = Pool(test, cat_features=X.columns.values)\n",
    "\n",
    "    for i, (train_idx, val_idx) in enumerate(cv.split(X, y)):\n",
    "        model = CatBoostClassifier(**catboost_params)\n",
    "        X_train_fold, X_val_fold = X.iloc[train_idx], X.iloc[val_idx]\n",
    "        y_train_fold, y_val_fold = y.iloc[train_idx], y.iloc[val_idx]\n",
    "\n",
    "        X_train_pool = Pool(X_train_fold, y_train_fold, cat_features=X.columns.values)\n",
    "        X_valid_pool = Pool(X_val_fold, y_val_fold, cat_features=X.columns.values)\n",
    "\n",
    "        model.fit(X=X_train_pool, eval_set=X_valid_pool, verbose=False, early_stopping_rounds=200)\n",
    "        p2_cat_models.append(model)\n",
    "\n",
    "        val_pred_proba = model.predict_proba(X_valid_pool)[:, 1]\n",
    "        p2_oof_preds[val_idx] = val_pred_proba  \n",
    "\n",
    "        val_pred = model.predict(X_valid_pool)\n",
    "        score = accuracy_score(y_val_fold, val_pred)\n",
    "        scores.append(score)\n",
    "\n",
    "\n",
    "    p2_cat_preds = np.zeros(test.shape[0])\n",
    "    test_pool = Pool(test , cat_features=test.columns.values)\n",
    "    for model in p2_cat_models:\n",
    "        p2_cat_preds += model.predict_proba(test_pool)[:, 1] / len(p2_cat_models) "
   ]
  },
  {
   "cell_type": "code",
   "execution_count": 38,
   "id": "9725a6e3",
   "metadata": {
    "_kg_hide-input": true,
    "_kg_hide-output": true,
    "execution": {
     "iopub.execute_input": "2024-11-07T02:13:11.816574Z",
     "iopub.status.busy": "2024-11-07T02:13:11.816232Z",
     "iopub.status.idle": "2024-11-07T02:13:11.824004Z",
     "shell.execute_reply": "2024-11-07T02:13:11.823128Z"
    },
    "papermill": {
     "duration": 0.060195,
     "end_time": "2024-11-07T02:13:11.825879",
     "exception": false,
     "start_time": "2024-11-07T02:13:11.765684",
     "status": "completed"
    },
    "tags": []
   },
   "outputs": [],
   "source": [
    "if 'SOLUTION_5' in ENSEMBLE_SOLUTIONS:\n",
    "    \n",
    "    oof_data = pd.DataFrame({\n",
    "        'lgbm': lgbm_oof,\n",
    "        'cat': cat_oof,\n",
    "        'xgb': xgb_oof,\n",
    "        'p2_cat': p2_oof_preds\n",
    "    })\n",
    "    # lasso = Lasso(alpha=0.001) \n",
    "    # lasso.fit(oof_data, y)\n",
    "\n",
    "    # oof_preds = lasso.predict(oof_data)\n",
    "    # final_auc = roc_auc_score(y, oof_preds)\n",
    "    # print(f\"Final AUC after LASSO blending: {final_auc}\")\n",
    "\n",
    "    import numpy as np\n",
    "    import pandas as pd\n",
    "    from sklearn.metrics import accuracy_score\n",
    "\n",
    "    def evaluate_weighted_predictions(oof_data, weights, threshold=0.5):\n",
    "\n",
    "        weights = np.array(weights) / np.sum(weights)\n",
    "        weighted_probs = np.dot(oof_data.values, weights)\n",
    "        predictions = (weighted_probs >= threshold).astype(int)\n",
    "        accuracy = accuracy_score(y_true, predictions)\n",
    "        return accuracy\n",
    "\n",
    "    oof_data = pd.DataFrame({\n",
    "        'lgbm': lgbm_oof,\n",
    "        'cat': cat_oof,\n",
    "        'xgb': xgb_oof,\n",
    "        'p2_cat': p2_oof_preds\n",
    "    })\n",
    "\n",
    "    y_true = y \n",
    "    weights = [2,1,1,8] \n",
    "    accuracy = evaluate_weighted_predictions(oof_data, weights)\n",
    "    print(f'Weighted OOF Accuracy: {accuracy:.6f}')"
   ]
  },
  {
   "cell_type": "code",
   "execution_count": 39,
   "id": "0e7b2e11",
   "metadata": {
    "_kg_hide-input": true,
    "_kg_hide-output": true,
    "execution": {
     "iopub.execute_input": "2024-11-07T02:13:11.924771Z",
     "iopub.status.busy": "2024-11-07T02:13:11.924412Z",
     "iopub.status.idle": "2024-11-07T02:13:11.930936Z",
     "shell.execute_reply": "2024-11-07T02:13:11.929983Z"
    },
    "papermill": {
     "duration": 0.058298,
     "end_time": "2024-11-07T02:13:11.932907",
     "exception": false,
     "start_time": "2024-11-07T02:13:11.874609",
     "status": "completed"
    },
    "tags": []
   },
   "outputs": [],
   "source": [
    "if 'SOLUTION_5' in ENSEMBLE_SOLUTIONS:\n",
    "    \n",
    "    sub = pd.read_csv('/kaggle/input/playground-series-s4e11/sample_submission.csv')\n",
    "\n",
    "    # preds = lgbm_preds * 0.5 + cat_preds * 0.5\n",
    "\n",
    "    res = pd.DataFrame({\n",
    "        'lgbm': lgbm_preds,\n",
    "        'cat': cat_preds,\n",
    "        'xgb': xgb_preds,\n",
    "        'p2_cat': p2_cat_preds\n",
    "    })\n",
    "    # preds = lasso.predict(res)\n",
    "    weights = np.array(weights) / np.sum(weights)\n",
    "    weighted_probs = np.dot(res.values, weights)\n",
    "    threshold = 0.5\n",
    "    final_predictions = (weighted_probs >= threshold).astype(int)\n",
    "\n",
    "    # sub['Depression'] = (preds >= best_threshold).astype(int)\n",
    "\n",
    "    sub['Depression'] = final_predictions\n",
    "\n",
    "    sub.to_csv('subm_5.csv', index=False)\n",
    "\n",
    "    sub.head()"
   ]
  },
  {
   "cell_type": "markdown",
   "id": "462ca088",
   "metadata": {
    "papermill": {
     "duration": 0.047979,
     "end_time": "2024-11-07T02:13:12.029723",
     "exception": false,
     "start_time": "2024-11-07T02:13:11.981744",
     "status": "completed"
    },
    "tags": []
   },
   "source": [
    "## 6. [🙁 Mental Health Quick Start 📊](https://www.kaggle.com/code/gkitchen/mental-health-quick-start), Lb=0.94238\n",
    "### [Wonderer](https://www.kaggle.com/gkitchen)"
   ]
  },
  {
   "cell_type": "code",
   "execution_count": 40,
   "id": "99538caf",
   "metadata": {
    "_kg_hide-input": true,
    "_kg_hide-output": true,
    "execution": {
     "iopub.execute_input": "2024-11-07T02:13:12.127967Z",
     "iopub.status.busy": "2024-11-07T02:13:12.127235Z",
     "iopub.status.idle": "2024-11-07T02:13:12.135418Z",
     "shell.execute_reply": "2024-11-07T02:13:12.134562Z"
    },
    "papermill": {
     "duration": 0.059488,
     "end_time": "2024-11-07T02:13:12.137390",
     "exception": false,
     "start_time": "2024-11-07T02:13:12.077902",
     "status": "completed"
    },
    "tags": []
   },
   "outputs": [],
   "source": [
    "if 'SOLUTION_6' in ENSEMBLE_SOLUTIONS:\n",
    "    \n",
    "    # libraries\n",
    "    import pandas as pd, category_encoders as ce, xgboost as xgb\n",
    "\n",
    "    # data\n",
    "    train = pd.read_csv('../input/playground-series-s4e11/train.csv', index_col = 'id')\n",
    "    test = pd.read_csv('../input/playground-series-s4e11/test.csv', index_col = 'id')\n",
    "    submission = pd.read_csv('../input/playground-series-s4e11/sample_submission.csv', index_col = 'id')\n",
    "\n",
    "    # preprocess\n",
    "    cat_cols = [val for val in train.select_dtypes(exclude ='number').columns]\n",
    "    encoder = ce.TargetEncoder()\n",
    "    for feature in cat_cols:\n",
    "        train[feature] = encoder.fit_transform(train[feature], train['Depression'])\n",
    "        test[feature] = encoder.transform(test[feature])\n",
    "\n",
    "    # model\n",
    "    params = {'max_depth': 5, 'n_estimators': 156, 'learning_rate': 0.09862150881690002, 'subsample': 0.71257093700811}\n",
    "    clf = xgb.XGBClassifier(**params)\n",
    "\n",
    "    # fit\n",
    "    X = train.drop(columns = 'Depression')\n",
    "    y = train.Depression\n",
    "    clf.fit(X,y)\n",
    "\n",
    "    # predict\n",
    "    preds = clf.predict(test)\n",
    "\n",
    "    # submission\n",
    "    submission.Depression = preds\n",
    "    submission.to_csv('subm_6.csv')"
   ]
  },
  {
   "cell_type": "markdown",
   "id": "49a23a0e",
   "metadata": {
    "papermill": {
     "duration": 0.048382,
     "end_time": "2024-11-07T02:13:12.234904",
     "exception": false,
     "start_time": "2024-11-07T02:13:12.186522",
     "status": "completed"
    },
    "tags": []
   },
   "source": [
    "## 10. [AutoML | H2o | Baseline](https://www.kaggle.com/code/syednazmussakib/automl-h2o-baseline), Lb=0.94131\n",
    "### [Syed Nazmus Sakib](https://www.kaggle.com/syednazmussakib)"
   ]
  },
  {
   "cell_type": "code",
   "execution_count": 41,
   "id": "e5853451",
   "metadata": {
    "_kg_hide-input": true,
    "_kg_hide-output": true,
    "execution": {
     "iopub.execute_input": "2024-11-07T02:13:12.334039Z",
     "iopub.status.busy": "2024-11-07T02:13:12.333664Z",
     "iopub.status.idle": "2024-11-07T02:13:12.338780Z",
     "shell.execute_reply": "2024-11-07T02:13:12.337883Z"
    },
    "papermill": {
     "duration": 0.057422,
     "end_time": "2024-11-07T02:13:12.340708",
     "exception": false,
     "start_time": "2024-11-07T02:13:12.283286",
     "status": "completed"
    },
    "tags": []
   },
   "outputs": [],
   "source": [
    "if 'SOLUTION_10' in ENSEMBLE_SOLUTIONS:\n",
    "    \n",
    "    import os\n",
    "    \n",
    "    for dirname, _, filenames in os.walk('/kaggle/input'):\n",
    "        for filename in filenames:\n",
    "            print(os.path.join(dirname, filename))"
   ]
  },
  {
   "cell_type": "code",
   "execution_count": 42,
   "id": "b1b19b07",
   "metadata": {
    "_kg_hide-input": true,
    "_kg_hide-output": true,
    "execution": {
     "iopub.execute_input": "2024-11-07T02:13:12.440339Z",
     "iopub.status.busy": "2024-11-07T02:13:12.439859Z",
     "iopub.status.idle": "2024-11-07T02:13:12.444396Z",
     "shell.execute_reply": "2024-11-07T02:13:12.443603Z"
    },
    "papermill": {
     "duration": 0.056608,
     "end_time": "2024-11-07T02:13:12.446554",
     "exception": false,
     "start_time": "2024-11-07T02:13:12.389946",
     "status": "completed"
    },
    "tags": []
   },
   "outputs": [],
   "source": [
    "if 'SOLUTION_10' in ENSEMBLE_SOLUTIONS:\n",
    "    \n",
    "    !pip install h2o"
   ]
  },
  {
   "cell_type": "code",
   "execution_count": 43,
   "id": "8bc12100",
   "metadata": {
    "_kg_hide-input": true,
    "_kg_hide-output": true,
    "execution": {
     "iopub.execute_input": "2024-11-07T02:13:12.545280Z",
     "iopub.status.busy": "2024-11-07T02:13:12.544877Z",
     "iopub.status.idle": "2024-11-07T02:13:12.550052Z",
     "shell.execute_reply": "2024-11-07T02:13:12.549159Z"
    },
    "papermill": {
     "duration": 0.057187,
     "end_time": "2024-11-07T02:13:12.552176",
     "exception": false,
     "start_time": "2024-11-07T02:13:12.494989",
     "status": "completed"
    },
    "tags": []
   },
   "outputs": [],
   "source": [
    "if 'SOLUTION_10' in ENSEMBLE_SOLUTIONS:\n",
    "    \n",
    "    import h2o\n",
    "    import pandas as pd\n",
    "    import logging\n",
    "    from typing import List, Union, Optional\n",
    "    from pathlib import Path\n",
    "    import sys\n",
    "    from time import time\n",
    "    from h2o.automl import H2OAutoML"
   ]
  },
  {
   "cell_type": "code",
   "execution_count": 44,
   "id": "ba8c251c",
   "metadata": {
    "_kg_hide-input": true,
    "_kg_hide-output": true,
    "execution": {
     "iopub.execute_input": "2024-11-07T02:13:12.651904Z",
     "iopub.status.busy": "2024-11-07T02:13:12.651555Z",
     "iopub.status.idle": "2024-11-07T02:13:12.656230Z",
     "shell.execute_reply": "2024-11-07T02:13:12.655366Z"
    },
    "papermill": {
     "duration": 0.056716,
     "end_time": "2024-11-07T02:13:12.658243",
     "exception": false,
     "start_time": "2024-11-07T02:13:12.601527",
     "status": "completed"
    },
    "tags": []
   },
   "outputs": [],
   "source": [
    "if 'SOLUTION_10' in ENSEMBLE_SOLUTIONS:\n",
    "    \n",
    "    # Load the training data into a pandas DataFrame\n",
    "    train_data = pd.read_csv('/kaggle/input/playground-series-s4e11/train.csv')\n",
    "    test_data = pd.read_csv('/kaggle/input/playground-series-s4e11/test.csv')"
   ]
  },
  {
   "cell_type": "code",
   "execution_count": 45,
   "id": "6f468617",
   "metadata": {
    "_kg_hide-input": true,
    "_kg_hide-output": true,
    "execution": {
     "iopub.execute_input": "2024-11-07T02:13:12.758058Z",
     "iopub.status.busy": "2024-11-07T02:13:12.757330Z",
     "iopub.status.idle": "2024-11-07T02:13:12.761696Z",
     "shell.execute_reply": "2024-11-07T02:13:12.760797Z"
    },
    "papermill": {
     "duration": 0.056287,
     "end_time": "2024-11-07T02:13:12.763757",
     "exception": false,
     "start_time": "2024-11-07T02:13:12.707470",
     "status": "completed"
    },
    "tags": []
   },
   "outputs": [],
   "source": [
    "if 'SOLUTION_10' in ENSEMBLE_SOLUTIONS:\n",
    "    \n",
    "    # Start H2O cluster (with GPU support enabled if available)\n",
    "    h2o.init()"
   ]
  },
  {
   "cell_type": "code",
   "execution_count": 46,
   "id": "2e0fa247",
   "metadata": {
    "_kg_hide-input": true,
    "_kg_hide-output": true,
    "execution": {
     "iopub.execute_input": "2024-11-07T02:13:12.864025Z",
     "iopub.status.busy": "2024-11-07T02:13:12.863380Z",
     "iopub.status.idle": "2024-11-07T02:13:12.868461Z",
     "shell.execute_reply": "2024-11-07T02:13:12.867557Z"
    },
    "papermill": {
     "duration": 0.05743,
     "end_time": "2024-11-07T02:13:12.870460",
     "exception": false,
     "start_time": "2024-11-07T02:13:12.813030",
     "status": "completed"
    },
    "tags": []
   },
   "outputs": [],
   "source": [
    "if 'SOLUTION_10' in ENSEMBLE_SOLUTIONS:\n",
    "    \n",
    "    # Convert pandas DataFrame to H2O Frame for training\n",
    "    h2o_train = h2o.H2OFrame(train_data)\n",
    "    h2o_test = h2o.H2OFrame(test_data)\n",
    "\n",
    "    # Define features and target\n",
    "    x = h2o_train.columns\n",
    "    y = 'Depression'\n",
    "    x.remove(y)"
   ]
  },
  {
   "cell_type": "code",
   "execution_count": 47,
   "id": "e407bb45",
   "metadata": {
    "_kg_hide-input": true,
    "_kg_hide-output": true,
    "execution": {
     "iopub.execute_input": "2024-11-07T02:13:12.971589Z",
     "iopub.status.busy": "2024-11-07T02:13:12.970829Z",
     "iopub.status.idle": "2024-11-07T02:13:12.975366Z",
     "shell.execute_reply": "2024-11-07T02:13:12.974485Z"
    },
    "papermill": {
     "duration": 0.056794,
     "end_time": "2024-11-07T02:13:12.977288",
     "exception": false,
     "start_time": "2024-11-07T02:13:12.920494",
     "status": "completed"
    },
    "tags": []
   },
   "outputs": [],
   "source": [
    "if 'SOLUTION_10' in ENSEMBLE_SOLUTIONS:\n",
    "    \n",
    "    # Set target column as factor (if it's a classification problem)\n",
    "    h2o_train[y] = h2o_train[y].asfactor()"
   ]
  },
  {
   "cell_type": "code",
   "execution_count": 48,
   "id": "8e205dba",
   "metadata": {
    "_kg_hide-input": true,
    "_kg_hide-output": true,
    "execution": {
     "iopub.execute_input": "2024-11-07T02:13:13.077917Z",
     "iopub.status.busy": "2024-11-07T02:13:13.077156Z",
     "iopub.status.idle": "2024-11-07T02:13:13.082924Z",
     "shell.execute_reply": "2024-11-07T02:13:13.082087Z"
    },
    "papermill": {
     "duration": 0.058505,
     "end_time": "2024-11-07T02:13:13.084899",
     "exception": false,
     "start_time": "2024-11-07T02:13:13.026394",
     "status": "completed"
    },
    "tags": []
   },
   "outputs": [],
   "source": [
    "if 'SOLUTION_10' in ENSEMBLE_SOLUTIONS:\n",
    "    \n",
    "    auto_ml = H2OAutoML(\n",
    "        max_runtime_secs=3600,           # Maximum time in seconds\n",
    "        max_models=20,                   # Maximum number of models to train\n",
    "        seed=1,                         # For reproducibility\n",
    "        sort_metric='AUTO',             # Automatically select the metric based on the problem type# Optionally exclude specific algorithms\n",
    "        balance_classes=True,           # Helpful for imbalanced datasets\n",
    "        max_runtime_secs_per_model=300, # Maximum time per model\n",
    "        stopping_rounds=3,              # Early stopping parameter\n",
    "        nfolds=5,                      # Number of folds for cross-validation\n",
    "    )\n",
    "\n",
    "    auto_ml.train(\n",
    "        x=x,\n",
    "        y=y,\n",
    "        training_frame=h2o_train\n",
    "    )"
   ]
  },
  {
   "cell_type": "code",
   "execution_count": 49,
   "id": "cbaca654",
   "metadata": {
    "_kg_hide-input": true,
    "_kg_hide-output": true,
    "execution": {
     "iopub.execute_input": "2024-11-07T02:13:13.186945Z",
     "iopub.status.busy": "2024-11-07T02:13:13.186184Z",
     "iopub.status.idle": "2024-11-07T02:13:13.192593Z",
     "shell.execute_reply": "2024-11-07T02:13:13.191665Z"
    },
    "papermill": {
     "duration": 0.060192,
     "end_time": "2024-11-07T02:13:13.194764",
     "exception": false,
     "start_time": "2024-11-07T02:13:13.134572",
     "status": "completed"
    },
    "tags": []
   },
   "outputs": [],
   "source": [
    "if 'SOLUTION_10' in ENSEMBLE_SOLUTIONS:\n",
    "    \n",
    "    # View the AutoML leaderboard\n",
    "    lb = auto_ml.leaderboard\n",
    "    print(lb)\n",
    "\n",
    "    # Make predictions on the test data\n",
    "    predictions = auto_ml.leader.predict(h2o_test)\n",
    "\n",
    "    # Convert H2O Frame to Pandas DataFrame for easier handling\n",
    "    pred_df = predictions.as_data_frame()\n",
    "\n",
    "    # Save predictions to CSV for submission\n",
    "    submission = pd.DataFrame({'id': test_data['id'], 'Depression': pred_df['predict']})\n",
    "    submission.to_csv('subm_10.csv', index=False)\n",
    "\n",
    "    # Shut down the H2O cluster\n",
    "    h2o.cluster().shutdown(prompt=False)"
   ]
  },
  {
   "cell_type": "markdown",
   "id": "95c37b8a",
   "metadata": {
    "papermill": {
     "duration": 0.049382,
     "end_time": "2024-11-07T02:13:13.293781",
     "exception": false,
     "start_time": "2024-11-07T02:13:13.244399",
     "status": "completed"
    },
    "tags": []
   },
   "source": [
    "## 11. [Mental Health | EDA + Modeling + SHAP](https://www.kaggle.com/code/igorvolianiuk/mental-health-eda-modeling-shap), Lb=0.94365\n",
    "### [Igor Volianiuk](https://www.kaggle.com/igorvolianiuk)"
   ]
  },
  {
   "cell_type": "code",
   "execution_count": 50,
   "id": "9b38d8c3",
   "metadata": {
    "_kg_hide-input": true,
    "_kg_hide-output": true,
    "execution": {
     "iopub.execute_input": "2024-11-07T02:13:13.395832Z",
     "iopub.status.busy": "2024-11-07T02:13:13.395171Z",
     "iopub.status.idle": "2024-11-07T02:13:13.401006Z",
     "shell.execute_reply": "2024-11-07T02:13:13.400133Z"
    },
    "papermill": {
     "duration": 0.058266,
     "end_time": "2024-11-07T02:13:13.403051",
     "exception": false,
     "start_time": "2024-11-07T02:13:13.344785",
     "status": "completed"
    },
    "tags": []
   },
   "outputs": [],
   "source": [
    "if 'SOLUTION_11' in ENSEMBLE_SOLUTIONS:\n",
    "    \n",
    "    import pandas as pd\n",
    "    import numpy as np\n",
    "    import matplotlib.pyplot as plt\n",
    "    import seaborn as sns\n",
    "    from catboost import Pool, CatBoostClassifier\n",
    "    from sklearn.model_selection import StratifiedKFold\n",
    "    from sklearn.metrics import accuracy_score, f1_score, roc_auc_score\n",
    "    import optuna\n",
    "    from optuna.samplers import TPESampler\n",
    "    import warnings\n",
    "    import shap\n",
    "    warnings.filterwarnings(\"ignore\")"
   ]
  },
  {
   "cell_type": "code",
   "execution_count": 51,
   "id": "b09b035a",
   "metadata": {
    "_kg_hide-input": true,
    "_kg_hide-output": true,
    "execution": {
     "iopub.execute_input": "2024-11-07T02:13:13.503408Z",
     "iopub.status.busy": "2024-11-07T02:13:13.503018Z",
     "iopub.status.idle": "2024-11-07T02:13:13.507694Z",
     "shell.execute_reply": "2024-11-07T02:13:13.506824Z"
    },
    "papermill": {
     "duration": 0.056798,
     "end_time": "2024-11-07T02:13:13.509536",
     "exception": false,
     "start_time": "2024-11-07T02:13:13.452738",
     "status": "completed"
    },
    "tags": []
   },
   "outputs": [],
   "source": [
    "if 'SOLUTION_11' in ENSEMBLE_SOLUTIONS:\n",
    "    \n",
    "    train = pd.read_csv('/kaggle/input/playground-series-s4e11/train.csv').drop(\"id\", axis=1)\n",
    "    train.info()"
   ]
  },
  {
   "cell_type": "code",
   "execution_count": 52,
   "id": "36fe8a90",
   "metadata": {
    "_kg_hide-input": true,
    "_kg_hide-output": true,
    "execution": {
     "iopub.execute_input": "2024-11-07T02:13:13.610640Z",
     "iopub.status.busy": "2024-11-07T02:13:13.609796Z",
     "iopub.status.idle": "2024-11-07T02:13:13.614705Z",
     "shell.execute_reply": "2024-11-07T02:13:13.613815Z"
    },
    "papermill": {
     "duration": 0.057214,
     "end_time": "2024-11-07T02:13:13.616576",
     "exception": false,
     "start_time": "2024-11-07T02:13:13.559362",
     "status": "completed"
    },
    "tags": []
   },
   "outputs": [],
   "source": [
    "if 'SOLUTION_11' in ENSEMBLE_SOLUTIONS:\n",
    "    \n",
    "    test = pd.read_csv('/kaggle/input/playground-series-s4e11/test.csv').drop(\"id\", axis=1)\n",
    "    test.info()"
   ]
  },
  {
   "cell_type": "code",
   "execution_count": 53,
   "id": "a4453c36",
   "metadata": {
    "_kg_hide-input": true,
    "_kg_hide-output": true,
    "execution": {
     "iopub.execute_input": "2024-11-07T02:13:13.717568Z",
     "iopub.status.busy": "2024-11-07T02:13:13.716639Z",
     "iopub.status.idle": "2024-11-07T02:13:13.721576Z",
     "shell.execute_reply": "2024-11-07T02:13:13.720653Z"
    },
    "papermill": {
     "duration": 0.057519,
     "end_time": "2024-11-07T02:13:13.723570",
     "exception": false,
     "start_time": "2024-11-07T02:13:13.666051",
     "status": "completed"
    },
    "tags": []
   },
   "outputs": [],
   "source": [
    "if 'SOLUTION_11' in ENSEMBLE_SOLUTIONS:\n",
    "    \n",
    "    original = pd.read_csv('/kaggle/input/depression-surveydataset-for-analysis/final_depression_dataset_1.csv')\n",
    "    original.info()"
   ]
  },
  {
   "cell_type": "markdown",
   "id": "2059f4f4",
   "metadata": {
    "_kg_hide-input": true,
    "_kg_hide-output": true,
    "papermill": {
     "duration": 0.04914,
     "end_time": "2024-11-07T02:13:13.822083",
     "exception": false,
     "start_time": "2024-11-07T02:13:13.772943",
     "status": "completed"
    },
    "tags": []
   },
   "source": [
    "### Preprocessing + EDA"
   ]
  },
  {
   "cell_type": "code",
   "execution_count": 54,
   "id": "5d4aaf66",
   "metadata": {
    "_kg_hide-input": true,
    "_kg_hide-output": true,
    "execution": {
     "iopub.execute_input": "2024-11-07T02:13:13.923154Z",
     "iopub.status.busy": "2024-11-07T02:13:13.922462Z",
     "iopub.status.idle": "2024-11-07T02:13:13.928146Z",
     "shell.execute_reply": "2024-11-07T02:13:13.927291Z"
    },
    "papermill": {
     "duration": 0.058513,
     "end_time": "2024-11-07T02:13:13.930166",
     "exception": false,
     "start_time": "2024-11-07T02:13:13.871653",
     "status": "completed"
    },
    "tags": []
   },
   "outputs": [],
   "source": [
    "if 'SOLUTION_11' in ENSEMBLE_SOLUTIONS:\n",
    "    \n",
    "    X =  pd.concat([train, original], axis=0, ignore_index=True)\n",
    "    y = X.pop('Depression')\n",
    "    y = y.replace({\"No\":0, \"Yes\":1})\n",
    "\n",
    "    X = X.fillna('None').astype('string')\n",
    "    test = test.fillna('None').astype('string')"
   ]
  },
  {
   "cell_type": "markdown",
   "id": "eacfb141",
   "metadata": {
    "_kg_hide-input": true,
    "_kg_hide-output": true,
    "papermill": {
     "duration": 0.049149,
     "end_time": "2024-11-07T02:13:14.028376",
     "exception": false,
     "start_time": "2024-11-07T02:13:13.979227",
     "status": "completed"
    },
    "tags": []
   },
   "source": [
    "Some columns are messy, for instance \"Dietary Habits\":"
   ]
  },
  {
   "cell_type": "code",
   "execution_count": 55,
   "id": "bce26c1d",
   "metadata": {
    "_kg_hide-input": true,
    "_kg_hide-output": true,
    "execution": {
     "iopub.execute_input": "2024-11-07T02:13:14.128039Z",
     "iopub.status.busy": "2024-11-07T02:13:14.127702Z",
     "iopub.status.idle": "2024-11-07T02:13:14.132157Z",
     "shell.execute_reply": "2024-11-07T02:13:14.131353Z"
    },
    "papermill": {
     "duration": 0.056669,
     "end_time": "2024-11-07T02:13:14.134012",
     "exception": false,
     "start_time": "2024-11-07T02:13:14.077343",
     "status": "completed"
    },
    "tags": []
   },
   "outputs": [],
   "source": [
    "if 'SOLUTION_11' in ENSEMBLE_SOLUTIONS:\n",
    "    \n",
    "    X[\"Dietary Habits\"].value_counts()"
   ]
  },
  {
   "cell_type": "markdown",
   "id": "555a0488",
   "metadata": {
    "_kg_hide-input": true,
    "_kg_hide-output": true,
    "papermill": {
     "duration": 0.049272,
     "end_time": "2024-11-07T02:13:14.233056",
     "exception": false,
     "start_time": "2024-11-07T02:13:14.183784",
     "status": "completed"
    },
    "tags": []
   },
   "source": [
    "Hence, we might be cleaning the data by removing or replace rare options"
   ]
  },
  {
   "cell_type": "code",
   "execution_count": 56,
   "id": "256a4ab6",
   "metadata": {
    "_kg_hide-input": true,
    "_kg_hide-output": true,
    "execution": {
     "iopub.execute_input": "2024-11-07T02:13:14.333307Z",
     "iopub.status.busy": "2024-11-07T02:13:14.332648Z",
     "iopub.status.idle": "2024-11-07T02:13:14.339138Z",
     "shell.execute_reply": "2024-11-07T02:13:14.337520Z"
    },
    "papermill": {
     "duration": 0.059451,
     "end_time": "2024-11-07T02:13:14.341589",
     "exception": false,
     "start_time": "2024-11-07T02:13:14.282138",
     "status": "completed"
    },
    "tags": []
   },
   "outputs": [],
   "source": [
    "if 'SOLUTION_11' in ENSEMBLE_SOLUTIONS:\n",
    "    \n",
    "    def cleaning(data):\n",
    "        threshold = 10\n",
    "        cat_feats = [\"Sleep Duration\", \"Dietary Habits\", \"Degree\"]\n",
    "\n",
    "        for feat in cat_feats:\n",
    "            data.loc[data[feat].value_counts(dropna=False)[data[feat]].values < threshold, feat] = 'None'\n",
    "\n",
    "        return data\n",
    "\n",
    "    X = cleaning(X)\n",
    "    test = cleaning(test)"
   ]
  },
  {
   "cell_type": "code",
   "execution_count": 57,
   "id": "b9def5ab",
   "metadata": {
    "_kg_hide-input": true,
    "_kg_hide-output": true,
    "execution": {
     "iopub.execute_input": "2024-11-07T02:13:14.443313Z",
     "iopub.status.busy": "2024-11-07T02:13:14.442655Z",
     "iopub.status.idle": "2024-11-07T02:13:14.449340Z",
     "shell.execute_reply": "2024-11-07T02:13:14.448448Z"
    },
    "papermill": {
     "duration": 0.060105,
     "end_time": "2024-11-07T02:13:14.451303",
     "exception": false,
     "start_time": "2024-11-07T02:13:14.391198",
     "status": "completed"
    },
    "tags": []
   },
   "outputs": [],
   "source": [
    "if 'SOLUTION_11' in ENSEMBLE_SOLUTIONS:\n",
    "    \n",
    "    total = len(y)\n",
    "    ax = sns.countplot(x=\"Depression\", data=pd.DataFrame({\"Depression\": y}), palette='viridis')\n",
    "    for p in ax.patches:\n",
    "        percentage = '{:.1f}%'.format(100 * p.get_height() / total)\n",
    "        x_s = p.get_x() + p.get_width() / 2\n",
    "        y_s = p.get_height() + 700\n",
    "        ax.annotate(percentage, (x_s, y_s), ha='center')\n",
    "    plt.title('Target distribution')\n",
    "    plt.show()"
   ]
  },
  {
   "cell_type": "markdown",
   "id": "e79ac1ad",
   "metadata": {
    "_kg_hide-input": true,
    "_kg_hide-output": true,
    "papermill": {
     "duration": 0.049769,
     "end_time": "2024-11-07T02:13:14.550801",
     "exception": false,
     "start_time": "2024-11-07T02:13:14.501032",
     "status": "completed"
    },
    "tags": []
   },
   "source": [
    "Since classes are imbalanced, accuracy is not the best way to evaluate the model performance. We can get 82% accuracy just by constantly predicting 0 on all samples."
   ]
  },
  {
   "cell_type": "code",
   "execution_count": 58,
   "id": "b2df74d2",
   "metadata": {
    "_kg_hide-input": true,
    "_kg_hide-output": true,
    "execution": {
     "iopub.execute_input": "2024-11-07T02:13:14.651413Z",
     "iopub.status.busy": "2024-11-07T02:13:14.650725Z",
     "iopub.status.idle": "2024-11-07T02:13:14.657758Z",
     "shell.execute_reply": "2024-11-07T02:13:14.656851Z"
    },
    "papermill": {
     "duration": 0.059477,
     "end_time": "2024-11-07T02:13:14.659655",
     "exception": false,
     "start_time": "2024-11-07T02:13:14.600178",
     "status": "completed"
    },
    "tags": []
   },
   "outputs": [],
   "source": [
    "if 'SOLUTION_11' in ENSEMBLE_SOLUTIONS:\n",
    "    \n",
    "    X_copy = X.copy()\n",
    "    X_copy['dataset'] = 'train'\n",
    "    test_copy = test.copy()\n",
    "    test_copy['dataset'] = 'test'\n",
    "    combined = pd.concat([X_copy, test_copy], ignore_index=True)\n",
    "    cat_cols = ['Gender', 'Age', 'Working Professional or Student',\n",
    "           'Academic Pressure', 'Work Pressure',\n",
    "           'Study Satisfaction', 'Job Satisfaction', 'Sleep Duration',\n",
    "           'Dietary Habits', 'Degree', 'Have you ever had suicidal thoughts ?',\n",
    "           'Work/Study Hours', 'Financial Stress',\n",
    "           'Family History of Mental Illness']\n",
    "\n",
    "    for feature in cat_cols:\n",
    "        sns.countplot(x=feature, hue='dataset', data=combined)\n",
    "        plt.title(f'Distribution of \"{feature}\"')\n",
    "        plt.legend(title=\"Dataset\")\n",
    "        plt.xticks(rotation=45)\n",
    "        plt.tight_layout()\n",
    "        plt.show()"
   ]
  },
  {
   "cell_type": "markdown",
   "id": "44f33f90",
   "metadata": {
    "_kg_hide-input": true,
    "_kg_hide-output": true,
    "papermill": {
     "duration": 0.048782,
     "end_time": "2024-11-07T02:13:14.757508",
     "exception": false,
     "start_time": "2024-11-07T02:13:14.708726",
     "status": "completed"
    },
    "tags": []
   },
   "source": [
    "Features are distributed equally in train and test datasets, which is good"
   ]
  },
  {
   "cell_type": "code",
   "execution_count": 59,
   "id": "de212ced",
   "metadata": {
    "_kg_hide-input": true,
    "_kg_hide-output": true,
    "execution": {
     "iopub.execute_input": "2024-11-07T02:13:14.857636Z",
     "iopub.status.busy": "2024-11-07T02:13:14.856915Z",
     "iopub.status.idle": "2024-11-07T02:13:14.866684Z",
     "shell.execute_reply": "2024-11-07T02:13:14.865762Z"
    },
    "papermill": {
     "duration": 0.062241,
     "end_time": "2024-11-07T02:13:14.868786",
     "exception": false,
     "start_time": "2024-11-07T02:13:14.806545",
     "status": "completed"
    },
    "tags": []
   },
   "outputs": [],
   "source": [
    "if 'SOLUTION_11' in ENSEMBLE_SOLUTIONS:\n",
    "    \n",
    "    X_copy = X.copy()\n",
    "    X_copy['dataset'] = 'train'\n",
    "    test_copy = test.copy()\n",
    "    test_copy['dataset'] = 'test'\n",
    "    combined = pd.concat([X_copy, test_copy], ignore_index=True)\n",
    "    cat_cols = ['Gender', 'Age', 'Working Professional or Student',\n",
    "           'Academic Pressure', 'Work Pressure',\n",
    "           'Study Satisfaction', 'Job Satisfaction', 'Sleep Duration',\n",
    "           'Dietary Habits', 'Degree', 'Have you ever had suicidal thoughts ?',\n",
    "           'Work/Study Hours', 'Financial Stress',\n",
    "           'Family History of Mental Illness']\n",
    "\n",
    "    n_features = len(cat_cols)\n",
    "    n_cols = 2\n",
    "    n_rows = (n_features + 1) // n_cols\n",
    "\n",
    "    fig, axes = plt.subplots(n_rows, n_cols, figsize=(15, n_rows * 4))\n",
    "    axes = axes.flatten()\n",
    "\n",
    "    for idx, feature in enumerate(cat_cols):\n",
    "        sns.countplot(x=feature, hue='dataset', data=combined, ax=axes[idx], palette='mako')\n",
    "        axes[idx].set_title(f'Distribution of \"{feature}\"', fontsize=14) \n",
    "        axes[idx].legend(title=\"Dataset\")\n",
    "        axes[idx].tick_params(axis='x', rotation=45, labelsize=8) \n",
    "\n",
    "    for idx in range(len(cat_cols), len(axes)):\n",
    "        fig.delaxes(axes[idx])\n",
    "\n",
    "    plt.tight_layout()\n",
    "    plt.show()"
   ]
  },
  {
   "cell_type": "code",
   "execution_count": 60,
   "id": "363bad64",
   "metadata": {
    "_kg_hide-input": true,
    "_kg_hide-output": true,
    "execution": {
     "iopub.execute_input": "2024-11-07T02:13:14.970454Z",
     "iopub.status.busy": "2024-11-07T02:13:14.969746Z",
     "iopub.status.idle": "2024-11-07T02:13:14.982853Z",
     "shell.execute_reply": "2024-11-07T02:13:14.981707Z"
    },
    "papermill": {
     "duration": 0.066423,
     "end_time": "2024-11-07T02:13:14.984986",
     "exception": false,
     "start_time": "2024-11-07T02:13:14.918563",
     "status": "completed"
    },
    "tags": []
   },
   "outputs": [],
   "source": [
    "if 'SOLUTION_11' in ENSEMBLE_SOLUTIONS:\n",
    "    \n",
    "    # Using optuna to tune hyperparameters a little bit with roc-auc as main metric\n",
    "    def objective(trial):\n",
    "        params = {\n",
    "        'loss_function': 'Logloss',\n",
    "        'eval_metric': 'AUC',\n",
    "        'learning_rate': trial.suggest_float('learning_rate', 0.01, 0.3, log=True),\n",
    "        'iterations': 1000,\n",
    "        'depth': trial.suggest_int('depth', 6, 12),\n",
    "        'random_strength':0,\n",
    "        'l2_leaf_reg': trial.suggest_float('l2_leaf_reg', 1e-2, 1.0, log=True),\n",
    "        'task_type':'GPU',\n",
    "        'random_seed':42,\n",
    "        'verbose':False\n",
    "        }\n",
    "\n",
    "        model = CatBoostClassifier(**params)\n",
    "        cv = StratifiedKFold(5, shuffle=True, random_state=0)\n",
    "        cv_splits = cv.split(X, y)\n",
    "        scores = list()\n",
    "        for train_idx, val_idx in cv_splits:\n",
    "            X_train_fold, X_val_fold = X.loc[train_idx], X.loc[val_idx]\n",
    "            y_train_fold, y_val_fold = y.loc[train_idx], y.loc[val_idx]\n",
    "            X_train_pool = Pool(X_train_fold, y_train_fold, cat_features=X.columns.values)\n",
    "            X_valid_pool = Pool(X_val_fold, y_val_fold, cat_features=X.columns.values)\n",
    "            model.fit(X=X_train_pool, eval_set=X_valid_pool, verbose=False, early_stopping_rounds=200)\n",
    "            val_pred = model.predict_proba(X_valid_pool)[:, 1]\n",
    "            score = roc_auc_score(y_val_fold, val_pred)\n",
    "            scores.append(score)  \n",
    "        return np.mean(scores)\n",
    "\n",
    "    sqlite_db = \"sqlite:///catboost1.db\"\n",
    "    study_name = \"catboost\"\n",
    "    optimize = False\n",
    "    if optimize:\n",
    "        study = optuna.create_study(storage=sqlite_db, study_name=study_name, \n",
    "                                    sampler=TPESampler(n_startup_trials=35, multivariate=True, seed=0),\n",
    "                                    direction=\"maximize\", load_if_exists=True)\n",
    "\n",
    "        study.optimize(objective, n_trials=100)\n",
    "        print(f\"best optimized roc-auc: {study.best_value:0.5f}\") # 0.97550\n",
    "        print(f\"best hyperparameters: {study.best_params}\") \n",
    "        catboost_params = study.best_params\n",
    "    else:\n",
    "        catboost_params = {\n",
    "            'loss_function': 'Logloss',\n",
    "            'eval_metric': 'AUC',\n",
    "            'learning_rate': 0.06912670683424535,\n",
    "            'iterations': 1000,\n",
    "            'depth': 6,\n",
    "            'random_strength':0,\n",
    "            'l2_leaf_reg': 0.1718980674331938,\n",
    "            'task_type': 'GPU',\n",
    "            'random_seed': 42,\n",
    "            'verbose': False    \n",
    "        }"
   ]
  },
  {
   "cell_type": "markdown",
   "id": "d5cf1fb0",
   "metadata": {
    "_kg_hide-input": true,
    "_kg_hide-output": true,
    "papermill": {
     "duration": 0.049857,
     "end_time": "2024-11-07T02:13:15.083839",
     "exception": false,
     "start_time": "2024-11-07T02:13:15.033982",
     "status": "completed"
    },
    "tags": []
   },
   "source": [
    "Features are distributed equally in train and test datasets, which is good\n",
    "\n",
    "### Model"
   ]
  },
  {
   "cell_type": "code",
   "execution_count": 61,
   "id": "b3df826e",
   "metadata": {
    "_kg_hide-input": true,
    "_kg_hide-output": true,
    "execution": {
     "iopub.execute_input": "2024-11-07T02:13:15.184627Z",
     "iopub.status.busy": "2024-11-07T02:13:15.184263Z",
     "iopub.status.idle": "2024-11-07T02:13:15.196935Z",
     "shell.execute_reply": "2024-11-07T02:13:15.196005Z"
    },
    "papermill": {
     "duration": 0.06548,
     "end_time": "2024-11-07T02:13:15.199011",
     "exception": false,
     "start_time": "2024-11-07T02:13:15.133531",
     "status": "completed"
    },
    "tags": []
   },
   "outputs": [],
   "source": [
    "if 'SOLUTION_11' in ENSEMBLE_SOLUTIONS:\n",
    "    \n",
    "    # Using optuna to tune hyperparameters a little bit with roc-auc as main metric\n",
    "    def objective(trial):\n",
    "        params = {\n",
    "        'loss_function': 'Logloss',\n",
    "        'eval_metric': 'AUC',\n",
    "        'learning_rate': trial.suggest_float('learning_rate', 0.01, 0.3, log=True),\n",
    "        'iterations': 1000,\n",
    "        'depth': trial.suggest_int('depth', 6, 12),\n",
    "        'random_strength':0,\n",
    "        'l2_leaf_reg': trial.suggest_float('l2_leaf_reg', 1e-2, 1.0, log=True),\n",
    "        'task_type':'GPU',\n",
    "        'random_seed':42,\n",
    "        'verbose':False\n",
    "        }\n",
    "\n",
    "        model = CatBoostClassifier(**params)\n",
    "        cv = StratifiedKFold(5, shuffle=True, random_state=0)\n",
    "        cv_splits = cv.split(X, y)\n",
    "        scores = list()\n",
    "        for train_idx, val_idx in cv_splits:\n",
    "            X_train_fold, X_val_fold = X.loc[train_idx], X.loc[val_idx]\n",
    "            y_train_fold, y_val_fold = y.loc[train_idx], y.loc[val_idx]\n",
    "            X_train_pool = Pool(X_train_fold, y_train_fold, cat_features=X.columns.values)\n",
    "            X_valid_pool = Pool(X_val_fold, y_val_fold, cat_features=X.columns.values)\n",
    "            model.fit(X=X_train_pool, eval_set=X_valid_pool, verbose=False, early_stopping_rounds=200)\n",
    "            val_pred = model.predict_proba(X_valid_pool)[:, 1]\n",
    "            score = roc_auc_score(y_val_fold, val_pred)\n",
    "            scores.append(score)  \n",
    "        return np.mean(scores)\n",
    "\n",
    "    sqlite_db = \"sqlite:///catboost1.db\"\n",
    "    study_name = \"catboost\"\n",
    "    optimize = False\n",
    "    if optimize:\n",
    "        study = optuna.create_study(storage=sqlite_db, study_name=study_name, \n",
    "                                    sampler=TPESampler(n_startup_trials=35, multivariate=True, seed=0),\n",
    "                                    direction=\"maximize\", load_if_exists=True)\n",
    "\n",
    "        study.optimize(objective, n_trials=100)\n",
    "        print(f\"best optimized roc-auc: {study.best_value:0.5f}\") # 0.97550\n",
    "        print(f\"best hyperparameters: {study.best_params}\") \n",
    "        catboost_params = study.best_params\n",
    "    else:\n",
    "        catboost_params = {\n",
    "            'loss_function': 'Logloss',\n",
    "            'eval_metric': 'AUC',\n",
    "            'learning_rate': 0.06912670683424535,\n",
    "            'iterations': 1000,\n",
    "            'depth': 6,\n",
    "            'random_strength':0,\n",
    "            'l2_leaf_reg': 0.1718980674331938,\n",
    "            'task_type': 'GPU',\n",
    "            'random_seed': 42,\n",
    "            'verbose': False    \n",
    "        }"
   ]
  },
  {
   "cell_type": "code",
   "execution_count": 62,
   "id": "822def54",
   "metadata": {
    "_kg_hide-input": true,
    "_kg_hide-output": true,
    "execution": {
     "iopub.execute_input": "2024-11-07T02:13:15.299958Z",
     "iopub.status.busy": "2024-11-07T02:13:15.299275Z",
     "iopub.status.idle": "2024-11-07T02:13:15.308297Z",
     "shell.execute_reply": "2024-11-07T02:13:15.307365Z"
    },
    "papermill": {
     "duration": 0.061565,
     "end_time": "2024-11-07T02:13:15.310441",
     "exception": false,
     "start_time": "2024-11-07T02:13:15.248876",
     "status": "completed"
    },
    "tags": []
   },
   "outputs": [],
   "source": [
    "if 'SOLUTION_11' in ENSEMBLE_SOLUTIONS:\n",
    "    \n",
    "    cv = StratifiedKFold(5, shuffle=True, random_state=0)\n",
    "    cv_splits = cv.split(X, y)\n",
    "    scores = []\n",
    "    test_preds = []\n",
    "    X_test_pool = Pool(test, cat_features=X.columns.values)\n",
    "    for i, (train_idx, val_idx) in enumerate(cv_splits):\n",
    "        model = CatBoostClassifier(**catboost_params)\n",
    "        X_train_fold, X_val_fold = X.loc[train_idx], X.loc[val_idx]\n",
    "        y_train_fold, y_val_fold = y.loc[train_idx], y.loc[val_idx]\n",
    "        X_train_pool = Pool(X_train_fold, y_train_fold, cat_features=X.columns.values)\n",
    "        X_valid_pool = Pool(X_val_fold, y_val_fold, cat_features=X.columns.values)\n",
    "        model.fit(X=X_train_pool, eval_set=X_valid_pool, verbose=200, early_stopping_rounds=200)\n",
    "        val_pred = model.predict(X_valid_pool)\n",
    "        score = accuracy_score(y_val_fold, val_pred)\n",
    "        scores.append(score)\n",
    "        test_pred = model.predict_proba(X_test_pool)[:, 1]\n",
    "        test_preds.append(test_pred)\n",
    "        print(f'Fold {i + 1} accuracy_score: {score}')\n",
    "    print(f'Cross-validated accuracy_score: {np.mean(scores):.3f} +/- {np.std(scores):.3f}')\n",
    "    print(f'Max accuracy_score score: {np.max(scores):.3f}')\n",
    "    print(f'Min accuracy_score score: {np.min(scores):.3f}')"
   ]
  },
  {
   "cell_type": "markdown",
   "id": "155ad240",
   "metadata": {
    "_kg_hide-input": true,
    "_kg_hide-output": true,
    "papermill": {
     "duration": 0.049447,
     "end_time": "2024-11-07T02:13:15.410594",
     "exception": false,
     "start_time": "2024-11-07T02:13:15.361147",
     "status": "completed"
    },
    "tags": []
   },
   "source": [
    "# Expainability \n",
    "To understand how the model actually works, the Catboost model itself is used to calculate SHAP (SHapley Additive exPlanations) values for each feature in the training data by using **shap.TreeExplainer**. Then we create a summary plot visualizing the impact of different features on the model predictions and a violin plot, where each violin represents the distribution of SHAP values for a specific feature."
   ]
  },
  {
   "cell_type": "code",
   "execution_count": 63,
   "id": "56bae77c",
   "metadata": {
    "_kg_hide-input": true,
    "_kg_hide-output": true,
    "execution": {
     "iopub.execute_input": "2024-11-07T02:13:15.511204Z",
     "iopub.status.busy": "2024-11-07T02:13:15.510294Z",
     "iopub.status.idle": "2024-11-07T02:13:15.514947Z",
     "shell.execute_reply": "2024-11-07T02:13:15.514085Z"
    },
    "papermill": {
     "duration": 0.057073,
     "end_time": "2024-11-07T02:13:15.516942",
     "exception": false,
     "start_time": "2024-11-07T02:13:15.459869",
     "status": "completed"
    },
    "tags": []
   },
   "outputs": [],
   "source": [
    "if 'SOLUTION_11' in ENSEMBLE_SOLUTIONS:\n",
    "    \n",
    "    explainer = shap.TreeExplainer(model)\n",
    "    shap_values = explainer.shap_values(X_train_pool)"
   ]
  },
  {
   "cell_type": "code",
   "execution_count": 64,
   "id": "2c21c6e6",
   "metadata": {
    "_kg_hide-input": true,
    "_kg_hide-output": true,
    "execution": {
     "iopub.execute_input": "2024-11-07T02:13:15.617685Z",
     "iopub.status.busy": "2024-11-07T02:13:15.617309Z",
     "iopub.status.idle": "2024-11-07T02:13:15.623683Z",
     "shell.execute_reply": "2024-11-07T02:13:15.622757Z"
    },
    "papermill": {
     "duration": 0.059337,
     "end_time": "2024-11-07T02:13:15.625631",
     "exception": false,
     "start_time": "2024-11-07T02:13:15.566294",
     "status": "completed"
    },
    "tags": []
   },
   "outputs": [],
   "source": [
    "if 'SOLUTION_11' in ENSEMBLE_SOLUTIONS:\n",
    "    \n",
    "    shap.summary_plot(\n",
    "        shap_values, \n",
    "        X, \n",
    "        plot_type=\"bar\", \n",
    "        class_names=np.unique(y),\n",
    "        color='red',\n",
    "        show=False\n",
    "    )\n",
    "    plt.xticks(fontsize=14)  \n",
    "    plt.yticks(fontsize=14)  \n",
    "    plt.xlabel('Mean Absolute SHAP Value', fontsize=14) \n",
    "    plt.title('Feature Importance by SHAP Values', fontsize=16) \n",
    "    plt.grid(visible=True, which='both', linestyle='--', linewidth=0.5) \n",
    "    plt.show()"
   ]
  },
  {
   "cell_type": "markdown",
   "id": "56129bbd",
   "metadata": {
    "_kg_hide-input": true,
    "papermill": {
     "duration": 0.04964,
     "end_time": "2024-11-07T02:13:15.724692",
     "exception": false,
     "start_time": "2024-11-07T02:13:15.675052",
     "status": "completed"
    },
    "tags": []
   },
   "source": [
    "It seems that the name actually affects the likelihood of depression, which is not obvious.\n",
    "\n",
    "While the influence of \"Gender\" and \"Working Professional or Student\" columns are negligable."
   ]
  },
  {
   "cell_type": "code",
   "execution_count": 65,
   "id": "0f141785",
   "metadata": {
    "_kg_hide-input": true,
    "_kg_hide-output": true,
    "execution": {
     "iopub.execute_input": "2024-11-07T02:13:15.825017Z",
     "iopub.status.busy": "2024-11-07T02:13:15.824269Z",
     "iopub.status.idle": "2024-11-07T02:13:15.829958Z",
     "shell.execute_reply": "2024-11-07T02:13:15.829055Z"
    },
    "papermill": {
     "duration": 0.058203,
     "end_time": "2024-11-07T02:13:15.831927",
     "exception": false,
     "start_time": "2024-11-07T02:13:15.773724",
     "status": "completed"
    },
    "tags": []
   },
   "outputs": [],
   "source": [
    "if 'SOLUTION_11' in ENSEMBLE_SOLUTIONS:\n",
    "    \n",
    "    shap.summary_plot(shap_values, X.columns, plot_type=\"violin\", show=False)\n",
    "    plt.xticks(fontsize=12) \n",
    "    plt.yticks(fontsize=12)  \n",
    "    plt.title('Feature Importance Distribution by SHAP Values', fontsize=14) \n",
    "    plt.grid(visible=True, which='both', linestyle='--', linewidth=0.5)  \n",
    "    plt.show()"
   ]
  },
  {
   "cell_type": "code",
   "execution_count": 66,
   "id": "185d62aa",
   "metadata": {
    "_kg_hide-input": true,
    "_kg_hide-output": true,
    "execution": {
     "iopub.execute_input": "2024-11-07T02:13:15.932266Z",
     "iopub.status.busy": "2024-11-07T02:13:15.931442Z",
     "iopub.status.idle": "2024-11-07T02:13:15.936735Z",
     "shell.execute_reply": "2024-11-07T02:13:15.935934Z"
    },
    "papermill": {
     "duration": 0.057438,
     "end_time": "2024-11-07T02:13:15.938799",
     "exception": false,
     "start_time": "2024-11-07T02:13:15.881361",
     "status": "completed"
    },
    "tags": []
   },
   "outputs": [],
   "source": [
    "if 'SOLUTION_11' in ENSEMBLE_SOLUTIONS:\n",
    "    \n",
    "    sample_submission = pd.read_csv('/kaggle/input/playground-series-s4e11/sample_submission.csv')\n",
    "    sample_submission['Depression'] = np.round(np.mean(test_preds, axis=0))\n",
    "    sample_submission.to_csv('subm_11.csv', index=False)\n",
    "    sample_submission.head(10)"
   ]
  },
  {
   "cell_type": "markdown",
   "id": "e95383b7",
   "metadata": {
    "papermill": {
     "duration": 0.049138,
     "end_time": "2024-11-07T02:13:16.037133",
     "exception": false,
     "start_time": "2024-11-07T02:13:15.987995",
     "status": "completed"
    },
    "tags": []
   },
   "source": [
    "## 12. [Mental Health - Depression Classification](https://www.kaggle.com/code/ahsuna123/mental-health-depression-classification), Lb=0.94371\n",
    "### [AC](https://www.kaggle.com/ahsuna123)"
   ]
  },
  {
   "cell_type": "code",
   "execution_count": 67,
   "id": "9deab1ca",
   "metadata": {
    "_kg_hide-input": true,
    "_kg_hide-output": true,
    "execution": {
     "iopub.execute_input": "2024-11-07T02:13:16.138024Z",
     "iopub.status.busy": "2024-11-07T02:13:16.137675Z",
     "iopub.status.idle": "2024-11-07T02:13:23.787955Z",
     "shell.execute_reply": "2024-11-07T02:13:23.787150Z"
    },
    "papermill": {
     "duration": 7.703601,
     "end_time": "2024-11-07T02:13:23.790341",
     "exception": false,
     "start_time": "2024-11-07T02:13:16.086740",
     "status": "completed"
    },
    "tags": []
   },
   "outputs": [],
   "source": [
    "if 'SOLUTION_12' in ENSEMBLE_SOLUTIONS:\n",
    "    \n",
    "    import gc\n",
    "    import pandas as pd\n",
    "    import numpy as np\n",
    "    import matplotlib.pyplot as plt\n",
    "    import seaborn as sns\n",
    "    from catboost import Pool, CatBoostClassifier\n",
    "    from sklearn.model_selection import StratifiedKFold\n",
    "    from sklearn.model_selection import train_test_split\n",
    "    from sklearn.metrics import accuracy_score, f1_score, roc_auc_score, mean_squared_error\n",
    "    import optuna\n",
    "    from optuna.samplers import TPESampler\n",
    "    import warnings\n",
    "    import shap\n",
    "    warnings.filterwarnings(\"ignore\")"
   ]
  },
  {
   "cell_type": "code",
   "execution_count": 68,
   "id": "5e586512",
   "metadata": {
    "_kg_hide-input": true,
    "_kg_hide-output": true,
    "execution": {
     "iopub.execute_input": "2024-11-07T02:13:23.889685Z",
     "iopub.status.busy": "2024-11-07T02:13:23.888678Z",
     "iopub.status.idle": "2024-11-07T02:13:24.801000Z",
     "shell.execute_reply": "2024-11-07T02:13:24.799962Z"
    },
    "papermill": {
     "duration": 0.96427,
     "end_time": "2024-11-07T02:13:24.803323",
     "exception": false,
     "start_time": "2024-11-07T02:13:23.839053",
     "status": "completed"
    },
    "tags": []
   },
   "outputs": [],
   "source": [
    "if 'SOLUTION_12' in ENSEMBLE_SOLUTIONS:\n",
    "    \n",
    "    df_sub=pd.read_csv(\"/kaggle/input/playground-series-s4e11/sample_submission.csv\")\n",
    "    df_train=pd.read_csv(\"/kaggle/input/playground-series-s4e11/train.csv\")\n",
    "    df_test=pd.read_csv(\"/kaggle/input/playground-series-s4e11/test.csv\")"
   ]
  },
  {
   "cell_type": "code",
   "execution_count": 69,
   "id": "ef4ae8dc",
   "metadata": {
    "_kg_hide-input": true,
    "_kg_hide-output": true,
    "execution": {
     "iopub.execute_input": "2024-11-07T02:13:24.903535Z",
     "iopub.status.busy": "2024-11-07T02:13:24.903152Z",
     "iopub.status.idle": "2024-11-07T02:13:25.340950Z",
     "shell.execute_reply": "2024-11-07T02:13:25.340158Z"
    },
    "papermill": {
     "duration": 0.490652,
     "end_time": "2024-11-07T02:13:25.343302",
     "exception": false,
     "start_time": "2024-11-07T02:13:24.852650",
     "status": "completed"
    },
    "tags": []
   },
   "outputs": [],
   "source": [
    "if 'SOLUTION_12' in ENSEMBLE_SOLUTIONS:\n",
    "    \n",
    "    df_train = pd.read_csv('/kaggle/input/playground-series-s4e11/train.csv', index_col='id')\n",
    "\n",
    "    original = pd.read_csv('/kaggle/input/depression-surveydataset-for-analysis/final_depression_dataset_1.csv')\n",
    "\n",
    "    original['Depression'] = original['Depression'].map({\n",
    "        'No': 0,\n",
    "        'Yes': 1\n",
    "    })\n",
    "\n",
    "    df_train = pd.concat(objs=[df_train, original])"
   ]
  },
  {
   "cell_type": "code",
   "execution_count": 70,
   "id": "49a54b11",
   "metadata": {
    "_kg_hide-input": true,
    "_kg_hide-output": true,
    "execution": {
     "iopub.execute_input": "2024-11-07T02:13:25.444731Z",
     "iopub.status.busy": "2024-11-07T02:13:25.444348Z",
     "iopub.status.idle": "2024-11-07T02:13:25.647220Z",
     "shell.execute_reply": "2024-11-07T02:13:25.646253Z"
    },
    "papermill": {
     "duration": 0.2555,
     "end_time": "2024-11-07T02:13:25.649522",
     "exception": false,
     "start_time": "2024-11-07T02:13:25.394022",
     "status": "completed"
    },
    "tags": []
   },
   "outputs": [
    {
     "data": {
      "text/html": [
       "<div>\n",
       "<style scoped>\n",
       "    .dataframe tbody tr th:only-of-type {\n",
       "        vertical-align: middle;\n",
       "    }\n",
       "\n",
       "    .dataframe tbody tr th {\n",
       "        vertical-align: top;\n",
       "    }\n",
       "\n",
       "    .dataframe thead th {\n",
       "        text-align: right;\n",
       "    }\n",
       "</style>\n",
       "<table border=\"1\" class=\"dataframe\">\n",
       "  <thead>\n",
       "    <tr style=\"text-align: right;\">\n",
       "      <th></th>\n",
       "      <th>Name</th>\n",
       "      <th>Gender</th>\n",
       "      <th>Age</th>\n",
       "      <th>City</th>\n",
       "      <th>Working Professional or Student</th>\n",
       "      <th>Profession</th>\n",
       "      <th>Academic Pressure</th>\n",
       "      <th>Work Pressure</th>\n",
       "      <th>CGPA</th>\n",
       "      <th>Study Satisfaction</th>\n",
       "      <th>Job Satisfaction</th>\n",
       "      <th>Sleep Duration</th>\n",
       "      <th>Dietary Habits</th>\n",
       "      <th>Degree</th>\n",
       "      <th>Have you ever had suicidal thoughts ?</th>\n",
       "      <th>Work/Study Hours</th>\n",
       "      <th>Financial Stress</th>\n",
       "      <th>Family History of Mental Illness</th>\n",
       "      <th>Depression</th>\n",
       "    </tr>\n",
       "  </thead>\n",
       "  <tbody>\n",
       "    <tr>\n",
       "      <th>0</th>\n",
       "      <td>Aaradhya</td>\n",
       "      <td>Female</td>\n",
       "      <td>49.0</td>\n",
       "      <td>Ludhiana</td>\n",
       "      <td>Working Professional</td>\n",
       "      <td>Chef</td>\n",
       "      <td>NaN</td>\n",
       "      <td>5.0</td>\n",
       "      <td>NaN</td>\n",
       "      <td>NaN</td>\n",
       "      <td>2.0</td>\n",
       "      <td>More than 8 hours</td>\n",
       "      <td>Healthy</td>\n",
       "      <td>BHM</td>\n",
       "      <td>No</td>\n",
       "      <td>1.0</td>\n",
       "      <td>2.0</td>\n",
       "      <td>No</td>\n",
       "      <td>0</td>\n",
       "    </tr>\n",
       "    <tr>\n",
       "      <th>1</th>\n",
       "      <td>Vivan</td>\n",
       "      <td>Male</td>\n",
       "      <td>26.0</td>\n",
       "      <td>Varanasi</td>\n",
       "      <td>Working Professional</td>\n",
       "      <td>Teacher</td>\n",
       "      <td>NaN</td>\n",
       "      <td>4.0</td>\n",
       "      <td>NaN</td>\n",
       "      <td>NaN</td>\n",
       "      <td>3.0</td>\n",
       "      <td>Less than 5 hours</td>\n",
       "      <td>Unhealthy</td>\n",
       "      <td>LLB</td>\n",
       "      <td>Yes</td>\n",
       "      <td>7.0</td>\n",
       "      <td>3.0</td>\n",
       "      <td>No</td>\n",
       "      <td>1</td>\n",
       "    </tr>\n",
       "    <tr>\n",
       "      <th>2</th>\n",
       "      <td>Yuvraj</td>\n",
       "      <td>Male</td>\n",
       "      <td>33.0</td>\n",
       "      <td>Visakhapatnam</td>\n",
       "      <td>Student</td>\n",
       "      <td>NaN</td>\n",
       "      <td>5.0</td>\n",
       "      <td>NaN</td>\n",
       "      <td>8.97</td>\n",
       "      <td>2.0</td>\n",
       "      <td>NaN</td>\n",
       "      <td>5-6 hours</td>\n",
       "      <td>Healthy</td>\n",
       "      <td>B.Pharm</td>\n",
       "      <td>Yes</td>\n",
       "      <td>3.0</td>\n",
       "      <td>1.0</td>\n",
       "      <td>No</td>\n",
       "      <td>1</td>\n",
       "    </tr>\n",
       "    <tr>\n",
       "      <th>3</th>\n",
       "      <td>Yuvraj</td>\n",
       "      <td>Male</td>\n",
       "      <td>22.0</td>\n",
       "      <td>Mumbai</td>\n",
       "      <td>Working Professional</td>\n",
       "      <td>Teacher</td>\n",
       "      <td>NaN</td>\n",
       "      <td>5.0</td>\n",
       "      <td>NaN</td>\n",
       "      <td>NaN</td>\n",
       "      <td>1.0</td>\n",
       "      <td>Less than 5 hours</td>\n",
       "      <td>Moderate</td>\n",
       "      <td>BBA</td>\n",
       "      <td>Yes</td>\n",
       "      <td>10.0</td>\n",
       "      <td>1.0</td>\n",
       "      <td>Yes</td>\n",
       "      <td>1</td>\n",
       "    </tr>\n",
       "    <tr>\n",
       "      <th>4</th>\n",
       "      <td>Rhea</td>\n",
       "      <td>Female</td>\n",
       "      <td>30.0</td>\n",
       "      <td>Kanpur</td>\n",
       "      <td>Working Professional</td>\n",
       "      <td>Business Analyst</td>\n",
       "      <td>NaN</td>\n",
       "      <td>1.0</td>\n",
       "      <td>NaN</td>\n",
       "      <td>NaN</td>\n",
       "      <td>1.0</td>\n",
       "      <td>5-6 hours</td>\n",
       "      <td>Unhealthy</td>\n",
       "      <td>BBA</td>\n",
       "      <td>Yes</td>\n",
       "      <td>9.0</td>\n",
       "      <td>4.0</td>\n",
       "      <td>Yes</td>\n",
       "      <td>0</td>\n",
       "    </tr>\n",
       "  </tbody>\n",
       "</table>\n",
       "</div>"
      ],
      "text/plain": [
       "       Name  Gender   Age           City Working Professional or Student  \\\n",
       "0  Aaradhya  Female  49.0       Ludhiana            Working Professional   \n",
       "1     Vivan    Male  26.0       Varanasi            Working Professional   \n",
       "2    Yuvraj    Male  33.0  Visakhapatnam                         Student   \n",
       "3    Yuvraj    Male  22.0         Mumbai            Working Professional   \n",
       "4      Rhea  Female  30.0         Kanpur            Working Professional   \n",
       "\n",
       "         Profession  Academic Pressure  Work Pressure  CGPA  \\\n",
       "0              Chef                NaN            5.0   NaN   \n",
       "1           Teacher                NaN            4.0   NaN   \n",
       "2               NaN                5.0            NaN  8.97   \n",
       "3           Teacher                NaN            5.0   NaN   \n",
       "4  Business Analyst                NaN            1.0   NaN   \n",
       "\n",
       "   Study Satisfaction  Job Satisfaction     Sleep Duration Dietary Habits  \\\n",
       "0                 NaN               2.0  More than 8 hours        Healthy   \n",
       "1                 NaN               3.0  Less than 5 hours      Unhealthy   \n",
       "2                 2.0               NaN          5-6 hours        Healthy   \n",
       "3                 NaN               1.0  Less than 5 hours       Moderate   \n",
       "4                 NaN               1.0          5-6 hours      Unhealthy   \n",
       "\n",
       "    Degree Have you ever had suicidal thoughts ?  Work/Study Hours  \\\n",
       "0      BHM                                    No               1.0   \n",
       "1      LLB                                   Yes               7.0   \n",
       "2  B.Pharm                                   Yes               3.0   \n",
       "3      BBA                                   Yes              10.0   \n",
       "4      BBA                                   Yes               9.0   \n",
       "\n",
       "   Financial Stress Family History of Mental Illness  Depression  \n",
       "0               2.0                               No           0  \n",
       "1               3.0                               No           1  \n",
       "2               1.0                               No           1  \n",
       "3               1.0                              Yes           1  \n",
       "4               4.0                              Yes           0  "
      ]
     },
     "metadata": {},
     "output_type": "display_data"
    },
    {
     "data": {
      "text/html": [
       "<div>\n",
       "<style scoped>\n",
       "    .dataframe tbody tr th:only-of-type {\n",
       "        vertical-align: middle;\n",
       "    }\n",
       "\n",
       "    .dataframe tbody tr th {\n",
       "        vertical-align: top;\n",
       "    }\n",
       "\n",
       "    .dataframe thead th {\n",
       "        text-align: right;\n",
       "    }\n",
       "</style>\n",
       "<table border=\"1\" class=\"dataframe\">\n",
       "  <thead>\n",
       "    <tr style=\"text-align: right;\">\n",
       "      <th></th>\n",
       "      <th>id</th>\n",
       "      <th>Name</th>\n",
       "      <th>Gender</th>\n",
       "      <th>Age</th>\n",
       "      <th>City</th>\n",
       "      <th>Working Professional or Student</th>\n",
       "      <th>Profession</th>\n",
       "      <th>Academic Pressure</th>\n",
       "      <th>Work Pressure</th>\n",
       "      <th>CGPA</th>\n",
       "      <th>Study Satisfaction</th>\n",
       "      <th>Job Satisfaction</th>\n",
       "      <th>Sleep Duration</th>\n",
       "      <th>Dietary Habits</th>\n",
       "      <th>Degree</th>\n",
       "      <th>Have you ever had suicidal thoughts ?</th>\n",
       "      <th>Work/Study Hours</th>\n",
       "      <th>Financial Stress</th>\n",
       "      <th>Family History of Mental Illness</th>\n",
       "    </tr>\n",
       "  </thead>\n",
       "  <tbody>\n",
       "    <tr>\n",
       "      <th>0</th>\n",
       "      <td>140700</td>\n",
       "      <td>Shivam</td>\n",
       "      <td>Male</td>\n",
       "      <td>53.0</td>\n",
       "      <td>Visakhapatnam</td>\n",
       "      <td>Working Professional</td>\n",
       "      <td>Judge</td>\n",
       "      <td>NaN</td>\n",
       "      <td>2.0</td>\n",
       "      <td>NaN</td>\n",
       "      <td>NaN</td>\n",
       "      <td>5.0</td>\n",
       "      <td>Less than 5 hours</td>\n",
       "      <td>Moderate</td>\n",
       "      <td>LLB</td>\n",
       "      <td>No</td>\n",
       "      <td>9.0</td>\n",
       "      <td>3.0</td>\n",
       "      <td>Yes</td>\n",
       "    </tr>\n",
       "    <tr>\n",
       "      <th>1</th>\n",
       "      <td>140701</td>\n",
       "      <td>Sanya</td>\n",
       "      <td>Female</td>\n",
       "      <td>58.0</td>\n",
       "      <td>Kolkata</td>\n",
       "      <td>Working Professional</td>\n",
       "      <td>Educational Consultant</td>\n",
       "      <td>NaN</td>\n",
       "      <td>2.0</td>\n",
       "      <td>NaN</td>\n",
       "      <td>NaN</td>\n",
       "      <td>4.0</td>\n",
       "      <td>Less than 5 hours</td>\n",
       "      <td>Moderate</td>\n",
       "      <td>B.Ed</td>\n",
       "      <td>No</td>\n",
       "      <td>6.0</td>\n",
       "      <td>4.0</td>\n",
       "      <td>No</td>\n",
       "    </tr>\n",
       "    <tr>\n",
       "      <th>2</th>\n",
       "      <td>140702</td>\n",
       "      <td>Yash</td>\n",
       "      <td>Male</td>\n",
       "      <td>53.0</td>\n",
       "      <td>Jaipur</td>\n",
       "      <td>Working Professional</td>\n",
       "      <td>Teacher</td>\n",
       "      <td>NaN</td>\n",
       "      <td>4.0</td>\n",
       "      <td>NaN</td>\n",
       "      <td>NaN</td>\n",
       "      <td>1.0</td>\n",
       "      <td>7-8 hours</td>\n",
       "      <td>Moderate</td>\n",
       "      <td>B.Arch</td>\n",
       "      <td>Yes</td>\n",
       "      <td>12.0</td>\n",
       "      <td>4.0</td>\n",
       "      <td>No</td>\n",
       "    </tr>\n",
       "    <tr>\n",
       "      <th>3</th>\n",
       "      <td>140703</td>\n",
       "      <td>Nalini</td>\n",
       "      <td>Female</td>\n",
       "      <td>23.0</td>\n",
       "      <td>Rajkot</td>\n",
       "      <td>Student</td>\n",
       "      <td>NaN</td>\n",
       "      <td>5.0</td>\n",
       "      <td>NaN</td>\n",
       "      <td>6.84</td>\n",
       "      <td>1.0</td>\n",
       "      <td>NaN</td>\n",
       "      <td>More than 8 hours</td>\n",
       "      <td>Moderate</td>\n",
       "      <td>BSc</td>\n",
       "      <td>Yes</td>\n",
       "      <td>10.0</td>\n",
       "      <td>4.0</td>\n",
       "      <td>No</td>\n",
       "    </tr>\n",
       "    <tr>\n",
       "      <th>4</th>\n",
       "      <td>140704</td>\n",
       "      <td>Shaurya</td>\n",
       "      <td>Male</td>\n",
       "      <td>47.0</td>\n",
       "      <td>Kalyan</td>\n",
       "      <td>Working Professional</td>\n",
       "      <td>Teacher</td>\n",
       "      <td>NaN</td>\n",
       "      <td>5.0</td>\n",
       "      <td>NaN</td>\n",
       "      <td>NaN</td>\n",
       "      <td>5.0</td>\n",
       "      <td>7-8 hours</td>\n",
       "      <td>Moderate</td>\n",
       "      <td>BCA</td>\n",
       "      <td>Yes</td>\n",
       "      <td>3.0</td>\n",
       "      <td>4.0</td>\n",
       "      <td>No</td>\n",
       "    </tr>\n",
       "  </tbody>\n",
       "</table>\n",
       "</div>"
      ],
      "text/plain": [
       "       id     Name  Gender   Age           City  \\\n",
       "0  140700   Shivam    Male  53.0  Visakhapatnam   \n",
       "1  140701    Sanya  Female  58.0        Kolkata   \n",
       "2  140702     Yash    Male  53.0         Jaipur   \n",
       "3  140703   Nalini  Female  23.0         Rajkot   \n",
       "4  140704  Shaurya    Male  47.0         Kalyan   \n",
       "\n",
       "  Working Professional or Student              Profession  Academic Pressure  \\\n",
       "0            Working Professional                   Judge                NaN   \n",
       "1            Working Professional  Educational Consultant                NaN   \n",
       "2            Working Professional                 Teacher                NaN   \n",
       "3                         Student                     NaN                5.0   \n",
       "4            Working Professional                 Teacher                NaN   \n",
       "\n",
       "   Work Pressure  CGPA  Study Satisfaction  Job Satisfaction  \\\n",
       "0            2.0   NaN                 NaN               5.0   \n",
       "1            2.0   NaN                 NaN               4.0   \n",
       "2            4.0   NaN                 NaN               1.0   \n",
       "3            NaN  6.84                 1.0               NaN   \n",
       "4            5.0   NaN                 NaN               5.0   \n",
       "\n",
       "      Sleep Duration Dietary Habits  Degree  \\\n",
       "0  Less than 5 hours       Moderate     LLB   \n",
       "1  Less than 5 hours       Moderate    B.Ed   \n",
       "2          7-8 hours       Moderate  B.Arch   \n",
       "3  More than 8 hours       Moderate     BSc   \n",
       "4          7-8 hours       Moderate     BCA   \n",
       "\n",
       "  Have you ever had suicidal thoughts ?  Work/Study Hours  Financial Stress  \\\n",
       "0                                    No               9.0               3.0   \n",
       "1                                    No               6.0               4.0   \n",
       "2                                   Yes              12.0               4.0   \n",
       "3                                   Yes              10.0               4.0   \n",
       "4                                   Yes               3.0               4.0   \n",
       "\n",
       "  Family History of Mental Illness  \n",
       "0                              Yes  \n",
       "1                               No  \n",
       "2                               No  \n",
       "3                               No  \n",
       "4                               No  "
      ]
     },
     "metadata": {},
     "output_type": "display_data"
    },
    {
     "name": "stdout",
     "output_type": "stream",
     "text": [
      "\n",
      " (93800, 19) (143256, 19) \n",
      "\n",
      "<class 'pandas.core.frame.DataFrame'>\n",
      "Index: 143256 entries, 0 to 2555\n",
      "Data columns (total 19 columns):\n",
      " #   Column                                 Non-Null Count   Dtype  \n",
      "---  ------                                 --------------   -----  \n",
      " 0   Name                                   143256 non-null  object \n",
      " 1   Gender                                 143256 non-null  object \n",
      " 2   Age                                    143256 non-null  float64\n",
      " 3   City                                   143256 non-null  object \n",
      " 4   Working Professional or Student        143256 non-null  object \n",
      " 5   Profession                             105953 non-null  object \n",
      " 6   Academic Pressure                      28399 non-null   float64\n",
      " 7   Work Pressure                          114836 non-null  float64\n",
      " 8   CGPA                                   28400 non-null   float64\n",
      " 9   Study Satisfaction                     28399 non-null   float64\n",
      " 10  Job Satisfaction                       114844 non-null  float64\n",
      " 11  Sleep Duration                         143256 non-null  object \n",
      " 12  Dietary Habits                         143252 non-null  object \n",
      " 13  Degree                                 143254 non-null  object \n",
      " 14  Have you ever had suicidal thoughts ?  143256 non-null  object \n",
      " 15  Work/Study Hours                       143256 non-null  float64\n",
      " 16  Financial Stress                       143252 non-null  float64\n",
      " 17  Family History of Mental Illness       143256 non-null  object \n",
      " 18  Depression                             143256 non-null  int64  \n",
      "dtypes: float64(8), int64(1), object(10)\n",
      "memory usage: 21.9+ MB\n"
     ]
    }
   ],
   "source": [
    "if 'SOLUTION_12' in ENSEMBLE_SOLUTIONS:    \n",
    "\n",
    "    display(df_train.head(), df_test.head())\n",
    "\n",
    "    print('\\n', df_test.shape,df_train.shape, '\\n')\n",
    "\n",
    "    df_test = df_test.drop(columns=['id'])\n",
    "\n",
    "    df_train.info()"
   ]
  },
  {
   "cell_type": "code",
   "execution_count": 71,
   "id": "7c4bca37",
   "metadata": {
    "_kg_hide-input": true,
    "_kg_hide-output": true,
    "execution": {
     "iopub.execute_input": "2024-11-07T02:13:25.751299Z",
     "iopub.status.busy": "2024-11-07T02:13:25.750559Z",
     "iopub.status.idle": "2024-11-07T02:13:26.033474Z",
     "shell.execute_reply": "2024-11-07T02:13:26.032495Z"
    },
    "papermill": {
     "duration": 0.335811,
     "end_time": "2024-11-07T02:13:26.035630",
     "exception": false,
     "start_time": "2024-11-07T02:13:25.699819",
     "status": "completed"
    },
    "tags": []
   },
   "outputs": [
    {
     "name": "stdout",
     "output_type": "stream",
     "text": [
      "Name: 422 unique values\n",
      "Gender: 2 unique values\n",
      "City: 98 unique values\n",
      "Working Professional or Student: 2 unique values\n",
      "Profession: 64 unique values\n",
      "Sleep Duration: 36 unique values\n",
      "Dietary Habits: 23 unique values\n",
      "Degree: 115 unique values\n",
      "Have you ever had suicidal thoughts ?: 2 unique values\n",
      "Family History of Mental Illness: 2 unique values\n"
     ]
    }
   ],
   "source": [
    "if 'SOLUTION_12' in ENSEMBLE_SOLUTIONS:\n",
    "    \n",
    "    categorical_columns = df_train.select_dtypes(include=['object']).columns\n",
    "    unique_values = {col: df_train[col].nunique() for col in categorical_columns}\n",
    "    for col, unique_count in unique_values.items():\n",
    "        print(f\"{col}: {unique_count} unique values\")\n",
    "\n",
    "    gc.collect()"
   ]
  },
  {
   "cell_type": "code",
   "execution_count": 72,
   "id": "0f20b955",
   "metadata": {
    "_kg_hide-input": true,
    "_kg_hide-output": true,
    "execution": {
     "iopub.execute_input": "2024-11-07T02:13:26.136508Z",
     "iopub.status.busy": "2024-11-07T02:13:26.136077Z",
     "iopub.status.idle": "2024-11-07T02:13:26.363959Z",
     "shell.execute_reply": "2024-11-07T02:13:26.362886Z"
    },
    "papermill": {
     "duration": 0.280905,
     "end_time": "2024-11-07T02:13:26.366158",
     "exception": false,
     "start_time": "2024-11-07T02:13:26.085253",
     "status": "completed"
    },
    "tags": []
   },
   "outputs": [
    {
     "name": "stdout",
     "output_type": "stream",
     "text": [
      "Name: 374 unique values\n",
      "Gender: 2 unique values\n",
      "City: 68 unique values\n",
      "Working Professional or Student: 2 unique values\n",
      "Profession: 64 unique values\n",
      "Sleep Duration: 31 unique values\n",
      "Dietary Habits: 22 unique values\n",
      "Degree: 87 unique values\n",
      "Have you ever had suicidal thoughts ?: 2 unique values\n",
      "Family History of Mental Illness: 2 unique values\n"
     ]
    }
   ],
   "source": [
    "if 'SOLUTION_12' in ENSEMBLE_SOLUTIONS:\n",
    "    \n",
    "    categorical_columns = df_test.select_dtypes(include=['object']).columns\n",
    "    unique_values = {col: df_test[col].nunique() for col in categorical_columns}\n",
    "    for col, unique_count in unique_values.items():\n",
    "        print(f\"{col}: {unique_count} unique values\")\n",
    "\n",
    "    gc.collect()"
   ]
  },
  {
   "cell_type": "code",
   "execution_count": 73,
   "id": "f0c39512",
   "metadata": {
    "_kg_hide-input": true,
    "_kg_hide-output": true,
    "execution": {
     "iopub.execute_input": "2024-11-07T02:13:26.469779Z",
     "iopub.status.busy": "2024-11-07T02:13:26.469408Z",
     "iopub.status.idle": "2024-11-07T02:13:26.475060Z",
     "shell.execute_reply": "2024-11-07T02:13:26.474170Z"
    },
    "papermill": {
     "duration": 0.059493,
     "end_time": "2024-11-07T02:13:26.477526",
     "exception": false,
     "start_time": "2024-11-07T02:13:26.418033",
     "status": "completed"
    },
    "tags": []
   },
   "outputs": [
    {
     "name": "stdout",
     "output_type": "stream",
     "text": [
      "Index(['Name', 'Gender', 'Age', 'City', 'Working Professional or Student',\n",
      "       'Profession', 'Academic Pressure', 'Work Pressure', 'CGPA',\n",
      "       'Study Satisfaction', 'Job Satisfaction', 'Sleep Duration',\n",
      "       'Dietary Habits', 'Degree', 'Have you ever had suicidal thoughts ?',\n",
      "       'Work/Study Hours', 'Financial Stress',\n",
      "       'Family History of Mental Illness'],\n",
      "      dtype='object') \n",
      "\n",
      " Index(['Name', 'Gender', 'Age', 'City', 'Working Professional or Student',\n",
      "       'Profession', 'Academic Pressure', 'Work Pressure', 'CGPA',\n",
      "       'Study Satisfaction', 'Job Satisfaction', 'Sleep Duration',\n",
      "       'Dietary Habits', 'Degree', 'Have you ever had suicidal thoughts ?',\n",
      "       'Work/Study Hours', 'Financial Stress',\n",
      "       'Family History of Mental Illness', 'Depression'],\n",
      "      dtype='object')\n"
     ]
    }
   ],
   "source": [
    "if 'SOLUTION_12' in ENSEMBLE_SOLUTIONS:\n",
    "    \n",
    "    print(df_test.columns,'\\n\\n',df_train.columns)"
   ]
  },
  {
   "cell_type": "code",
   "execution_count": 74,
   "id": "3d54530a",
   "metadata": {
    "_kg_hide-input": true,
    "_kg_hide-output": true,
    "execution": {
     "iopub.execute_input": "2024-11-07T02:13:26.579542Z",
     "iopub.status.busy": "2024-11-07T02:13:26.579145Z",
     "iopub.status.idle": "2024-11-07T02:13:26.802564Z",
     "shell.execute_reply": "2024-11-07T02:13:26.801259Z"
    },
    "papermill": {
     "duration": 0.27682,
     "end_time": "2024-11-07T02:13:26.804700",
     "exception": false,
     "start_time": "2024-11-07T02:13:26.527880",
     "status": "completed"
    },
    "tags": []
   },
   "outputs": [
    {
     "name": "stdout",
     "output_type": "stream",
     "text": [
      "Columns in df_train with more than 10% missing values:\n",
      "Profession            26.039398\n",
      "Academic Pressure     80.176048\n",
      "Work Pressure         19.838611\n",
      "CGPA                  80.175350\n",
      "Study Satisfaction    80.176048\n",
      "Job Satisfaction      19.833026\n",
      "Dietary Habits         0.002792\n",
      "Degree                 0.001396\n",
      "Financial Stress       0.002792\n",
      "dtype: float64\n",
      "\n",
      "Columns in df_test with more than 10% missing values:\n",
      "Profession            26.260128\n",
      "Academic Pressure     79.992537\n",
      "Work Pressure         20.019190\n",
      "CGPA                  79.993603\n",
      "Study Satisfaction    79.992537\n",
      "Job Satisfaction      20.014925\n",
      "Dietary Habits         0.005330\n",
      "Degree                 0.002132\n",
      "dtype: float64\n"
     ]
    }
   ],
   "source": [
    "if 'SOLUTION_12' in ENSEMBLE_SOLUTIONS:\n",
    "    \n",
    "    missing_train = df_train.isna().mean() * 100\n",
    "    missing_test = df_test.isna().mean() * 100\n",
    "\n",
    "    print(\"Columns in df_train with more than 10% missing values:\")\n",
    "    print(missing_train[missing_train > 0])\n",
    "\n",
    "    print(\"\\nColumns in df_test with more than 10% missing values:\")\n",
    "    print(missing_test[missing_test > 0])"
   ]
  },
  {
   "cell_type": "code",
   "execution_count": 75,
   "id": "0b9d57af",
   "metadata": {
    "_kg_hide-input": true,
    "_kg_hide-output": true,
    "execution": {
     "iopub.execute_input": "2024-11-07T02:13:26.908533Z",
     "iopub.status.busy": "2024-11-07T02:13:26.907617Z",
     "iopub.status.idle": "2024-11-07T02:13:27.326339Z",
     "shell.execute_reply": "2024-11-07T02:13:27.325434Z"
    },
    "papermill": {
     "duration": 0.47247,
     "end_time": "2024-11-07T02:13:27.328322",
     "exception": false,
     "start_time": "2024-11-07T02:13:26.855852",
     "status": "completed"
    },
    "tags": []
   },
   "outputs": [
    {
     "data": {
      "image/png": "[encoded data removed]",
      "text/plain": [
       "<Figure size 1000x600 with 1 Axes>"
      ]
     },
     "metadata": {},
     "output_type": "display_data"
    }
   ],
   "source": [
    "if 'SOLUTION_12' in ENSEMBLE_SOLUTIONS:\n",
    "    \n",
    "    missing_values = df_train.isnull().mean() * 100\n",
    "    missing_values = missing_values[missing_values >0]\n",
    "    missing_values = missing_values.sort_values(ascending=False)\n",
    "\n",
    "    plt.figure(figsize=(10, 6))\n",
    "    sns.barplot(x=missing_values.index, y=missing_values.values, palette='viridis')\n",
    "    plt.xticks(rotation=90)\n",
    "    plt.xlabel('Features')\n",
    "    plt.ylabel('Percentage of Missing Values')\n",
    "    plt.title('Missing Values Distribution in df_train')\n",
    "    plt.show()"
   ]
  },
  {
   "cell_type": "code",
   "execution_count": 76,
   "id": "657a83a9",
   "metadata": {
    "_kg_hide-input": true,
    "_kg_hide-output": true,
    "execution": {
     "iopub.execute_input": "2024-11-07T02:13:27.436133Z",
     "iopub.status.busy": "2024-11-07T02:13:27.435725Z",
     "iopub.status.idle": "2024-11-07T02:13:40.664513Z",
     "shell.execute_reply": "2024-11-07T02:13:40.663449Z"
    },
    "papermill": {
     "duration": 13.28587,
     "end_time": "2024-11-07T02:13:40.667105",
     "exception": false,
     "start_time": "2024-11-07T02:13:27.381235",
     "status": "completed"
    },
    "tags": []
   },
   "outputs": [
    {
     "name": "stdout",
     "output_type": "stream",
     "text": [
      "Collecting dython\r\n",
      "  Downloading dython-0.7.8-py3-none-any.whl.metadata (2.9 kB)\r\n",
      "Requirement already satisfied: numpy>=1.23.0 in /opt/conda/lib/python3.10/site-packages (from dython) (1.26.4)\r\n",
      "Requirement already satisfied: pandas>=1.4.2 in /opt/conda/lib/python3.10/site-packages (from dython) (2.2.2)\r\n",
      "Requirement already satisfied: seaborn>=0.12.0 in /opt/conda/lib/python3.10/site-packages (from dython) (0.12.2)\r\n",
      "Requirement already satisfied: scipy>=1.7.1 in /opt/conda/lib/python3.10/site-packages (from dython) (1.14.1)\r\n",
      "Requirement already satisfied: matplotlib>=3.6.0 in /opt/conda/lib/python3.10/site-packages (from dython) (3.7.5)\r\n",
      "Requirement already satisfied: scikit-learn>=0.24.2 in /opt/conda/lib/python3.10/site-packages (from dython) (1.2.2)\r\n",
      "Requirement already satisfied: psutil>=5.9.1 in /opt/conda/lib/python3.10/site-packages (from dython) (5.9.3)\r\n",
      "Requirement already satisfied: setuptools in /opt/conda/lib/python3.10/site-packages (from dython) (70.0.0)\r\n",
      "Requirement already satisfied: contourpy>=1.0.1 in /opt/conda/lib/python3.10/site-packages (from matplotlib>=3.6.0->dython) (1.2.1)\r\n",
      "Requirement already satisfied: cycler>=0.10 in /opt/conda/lib/python3.10/site-packages (from matplotlib>=3.6.0->dython) (0.12.1)\r\n",
      "Requirement already satisfied: fonttools>=4.22.0 in /opt/conda/lib/python3.10/site-packages (from matplotlib>=3.6.0->dython) (4.53.0)\r\n",
      "Requirement already satisfied: kiwisolver>=1.0.1 in /opt/conda/lib/python3.10/site-packages (from matplotlib>=3.6.0->dython) (1.4.5)\r\n",
      "Requirement already satisfied: packaging>=20.0 in /opt/conda/lib/python3.10/site-packages (from matplotlib>=3.6.0->dython) (21.3)\r\n",
      "Requirement already satisfied: pillow>=6.2.0 in /opt/conda/lib/python3.10/site-packages (from matplotlib>=3.6.0->dython) (10.3.0)\r\n",
      "Requirement already satisfied: pyparsing>=2.3.1 in /opt/conda/lib/python3.10/site-packages (from matplotlib>=3.6.0->dython) (3.1.2)\r\n",
      "Requirement already satisfied: python-dateutil>=2.7 in /opt/conda/lib/python3.10/site-packages (from matplotlib>=3.6.0->dython) (2.9.0.post0)\r\n",
      "Requirement already satisfied: pytz>=2020.1 in /opt/conda/lib/python3.10/site-packages (from pandas>=1.4.2->dython) (2024.1)\r\n",
      "Requirement already satisfied: tzdata>=2022.7 in /opt/conda/lib/python3.10/site-packages (from pandas>=1.4.2->dython) (2024.1)\r\n",
      "Requirement already satisfied: joblib>=1.1.1 in /opt/conda/lib/python3.10/site-packages (from scikit-learn>=0.24.2->dython) (1.4.2)\r\n",
      "Requirement already satisfied: threadpoolctl>=2.0.0 in /opt/conda/lib/python3.10/site-packages (from scikit-learn>=0.24.2->dython) (3.5.0)\r\n",
      "Requirement already satisfied: six>=1.5 in /opt/conda/lib/python3.10/site-packages (from python-dateutil>=2.7->matplotlib>=3.6.0->dython) (1.16.0)\r\n",
      "Downloading dython-0.7.8-py3-none-any.whl (26 kB)\r\n",
      "Installing collected packages: dython\r\n",
      "Successfully installed dython-0.7.8\r\n"
     ]
    }
   ],
   "source": [
    "if 'SOLUTION_12' in ENSEMBLE_SOLUTIONS:\n",
    "    \n",
    "    !pip install dython"
   ]
  },
  {
   "cell_type": "code",
   "execution_count": 77,
   "id": "721b17c7",
   "metadata": {
    "_kg_hide-input": true,
    "_kg_hide-output": true,
    "execution": {
     "iopub.execute_input": "2024-11-07T02:13:40.777291Z",
     "iopub.status.busy": "2024-11-07T02:13:40.776773Z",
     "iopub.status.idle": "2024-11-07T02:13:41.615129Z",
     "shell.execute_reply": "2024-11-07T02:13:41.614144Z"
    },
    "papermill": {
     "duration": 0.897783,
     "end_time": "2024-11-07T02:13:41.617669",
     "exception": false,
     "start_time": "2024-11-07T02:13:40.719886",
     "status": "completed"
    },
    "tags": []
   },
   "outputs": [],
   "source": [
    "if 'SOLUTION_12' in ENSEMBLE_SOLUTIONS:\n",
    "    \n",
    "    from sklearn.preprocessing import LabelEncoder,OrdinalEncoder\n",
    "    import category_encoders as ce\n",
    "\n",
    "    missing_threshold = 0.95\n",
    "\n",
    "    high_missing_columns = df_train.columns[df_train.isnull().mean() > missing_threshold]\n",
    "\n",
    "    df_train = df_train.drop(columns=high_missing_columns)\n",
    "    df_test = df_test.drop(columns=high_missing_columns)\n",
    "    target = 'Depression'\n",
    "\n",
    "    for column in df_train.columns:\n",
    "        if df_train[column].isnull().any():      \n",
    "            if df_train[column].dtype == 'object':\n",
    "                mode_value = df_train[column].mode()[0]\n",
    "                df_train[column].fillna(mode_value, inplace=True)\n",
    "                df_test[column].fillna(mode_value, inplace=True)     \n",
    "            else:\n",
    "                median_value = df_train[column].median()\n",
    "                df_train[column].fillna(median_value, inplace=True)\n",
    "                df_test[column].fillna(median_value, inplace=True)"
   ]
  },
  {
   "cell_type": "code",
   "execution_count": 78,
   "id": "d5477b28",
   "metadata": {
    "_kg_hide-input": true,
    "_kg_hide-output": true,
    "execution": {
     "iopub.execute_input": "2024-11-07T02:13:41.724409Z",
     "iopub.status.busy": "2024-11-07T02:13:41.723590Z",
     "iopub.status.idle": "2024-11-07T02:13:46.086275Z",
     "shell.execute_reply": "2024-11-07T02:13:46.085310Z"
    },
    "papermill": {
     "duration": 4.421112,
     "end_time": "2024-11-07T02:13:46.091032",
     "exception": false,
     "start_time": "2024-11-07T02:13:41.669920",
     "status": "completed"
    },
    "tags": []
   },
   "outputs": [
    {
     "data": {
      "image/png": "[encoded data removed]",
      "text/plain": [
       "<Figure size 2000x800 with 2 Axes>"
      ]
     },
     "metadata": {},
     "output_type": "display_data"
    }
   ],
   "source": [
    "if 'SOLUTION_12' in ENSEMBLE_SOLUTIONS:\n",
    "    \n",
    "    from dython.nominal import associations\n",
    "\n",
    "    associations_df = associations(df_train[:10000], nominal_columns='all', plot=False)\n",
    "    corr_matrix = associations_df['corr']\n",
    "    plt.figure(figsize=(20, 8))\n",
    "    plt.gcf().set_facecolor('#FFFDD0') \n",
    "    sns.heatmap(corr_matrix, annot=True, fmt='.2f', cmap='coolwarm', linewidths=0.5)\n",
    "    plt.title('Correlation Matrix including Categorical Features')\n",
    "    plt.show()"
   ]
  },
  {
   "cell_type": "code",
   "execution_count": 79,
   "id": "309e6928",
   "metadata": {
    "_kg_hide-input": true,
    "_kg_hide-output": true,
    "execution": {
     "iopub.execute_input": "2024-11-07T02:13:46.210334Z",
     "iopub.status.busy": "2024-11-07T02:13:46.209669Z",
     "iopub.status.idle": "2024-11-07T02:13:48.611021Z",
     "shell.execute_reply": "2024-11-07T02:13:48.610148Z"
    },
    "papermill": {
     "duration": 2.463904,
     "end_time": "2024-11-07T02:13:48.613189",
     "exception": false,
     "start_time": "2024-11-07T02:13:46.149285",
     "status": "completed"
    },
    "tags": []
   },
   "outputs": [
    {
     "data": {
      "text/html": [
       "        <script type=\"text/javascript\">\n",
       "        window.PlotlyConfig = {MathJaxConfig: 'local'};\n",
       "        if (window.MathJax && window.MathJax.Hub && window.MathJax.Hub.Config) {window.MathJax.Hub.Config({SVG: {font: \"STIX-Web\"}});}\n",
       "        if (typeof require !== 'undefined') {\n",
       "        require.undef(\"plotly\");\n",
       "        requirejs.config({\n",
       "            paths: {\n",
       "                'plotly': ['https://cdn.plot.ly/plotly-2.32.0.min']\n",
       "            }\n",
       "        });\n",
       "        require(['plotly'], function(Plotly) {\n",
       "            window._Plotly = Plotly;\n",
       "        });\n",
       "        }\n",
       "        </script>\n",
       "        "
      ]
     },
     "metadata": {},
     "output_type": "display_data"
    },
    {
     "data": {
      "text/html": [
       "<div>                            <div id=\"24cd8647-0280-4be0-b92a-f170a4c5f7dd\" class=\"plotly-graph-div\" style=\"height:600px; width:900px;\"></div>            <script type=\"text/javascript\">                require([\"plotly\"], function(Plotly) {                    window.PLOTLYENV=window.PLOTLYENV || {};                                    if (document.getElementById(\"24cd8647-0280-4be0-b92a-f170a4c5f7dd\")) {                    Plotly.newPlot(                        \"24cd8647-0280-4be0-b92a-f170a4c5f7dd\",                        [{\"branchvalues\":\"total\",\"customdata\":[[122.0],[174.0],[91.0],[104.0],[141.0],[131.0],[81.0],[115.0],[74.0],[75.0],[84.0],[144.0],[118.0],[133.0],[92.0],[103.0],[48.0],[98.0],[88.0],[85.0],[100.0],[123.0],[97.0],[126.0],[59.0],[63.0],[92.0],[109.0],[44.0],[75.0],[90.0],[122.0],[80.0],[102.0],[110.0],[92.0],[91.0],[98.0],[78.0],[108.0],[136.0],[178.0],[104.0],[116.0],[100.0],[109.0],[101.0],[110.0],[105.0],[146.0],[119.0],[125.0],[107.0],[104.0],[117.0],[131.0],[120.0],[169.0],[125.0],[184.0],[133.0],[136.0],[192.0],[162.0],[136.0],[128.0],[133.0],[141.0],[81.0],[110.0],[130.0],[180.0],[118.0],[157.0],[83.0],[120.0],[138.0],[234.0],[142.0],[176.0],[108.0],[118.0],[141.0],[152.0],[92.0],[93.0],[112.95331424796301],[136.08444770104416]],\"domain\":{\"x\":[0.0,1.0],\"y\":[0.0,1.0]},\"hovertemplate\":\"labels=%{label}\\u003cbr\\u003ecount_sum=%{value}\\u003cbr\\u003eparent=%{parent}\\u003cbr\\u003eid=%{id}\\u003cbr\\u003ecount=%{color}\\u003cextra\\u003e\\u003c\\u002fextra\\u003e\",\"ids\":[\"Female\\u002f18.0\",\"Male\\u002f18.0\",\"Female\\u002f19.0\",\"Male\\u002f19.0\",\"Female\\u002f20.0\",\"Male\\u002f20.0\",\"Female\\u002f21.0\",\"Male\\u002f21.0\",\"Female\\u002f22.0\",\"Male\\u002f22.0\",\"Female\\u002f23.0\",\"Male\\u002f23.0\",\"Female\\u002f24.0\",\"Male\\u002f24.0\",\"Female\\u002f25.0\",\"Male\\u002f25.0\",\"Female\\u002f26.0\",\"Male\\u002f26.0\",\"Female\\u002f27.0\",\"Male\\u002f27.0\",\"Female\\u002f28.0\",\"Male\\u002f28.0\",\"Female\\u002f29.0\",\"Male\\u002f29.0\",\"Female\\u002f30.0\",\"Male\\u002f30.0\",\"Female\\u002f31.0\",\"Male\\u002f31.0\",\"Female\\u002f32.0\",\"Male\\u002f32.0\",\"Female\\u002f33.0\",\"Male\\u002f33.0\",\"Female\\u002f34.0\",\"Male\\u002f34.0\",\"Female\\u002f35.0\",\"Male\\u002f35.0\",\"Female\\u002f36.0\",\"Male\\u002f36.0\",\"Female\\u002f37.0\",\"Male\\u002f37.0\",\"Female\\u002f38.0\",\"Male\\u002f38.0\",\"Female\\u002f39.0\",\"Male\\u002f39.0\",\"Female\\u002f40.0\",\"Male\\u002f40.0\",\"Female\\u002f41.0\",\"Male\\u002f41.0\",\"Female\\u002f42.0\",\"Male\\u002f42.0\",\"Female\\u002f43.0\",\"Male\\u002f43.0\",\"Female\\u002f44.0\",\"Male\\u002f44.0\",\"Female\\u002f45.0\",\"Male\\u002f45.0\",\"Female\\u002f46.0\",\"Male\\u002f46.0\",\"Female\\u002f47.0\",\"Male\\u002f47.0\",\"Female\\u002f48.0\",\"Male\\u002f48.0\",\"Female\\u002f49.0\",\"Male\\u002f49.0\",\"Female\\u002f50.0\",\"Male\\u002f50.0\",\"Female\\u002f51.0\",\"Male\\u002f51.0\",\"Female\\u002f52.0\",\"Male\\u002f52.0\",\"Female\\u002f53.0\",\"Male\\u002f53.0\",\"Female\\u002f54.0\",\"Male\\u002f54.0\",\"Female\\u002f55.0\",\"Male\\u002f55.0\",\"Female\\u002f56.0\",\"Male\\u002f56.0\",\"Female\\u002f57.0\",\"Male\\u002f57.0\",\"Female\\u002f58.0\",\"Male\\u002f58.0\",\"Female\\u002f59.0\",\"Male\\u002f59.0\",\"Female\\u002f60.0\",\"Male\\u002f60.0\",\"Female\",\"Male\"],\"labels\":[\"18.0\",\"18.0\",\"19.0\",\"19.0\",\"20.0\",\"20.0\",\"21.0\",\"21.0\",\"22.0\",\"22.0\",\"23.0\",\"23.0\",\"24.0\",\"24.0\",\"25.0\",\"25.0\",\"26.0\",\"26.0\",\"27.0\",\"27.0\",\"28.0\",\"28.0\",\"29.0\",\"29.0\",\"30.0\",\"30.0\",\"31.0\",\"31.0\",\"32.0\",\"32.0\",\"33.0\",\"33.0\",\"34.0\",\"34.0\",\"35.0\",\"35.0\",\"36.0\",\"36.0\",\"37.0\",\"37.0\",\"38.0\",\"38.0\",\"39.0\",\"39.0\",\"40.0\",\"40.0\",\"41.0\",\"41.0\",\"42.0\",\"42.0\",\"43.0\",\"43.0\",\"44.0\",\"44.0\",\"45.0\",\"45.0\",\"46.0\",\"46.0\",\"47.0\",\"47.0\",\"48.0\",\"48.0\",\"49.0\",\"49.0\",\"50.0\",\"50.0\",\"51.0\",\"51.0\",\"52.0\",\"52.0\",\"53.0\",\"53.0\",\"54.0\",\"54.0\",\"55.0\",\"55.0\",\"56.0\",\"56.0\",\"57.0\",\"57.0\",\"58.0\",\"58.0\",\"59.0\",\"59.0\",\"60.0\",\"60.0\",\"Female\",\"Male\"],\"marker\":{\"coloraxis\":\"coloraxis\",\"colors\":[122.0,174.0,91.0,104.0,141.0,131.0,81.0,115.0,74.0,75.0,84.0,144.0,118.0,133.0,92.0,103.0,48.0,98.0,88.0,85.0,100.0,123.0,97.0,126.0,59.0,63.0,92.0,109.0,44.0,75.0,90.0,122.0,80.0,102.0,110.0,92.0,91.0,98.0,78.0,108.0,136.0,178.0,104.0,116.0,100.0,109.0,101.0,110.0,105.0,146.0,119.0,125.0,107.0,104.0,117.0,131.0,120.0,169.0,125.0,184.0,133.0,136.0,192.0,162.0,136.0,128.0,133.0,141.0,81.0,110.0,130.0,180.0,118.0,157.0,83.0,120.0,138.0,234.0,142.0,176.0,108.0,118.0,141.0,152.0,92.0,93.0,112.95331424796301,136.08444770104416]},\"name\":\"\",\"parents\":[\"Female\",\"Male\",\"Female\",\"Male\",\"Female\",\"Male\",\"Female\",\"Male\",\"Female\",\"Male\",\"Female\",\"Male\",\"Female\",\"Male\",\"Female\",\"Male\",\"Female\",\"Male\",\"Female\",\"Male\",\"Female\",\"Male\",\"Female\",\"Male\",\"Female\",\"Male\",\"Female\",\"Male\",\"Female\",\"Male\",\"Female\",\"Male\",\"Female\",\"Male\",\"Female\",\"Male\",\"Female\",\"Male\",\"Female\",\"Male\",\"Female\",\"Male\",\"Female\",\"Male\",\"Female\",\"Male\",\"Female\",\"Male\",\"Female\",\"Male\",\"Female\",\"Male\",\"Female\",\"Male\",\"Female\",\"Male\",\"Female\",\"Male\",\"Female\",\"Male\",\"Female\",\"Male\",\"Female\",\"Male\",\"Female\",\"Male\",\"Female\",\"Male\",\"Female\",\"Male\",\"Female\",\"Male\",\"Female\",\"Male\",\"Female\",\"Male\",\"Female\",\"Male\",\"Female\",\"Male\",\"Female\",\"Male\",\"Female\",\"Male\",\"Female\",\"Male\",\"\",\"\"],\"values\":[122,174,91,104,141,131,81,115,74,75,84,144,118,133,92,103,48,98,88,85,100,123,97,126,59,63,92,109,44,75,90,122,80,102,110,92,91,98,78,108,136,178,104,116,100,109,101,110,105,146,119,125,107,104,117,131,120,169,125,184,133,136,192,162,136,128,133,141,81,110,130,180,118,157,83,120,138,234,142,176,108,118,141,152,92,93,4541,5459],\"type\":\"sunburst\"}],                        {\"template\":{\"data\":{\"histogram2dcontour\":[{\"type\":\"histogram2dcontour\",\"colorbar\":{\"outlinewidth\":0,\"ticks\":\"\"},\"colorscale\":[[0.0,\"#0d0887\"],[0.1111111111111111,\"#46039f\"],[0.2222222222222222,\"#7201a8\"],[0.3333333333333333,\"#9c179e\"],[0.4444444444444444,\"#bd3786\"],[0.5555555555555556,\"#d8576b\"],[0.6666666666666666,\"#ed7953\"],[0.7777777777777778,\"#fb9f3a\"],[0.8888888888888888,\"#fdca26\"],[1.0,\"#f0f921\"]]}],\"choropleth\":[{\"type\":\"choropleth\",\"colorbar\":{\"outlinewidth\":0,\"ticks\":\"\"}}],\"histogram2d\":[{\"type\":\"histogram2d\",\"colorbar\":{\"outlinewidth\":0,\"ticks\":\"\"},\"colorscale\":[[0.0,\"#0d0887\"],[0.1111111111111111,\"#46039f\"],[0.2222222222222222,\"#7201a8\"],[0.3333333333333333,\"#9c179e\"],[0.4444444444444444,\"#bd3786\"],[0.5555555555555556,\"#d8576b\"],[0.6666666666666666,\"#ed7953\"],[0.7777777777777778,\"#fb9f3a\"],[0.8888888888888888,\"#fdca26\"],[1.0,\"#f0f921\"]]}],\"heatmap\":[{\"type\":\"heatmap\",\"colorbar\":{\"outlinewidth\":0,\"ticks\":\"\"},\"colorscale\":[[0.0,\"#0d0887\"],[0.1111111111111111,\"#46039f\"],[0.2222222222222222,\"#7201a8\"],[0.3333333333333333,\"#9c179e\"],[0.4444444444444444,\"#bd3786\"],[0.5555555555555556,\"#d8576b\"],[0.6666666666666666,\"#ed7953\"],[0.7777777777777778,\"#fb9f3a\"],[0.8888888888888888,\"#fdca26\"],[1.0,\"#f0f921\"]]}],\"heatmapgl\":[{\"type\":\"heatmapgl\",\"colorbar\":{\"outlinewidth\":0,\"ticks\":\"\"},\"colorscale\":[[0.0,\"#0d0887\"],[0.1111111111111111,\"#46039f\"],[0.2222222222222222,\"#7201a8\"],[0.3333333333333333,\"#9c179e\"],[0.4444444444444444,\"#bd3786\"],[0.5555555555555556,\"#d8576b\"],[0.6666666666666666,\"#ed7953\"],[0.7777777777777778,\"#fb9f3a\"],[0.8888888888888888,\"#fdca26\"],[1.0,\"#f0f921\"]]}],\"contourcarpet\":[{\"type\":\"contourcarpet\",\"colorbar\":{\"outlinewidth\":0,\"ticks\":\"\"}}],\"contour\":[{\"type\":\"contour\",\"colorbar\":{\"outlinewidth\":0,\"ticks\":\"\"},\"colorscale\":[[0.0,\"#0d0887\"],[0.1111111111111111,\"#46039f\"],[0.2222222222222222,\"#7201a8\"],[0.3333333333333333,\"#9c179e\"],[0.4444444444444444,\"#bd3786\"],[0.5555555555555556,\"#d8576b\"],[0.6666666666666666,\"#ed7953\"],[0.7777777777777778,\"#fb9f3a\"],[0.8888888888888888,\"#fdca26\"],[1.0,\"#f0f921\"]]}],\"surface\":[{\"type\":\"surface\",\"colorbar\":{\"outlinewidth\":0,\"ticks\":\"\"},\"colorscale\":[[0.0,\"#0d0887\"],[0.1111111111111111,\"#46039f\"],[0.2222222222222222,\"#7201a8\"],[0.3333333333333333,\"#9c179e\"],[0.4444444444444444,\"#bd3786\"],[0.5555555555555556,\"#d8576b\"],[0.6666666666666666,\"#ed7953\"],[0.7777777777777778,\"#fb9f3a\"],[0.8888888888888888,\"#fdca26\"],[1.0,\"#f0f921\"]]}],\"mesh3d\":[{\"type\":\"mesh3d\",\"colorbar\":{\"outlinewidth\":0,\"ticks\":\"\"}}],\"scatter\":[{\"fillpattern\":{\"fillmode\":\"overlay\",\"size\":10,\"solidity\":0.2},\"type\":\"scatter\"}],\"parcoords\":[{\"type\":\"parcoords\",\"line\":{\"colorbar\":{\"outlinewidth\":0,\"ticks\":\"\"}}}],\"scatterpolargl\":[{\"type\":\"scatterpolargl\",\"marker\":{\"colorbar\":{\"outlinewidth\":0,\"ticks\":\"\"}}}],\"bar\":[{\"error_x\":{\"color\":\"#2a3f5f\"},\"error_y\":{\"color\":\"#2a3f5f\"},\"marker\":{\"line\":{\"color\":\"#E5ECF6\",\"width\":0.5},\"pattern\":{\"fillmode\":\"overlay\",\"size\":10,\"solidity\":0.2}},\"type\":\"bar\"}],\"scattergeo\":[{\"type\":\"scattergeo\",\"marker\":{\"colorbar\":{\"outlinewidth\":0,\"ticks\":\"\"}}}],\"scatterpolar\":[{\"type\":\"scatterpolar\",\"marker\":{\"colorbar\":{\"outlinewidth\":0,\"ticks\":\"\"}}}],\"histogram\":[{\"marker\":{\"pattern\":{\"fillmode\":\"overlay\",\"size\":10,\"solidity\":0.2}},\"type\":\"histogram\"}],\"scattergl\":[{\"type\":\"scattergl\",\"marker\":{\"colorbar\":{\"outlinewidth\":0,\"ticks\":\"\"}}}],\"scatter3d\":[{\"type\":\"scatter3d\",\"line\":{\"colorbar\":{\"outlinewidth\":0,\"ticks\":\"\"}},\"marker\":{\"colorbar\":{\"outlinewidth\":0,\"ticks\":\"\"}}}],\"scattermapbox\":[{\"type\":\"scattermapbox\",\"marker\":{\"colorbar\":{\"outlinewidth\":0,\"ticks\":\"\"}}}],\"scatterternary\":[{\"type\":\"scatterternary\",\"marker\":{\"colorbar\":{\"outlinewidth\":0,\"ticks\":\"\"}}}],\"scattercarpet\":[{\"type\":\"scattercarpet\",\"marker\":{\"colorbar\":{\"outlinewidth\":0,\"ticks\":\"\"}}}],\"carpet\":[{\"aaxis\":{\"endlinecolor\":\"#2a3f5f\",\"gridcolor\":\"white\",\"linecolor\":\"white\",\"minorgridcolor\":\"white\",\"startlinecolor\":\"#2a3f5f\"},\"baxis\":{\"endlinecolor\":\"#2a3f5f\",\"gridcolor\":\"white\",\"linecolor\":\"white\",\"minorgridcolor\":\"white\",\"startlinecolor\":\"#2a3f5f\"},\"type\":\"carpet\"}],\"table\":[{\"cells\":{\"fill\":{\"color\":\"#EBF0F8\"},\"line\":{\"color\":\"white\"}},\"header\":{\"fill\":{\"color\":\"#C8D4E3\"},\"line\":{\"color\":\"white\"}},\"type\":\"table\"}],\"barpolar\":[{\"marker\":{\"line\":{\"color\":\"#E5ECF6\",\"width\":0.5},\"pattern\":{\"fillmode\":\"overlay\",\"size\":10,\"solidity\":0.2}},\"type\":\"barpolar\"}],\"pie\":[{\"automargin\":true,\"type\":\"pie\"}]},\"layout\":{\"autotypenumbers\":\"strict\",\"colorway\":[\"#636efa\",\"#EF553B\",\"#00cc96\",\"#ab63fa\",\"#FFA15A\",\"#19d3f3\",\"#FF6692\",\"#B6E880\",\"#FF97FF\",\"#FECB52\"],\"font\":{\"color\":\"#2a3f5f\"},\"hovermode\":\"closest\",\"hoverlabel\":{\"align\":\"left\"},\"paper_bgcolor\":\"white\",\"plot_bgcolor\":\"#E5ECF6\",\"polar\":{\"bgcolor\":\"#E5ECF6\",\"angularaxis\":{\"gridcolor\":\"white\",\"linecolor\":\"white\",\"ticks\":\"\"},\"radialaxis\":{\"gridcolor\":\"white\",\"linecolor\":\"white\",\"ticks\":\"\"}},\"ternary\":{\"bgcolor\":\"#E5ECF6\",\"aaxis\":{\"gridcolor\":\"white\",\"linecolor\":\"white\",\"ticks\":\"\"},\"baxis\":{\"gridcolor\":\"white\",\"linecolor\":\"white\",\"ticks\":\"\"},\"caxis\":{\"gridcolor\":\"white\",\"linecolor\":\"white\",\"ticks\":\"\"}},\"coloraxis\":{\"colorbar\":{\"outlinewidth\":0,\"ticks\":\"\"}},\"colorscale\":{\"sequential\":[[0.0,\"#0d0887\"],[0.1111111111111111,\"#46039f\"],[0.2222222222222222,\"#7201a8\"],[0.3333333333333333,\"#9c179e\"],[0.4444444444444444,\"#bd3786\"],[0.5555555555555556,\"#d8576b\"],[0.6666666666666666,\"#ed7953\"],[0.7777777777777778,\"#fb9f3a\"],[0.8888888888888888,\"#fdca26\"],[1.0,\"#f0f921\"]],\"sequentialminus\":[[0.0,\"#0d0887\"],[0.1111111111111111,\"#46039f\"],[0.2222222222222222,\"#7201a8\"],[0.3333333333333333,\"#9c179e\"],[0.4444444444444444,\"#bd3786\"],[0.5555555555555556,\"#d8576b\"],[0.6666666666666666,\"#ed7953\"],[0.7777777777777778,\"#fb9f3a\"],[0.8888888888888888,\"#fdca26\"],[1.0,\"#f0f921\"]],\"diverging\":[[0,\"#8e0152\"],[0.1,\"#c51b7d\"],[0.2,\"#de77ae\"],[0.3,\"#f1b6da\"],[0.4,\"#fde0ef\"],[0.5,\"#f7f7f7\"],[0.6,\"#e6f5d0\"],[0.7,\"#b8e186\"],[0.8,\"#7fbc41\"],[0.9,\"#4d9221\"],[1,\"#276419\"]]},\"xaxis\":{\"gridcolor\":\"white\",\"linecolor\":\"white\",\"ticks\":\"\",\"title\":{\"standoff\":15},\"zerolinecolor\":\"white\",\"automargin\":true,\"zerolinewidth\":2},\"yaxis\":{\"gridcolor\":\"white\",\"linecolor\":\"white\",\"ticks\":\"\",\"title\":{\"standoff\":15},\"zerolinecolor\":\"white\",\"automargin\":true,\"zerolinewidth\":2},\"scene\":{\"xaxis\":{\"backgroundcolor\":\"#E5ECF6\",\"gridcolor\":\"white\",\"linecolor\":\"white\",\"showbackground\":true,\"ticks\":\"\",\"zerolinecolor\":\"white\",\"gridwidth\":2},\"yaxis\":{\"backgroundcolor\":\"#E5ECF6\",\"gridcolor\":\"white\",\"linecolor\":\"white\",\"showbackground\":true,\"ticks\":\"\",\"zerolinecolor\":\"white\",\"gridwidth\":2},\"zaxis\":{\"backgroundcolor\":\"#E5ECF6\",\"gridcolor\":\"white\",\"linecolor\":\"white\",\"showbackground\":true,\"ticks\":\"\",\"zerolinecolor\":\"white\",\"gridwidth\":2}},\"shapedefaults\":{\"line\":{\"color\":\"#2a3f5f\"}},\"annotationdefaults\":{\"arrowcolor\":\"#2a3f5f\",\"arrowhead\":0,\"arrowwidth\":1},\"geo\":{\"bgcolor\":\"white\",\"landcolor\":\"#E5ECF6\",\"subunitcolor\":\"white\",\"showland\":true,\"showlakes\":true,\"lakecolor\":\"white\"},\"title\":{\"x\":0.05},\"mapbox\":{\"style\":\"light\"}}},\"coloraxis\":{\"colorbar\":{\"title\":{\"text\":\"count\"}},\"colorscale\":[[0.0,\"#440154\"],[0.1111111111111111,\"#482878\"],[0.2222222222222222,\"#3e4989\"],[0.3333333333333333,\"#31688e\"],[0.4444444444444444,\"#26828e\"],[0.5555555555555556,\"#1f9e89\"],[0.6666666666666666,\"#35b779\"],[0.7777777777777778,\"#6ece58\"],[0.8888888888888888,\"#b5de2b\"],[1.0,\"#fde725\"]]},\"legend\":{\"tracegroupgap\":0},\"title\":{\"text\":\"Sunburst Chart of Cap Shape and Cap Color Distribution\",\"x\":0.5},\"width\":900,\"height\":600},                        {\"responsive\": true}                    ).then(function(){\n",
       "                            \n",
       "var gd = document.getElementById('24cd8647-0280-4be0-b92a-f170a4c5f7dd');\n",
       "var x = new MutationObserver(function (mutations, observer) {{\n",
       "        var display = window.getComputedStyle(gd).display;\n",
       "        if (!display || display === 'none') {{\n",
       "            console.log([gd, 'removed!']);\n",
       "            Plotly.purge(gd);\n",
       "            observer.disconnect();\n",
       "        }}\n",
       "}});\n",
       "\n",
       "// Listen for the removal of the full notebook cells\n",
       "var notebookContainer = gd.closest('#notebook-container');\n",
       "if (notebookContainer) {{\n",
       "    x.observe(notebookContainer, {childList: true});\n",
       "}}\n",
       "\n",
       "// Listen for the clearing of the current output cell\n",
       "var outputEl = gd.closest('.output');\n",
       "if (outputEl) {{\n",
       "    x.observe(outputEl, {childList: true});\n",
       "}}\n",
       "\n",
       "                        })                };                });            </script>        </div>"
      ]
     },
     "metadata": {},
     "output_type": "display_data"
    }
   ],
   "source": [
    "if 'SOLUTION_12' in ENSEMBLE_SOLUTIONS:\n",
    "    \n",
    "    import plotly.express as px\n",
    "\n",
    "    df_train1 = df_train[:10000].copy()\n",
    "\n",
    "    feature_counts = df_train1.groupby(['Gender', 'Age']).size().reset_index(name='count')\n",
    "    fig = px.sunburst(feature_counts, path=['Gender', 'Age'], values='count',\n",
    "                     color='count', color_continuous_scale='Viridis',\n",
    "                     title='Sunburst Chart of Cap Shape and Cap Color Distribution')\n",
    "\n",
    "    fig.update_layout(title_text='Sunburst Chart of Cap Shape and Cap Color Distribution',\n",
    "                      title_x=0.5,width=900,height=600)  \n",
    "    fig.show()"
   ]
  },
  {
   "cell_type": "code",
   "execution_count": 80,
   "id": "dca26993",
   "metadata": {
    "_kg_hide-input": true,
    "_kg_hide-output": true,
    "execution": {
     "iopub.execute_input": "2024-11-07T02:13:48.733839Z",
     "iopub.status.busy": "2024-11-07T02:13:48.733183Z",
     "iopub.status.idle": "2024-11-07T02:13:48.958431Z",
     "shell.execute_reply": "2024-11-07T02:13:48.957426Z"
    },
    "papermill": {
     "duration": 0.28823,
     "end_time": "2024-11-07T02:13:48.960873",
     "exception": false,
     "start_time": "2024-11-07T02:13:48.672643",
     "status": "completed"
    },
    "tags": []
   },
   "outputs": [],
   "source": [
    "if 'SOLUTION_12' in ENSEMBLE_SOLUTIONS:\n",
    "    \n",
    "    cols_to_drop_train = missing_train[missing_train > 95].index\n",
    "    cols_to_drop_test = missing_test[missing_test > 95].index\n",
    "\n",
    "    df_train = df_train.drop(columns=cols_to_drop_train)\n",
    "    df_test = df_test.drop(columns=cols_to_drop_test)\n",
    "\n",
    "    gc.collect()"
   ]
  },
  {
   "cell_type": "code",
   "execution_count": 81,
   "id": "2e2a0a82",
   "metadata": {
    "_kg_hide-input": true,
    "_kg_hide-output": true,
    "execution": {
     "iopub.execute_input": "2024-11-07T02:13:49.081720Z",
     "iopub.status.busy": "2024-11-07T02:13:49.080806Z",
     "iopub.status.idle": "2024-11-07T02:13:49.088178Z",
     "shell.execute_reply": "2024-11-07T02:13:49.087290Z"
    },
    "papermill": {
     "duration": 0.069633,
     "end_time": "2024-11-07T02:13:49.090044",
     "exception": false,
     "start_time": "2024-11-07T02:13:49.020411",
     "status": "completed"
    },
    "tags": []
   },
   "outputs": [],
   "source": [
    "if 'SOLUTION_12' in ENSEMBLE_SOLUTIONS:\n",
    "    \n",
    "    from sklearn.impute import KNNImputer\n",
    "\n",
    "\n",
    "    def knn_impute(df, n_neighbors=5):   \n",
    "        df_encoded = df.copy()\n",
    "        for col in df_encoded.select_dtypes(include='object').columns:\n",
    "            df_encoded[col] = df_encoded[col].astype('category').cat.codes\n",
    "        knn_imputer = KNNImputer(n_neighbors=n_neighbors)\n",
    "        df_imputed = pd.DataFrame(knn_imputer.fit_transform(df_encoded), columns=df_encoded.columns)\n",
    "        for col in df.select_dtypes(include='object').columns:\n",
    "            df_imputed[col] = df_imputed[col].round().astype(int).map(\n",
    "                dict(enumerate(df[col].astype('category').cat.categories)))\n",
    "        return df_imputed"
   ]
  },
  {
   "cell_type": "code",
   "execution_count": 82,
   "id": "f57bc9fe",
   "metadata": {
    "_kg_hide-input": true,
    "_kg_hide-output": true,
    "execution": {
     "iopub.execute_input": "2024-11-07T02:13:49.211587Z",
     "iopub.status.busy": "2024-11-07T02:13:49.210811Z",
     "iopub.status.idle": "2024-11-07T02:13:49.912529Z",
     "shell.execute_reply": "2024-11-07T02:13:49.911676Z"
    },
    "papermill": {
     "duration": 0.765426,
     "end_time": "2024-11-07T02:13:49.915053",
     "exception": false,
     "start_time": "2024-11-07T02:13:49.149627",
     "status": "completed"
    },
    "tags": []
   },
   "outputs": [],
   "source": [
    "if 'SOLUTION_12' in ENSEMBLE_SOLUTIONS:\n",
    "    \n",
    "    df_train_imputed = knn_impute(df_train, n_neighbors=5)\n",
    "    df_test_imputed = knn_impute(df_test, n_neighbors=5)"
   ]
  },
  {
   "cell_type": "code",
   "execution_count": 83,
   "id": "14ac7fa3",
   "metadata": {
    "_kg_hide-input": true,
    "_kg_hide-output": true,
    "execution": {
     "iopub.execute_input": "2024-11-07T02:13:50.037981Z",
     "iopub.status.busy": "2024-11-07T02:13:50.037159Z",
     "iopub.status.idle": "2024-11-07T02:13:50.960478Z",
     "shell.execute_reply": "2024-11-07T02:13:50.959439Z"
    },
    "papermill": {
     "duration": 0.987583,
     "end_time": "2024-11-07T02:13:50.963309",
     "exception": false,
     "start_time": "2024-11-07T02:13:49.975726",
     "status": "completed"
    },
    "tags": []
   },
   "outputs": [],
   "source": [
    "if 'SOLUTION_12' in ENSEMBLE_SOLUTIONS:\n",
    "    \n",
    "    cat_cols_train = df_train_imputed.select_dtypes(include=['object']).columns\n",
    "    cat_cols_train = cat_cols_train[cat_cols_train != 'Depression']\n",
    "    ordinal_encoder = OrdinalEncoder(handle_unknown='use_encoded_value', unknown_value=-1)\n",
    "\n",
    "    df_train_imputed[cat_cols_train] = ordinal_encoder.fit_transform(df_train_imputed[cat_cols_train].astype(str))\n",
    "    df_test_imputed[cat_cols_train] = ordinal_encoder.transform(df_test_imputed[cat_cols_train].astype(str))"
   ]
  },
  {
   "cell_type": "code",
   "execution_count": 84,
   "id": "c46d8e5d",
   "metadata": {
    "_kg_hide-input": true,
    "_kg_hide-output": true,
    "execution": {
     "iopub.execute_input": "2024-11-07T02:13:51.103896Z",
     "iopub.status.busy": "2024-11-07T02:13:51.103507Z",
     "iopub.status.idle": "2024-11-07T02:13:51.164195Z",
     "shell.execute_reply": "2024-11-07T02:13:51.163207Z"
    },
    "papermill": {
     "duration": 0.123948,
     "end_time": "2024-11-07T02:13:51.166648",
     "exception": false,
     "start_time": "2024-11-07T02:13:51.042700",
     "status": "completed"
    },
    "tags": []
   },
   "outputs": [
    {
     "data": {
      "text/html": [
       "<div>\n",
       "<style scoped>\n",
       "    .dataframe tbody tr th:only-of-type {\n",
       "        vertical-align: middle;\n",
       "    }\n",
       "\n",
       "    .dataframe tbody tr th {\n",
       "        vertical-align: top;\n",
       "    }\n",
       "\n",
       "    .dataframe thead th {\n",
       "        text-align: right;\n",
       "    }\n",
       "</style>\n",
       "<table border=\"1\" class=\"dataframe\">\n",
       "  <thead>\n",
       "    <tr style=\"text-align: right;\">\n",
       "      <th></th>\n",
       "      <th>Name</th>\n",
       "      <th>Gender</th>\n",
       "      <th>Age</th>\n",
       "      <th>City</th>\n",
       "      <th>Working Professional or Student</th>\n",
       "      <th>Profession</th>\n",
       "      <th>Academic Pressure</th>\n",
       "      <th>Work Pressure</th>\n",
       "      <th>CGPA</th>\n",
       "      <th>Study Satisfaction</th>\n",
       "      <th>Job Satisfaction</th>\n",
       "      <th>Sleep Duration</th>\n",
       "      <th>Dietary Habits</th>\n",
       "      <th>Degree</th>\n",
       "      <th>Have you ever had suicidal thoughts ?</th>\n",
       "      <th>Work/Study Hours</th>\n",
       "      <th>Financial Stress</th>\n",
       "      <th>Family History of Mental Illness</th>\n",
       "      <th>Depression</th>\n",
       "    </tr>\n",
       "  </thead>\n",
       "  <tbody>\n",
       "    <tr>\n",
       "      <th>0</th>\n",
       "      <td>11.0</td>\n",
       "      <td>0.0</td>\n",
       "      <td>49.0</td>\n",
       "      <td>50.0</td>\n",
       "      <td>1.0</td>\n",
       "      <td>10.0</td>\n",
       "      <td>3.0</td>\n",
       "      <td>5.0</td>\n",
       "      <td>7.77</td>\n",
       "      <td>3.0</td>\n",
       "      <td>2.0</td>\n",
       "      <td>29.0</td>\n",
       "      <td>7.0</td>\n",
       "      <td>33.0</td>\n",
       "      <td>0.0</td>\n",
       "      <td>1.0</td>\n",
       "      <td>2.0</td>\n",
       "      <td>0.0</td>\n",
       "      <td>0.0</td>\n",
       "    </tr>\n",
       "    <tr>\n",
       "      <th>1</th>\n",
       "      <td>407.0</td>\n",
       "      <td>1.0</td>\n",
       "      <td>26.0</td>\n",
       "      <td>93.0</td>\n",
       "      <td>1.0</td>\n",
       "      <td>55.0</td>\n",
       "      <td>3.0</td>\n",
       "      <td>4.0</td>\n",
       "      <td>7.77</td>\n",
       "      <td>3.0</td>\n",
       "      <td>3.0</td>\n",
       "      <td>27.0</td>\n",
       "      <td>20.0</td>\n",
       "      <td>63.0</td>\n",
       "      <td>1.0</td>\n",
       "      <td>7.0</td>\n",
       "      <td>3.0</td>\n",
       "      <td>0.0</td>\n",
       "      <td>1.0</td>\n",
       "    </tr>\n",
       "    <tr>\n",
       "      <th>2</th>\n",
       "      <td>417.0</td>\n",
       "      <td>1.0</td>\n",
       "      <td>33.0</td>\n",
       "      <td>97.0</td>\n",
       "      <td>0.0</td>\n",
       "      <td>55.0</td>\n",
       "      <td>5.0</td>\n",
       "      <td>3.0</td>\n",
       "      <td>8.97</td>\n",
       "      <td>2.0</td>\n",
       "      <td>3.0</td>\n",
       "      <td>15.0</td>\n",
       "      <td>7.0</td>\n",
       "      <td>21.0</td>\n",
       "      <td>1.0</td>\n",
       "      <td>3.0</td>\n",
       "      <td>1.0</td>\n",
       "      <td>0.0</td>\n",
       "      <td>1.0</td>\n",
       "    </tr>\n",
       "    <tr>\n",
       "      <th>3</th>\n",
       "      <td>417.0</td>\n",
       "      <td>1.0</td>\n",
       "      <td>22.0</td>\n",
       "      <td>64.0</td>\n",
       "      <td>1.0</td>\n",
       "      <td>55.0</td>\n",
       "      <td>3.0</td>\n",
       "      <td>5.0</td>\n",
       "      <td>7.77</td>\n",
       "      <td>3.0</td>\n",
       "      <td>1.0</td>\n",
       "      <td>27.0</td>\n",
       "      <td>15.0</td>\n",
       "      <td>28.0</td>\n",
       "      <td>1.0</td>\n",
       "      <td>10.0</td>\n",
       "      <td>1.0</td>\n",
       "      <td>1.0</td>\n",
       "      <td>1.0</td>\n",
       "    </tr>\n",
       "    <tr>\n",
       "      <th>4</th>\n",
       "      <td>286.0</td>\n",
       "      <td>0.0</td>\n",
       "      <td>30.0</td>\n",
       "      <td>37.0</td>\n",
       "      <td>1.0</td>\n",
       "      <td>9.0</td>\n",
       "      <td>3.0</td>\n",
       "      <td>1.0</td>\n",
       "      <td>7.77</td>\n",
       "      <td>3.0</td>\n",
       "      <td>1.0</td>\n",
       "      <td>15.0</td>\n",
       "      <td>20.0</td>\n",
       "      <td>28.0</td>\n",
       "      <td>1.0</td>\n",
       "      <td>9.0</td>\n",
       "      <td>4.0</td>\n",
       "      <td>1.0</td>\n",
       "      <td>0.0</td>\n",
       "    </tr>\n",
       "  </tbody>\n",
       "</table>\n",
       "</div>"
      ],
      "text/plain": [
       "    Name  Gender   Age  City  Working Professional or Student  Profession  \\\n",
       "0   11.0     0.0  49.0  50.0                              1.0        10.0   \n",
       "1  407.0     1.0  26.0  93.0                              1.0        55.0   \n",
       "2  417.0     1.0  33.0  97.0                              0.0        55.0   \n",
       "3  417.0     1.0  22.0  64.0                              1.0        55.0   \n",
       "4  286.0     0.0  30.0  37.0                              1.0         9.0   \n",
       "\n",
       "   Academic Pressure  Work Pressure  CGPA  Study Satisfaction  \\\n",
       "0                3.0            5.0  7.77                 3.0   \n",
       "1                3.0            4.0  7.77                 3.0   \n",
       "2                5.0            3.0  8.97                 2.0   \n",
       "3                3.0            5.0  7.77                 3.0   \n",
       "4                3.0            1.0  7.77                 3.0   \n",
       "\n",
       "   Job Satisfaction  Sleep Duration  Dietary Habits  Degree  \\\n",
       "0               2.0            29.0             7.0    33.0   \n",
       "1               3.0            27.0            20.0    63.0   \n",
       "2               3.0            15.0             7.0    21.0   \n",
       "3               1.0            27.0            15.0    28.0   \n",
       "4               1.0            15.0            20.0    28.0   \n",
       "\n",
       "   Have you ever had suicidal thoughts ?  Work/Study Hours  Financial Stress  \\\n",
       "0                                    0.0               1.0               2.0   \n",
       "1                                    1.0               7.0               3.0   \n",
       "2                                    1.0               3.0               1.0   \n",
       "3                                    1.0              10.0               1.0   \n",
       "4                                    1.0               9.0               4.0   \n",
       "\n",
       "   Family History of Mental Illness  Depression  \n",
       "0                               0.0         0.0  \n",
       "1                               0.0         1.0  \n",
       "2                               0.0         1.0  \n",
       "3                               1.0         1.0  \n",
       "4                               1.0         0.0  "
      ]
     },
     "metadata": {},
     "output_type": "display_data"
    },
    {
     "data": {
      "text/html": [
       "<div>\n",
       "<style scoped>\n",
       "    .dataframe tbody tr th:only-of-type {\n",
       "        vertical-align: middle;\n",
       "    }\n",
       "\n",
       "    .dataframe tbody tr th {\n",
       "        vertical-align: top;\n",
       "    }\n",
       "\n",
       "    .dataframe thead th {\n",
       "        text-align: right;\n",
       "    }\n",
       "</style>\n",
       "<table border=\"1\" class=\"dataframe\">\n",
       "  <thead>\n",
       "    <tr style=\"text-align: right;\">\n",
       "      <th></th>\n",
       "      <th>Name</th>\n",
       "      <th>Gender</th>\n",
       "      <th>Age</th>\n",
       "      <th>City</th>\n",
       "      <th>Working Professional or Student</th>\n",
       "      <th>Profession</th>\n",
       "      <th>Academic Pressure</th>\n",
       "      <th>Work Pressure</th>\n",
       "      <th>CGPA</th>\n",
       "      <th>Study Satisfaction</th>\n",
       "      <th>Job Satisfaction</th>\n",
       "      <th>Sleep Duration</th>\n",
       "      <th>Dietary Habits</th>\n",
       "      <th>Degree</th>\n",
       "      <th>Have you ever had suicidal thoughts ?</th>\n",
       "      <th>Work/Study Hours</th>\n",
       "      <th>Financial Stress</th>\n",
       "      <th>Family History of Mental Illness</th>\n",
       "    </tr>\n",
       "  </thead>\n",
       "  <tbody>\n",
       "    <tr>\n",
       "      <th>0</th>\n",
       "      <td>336.0</td>\n",
       "      <td>1.0</td>\n",
       "      <td>53.0</td>\n",
       "      <td>97.0</td>\n",
       "      <td>1.0</td>\n",
       "      <td>31.0</td>\n",
       "      <td>3.0</td>\n",
       "      <td>2.0</td>\n",
       "      <td>7.77</td>\n",
       "      <td>3.0</td>\n",
       "      <td>5.0</td>\n",
       "      <td>27.0</td>\n",
       "      <td>15.0</td>\n",
       "      <td>63.0</td>\n",
       "      <td>0.0</td>\n",
       "      <td>9.0</td>\n",
       "      <td>3.0</td>\n",
       "      <td>1.0</td>\n",
       "    </tr>\n",
       "    <tr>\n",
       "      <th>1</th>\n",
       "      <td>324.0</td>\n",
       "      <td>0.0</td>\n",
       "      <td>58.0</td>\n",
       "      <td>44.0</td>\n",
       "      <td>1.0</td>\n",
       "      <td>21.0</td>\n",
       "      <td>3.0</td>\n",
       "      <td>2.0</td>\n",
       "      <td>7.77</td>\n",
       "      <td>3.0</td>\n",
       "      <td>4.0</td>\n",
       "      <td>27.0</td>\n",
       "      <td>15.0</td>\n",
       "      <td>20.0</td>\n",
       "      <td>0.0</td>\n",
       "      <td>6.0</td>\n",
       "      <td>4.0</td>\n",
       "      <td>0.0</td>\n",
       "    </tr>\n",
       "    <tr>\n",
       "      <th>2</th>\n",
       "      <td>413.0</td>\n",
       "      <td>1.0</td>\n",
       "      <td>53.0</td>\n",
       "      <td>33.0</td>\n",
       "      <td>1.0</td>\n",
       "      <td>55.0</td>\n",
       "      <td>3.0</td>\n",
       "      <td>4.0</td>\n",
       "      <td>7.77</td>\n",
       "      <td>3.0</td>\n",
       "      <td>1.0</td>\n",
       "      <td>19.0</td>\n",
       "      <td>15.0</td>\n",
       "      <td>17.0</td>\n",
       "      <td>1.0</td>\n",
       "      <td>12.0</td>\n",
       "      <td>4.0</td>\n",
       "      <td>0.0</td>\n",
       "    </tr>\n",
       "    <tr>\n",
       "      <th>3</th>\n",
       "      <td>217.0</td>\n",
       "      <td>0.0</td>\n",
       "      <td>23.0</td>\n",
       "      <td>78.0</td>\n",
       "      <td>0.0</td>\n",
       "      <td>55.0</td>\n",
       "      <td>5.0</td>\n",
       "      <td>3.0</td>\n",
       "      <td>6.84</td>\n",
       "      <td>1.0</td>\n",
       "      <td>3.0</td>\n",
       "      <td>29.0</td>\n",
       "      <td>15.0</td>\n",
       "      <td>36.0</td>\n",
       "      <td>1.0</td>\n",
       "      <td>10.0</td>\n",
       "      <td>4.0</td>\n",
       "      <td>0.0</td>\n",
       "    </tr>\n",
       "    <tr>\n",
       "      <th>4</th>\n",
       "      <td>332.0</td>\n",
       "      <td>1.0</td>\n",
       "      <td>47.0</td>\n",
       "      <td>36.0</td>\n",
       "      <td>1.0</td>\n",
       "      <td>55.0</td>\n",
       "      <td>3.0</td>\n",
       "      <td>5.0</td>\n",
       "      <td>7.77</td>\n",
       "      <td>3.0</td>\n",
       "      <td>5.0</td>\n",
       "      <td>19.0</td>\n",
       "      <td>15.0</td>\n",
       "      <td>29.0</td>\n",
       "      <td>1.0</td>\n",
       "      <td>3.0</td>\n",
       "      <td>4.0</td>\n",
       "      <td>0.0</td>\n",
       "    </tr>\n",
       "  </tbody>\n",
       "</table>\n",
       "</div>"
      ],
      "text/plain": [
       "    Name  Gender   Age  City  Working Professional or Student  Profession  \\\n",
       "0  336.0     1.0  53.0  97.0                              1.0        31.0   \n",
       "1  324.0     0.0  58.0  44.0                              1.0        21.0   \n",
       "2  413.0     1.0  53.0  33.0                              1.0        55.0   \n",
       "3  217.0     0.0  23.0  78.0                              0.0        55.0   \n",
       "4  332.0     1.0  47.0  36.0                              1.0        55.0   \n",
       "\n",
       "   Academic Pressure  Work Pressure  CGPA  Study Satisfaction  \\\n",
       "0                3.0            2.0  7.77                 3.0   \n",
       "1                3.0            2.0  7.77                 3.0   \n",
       "2                3.0            4.0  7.77                 3.0   \n",
       "3                5.0            3.0  6.84                 1.0   \n",
       "4                3.0            5.0  7.77                 3.0   \n",
       "\n",
       "   Job Satisfaction  Sleep Duration  Dietary Habits  Degree  \\\n",
       "0               5.0            27.0            15.0    63.0   \n",
       "1               4.0            27.0            15.0    20.0   \n",
       "2               1.0            19.0            15.0    17.0   \n",
       "3               3.0            29.0            15.0    36.0   \n",
       "4               5.0            19.0            15.0    29.0   \n",
       "\n",
       "   Have you ever had suicidal thoughts ?  Work/Study Hours  Financial Stress  \\\n",
       "0                                    0.0               9.0               3.0   \n",
       "1                                    0.0               6.0               4.0   \n",
       "2                                    1.0              12.0               4.0   \n",
       "3                                    1.0              10.0               4.0   \n",
       "4                                    1.0               3.0               4.0   \n",
       "\n",
       "   Family History of Mental Illness  \n",
       "0                               1.0  \n",
       "1                               0.0  \n",
       "2                               0.0  \n",
       "3                               0.0  \n",
       "4                               0.0  "
      ]
     },
     "metadata": {},
     "output_type": "display_data"
    }
   ],
   "source": [
    "if 'SOLUTION_12' in ENSEMBLE_SOLUTIONS:\n",
    "    \n",
    "    display(df_train_imputed.head(), df_test_imputed.head())"
   ]
  },
  {
   "cell_type": "code",
   "execution_count": 85,
   "id": "dfea3475",
   "metadata": {
    "_kg_hide-input": true,
    "_kg_hide-output": true,
    "execution": {
     "iopub.execute_input": "2024-11-07T02:13:51.304225Z",
     "iopub.status.busy": "2024-11-07T02:13:51.303251Z",
     "iopub.status.idle": "2024-11-07T02:13:51.316453Z",
     "shell.execute_reply": "2024-11-07T02:13:51.315443Z"
    },
    "papermill": {
     "duration": 0.086038,
     "end_time": "2024-11-07T02:13:51.318806",
     "exception": false,
     "start_time": "2024-11-07T02:13:51.232768",
     "status": "completed"
    },
    "tags": []
   },
   "outputs": [],
   "source": [
    "if 'SOLUTION_12' in ENSEMBLE_SOLUTIONS:\n",
    "    \n",
    "    df_train = df_train_imputed\n",
    "    df_test = df_test_imputed"
   ]
  },
  {
   "cell_type": "code",
   "execution_count": 86,
   "id": "64397d97",
   "metadata": {
    "_kg_hide-input": true,
    "_kg_hide-output": true,
    "execution": {
     "iopub.execute_input": "2024-11-07T02:13:51.451021Z",
     "iopub.status.busy": "2024-11-07T02:13:51.450049Z",
     "iopub.status.idle": "2024-11-07T02:13:51.455373Z",
     "shell.execute_reply": "2024-11-07T02:13:51.454424Z"
    },
    "papermill": {
     "duration": 0.069969,
     "end_time": "2024-11-07T02:13:51.457333",
     "exception": false,
     "start_time": "2024-11-07T02:13:51.387364",
     "status": "completed"
    },
    "tags": []
   },
   "outputs": [],
   "source": [
    "if 'SOLUTION_12' in ENSEMBLE_SOLUTIONS:\n",
    "    \n",
    "    df_test.head()"
   ]
  },
  {
   "cell_type": "code",
   "execution_count": 87,
   "id": "091364c5",
   "metadata": {
    "_kg_hide-input": true,
    "_kg_hide-output": true,
    "execution": {
     "iopub.execute_input": "2024-11-07T02:13:51.582807Z",
     "iopub.status.busy": "2024-11-07T02:13:51.581698Z",
     "iopub.status.idle": "2024-11-07T02:13:51.595929Z",
     "shell.execute_reply": "2024-11-07T02:13:51.595042Z"
    },
    "papermill": {
     "duration": 0.078679,
     "end_time": "2024-11-07T02:13:51.598087",
     "exception": false,
     "start_time": "2024-11-07T02:13:51.519408",
     "status": "completed"
    },
    "tags": []
   },
   "outputs": [],
   "source": [
    "if 'SOLUTION_12' in ENSEMBLE_SOLUTIONS:\n",
    "    \n",
    "    y = df_train['Depression'] \n",
    "    X = df_train.drop(['Depression'],axis=1)"
   ]
  },
  {
   "cell_type": "code",
   "execution_count": 88,
   "id": "2cad7b59",
   "metadata": {
    "_kg_hide-input": true,
    "_kg_hide-output": true,
    "execution": {
     "iopub.execute_input": "2024-11-07T02:13:51.722173Z",
     "iopub.status.busy": "2024-11-07T02:13:51.721078Z",
     "iopub.status.idle": "2024-11-07T02:13:51.727888Z",
     "shell.execute_reply": "2024-11-07T02:13:51.726947Z"
    },
    "papermill": {
     "duration": 0.07134,
     "end_time": "2024-11-07T02:13:51.730337",
     "exception": false,
     "start_time": "2024-11-07T02:13:51.658997",
     "status": "completed"
    },
    "tags": []
   },
   "outputs": [],
   "source": [
    "if 'SOLUTION_12' in ENSEMBLE_SOLUTIONS:\n",
    "    \n",
    "    catboost_params = {\n",
    "        'loss_function': 'Logloss',\n",
    "        'eval_metric': 'AUC',\n",
    "        'learning_rate': 0.08114394459649094,\n",
    "        'iterations': 1000,\n",
    "        'depth': 6,\n",
    "        'random_strength':0,\n",
    "        'l2_leaf_reg': 0.7047064221215757,\n",
    "        'task_type':'GPU',\n",
    "        'random_seed':42,\n",
    "        'verbose':False    \n",
    "    }"
   ]
  },
  {
   "cell_type": "code",
   "execution_count": 89,
   "id": "224c91a6",
   "metadata": {
    "_kg_hide-input": true,
    "_kg_hide-output": true,
    "execution": {
     "iopub.execute_input": "2024-11-07T02:13:51.865930Z",
     "iopub.status.busy": "2024-11-07T02:13:51.864964Z",
     "iopub.status.idle": "2024-11-07T02:16:59.026793Z",
     "shell.execute_reply": "2024-11-07T02:16:59.025745Z"
    },
    "papermill": {
     "duration": 187.292867,
     "end_time": "2024-11-07T02:16:59.095078",
     "exception": false,
     "start_time": "2024-11-07T02:13:51.802211",
     "status": "completed"
    },
    "tags": []
   },
   "outputs": [
    {
     "name": "stderr",
     "output_type": "stream",
     "text": [
      "Default metric period is 5 because AUC is/are not implemented for GPU\n"
     ]
    },
    {
     "name": "stdout",
     "output_type": "stream",
     "text": [
      "Fold 1 accuracy_score: 0.9405975150076783\n"
     ]
    },
    {
     "name": "stderr",
     "output_type": "stream",
     "text": [
      "Default metric period is 5 because AUC is/are not implemented for GPU\n"
     ]
    },
    {
     "name": "stdout",
     "output_type": "stream",
     "text": [
      "Fold 2 accuracy_score: 0.9394785522320338\n"
     ]
    },
    {
     "name": "stderr",
     "output_type": "stream",
     "text": [
      "Default metric period is 5 because AUC is/are not implemented for GPU\n"
     ]
    },
    {
     "name": "stdout",
     "output_type": "stream",
     "text": [
      "Fold 3 accuracy_score: 0.9409444696520192\n"
     ]
    },
    {
     "name": "stderr",
     "output_type": "stream",
     "text": [
      "Default metric period is 5 because AUC is/are not implemented for GPU\n"
     ]
    },
    {
     "name": "stdout",
     "output_type": "stream",
     "text": [
      "Fold 4 accuracy_score: 0.9411538864263027\n"
     ]
    },
    {
     "name": "stderr",
     "output_type": "stream",
     "text": [
      "Default metric period is 5 because AUC is/are not implemented for GPU\n"
     ]
    },
    {
     "name": "stdout",
     "output_type": "stream",
     "text": [
      "Fold 5 accuracy_score: 0.9395483578234617\n",
      "Cross-validated accuracy_score: 0.940 +/- 0.001\n",
      "Max accuracy_score score: 0.941\n",
      "Min accuracy_score score: 0.939\n"
     ]
    }
   ],
   "source": [
    "if 'SOLUTION_12' in ENSEMBLE_SOLUTIONS:\n",
    "    \n",
    "    # Convert categorical features to strings and fill NaN values with 'missing'\n",
    "    X = X.astype({col: 'str' for col in X.select_dtypes(include=['float', 'int']).columns})\n",
    "    X = X.fillna(\"missing\")\n",
    "    df_test = df_test.astype({col: 'str' for col in df_test.select_dtypes(include=['float', 'int']).columns})\n",
    "    df_test = df_test.fillna(\"missing\")\n",
    "    cv = StratifiedKFold(5, shuffle=True, random_state=0)\n",
    "    cv_splits = cv.split(X, y)\n",
    "    scores = []\n",
    "    test_preds = []\n",
    "    X_test_pool = Pool(df_test, cat_features=X.columns.values)\n",
    "    for i, (train_idx, val_idx) in enumerate(cv_splits):\n",
    "        model = CatBoostClassifier(**catboost_params)\n",
    "        X_train_fold, X_val_fold = X.iloc[train_idx], X.iloc[val_idx]\n",
    "        y_train_fold, y_val_fold = y.iloc[train_idx], y.iloc[val_idx]\n",
    "        X_train_pool = Pool(X_train_fold, y_train_fold, cat_features=X.columns.values)\n",
    "        X_valid_pool = Pool(X_val_fold, y_val_fold, cat_features=X.columns.values)\n",
    "        model.fit(X=X_train_pool, eval_set=X_valid_pool, verbose=False, early_stopping_rounds=200)\n",
    "        val_pred = model.predict(X_valid_pool)\n",
    "        score = accuracy_score(y_val_fold, val_pred)\n",
    "        scores.append(score)\n",
    "        test_pred = model.predict_proba(X_test_pool)[:, 1]\n",
    "        test_preds.append(test_pred)\n",
    "        print(f'Fold {i + 1} accuracy_score: {score}')\n",
    "    print(f'Cross-validated accuracy_score: {np.mean(scores):.3f} +/- {np.std(scores):.3f}')\n",
    "    print(f'Max accuracy_score score: {np.max(scores):.3f}')\n",
    "    print(f'Min accuracy_score score: {np.min(scores):.3f}')"
   ]
  },
  {
   "cell_type": "code",
   "execution_count": 90,
   "id": "496d424f",
   "metadata": {
    "_kg_hide-input": true,
    "_kg_hide-output": true,
    "execution": {
     "iopub.execute_input": "2024-11-07T02:16:59.223301Z",
     "iopub.status.busy": "2024-11-07T02:16:59.222410Z",
     "iopub.status.idle": "2024-11-07T02:16:59.401451Z",
     "shell.execute_reply": "2024-11-07T02:16:59.400454Z"
    },
    "papermill": {
     "duration": 0.246777,
     "end_time": "2024-11-07T02:16:59.403784",
     "exception": false,
     "start_time": "2024-11-07T02:16:59.157007",
     "status": "completed"
    },
    "tags": []
   },
   "outputs": [],
   "source": [
    "if 'SOLUTION_12' in ENSEMBLE_SOLUTIONS:\n",
    "    \n",
    "    sample_submission = pd.read_csv('/kaggle/input/playground-series-s4e11/sample_submission.csv')\n",
    "    sample_submission['Depression'] = np.round(np.mean(test_preds, axis=0))\n",
    "    sample_submission.to_csv('subm_12.csv', index=False)\n",
    "    sample_submission.head(10)"
   ]
  },
  {
   "cell_type": "markdown",
   "id": "f4ae4abc",
   "metadata": {
    "papermill": {
     "duration": 0.062278,
     "end_time": "2024-11-07T02:16:59.528531",
     "exception": false,
     "start_time": "2024-11-07T02:16:59.466253",
     "status": "completed"
    },
    "tags": []
   },
   "source": [
    "## 14. [100000 % EASY || CATBoost CHILL ,No Depression](https://www.kaggle.com/code/sunilkumarmuduli/100000-easy-catboost-chill-no-depression), Lb=0.94376\n",
    "### [SUNIL KUMAR MUDULI](https://www.kaggle.com/sunilkumarmuduli)"
   ]
  },
  {
   "cell_type": "code",
   "execution_count": 91,
   "id": "76e7de54",
   "metadata": {
    "_kg_hide-input": true,
    "_kg_hide-output": true,
    "execution": {
     "iopub.execute_input": "2024-11-07T02:16:59.653809Z",
     "iopub.status.busy": "2024-11-07T02:16:59.653048Z",
     "iopub.status.idle": "2024-11-07T02:16:59.658949Z",
     "shell.execute_reply": "2024-11-07T02:16:59.658060Z"
    },
    "papermill": {
     "duration": 0.070543,
     "end_time": "2024-11-07T02:16:59.660873",
     "exception": false,
     "start_time": "2024-11-07T02:16:59.590330",
     "status": "completed"
    },
    "tags": []
   },
   "outputs": [],
   "source": [
    "if 'SOLUTION_14' in ENSEMBLE_SOLUTIONS:\n",
    "\n",
    "    import pandas as pd\n",
    "    import numpy as np\n",
    "    import matplotlib.pyplot as plt\n",
    "    import seaborn as sns\n",
    "    from catboost import Pool, CatBoostClassifier\n",
    "    from sklearn.model_selection import StratifiedKFold\n",
    "    from sklearn.metrics import accuracy_score, f1_score, roc_auc_score\n",
    "    import optuna\n",
    "    from optuna.samplers import TPESampler\n",
    "    import warnings\n",
    "    import shap\n",
    "    warnings.filterwarnings(\"ignore\")"
   ]
  },
  {
   "cell_type": "code",
   "execution_count": 92,
   "id": "7004667f",
   "metadata": {
    "_kg_hide-input": true,
    "_kg_hide-output": true,
    "execution": {
     "iopub.execute_input": "2024-11-07T02:16:59.786677Z",
     "iopub.status.busy": "2024-11-07T02:16:59.785811Z",
     "iopub.status.idle": "2024-11-07T02:16:59.790925Z",
     "shell.execute_reply": "2024-11-07T02:16:59.790006Z"
    },
    "papermill": {
     "duration": 0.070297,
     "end_time": "2024-11-07T02:16:59.792763",
     "exception": false,
     "start_time": "2024-11-07T02:16:59.722466",
     "status": "completed"
    },
    "tags": []
   },
   "outputs": [],
   "source": [
    "if 'SOLUTION_14' in ENSEMBLE_SOLUTIONS:\n",
    "    \n",
    "    train1   = pd.read_csv('/kaggle/input/playground-series-s4e11/train.csv', index_col='id')\n",
    "    test     = pd.read_csv('/kaggle/input/playground-series-s4e11/test.csv', index_col='id')\n",
    "    original = pd.read_csv('/kaggle/input/depression-surveydataset-for-analysis/final_depression_dataset_1.csv')"
   ]
  },
  {
   "cell_type": "code",
   "execution_count": 93,
   "id": "7704487b",
   "metadata": {
    "_kg_hide-input": true,
    "_kg_hide-output": true,
    "execution": {
     "iopub.execute_input": "2024-11-07T02:16:59.918681Z",
     "iopub.status.busy": "2024-11-07T02:16:59.917914Z",
     "iopub.status.idle": "2024-11-07T02:16:59.922309Z",
     "shell.execute_reply": "2024-11-07T02:16:59.921419Z"
    },
    "papermill": {
     "duration": 0.069356,
     "end_time": "2024-11-07T02:16:59.924303",
     "exception": false,
     "start_time": "2024-11-07T02:16:59.854947",
     "status": "completed"
    },
    "tags": []
   },
   "outputs": [],
   "source": [
    "if 'SOLUTION_14' in ENSEMBLE_SOLUTIONS:\n",
    "    \n",
    "    train1.head()"
   ]
  },
  {
   "cell_type": "code",
   "execution_count": 94,
   "id": "a1a8570b",
   "metadata": {
    "_kg_hide-input": true,
    "_kg_hide-output": true,
    "execution": {
     "iopub.execute_input": "2024-11-07T02:17:00.051412Z",
     "iopub.status.busy": "2024-11-07T02:17:00.050627Z",
     "iopub.status.idle": "2024-11-07T02:17:00.056333Z",
     "shell.execute_reply": "2024-11-07T02:17:00.055418Z"
    },
    "papermill": {
     "duration": 0.071729,
     "end_time": "2024-11-07T02:17:00.058389",
     "exception": false,
     "start_time": "2024-11-07T02:16:59.986660",
     "status": "completed"
    },
    "tags": []
   },
   "outputs": [],
   "source": [
    "if 'SOLUTION_14' in ENSEMBLE_SOLUTIONS:\n",
    "    \n",
    "    print(train1.info())\n",
    "    print(\"-\"*50)\n",
    "    print(train1.describe())\n",
    "    print(\"-\"*50)\n",
    "    print(train1.isnull().sum())\n",
    "    print(\"-\"*50)\n",
    "    print(\"Duplicated Rows:\",train1.duplicated().sum())"
   ]
  },
  {
   "cell_type": "code",
   "execution_count": 95,
   "id": "cf33a2cc",
   "metadata": {
    "_kg_hide-input": true,
    "_kg_hide-output": true,
    "execution": {
     "iopub.execute_input": "2024-11-07T02:17:00.184817Z",
     "iopub.status.busy": "2024-11-07T02:17:00.184341Z",
     "iopub.status.idle": "2024-11-07T02:17:00.188732Z",
     "shell.execute_reply": "2024-11-07T02:17:00.187832Z"
    },
    "papermill": {
     "duration": 0.070304,
     "end_time": "2024-11-07T02:17:00.190603",
     "exception": false,
     "start_time": "2024-11-07T02:17:00.120299",
     "status": "completed"
    },
    "tags": []
   },
   "outputs": [],
   "source": [
    "if 'SOLUTION_14' in ENSEMBLE_SOLUTIONS:\n",
    "    \n",
    "    original.head()"
   ]
  },
  {
   "cell_type": "code",
   "execution_count": 96,
   "id": "8f814187",
   "metadata": {
    "_kg_hide-input": true,
    "_kg_hide-output": true,
    "execution": {
     "iopub.execute_input": "2024-11-07T02:17:00.329062Z",
     "iopub.status.busy": "2024-11-07T02:17:00.327292Z",
     "iopub.status.idle": "2024-11-07T02:17:00.334073Z",
     "shell.execute_reply": "2024-11-07T02:17:00.332932Z"
    },
    "papermill": {
     "duration": 0.083739,
     "end_time": "2024-11-07T02:17:00.336136",
     "exception": false,
     "start_time": "2024-11-07T02:17:00.252397",
     "status": "completed"
    },
    "tags": []
   },
   "outputs": [],
   "source": [
    "if 'SOLUTION_14' in ENSEMBLE_SOLUTIONS:\n",
    "    \n",
    "    original['Depression'] = original['Depression'].map({\"Yes\": 1, \"No\": 0})"
   ]
  },
  {
   "cell_type": "code",
   "execution_count": 97,
   "id": "e6bfe57f",
   "metadata": {
    "_kg_hide-input": true,
    "_kg_hide-output": true,
    "execution": {
     "iopub.execute_input": "2024-11-07T02:17:00.476425Z",
     "iopub.status.busy": "2024-11-07T02:17:00.475513Z",
     "iopub.status.idle": "2024-11-07T02:17:00.481371Z",
     "shell.execute_reply": "2024-11-07T02:17:00.480324Z"
    },
    "papermill": {
     "duration": 0.085407,
     "end_time": "2024-11-07T02:17:00.483945",
     "exception": false,
     "start_time": "2024-11-07T02:17:00.398538",
     "status": "completed"
    },
    "tags": []
   },
   "outputs": [],
   "source": [
    "if 'SOLUTION_14' in ENSEMBLE_SOLUTIONS:\n",
    "    \n",
    "    train = pd.concat([train1, original], ignore_index=True)"
   ]
  },
  {
   "cell_type": "code",
   "execution_count": 98,
   "id": "eaaeaaf9",
   "metadata": {
    "_kg_hide-input": true,
    "_kg_hide-output": true,
    "execution": {
     "iopub.execute_input": "2024-11-07T02:17:00.611057Z",
     "iopub.status.busy": "2024-11-07T02:17:00.610281Z",
     "iopub.status.idle": "2024-11-07T02:17:00.615024Z",
     "shell.execute_reply": "2024-11-07T02:17:00.614017Z"
    },
    "papermill": {
     "duration": 0.070199,
     "end_time": "2024-11-07T02:17:00.617138",
     "exception": false,
     "start_time": "2024-11-07T02:17:00.546939",
     "status": "completed"
    },
    "tags": []
   },
   "outputs": [],
   "source": [
    "if 'SOLUTION_14' in ENSEMBLE_SOLUTIONS:\n",
    "    \n",
    "    train.head()"
   ]
  },
  {
   "cell_type": "code",
   "execution_count": 99,
   "id": "882875ea",
   "metadata": {
    "_kg_hide-input": true,
    "_kg_hide-output": true,
    "execution": {
     "iopub.execute_input": "2024-11-07T02:17:00.742316Z",
     "iopub.status.busy": "2024-11-07T02:17:00.741908Z",
     "iopub.status.idle": "2024-11-07T02:17:00.747526Z",
     "shell.execute_reply": "2024-11-07T02:17:00.746614Z"
    },
    "papermill": {
     "duration": 0.070481,
     "end_time": "2024-11-07T02:17:00.749471",
     "exception": false,
     "start_time": "2024-11-07T02:17:00.678990",
     "status": "completed"
    },
    "tags": []
   },
   "outputs": [],
   "source": [
    "if 'SOLUTION_14' in ENSEMBLE_SOLUTIONS:\n",
    "    \n",
    "    print(train.info())\n",
    "    print(\"-\"*50)\n",
    "    print(train.describe())\n",
    "    print(\"-\"*50)\n",
    "    print(train.isnull().sum())\n",
    "    print(\"-\"*50)\n",
    "    print(\"Duplicated Rows:\",train.duplicated().sum())"
   ]
  },
  {
   "cell_type": "code",
   "execution_count": 100,
   "id": "16a84892",
   "metadata": {
    "_kg_hide-input": true,
    "_kg_hide-output": true,
    "execution": {
     "iopub.execute_input": "2024-11-07T02:17:00.874810Z",
     "iopub.status.busy": "2024-11-07T02:17:00.874124Z",
     "iopub.status.idle": "2024-11-07T02:17:00.879429Z",
     "shell.execute_reply": "2024-11-07T02:17:00.878527Z"
    },
    "papermill": {
     "duration": 0.069902,
     "end_time": "2024-11-07T02:17:00.881348",
     "exception": false,
     "start_time": "2024-11-07T02:17:00.811446",
     "status": "completed"
    },
    "tags": []
   },
   "outputs": [],
   "source": [
    "if 'SOLUTION_14' in ENSEMBLE_SOLUTIONS:\n",
    "    \n",
    "    train = train.fillna('None').astype('string')\n",
    "    test = test.fillna('None').astype('string')\n",
    "\n",
    "    y = train['Depression']\n",
    "    X = train.drop(['Depression'], axis=1)"
   ]
  },
  {
   "cell_type": "code",
   "execution_count": 101,
   "id": "a8afbef3",
   "metadata": {
    "_kg_hide-input": true,
    "_kg_hide-output": true,
    "execution": {
     "iopub.execute_input": "2024-11-07T02:17:01.007198Z",
     "iopub.status.busy": "2024-11-07T02:17:01.006309Z",
     "iopub.status.idle": "2024-11-07T02:17:01.011757Z",
     "shell.execute_reply": "2024-11-07T02:17:01.010841Z"
    },
    "papermill": {
     "duration": 0.070371,
     "end_time": "2024-11-07T02:17:01.013758",
     "exception": false,
     "start_time": "2024-11-07T02:17:00.943387",
     "status": "completed"
    },
    "tags": []
   },
   "outputs": [],
   "source": [
    "if 'SOLUTION_14' in ENSEMBLE_SOLUTIONS:\n",
    "    \n",
    "    catboost_params = {\n",
    "        'loss_function': 'Logloss',\n",
    "        'eval_metric': 'AUC',\n",
    "        'learning_rate': 0.08114394459649094,\n",
    "        'iterations': 1000,\n",
    "        'depth': 6,\n",
    "        'random_strength':0,\n",
    "        'l2_leaf_reg': 0.7047064221215757,\n",
    "        'random_seed':42,\n",
    "        'verbose':False,\n",
    "        'task_type': 'GPU'\n",
    "    }"
   ]
  },
  {
   "cell_type": "code",
   "execution_count": 102,
   "id": "5dd126ed",
   "metadata": {
    "_kg_hide-input": true,
    "_kg_hide-output": true,
    "execution": {
     "iopub.execute_input": "2024-11-07T02:17:01.138909Z",
     "iopub.status.busy": "2024-11-07T02:17:01.138550Z",
     "iopub.status.idle": "2024-11-07T02:17:01.147353Z",
     "shell.execute_reply": "2024-11-07T02:17:01.146397Z"
    },
    "papermill": {
     "duration": 0.07396,
     "end_time": "2024-11-07T02:17:01.149376",
     "exception": false,
     "start_time": "2024-11-07T02:17:01.075416",
     "status": "completed"
    },
    "tags": []
   },
   "outputs": [],
   "source": [
    "if 'SOLUTION_14' in ENSEMBLE_SOLUTIONS:\n",
    "    \n",
    "    cv = StratifiedKFold(5, shuffle=True, random_state=0)\n",
    "    cv_splits = cv.split(X, y)\n",
    "    scores = []\n",
    "    test_preds = []\n",
    "    X_test_pool = Pool(test, cat_features=X.columns.values)\n",
    "    for i, (train_idx, val_idx) in enumerate(cv_splits):\n",
    "        model = CatBoostClassifier(**catboost_params)\n",
    "        X_train_fold, X_val_fold = X.loc[train_idx], X.loc[val_idx]\n",
    "        y_train_fold, y_val_fold = y.loc[train_idx], y.loc[val_idx]\n",
    "        X_train_pool = Pool(X_train_fold, y_train_fold, cat_features=X.columns.values)\n",
    "        X_valid_pool = Pool(X_val_fold, y_val_fold, cat_features=X.columns.values)\n",
    "        model.fit(X=X_train_pool, eval_set=X_valid_pool, verbose=False, early_stopping_rounds=200)\n",
    "        val_pred = model.predict(X_valid_pool)\n",
    "        score = accuracy_score(y_val_fold, val_pred)\n",
    "        scores.append(score)\n",
    "        test_pred = model.predict_proba(X_test_pool)[:, 1]\n",
    "        test_preds.append(test_pred)\n",
    "        print(f'Fold {i + 1} accuracy_score: {score}')\n",
    "    print(f'Cross-validated accuracy_score: {np.mean(scores):.3f} +/- {np.std(scores):.3f}')"
   ]
  },
  {
   "cell_type": "code",
   "execution_count": 103,
   "id": "2ac3f88a",
   "metadata": {
    "_kg_hide-input": true,
    "_kg_hide-output": true,
    "execution": {
     "iopub.execute_input": "2024-11-07T02:17:01.276578Z",
     "iopub.status.busy": "2024-11-07T02:17:01.275600Z",
     "iopub.status.idle": "2024-11-07T02:17:01.280615Z",
     "shell.execute_reply": "2024-11-07T02:17:01.279712Z"
    },
    "papermill": {
     "duration": 0.070322,
     "end_time": "2024-11-07T02:17:01.282552",
     "exception": false,
     "start_time": "2024-11-07T02:17:01.212230",
     "status": "completed"
    },
    "tags": []
   },
   "outputs": [],
   "source": [
    "if 'SOLUTION_14' in ENSEMBLE_SOLUTIONS:\n",
    "    \n",
    "    print(f'Max accuracy_score score: {np.max(scores):.3f}')\n",
    "    print(f'Min accuracy_score score: {np.min(scores):.3f}')"
   ]
  },
  {
   "cell_type": "code",
   "execution_count": 104,
   "id": "10984a17",
   "metadata": {
    "_kg_hide-input": true,
    "_kg_hide-output": true,
    "execution": {
     "iopub.execute_input": "2024-11-07T02:17:01.409777Z",
     "iopub.status.busy": "2024-11-07T02:17:01.409331Z",
     "iopub.status.idle": "2024-11-07T02:17:01.413916Z",
     "shell.execute_reply": "2024-11-07T02:17:01.413010Z"
    },
    "papermill": {
     "duration": 0.069943,
     "end_time": "2024-11-07T02:17:01.415790",
     "exception": false,
     "start_time": "2024-11-07T02:17:01.345847",
     "status": "completed"
    },
    "tags": []
   },
   "outputs": [],
   "source": [
    "if 'SOLUTION_14' in ENSEMBLE_SOLUTIONS:\n",
    "    \n",
    "    test.head()"
   ]
  },
  {
   "cell_type": "code",
   "execution_count": 105,
   "id": "52328535",
   "metadata": {
    "_kg_hide-input": true,
    "_kg_hide-output": true,
    "execution": {
     "iopub.execute_input": "2024-11-07T02:17:01.543477Z",
     "iopub.status.busy": "2024-11-07T02:17:01.542735Z",
     "iopub.status.idle": "2024-11-07T02:17:01.548799Z",
     "shell.execute_reply": "2024-11-07T02:17:01.547335Z"
    },
    "papermill": {
     "duration": 0.072735,
     "end_time": "2024-11-07T02:17:01.551686",
     "exception": false,
     "start_time": "2024-11-07T02:17:01.478951",
     "status": "completed"
    },
    "tags": []
   },
   "outputs": [],
   "source": [
    "if 'SOLUTION_14' in ENSEMBLE_SOLUTIONS:\n",
    "    \n",
    "    sample_submission = pd.read_csv('/kaggle/input/playground-series-s4e11/sample_submission.csv')\n",
    "    sample_submission['Depression'] = np.round(np.mean(test_preds, axis=0))\n",
    "    sample_submission.head(10)"
   ]
  },
  {
   "cell_type": "code",
   "execution_count": 106,
   "id": "f13d9ffd",
   "metadata": {
    "_kg_hide-input": true,
    "_kg_hide-output": true,
    "execution": {
     "iopub.execute_input": "2024-11-07T02:17:01.698016Z",
     "iopub.status.busy": "2024-11-07T02:17:01.697608Z",
     "iopub.status.idle": "2024-11-07T02:17:01.702747Z",
     "shell.execute_reply": "2024-11-07T02:17:01.701696Z"
    },
    "papermill": {
     "duration": 0.075692,
     "end_time": "2024-11-07T02:17:01.704910",
     "exception": false,
     "start_time": "2024-11-07T02:17:01.629218",
     "status": "completed"
    },
    "tags": []
   },
   "outputs": [],
   "source": [
    "if 'SOLUTION_14' in ENSEMBLE_SOLUTIONS:\n",
    "    \n",
    "    sample_submission.to_csv('subm_14.csv', index=False)\n",
    "    print(\"File Saved!!\")"
   ]
  },
  {
   "cell_type": "markdown",
   "id": "7c5ec024",
   "metadata": {
    "papermill": {
     "duration": 0.062921,
     "end_time": "2024-11-07T02:17:01.841663",
     "exception": false,
     "start_time": "2024-11-07T02:17:01.778742",
     "status": "completed"
    },
    "tags": []
   },
   "source": [
    "## 15. [Mental Health | Starter](https://www.kaggle.com/code/backpaker/mental-health-starter), Lb=0.94339\n",
    "### [Backpacker](https://www.kaggle.com/backpaker)"
   ]
  },
  {
   "cell_type": "code",
   "execution_count": 107,
   "id": "9d3e3071",
   "metadata": {
    "_kg_hide-input": true,
    "_kg_hide-output": true,
    "execution": {
     "iopub.execute_input": "2024-11-07T02:17:01.974349Z",
     "iopub.status.busy": "2024-11-07T02:17:01.973810Z",
     "iopub.status.idle": "2024-11-07T02:17:04.463640Z",
     "shell.execute_reply": "2024-11-07T02:17:04.462634Z"
    },
    "papermill": {
     "duration": 2.56056,
     "end_time": "2024-11-07T02:17:04.466035",
     "exception": false,
     "start_time": "2024-11-07T02:17:01.905475",
     "status": "completed"
    },
    "tags": []
   },
   "outputs": [],
   "source": [
    "if 'SOLUTION_15' in ENSEMBLE_SOLUTIONS:\n",
    "\n",
    "    import warnings\n",
    "    warnings.filterwarnings(\"ignore\")\n",
    "\n",
    "    import pandas as pd\n",
    "    import numpy as np\n",
    "\n",
    "    import matplotlib.pyplot as plt\n",
    "    import seaborn as sns\n",
    "\n",
    "    import lightgbm as lgb\n",
    "    from lightgbm import log_evaluation, early_stopping\n",
    "\n",
    "    from catboost import CatBoostClassifier, Pool\n",
    "\n",
    "    from sklearn.metrics import roc_auc_score, accuracy_score\n",
    "\n",
    "    import random\n",
    "    from sklearn.model_selection import KFold , StratifiedKFold\n",
    "    from xgboost import XGBClassifier\n",
    "    import optuna\n",
    "\n",
    "    from sklearn.linear_model import Lasso, Ridge\n",
    "\n",
    "    from sklearn.preprocessing import LabelEncoder, OrdinalEncoder\n",
    "    from sklearn.preprocessing import OneHotEncoder\n",
    "\n",
    "    USE_OPTUNA = False"
   ]
  },
  {
   "cell_type": "markdown",
   "id": "24c829a2",
   "metadata": {
    "_kg_hide-input": true,
    "_kg_hide-output": true,
    "papermill": {
     "duration": 0.06151,
     "end_time": "2024-11-07T02:17:04.590991",
     "exception": false,
     "start_time": "2024-11-07T02:17:04.529481",
     "status": "completed"
    },
    "tags": []
   },
   "source": [
    "### Encoding category feature into numerical pipeline"
   ]
  },
  {
   "cell_type": "code",
   "execution_count": 108,
   "id": "84df8560",
   "metadata": {
    "_kg_hide-input": true,
    "_kg_hide-output": true,
    "execution": {
     "iopub.execute_input": "2024-11-07T02:17:04.717428Z",
     "iopub.status.busy": "2024-11-07T02:17:04.716603Z",
     "iopub.status.idle": "2024-11-07T02:17:05.386773Z",
     "shell.execute_reply": "2024-11-07T02:17:05.385895Z"
    },
    "papermill": {
     "duration": 0.735747,
     "end_time": "2024-11-07T02:17:05.389260",
     "exception": false,
     "start_time": "2024-11-07T02:17:04.653513",
     "status": "completed"
    },
    "tags": []
   },
   "outputs": [],
   "source": [
    "if 'SOLUTION_15' in ENSEMBLE_SOLUTIONS:\n",
    "    \n",
    "    train = pd.read_csv(\"/kaggle/input/playground-series-s4e11/train.csv\")\n",
    "    test = pd.read_csv(\"/kaggle/input/playground-series-s4e11/test.csv\")\n",
    "    original = pd.read_csv(\"/kaggle/input/depression-surveydataset-for-analysis/final_depression_dataset_1.csv\")\n",
    "\n",
    "    original['Depression'] = original['Depression'].map({'Yes': 1, 'No': 0})\n",
    "    # train = pd.concat([train, original], ignore_index=True)"
   ]
  },
  {
   "cell_type": "markdown",
   "id": "9b293c3a",
   "metadata": {
    "_kg_hide-input": true,
    "_kg_hide-output": true,
    "papermill": {
     "duration": 0.062129,
     "end_time": "2024-11-07T02:17:05.515286",
     "exception": false,
     "start_time": "2024-11-07T02:17:05.453157",
     "status": "completed"
    },
    "tags": []
   },
   "source": [
    "### Use original data to train a model for stacking"
   ]
  },
  {
   "cell_type": "code",
   "execution_count": 109,
   "id": "9f3002ea",
   "metadata": {
    "_kg_hide-input": true,
    "_kg_hide-output": true,
    "execution": {
     "iopub.execute_input": "2024-11-07T02:17:05.641277Z",
     "iopub.status.busy": "2024-11-07T02:17:05.640482Z",
     "iopub.status.idle": "2024-11-07T02:20:43.401027Z",
     "shell.execute_reply": "2024-11-07T02:20:43.399902Z"
    },
    "papermill": {
     "duration": 217.826746,
     "end_time": "2024-11-07T02:20:43.403974",
     "exception": false,
     "start_time": "2024-11-07T02:17:05.577228",
     "status": "completed"
    },
    "tags": []
   },
   "outputs": [
    {
     "name": "stderr",
     "output_type": "stream",
     "text": [
      "Default metric period is 5 because AUC is/are not implemented for GPU\n",
      "Default metric period is 5 because AUC is/are not implemented for GPU\n",
      "Default metric period is 5 because AUC is/are not implemented for GPU\n",
      "Default metric period is 5 because AUC is/are not implemented for GPU\n",
      "Default metric period is 5 because AUC is/are not implemented for GPU\n"
     ]
    },
    {
     "name": "stdout",
     "output_type": "stream",
     "text": [
      "0.9549902152641878\n"
     ]
    }
   ],
   "source": [
    "if 'SOLUTION_15' in ENSEMBLE_SOLUTIONS:\n",
    "    \n",
    "    original = original.fillna('None').astype('string')\n",
    "    train = train.fillna('None').astype('string')\n",
    "    test = train.fillna('None').astype('string')\n",
    "\n",
    "    y = original['Depression']\n",
    "    X = original.drop(['Depression'], axis=1)\n",
    "\n",
    "\n",
    "    def cleaning(data):\n",
    "        threshold = 10\n",
    "        cat_feats = [\"Sleep Duration\", \"Dietary Habits\", \"Degree\"]\n",
    "\n",
    "        for feat in cat_feats:\n",
    "            data.loc[data[feat].value_counts(dropna=False)[data[feat]].values < threshold, feat] = 'None'\n",
    "\n",
    "        return data\n",
    "\n",
    "    X = cleaning(X)\n",
    "    test = cleaning(test)\n",
    "\n",
    "    catboost_params = {\n",
    "        'loss_function': 'Logloss',\n",
    "        'eval_metric': 'AUC',\n",
    "        'learning_rate': 0.08114394459649094,\n",
    "        'iterations': 1000,\n",
    "        'depth': 6,\n",
    "        'random_strength':0,\n",
    "        'l2_leaf_reg': 0.7047064221215757,\n",
    "        'task_type':'GPU',\n",
    "        'random_seed':42,\n",
    "        'verbose':False    \n",
    "    }\n",
    "\n",
    "    cv = StratifiedKFold(5, shuffle=True, random_state=0)\n",
    "    cv_splits = cv.split(X, y)\n",
    "    scores = []\n",
    "    test_preds = []\n",
    "    models=[]\n",
    "    X_test_pool = Pool(test, cat_features=X.columns.values)\n",
    "    for i, (train_idx, val_idx) in enumerate(cv_splits):\n",
    "        model = CatBoostClassifier(**catboost_params)\n",
    "        X_train_fold, X_val_fold = X.iloc[train_idx], X.iloc[val_idx]\n",
    "        y_train_fold, y_val_fold = y.iloc[train_idx], y.iloc[val_idx]\n",
    "        X_train_pool = Pool(X_train_fold, y_train_fold, cat_features=X.columns.values)\n",
    "        X_valid_pool = Pool(X_val_fold, y_val_fold, cat_features=X.columns.values)\n",
    "        model.fit(X=X_train_pool, eval_set=X_valid_pool, verbose=False, early_stopping_rounds=200)\n",
    "        models.append(model)\n",
    "        val_pred = model.predict(X_valid_pool)\n",
    "        score = accuracy_score(y_val_fold, val_pred)\n",
    "        scores.append(score)\n",
    "    print(score)\n",
    "\n",
    "    train = pd.read_csv(\"/kaggle/input/playground-series-s4e11/train.csv\")\n",
    "    test = pd.read_csv(\"/kaggle/input/playground-series-s4e11/test.csv\")\n",
    "    train = train.fillna('None').astype('string')\n",
    "    test = test.fillna('None').astype('string')\n",
    "\n",
    "    train = cleaning(train)\n",
    "    test = cleaning(test)\n",
    "\n",
    "    train_preds = np.zeros(train.shape[0])\n",
    "    train_pool = Pool(train.drop(columns=['Depression']), cat_features=X.columns.values)\n",
    "    for model in models:\n",
    "        train_preds += model.predict_proba(train_pool)[:, 1] / len(models)\n",
    "\n",
    "    test_preds = np.zeros(test.shape[0])\n",
    "    test_pool = Pool(test , cat_features=X.columns.values)\n",
    "    for model in models:\n",
    "        test_preds += model.predict_proba(test_pool)[:, 1] / len(models) \n",
    "\n",
    "    train = pd.read_csv(\"/kaggle/input/playground-series-s4e11/train.csv\")\n",
    "    test = pd.read_csv(\"/kaggle/input/playground-series-s4e11/test.csv\")\n",
    "\n",
    "    train['org_oof'] = train_preds\n",
    "    test['org_oof'] = test_preds"
   ]
  },
  {
   "cell_type": "code",
   "execution_count": 110,
   "id": "cf70e1d6",
   "metadata": {
    "_kg_hide-input": true,
    "_kg_hide-output": true,
    "execution": {
     "iopub.execute_input": "2024-11-07T02:20:43.543002Z",
     "iopub.status.busy": "2024-11-07T02:20:43.542125Z",
     "iopub.status.idle": "2024-11-07T02:20:44.158586Z",
     "shell.execute_reply": "2024-11-07T02:20:44.157485Z"
    },
    "papermill": {
     "duration": 0.689533,
     "end_time": "2024-11-07T02:20:44.161525",
     "exception": false,
     "start_time": "2024-11-07T02:20:43.471992",
     "status": "completed"
    },
    "tags": []
   },
   "outputs": [],
   "source": [
    "if 'SOLUTION_15' in ENSEMBLE_SOLUTIONS:\n",
    "    \n",
    "    cat_cols = test.select_dtypes(include='object').columns\n",
    "\n",
    "    train.drop(columns=['Name','id'] , inplace =True)\n",
    "    test.drop(columns=['Name','id'] , inplace =True)\n",
    "\n",
    "\n",
    "    cat_cols = list(train.select_dtypes(include=['category','object']).columns.tolist())\n",
    "    num_cols = list(train.select_dtypes(include=['int','float']).columns)\n",
    "    if 'Depression' in num_cols:\n",
    "        num_cols.remove('Depression')\n",
    "\n",
    "    train[cat_cols].fillna(\"unknown\",inplace=True)\n",
    "    test[cat_cols].fillna(\"unknown\",inplace=True)\n",
    "\n",
    "    train[num_cols].fillna(999, inplace=True)\n",
    "    test[num_cols].fillna(999, inplace=True)\n",
    "\n",
    "\n",
    "    train[cat_cols] = train[cat_cols].astype('category')\n",
    "    test[cat_cols] = test[cat_cols].astype('category')\n",
    "\n",
    "    feature_cols = cat_cols + num_cols"
   ]
  },
  {
   "cell_type": "code",
   "execution_count": 111,
   "id": "e72aafc4",
   "metadata": {
    "_kg_hide-input": true,
    "_kg_hide-output": true,
    "execution": {
     "iopub.execute_input": "2024-11-07T02:20:44.289057Z",
     "iopub.status.busy": "2024-11-07T02:20:44.288674Z",
     "iopub.status.idle": "2024-11-07T02:20:44.293376Z",
     "shell.execute_reply": "2024-11-07T02:20:44.292460Z"
    },
    "papermill": {
     "duration": 0.071451,
     "end_time": "2024-11-07T02:20:44.295817",
     "exception": false,
     "start_time": "2024-11-07T02:20:44.224366",
     "status": "completed"
    },
    "tags": []
   },
   "outputs": [],
   "source": [
    "if 'SOLUTION_15' in ENSEMBLE_SOLUTIONS: pass\n",
    "    \n",
    "    # nan_ratio = train[feature_cols].isna().mean()\n",
    "    # high_nan_cols = nan_ratio[nan_ratio > 0.7].index.tolist()\n",
    "\n",
    "\n",
    "    # feature_cols = [col for col in feature_cols if col not in high_nan_cols]\n",
    "    # cat_cols = [col for col in cat_cols if col not in high_nan_cols]"
   ]
  },
  {
   "cell_type": "code",
   "execution_count": 112,
   "id": "1c6d5a13",
   "metadata": {
    "_kg_hide-input": true,
    "_kg_hide-output": true,
    "execution": {
     "iopub.execute_input": "2024-11-07T02:20:44.430085Z",
     "iopub.status.busy": "2024-11-07T02:20:44.429424Z",
     "iopub.status.idle": "2024-11-07T02:20:44.442627Z",
     "shell.execute_reply": "2024-11-07T02:20:44.441690Z"
    },
    "papermill": {
     "duration": 0.079455,
     "end_time": "2024-11-07T02:20:44.444532",
     "exception": false,
     "start_time": "2024-11-07T02:20:44.365077",
     "status": "completed"
    },
    "tags": []
   },
   "outputs": [],
   "source": [
    "if 'SOLUTION_15' in ENSEMBLE_SOLUTIONS:\n",
    "    \n",
    "    class CategoricalEncoder:\n",
    "        def __init__(self, train, test):\n",
    "            self.train = train\n",
    "            self.test = test\n",
    "\n",
    "        def one_hot_encode(self, cat_cols, feature_cols):\n",
    "            encoder = OneHotEncoder(sparse_output=False, handle_unknown='ignore')\n",
    "            encoder.fit(self.train[cat_cols])\n",
    "\n",
    "            new_cat_cols = [f'onehot_{i}' for i in range(len(encoder.get_feature_names_out()))]\n",
    "            self.train[new_cat_cols] = encoder.transform(self.train[cat_cols])\n",
    "            self.train[new_cat_cols] = self.train[new_cat_cols].astype('category')\n",
    "\n",
    "            self.test[new_cat_cols] = encoder.transform(self.test[cat_cols])\n",
    "            self.test[new_cat_cols] = self.test[new_cat_cols].astype('category')\n",
    "\n",
    "            for col in cat_cols:\n",
    "                feature_cols.remove(col)\n",
    "            feature_cols.extend(new_cat_cols)\n",
    "\n",
    "            return self.train, self.test, new_cat_cols, feature_cols\n",
    "\n",
    "        def label_encode(self, cat_cols, feature_cols):\n",
    "\n",
    "            encoder = OrdinalEncoder(handle_unknown=\"use_encoded_value\", unknown_value=-1)\n",
    "            self.train[cat_cols] = encoder.fit_transform(self.train[cat_cols]).astype(\"float32\")\n",
    "            self.test[cat_cols] = encoder.transform(self.test[cat_cols]).astype(\"float32\")\n",
    "\n",
    "            return self.train, self.test, cat_cols, feature_cols\n",
    "\n",
    "        def frequency_encode(self, cat_cols, feature_cols, drop_org=False):\n",
    "\n",
    "            new_cat_cols = []\n",
    "            for col in cat_cols:\n",
    "                freq_encoding = self.train[col].value_counts().to_dict()\n",
    "\n",
    "                self.train[f\"{col}_freq\"] = self.train[col].map(freq_encoding).astype('float32')\n",
    "                self.test[f\"{col}_freq\"] = self.test[col].map(freq_encoding).astype('float32')\n",
    "\n",
    "                new_col_name = f\"{col}_freq\"\n",
    "                new_cat_cols.append(col)\n",
    "                feature_cols.append(new_col_name)\n",
    "                if drop_org:\n",
    "                    feature_cols.remove(col)\n",
    "\n",
    "            return self.train, self.test, new_cat_cols, feature_cols"
   ]
  },
  {
   "cell_type": "code",
   "execution_count": 113,
   "id": "9c5313b1",
   "metadata": {
    "_kg_hide-input": true,
    "_kg_hide-output": true,
    "execution": {
     "iopub.execute_input": "2024-11-07T02:20:44.573015Z",
     "iopub.status.busy": "2024-11-07T02:20:44.572116Z",
     "iopub.status.idle": "2024-11-07T02:20:45.401303Z",
     "shell.execute_reply": "2024-11-07T02:20:45.400497Z"
    },
    "papermill": {
     "duration": 0.895937,
     "end_time": "2024-11-07T02:20:45.403637",
     "exception": false,
     "start_time": "2024-11-07T02:20:44.507700",
     "status": "completed"
    },
    "tags": []
   },
   "outputs": [],
   "source": [
    "if 'SOLUTION_15' in ENSEMBLE_SOLUTIONS:\n",
    "    \n",
    "    encoder = CategoricalEncoder(train, test)\n",
    "    train, test, cat_cols, feature_cols = encoder.frequency_encode(cat_cols, feature_cols,drop_org=False)\n",
    "    train, test, cat_cols, feature_cols = encoder.label_encode(cat_cols, feature_cols)"
   ]
  },
  {
   "cell_type": "code",
   "execution_count": 114,
   "id": "30edbe99",
   "metadata": {
    "_kg_hide-input": true,
    "_kg_hide-output": true,
    "execution": {
     "iopub.execute_input": "2024-11-07T02:20:45.534186Z",
     "iopub.status.busy": "2024-11-07T02:20:45.533241Z",
     "iopub.status.idle": "2024-11-07T02:20:45.537927Z",
     "shell.execute_reply": "2024-11-07T02:20:45.537016Z"
    },
    "papermill": {
     "duration": 0.071673,
     "end_time": "2024-11-07T02:20:45.539982",
     "exception": false,
     "start_time": "2024-11-07T02:20:45.468309",
     "status": "completed"
    },
    "tags": []
   },
   "outputs": [],
   "source": [
    "if 'SOLUTION_15' in ENSEMBLE_SOLUTIONS: pass\n",
    "    \n",
    "    # train = train.fillna('None').astype('string')\n",
    "    # test = test.fillna('None').astype('string')"
   ]
  },
  {
   "cell_type": "code",
   "execution_count": 115,
   "id": "e59f9c42",
   "metadata": {
    "_kg_hide-input": true,
    "_kg_hide-output": true,
    "execution": {
     "iopub.execute_input": "2024-11-07T02:20:45.667672Z",
     "iopub.status.busy": "2024-11-07T02:20:45.667286Z",
     "iopub.status.idle": "2024-11-07T02:20:45.681369Z",
     "shell.execute_reply": "2024-11-07T02:20:45.680457Z"
    },
    "papermill": {
     "duration": 0.080076,
     "end_time": "2024-11-07T02:20:45.683337",
     "exception": false,
     "start_time": "2024-11-07T02:20:45.603261",
     "status": "completed"
    },
    "tags": []
   },
   "outputs": [],
   "source": [
    "if 'SOLUTION_15' in ENSEMBLE_SOLUTIONS:\n",
    "    \n",
    "    train[feature_cols].head()"
   ]
  },
  {
   "cell_type": "code",
   "execution_count": 116,
   "id": "471dd105",
   "metadata": {
    "_kg_hide-input": true,
    "_kg_hide-output": true,
    "execution": {
     "iopub.execute_input": "2024-11-07T02:20:45.811714Z",
     "iopub.status.busy": "2024-11-07T02:20:45.810894Z",
     "iopub.status.idle": "2024-11-07T02:20:45.820320Z",
     "shell.execute_reply": "2024-11-07T02:20:45.819545Z"
    },
    "papermill": {
     "duration": 0.075745,
     "end_time": "2024-11-07T02:20:45.822318",
     "exception": false,
     "start_time": "2024-11-07T02:20:45.746573",
     "status": "completed"
    },
    "tags": []
   },
   "outputs": [],
   "source": [
    "if 'SOLUTION_15' in ENSEMBLE_SOLUTIONS:\n",
    "    \n",
    "    train[cat_cols].head()"
   ]
  },
  {
   "cell_type": "code",
   "execution_count": 117,
   "id": "0d8cec9c",
   "metadata": {
    "_kg_hide-input": true,
    "_kg_hide-output": true,
    "execution": {
     "iopub.execute_input": "2024-11-07T02:20:45.950550Z",
     "iopub.status.busy": "2024-11-07T02:20:45.949903Z",
     "iopub.status.idle": "2024-11-07T02:20:45.955862Z",
     "shell.execute_reply": "2024-11-07T02:20:45.954954Z"
    },
    "papermill": {
     "duration": 0.07201,
     "end_time": "2024-11-07T02:20:45.957827",
     "exception": false,
     "start_time": "2024-11-07T02:20:45.885817",
     "status": "completed"
    },
    "tags": []
   },
   "outputs": [],
   "source": [
    "if 'SOLUTION_15' in ENSEMBLE_SOLUTIONS:\n",
    "    \n",
    "    def FE(df, feature_cols, cat_cols,if_train=True):\n",
    "        df['job_sat']  = (df['Work Pressure']/df['Job Satisfaction']).astype(\"float\")\n",
    "        df['age_wp'] = (df['Age'] * df['Work Pressure']).astype(\"float\")\n",
    "\n",
    "        if if_train:\n",
    "            feature_cols += ['job_sat','age_wp']\n",
    "\n",
    "        return df, feature_cols, cat_cols"
   ]
  },
  {
   "cell_type": "code",
   "execution_count": 118,
   "id": "a87f8e13",
   "metadata": {
    "_kg_hide-input": true,
    "_kg_hide-output": true,
    "execution": {
     "iopub.execute_input": "2024-11-07T02:20:46.086602Z",
     "iopub.status.busy": "2024-11-07T02:20:46.085910Z",
     "iopub.status.idle": "2024-11-07T02:20:46.106411Z",
     "shell.execute_reply": "2024-11-07T02:20:46.105623Z"
    },
    "papermill": {
     "duration": 0.088049,
     "end_time": "2024-11-07T02:20:46.108613",
     "exception": false,
     "start_time": "2024-11-07T02:20:46.020564",
     "status": "completed"
    },
    "tags": []
   },
   "outputs": [],
   "source": [
    "if 'SOLUTION_15' in ENSEMBLE_SOLUTIONS:\n",
    "    \n",
    "    # train['Depression'] = train['Depression'].map({'Yes': 1, 'No': 0 , 1 : 1, 0 : 0})\n",
    "\n",
    "    train , feature_cols, cat_cols= FE(train, feature_cols, cat_cols)\n",
    "    test ,_,_= FE(test, feature_cols, cat_cols,if_train=False)\n",
    "\n",
    "    X = train[feature_cols]\n",
    "    y = train['Depression']"
   ]
  },
  {
   "cell_type": "code",
   "execution_count": 119,
   "id": "8c3369ab",
   "metadata": {
    "_kg_hide-input": true,
    "_kg_hide-output": true,
    "execution": {
     "iopub.execute_input": "2024-11-07T02:20:46.240155Z",
     "iopub.status.busy": "2024-11-07T02:20:46.239199Z",
     "iopub.status.idle": "2024-11-07T02:20:46.249754Z",
     "shell.execute_reply": "2024-11-07T02:20:46.248888Z"
    },
    "papermill": {
     "duration": 0.077857,
     "end_time": "2024-11-07T02:20:46.251724",
     "exception": false,
     "start_time": "2024-11-07T02:20:46.173867",
     "status": "completed"
    },
    "tags": []
   },
   "outputs": [],
   "source": [
    "if 'SOLUTION_15' in ENSEMBLE_SOLUTIONS:    \n",
    "    \n",
    "    callbacks = [log_evaluation(period=1000), early_stopping(stopping_rounds=250)]\n",
    "    \n",
    "    def objective(trial):\n",
    "\n",
    "        param = {\n",
    "            'objective': 'binary',\n",
    "            'metric': 'auc',\n",
    "            'boosting_type': 'gbdt',\n",
    "            'random_state': 42,\n",
    "            'learning_rate': trial.suggest_loguniform('learning_rate', 0.005, 0.1),\n",
    "            'num_leaves': trial.suggest_int('num_leaves', 20, 150),\n",
    "            'max_depth': trial.suggest_int('max_depth', 6, 15),\n",
    "            'min_data_in_leaf': trial.suggest_int('min_data_in_leaf', 1, 100),\n",
    "            'feature_fraction': trial.suggest_uniform('feature_fraction', 0.4, 0.8),\n",
    "            'bagging_fraction': trial.suggest_uniform('bagging_fraction', 0.4, 0.8),\n",
    "            'bagging_freq': trial.suggest_int('bagging_freq', 1, 5),\n",
    "            'n_estimators': 3000,\n",
    "            'verbose' : -1,\n",
    "            'device':'gpu'\n",
    "        }\n",
    "\n",
    "        kf = KFold(n_splits=5, shuffle=True, random_state=42)\n",
    "        cv_results = []\n",
    "\n",
    "        for train_index, val_index in kf.split(X):\n",
    "            X_train, X_val = X.iloc[train_index], X.iloc[val_index]\n",
    "            y_train, y_val = y.iloc[train_index], y.iloc[val_index]\n",
    "\n",
    "            model = lgb.LGBMClassifier(**param)\n",
    "            model.fit(X_train, y_train,\n",
    "                      eval_set=[(X_val, y_val)],\n",
    "                      eval_metric='logloss',\n",
    "                      callbacks = callbacks\n",
    "\n",
    "                    )\n",
    "\n",
    "            y_pred = model.predict_proba(X_val)[:, 1]\n",
    "            score = roc_auc_score(y_val, y_pred)\n",
    "            cv_results.append(score)\n",
    "\n",
    "        return np.mean(cv_results)"
   ]
  },
  {
   "cell_type": "code",
   "execution_count": 120,
   "id": "f63b5285",
   "metadata": {
    "_kg_hide-input": true,
    "_kg_hide-output": true,
    "execution": {
     "iopub.execute_input": "2024-11-07T02:20:46.381502Z",
     "iopub.status.busy": "2024-11-07T02:20:46.380722Z",
     "iopub.status.idle": "2024-11-07T02:20:46.385839Z",
     "shell.execute_reply": "2024-11-07T02:20:46.384988Z"
    },
    "papermill": {
     "duration": 0.072533,
     "end_time": "2024-11-07T02:20:46.387725",
     "exception": false,
     "start_time": "2024-11-07T02:20:46.315192",
     "status": "completed"
    },
    "tags": []
   },
   "outputs": [],
   "source": [
    "if 'SOLUTION_15' in ENSEMBLE_SOLUTIONS:\n",
    "    \n",
    "    if USE_OPTUNA:\n",
    "        study = optuna.create_study(direction='maximize')\n",
    "        study.optimize(objective, n_trials=20)  \n",
    "\n",
    "\n",
    "        print(\"Best hyperparameters: \", study.best_params)\n",
    "        lgbm_params = study.best_params"
   ]
  },
  {
   "cell_type": "code",
   "execution_count": 121,
   "id": "1265f9e2",
   "metadata": {
    "_kg_hide-input": true,
    "_kg_hide-output": true,
    "execution": {
     "iopub.execute_input": "2024-11-07T02:20:46.517911Z",
     "iopub.status.busy": "2024-11-07T02:20:46.517032Z",
     "iopub.status.idle": "2024-11-07T02:20:46.531917Z",
     "shell.execute_reply": "2024-11-07T02:20:46.530971Z"
    },
    "papermill": {
     "duration": 0.081918,
     "end_time": "2024-11-07T02:20:46.533818",
     "exception": false,
     "start_time": "2024-11-07T02:20:46.451900",
     "status": "completed"
    },
    "tags": []
   },
   "outputs": [],
   "source": [
    "if 'SOLUTION_15' in ENSEMBLE_SOLUTIONS:\n",
    "    \n",
    "    def train_models(model_type='lgbm'):\n",
    "        models, scores = [], []\n",
    "        oof_preds = np.zeros(len(X))\n",
    "\n",
    "        skf = StratifiedKFold(n_splits=10, shuffle=True, random_state=42)\n",
    "\n",
    "        for fold, (train_index, val_index) in enumerate(skf.split(X, y)):\n",
    "            X_train, X_val = X.iloc[train_index], X.iloc[val_index]\n",
    "            y_train, y_val = y.iloc[train_index], y.iloc[val_index]\n",
    "\n",
    "            lgbm_params = {\n",
    "                'objective': 'binary',\n",
    "                'n_estimators': 3000,\n",
    "                'metric': 'binary_logloss',\n",
    "                'boosting_type': 'gbdt',\n",
    "                'random_state': 42,\n",
    "                'learning_rate': 0.009471852762599606,\n",
    "                'num_leaves': 21,\n",
    "                'max_depth': 11,\n",
    "                'min_data_in_leaf': 87,\n",
    "                'feature_fraction': 0.40471223405843854,\n",
    "                'bagging_fraction': 0.6642922498166329, \n",
    "                'bagging_freq': 3,\n",
    "                'device':'gpu',\n",
    "                'verbose' : -1,\n",
    "            }\n",
    "\n",
    "            cat_params = {\n",
    "                'loss_function': 'Logloss',\n",
    "                'eval_metric': 'AUC',\n",
    "                'learning_rate': 0.08114394459649094,\n",
    "                'iterations': 1000,\n",
    "                'depth': 6,\n",
    "                'random_strength':0,\n",
    "                'l2_leaf_reg': 0.7047064221215757,\n",
    "                'task_type':'GPU',\n",
    "                'random_seed':42,\n",
    "                'verbose':0\n",
    "            }\n",
    "\n",
    "            xgb_params = {\n",
    "                'objective': 'binary:logistic',\n",
    "                'eval_metric': 'auc',\n",
    "                'n_estimators': 3000,\n",
    "                'learning_rate': 0.01,\n",
    "                'max_depth': 6,\n",
    "                'subsample': 0.8,\n",
    "                'colsample_bytree': 0.8,\n",
    "                'random_state': 42,\n",
    "                'tree_method': 'gpu_hist',  \n",
    "            }\n",
    "\n",
    "\n",
    "            if model_type=='lgbm':\n",
    "                model = lgb.LGBMClassifier(**lgbm_params)\n",
    "\n",
    "                model.fit(\n",
    "                    X_train, y_train,\n",
    "                    eval_set=[(X_val, y_val)],\n",
    "                    eval_metric='auc',\n",
    "                    callbacks=callbacks,\n",
    "                    # categorical_feature=cat_cols\n",
    "                )\n",
    "                models.append(model)\n",
    "\n",
    "            elif model_type == 'cat':\n",
    "                model = CatBoostClassifier(**cat_params)\n",
    "                model.fit(\n",
    "                    X_train, y_train,\n",
    "                    eval_set=(X_val, y_val),\n",
    "                    early_stopping_rounds=250,\n",
    "                )\n",
    "                models.append(model)\n",
    "\n",
    "            elif model_type == 'xgb':\n",
    "                model = XGBClassifier(**xgb_params)\n",
    "                model.fit(\n",
    "                    X_train, y_train,\n",
    "                    eval_set=[(X_val, y_val)],\n",
    "                    early_stopping_rounds=250,\n",
    "                    verbose=0\n",
    "                )\n",
    "                models.append(model)\n",
    "\n",
    "\n",
    "            y_pred_proba = model.predict_proba(X_val)[:, 1]\n",
    "            oof_preds[val_index] = y_pred_proba\n",
    "            auc_score = roc_auc_score(y_val, y_pred_proba)\n",
    "            scores.append(auc_score)\n",
    "\n",
    "\n",
    "        oof_auc = roc_auc_score(y, oof_preds)\n",
    "        print(f\"oof_auc : {oof_auc}\")\n",
    "        print(f\"each auc : {scores}\")\n",
    "\n",
    "        return models ,oof_preds"
   ]
  },
  {
   "cell_type": "code",
   "execution_count": 122,
   "id": "ae99e25e",
   "metadata": {
    "_kg_hide-input": true,
    "_kg_hide-output": true,
    "execution": {
     "iopub.execute_input": "2024-11-07T02:20:46.662823Z",
     "iopub.status.busy": "2024-11-07T02:20:46.662407Z",
     "iopub.status.idle": "2024-11-07T02:28:56.990551Z",
     "shell.execute_reply": "2024-11-07T02:28:56.989521Z"
    },
    "papermill": {
     "duration": 490.462404,
     "end_time": "2024-11-07T02:28:57.060353",
     "exception": false,
     "start_time": "2024-11-07T02:20:46.597949",
     "status": "completed"
    },
    "tags": []
   },
   "outputs": [
    {
     "name": "stderr",
     "output_type": "stream",
     "text": [
      "1 warning generated.\n",
      "1 warning generated.\n",
      "1 warning generated.\n",
      "1 warning generated.\n",
      "1 warning generated.\n",
      "1 warning generated.\n",
      "1 warning generated.\n",
      "1 warning generated.\n",
      "1 warning generated.\n",
      "1 warning generated.\n",
      "1 warning generated.\n",
      "1 warning generated.\n",
      "1 warning generated.\n",
      "1 warning generated.\n",
      "1 warning generated.\n",
      "1 warning generated.\n",
      "1 warning generated.\n",
      "1 warning generated.\n",
      "1 warning generated.\n",
      "1 warning generated.\n",
      "1 warning generated.\n",
      "1 warning generated.\n",
      "1 warning generated.\n",
      "1 warning generated.\n",
      "1 warning generated.\n",
      "1 warning generated.\n",
      "1 warning generated.\n",
      "1 warning generated.\n",
      "1 warning generated.\n",
      "1 warning generated.\n",
      "1 warning generated.\n",
      "1 warning generated.\n",
      "1 warning generated.\n"
     ]
    },
    {
     "name": "stdout",
     "output_type": "stream",
     "text": [
      "Training until validation scores don't improve for 250 rounds\n",
      "[1000]\tvalid_0's auc: 0.975239\tvalid_0's binary_logloss: 0.151981\n",
      "Early stopping, best iteration is:\n",
      "[1734]\tvalid_0's auc: 0.97552\tvalid_0's binary_logloss: 0.15096\n",
      "Training until validation scores don't improve for 250 rounds\n",
      "[1000]\tvalid_0's auc: 0.975577\tvalid_0's binary_logloss: 0.148909\n",
      "[2000]\tvalid_0's auc: 0.976036\tvalid_0's binary_logloss: 0.147405\n",
      "Early stopping, best iteration is:\n",
      "[2716]\tvalid_0's auc: 0.976127\tvalid_0's binary_logloss: 0.14715\n",
      "Training until validation scores don't improve for 250 rounds\n",
      "[1000]\tvalid_0's auc: 0.973598\tvalid_0's binary_logloss: 0.154549\n",
      "[2000]\tvalid_0's auc: 0.973824\tvalid_0's binary_logloss: 0.153474\n",
      "Early stopping, best iteration is:\n",
      "[2086]\tvalid_0's auc: 0.973829\tvalid_0's binary_logloss: 0.153458\n",
      "Training until validation scores don't improve for 250 rounds\n",
      "[1000]\tvalid_0's auc: 0.974058\tvalid_0's binary_logloss: 0.154598\n",
      "Early stopping, best iteration is:\n",
      "[1630]\tvalid_0's auc: 0.974276\tvalid_0's binary_logloss: 0.153713\n",
      "Training until validation scores don't improve for 250 rounds\n",
      "[1000]\tvalid_0's auc: 0.975642\tvalid_0's binary_logloss: 0.150313\n",
      "[2000]\tvalid_0's auc: 0.97595\tvalid_0's binary_logloss: 0.149203\n",
      "Early stopping, best iteration is:\n",
      "[2091]\tvalid_0's auc: 0.975968\tvalid_0's binary_logloss: 0.149191\n",
      "Training until validation scores don't improve for 250 rounds\n",
      "[1000]\tvalid_0's auc: 0.975106\tvalid_0's binary_logloss: 0.150435\n",
      "[2000]\tvalid_0's auc: 0.975401\tvalid_0's binary_logloss: 0.149365\n",
      "Early stopping, best iteration is:\n",
      "[2164]\tvalid_0's auc: 0.975412\tvalid_0's binary_logloss: 0.149294\n",
      "Training until validation scores don't improve for 250 rounds\n",
      "[1000]\tvalid_0's auc: 0.974376\tvalid_0's binary_logloss: 0.151728\n",
      "[2000]\tvalid_0's auc: 0.974715\tvalid_0's binary_logloss: 0.150644\n",
      "Early stopping, best iteration is:\n",
      "[1975]\tvalid_0's auc: 0.974721\tvalid_0's binary_logloss: 0.15061\n",
      "Training until validation scores don't improve for 250 rounds\n",
      "[1000]\tvalid_0's auc: 0.979482\tvalid_0's binary_logloss: 0.140338\n",
      "[2000]\tvalid_0's auc: 0.979748\tvalid_0's binary_logloss: 0.138777\n",
      "Early stopping, best iteration is:\n",
      "[1771]\tvalid_0's auc: 0.979763\tvalid_0's binary_logloss: 0.138849\n",
      "Training until validation scores don't improve for 250 rounds\n",
      "[1000]\tvalid_0's auc: 0.974488\tvalid_0's binary_logloss: 0.15222\n",
      "[2000]\tvalid_0's auc: 0.974881\tvalid_0's binary_logloss: 0.151046\n",
      "Early stopping, best iteration is:\n",
      "[2293]\tvalid_0's auc: 0.974928\tvalid_0's binary_logloss: 0.150979\n",
      "Training until validation scores don't improve for 250 rounds\n",
      "[1000]\tvalid_0's auc: 0.975938\tvalid_0's binary_logloss: 0.14989\n",
      "[2000]\tvalid_0's auc: 0.976187\tvalid_0's binary_logloss: 0.148845\n",
      "Early stopping, best iteration is:\n",
      "[1885]\tvalid_0's auc: 0.976206\tvalid_0's binary_logloss: 0.148852\n",
      "oof_auc : 0.9756592878473955\n",
      "each auc : [0.975520241670819, 0.9761272797652882, 0.9738290977602825, 0.9742763795503346, 0.9759675184478848, 0.9754116522849942, 0.9747207259984387, 0.9797626196038751, 0.9749275283205896, 0.9762064552964409]\n"
     ]
    },
    {
     "name": "stderr",
     "output_type": "stream",
     "text": [
      "Default metric period is 5 because AUC is/are not implemented for GPU\n",
      "Default metric period is 5 because AUC is/are not implemented for GPU\n",
      "Default metric period is 5 because AUC is/are not implemented for GPU\n",
      "Default metric period is 5 because AUC is/are not implemented for GPU\n",
      "Default metric period is 5 because AUC is/are not implemented for GPU\n",
      "Default metric period is 5 because AUC is/are not implemented for GPU\n",
      "Default metric period is 5 because AUC is/are not implemented for GPU\n",
      "Default metric period is 5 because AUC is/are not implemented for GPU\n",
      "Default metric period is 5 because AUC is/are not implemented for GPU\n",
      "Default metric period is 5 because AUC is/are not implemented for GPU\n"
     ]
    },
    {
     "name": "stdout",
     "output_type": "stream",
     "text": [
      "oof_auc : 0.9752148841935935\n",
      "each auc : [0.9750711048371947, 0.9755097081242595, 0.973205036095406, 0.9738169849043476, 0.9755956615128344, 0.9750061661944035, 0.9747538456213192, 0.9794541485316917, 0.9743676878029532, 0.9754946381708375]\n",
      "oof_auc : 0.9754173574930963\n",
      "each auc : [0.9752716499720149, 0.975802880510438, 0.9734192068823884, 0.973961895992767, 0.975820127633855, 0.9751281313287141, 0.9745530897533967, 0.9796193560043889, 0.9744825024956061, 0.9762741552024932]\n"
     ]
    }
   ],
   "source": [
    "if 'SOLUTION_15' in ENSEMBLE_SOLUTIONS:\n",
    "    \n",
    "    LGBM_models, lgbm_oof = train_models(model_type='lgbm')\n",
    "    cat_models,  cat_oof = train_models(model_type='cat')\n",
    "    xgb_models,  xgb_oof = train_models(model_type='xgb')"
   ]
  },
  {
   "cell_type": "code",
   "execution_count": 123,
   "id": "6ae929d4",
   "metadata": {
    "_kg_hide-input": true,
    "_kg_hide-output": true,
    "execution": {
     "iopub.execute_input": "2024-11-07T02:28:57.197306Z",
     "iopub.status.busy": "2024-11-07T02:28:57.196602Z",
     "iopub.status.idle": "2024-11-07T02:30:49.837945Z",
     "shell.execute_reply": "2024-11-07T02:30:49.837148Z"
    },
    "papermill": {
     "duration": 112.712316,
     "end_time": "2024-11-07T02:30:49.840323",
     "exception": false,
     "start_time": "2024-11-07T02:28:57.128007",
     "status": "completed"
    },
    "tags": []
   },
   "outputs": [],
   "source": [
    "if 'SOLUTION_15' in ENSEMBLE_SOLUTIONS:\n",
    "    \n",
    "    lgbm_preds = np.zeros(test[feature_cols].shape[0])\n",
    "    for model in LGBM_models:\n",
    "        lgbm_preds += model.predict_proba(test[feature_cols])[:, 1] / len(LGBM_models)\n",
    "\n",
    "    cat_preds = np.zeros(test[feature_cols].shape[0])\n",
    "    for model in cat_models:\n",
    "        cat_preds += model.predict_proba(test[feature_cols])[:, 1] / len(cat_models)\n",
    "\n",
    "    xgb_preds = np.zeros(test[feature_cols].shape[0])\n",
    "    for model in xgb_models:\n",
    "        xgb_preds += model.predict_proba(test[feature_cols])[:, 1] / len(xgb_models)"
   ]
  },
  {
   "cell_type": "markdown",
   "id": "c0982072",
   "metadata": {
    "_kg_hide-input": true,
    "_kg_hide-output": true,
    "papermill": {
     "duration": 0.068219,
     "end_time": "2024-11-07T02:30:49.977234",
     "exception": false,
     "start_time": "2024-11-07T02:30:49.909015",
     "status": "completed"
    },
    "tags": []
   },
   "source": [
    "### All category feature pipeline"
   ]
  },
  {
   "cell_type": "code",
   "execution_count": 124,
   "id": "e63a5f2b",
   "metadata": {
    "_kg_hide-input": true,
    "_kg_hide-output": true,
    "execution": {
     "iopub.execute_input": "2024-11-07T02:30:50.116835Z",
     "iopub.status.busy": "2024-11-07T02:30:50.116153Z",
     "iopub.status.idle": "2024-11-07T02:35:48.611707Z",
     "shell.execute_reply": "2024-11-07T02:35:48.610675Z"
    },
    "papermill": {
     "duration": 298.567839,
     "end_time": "2024-11-07T02:35:48.614142",
     "exception": false,
     "start_time": "2024-11-07T02:30:50.046303",
     "status": "completed"
    },
    "tags": []
   },
   "outputs": [
    {
     "name": "stderr",
     "output_type": "stream",
     "text": [
      "Default metric period is 5 because AUC is/are not implemented for GPU\n",
      "Default metric period is 5 because AUC is/are not implemented for GPU\n",
      "Default metric period is 5 because AUC is/are not implemented for GPU\n",
      "Default metric period is 5 because AUC is/are not implemented for GPU\n",
      "Default metric period is 5 because AUC is/are not implemented for GPU\n",
      "Default metric period is 5 because AUC is/are not implemented for GPU\n",
      "Default metric period is 5 because AUC is/are not implemented for GPU\n",
      "Default metric period is 5 because AUC is/are not implemented for GPU\n",
      "Default metric period is 5 because AUC is/are not implemented for GPU\n",
      "Default metric period is 5 because AUC is/are not implemented for GPU\n"
     ]
    }
   ],
   "source": [
    "if 'SOLUTION_15' in ENSEMBLE_SOLUTIONS:\n",
    "    \n",
    "    import numpy as np\n",
    "    import pandas as pd\n",
    "    from catboost import CatBoostClassifier, Pool\n",
    "    from sklearn.metrics import accuracy_score\n",
    "    from sklearn.model_selection import StratifiedKFold\n",
    "\n",
    "    train = pd.read_csv(\"/kaggle/input/playground-series-s4e11/train.csv\")\n",
    "    test = pd.read_csv(\"/kaggle/input/playground-series-s4e11/test.csv\")\n",
    "\n",
    "    # train['org_oof'] = train_preds\n",
    "    # test['org_oof'] = test_preds\n",
    "\n",
    "    train = train.fillna('None').astype('string')\n",
    "    test = test.fillna('None').astype('string')\n",
    "\n",
    "\n",
    "    y = train['Depression'].astype(int)\n",
    "    X = train.drop(['Depression'], axis=1)\n",
    "\n",
    "    X = cleaning(X)\n",
    "    test = cleaning(test)\n",
    "\n",
    "\n",
    "    catboost_params = {\n",
    "        'loss_function': 'Logloss',\n",
    "        'eval_metric': 'AUC',\n",
    "        'learning_rate': 0.08114394459649094,\n",
    "        'iterations': 1000,\n",
    "        'depth': 6,\n",
    "        'random_strength': 0,\n",
    "        'l2_leaf_reg': 0.7047064221215757,\n",
    "        'task_type': 'GPU',\n",
    "        'random_seed': 42,\n",
    "        'verbose': False\n",
    "    }\n",
    "\n",
    "    cv = StratifiedKFold(10, shuffle=True, random_state=0)\n",
    "    p2_oof_preds = np.zeros(len(train))\n",
    "    scores = []\n",
    "    p2_cat_models = []\n",
    "    X_test_pool = Pool(test, cat_features=X.columns.values)\n",
    "\n",
    "    for i, (train_idx, val_idx) in enumerate(cv.split(X, y)):\n",
    "        model = CatBoostClassifier(**catboost_params)\n",
    "        X_train_fold, X_val_fold = X.iloc[train_idx], X.iloc[val_idx]\n",
    "        y_train_fold, y_val_fold = y.iloc[train_idx], y.iloc[val_idx]\n",
    "\n",
    "        X_train_pool = Pool(X_train_fold, y_train_fold, cat_features=X.columns.values)\n",
    "        X_valid_pool = Pool(X_val_fold, y_val_fold, cat_features=X.columns.values)\n",
    "\n",
    "        model.fit(X=X_train_pool, eval_set=X_valid_pool, verbose=False, early_stopping_rounds=200)\n",
    "        p2_cat_models.append(model)\n",
    "\n",
    "        val_pred_proba = model.predict_proba(X_valid_pool)[:, 1]\n",
    "        p2_oof_preds[val_idx] = val_pred_proba  \n",
    "\n",
    "        val_pred = model.predict(X_valid_pool)\n",
    "        score = accuracy_score(y_val_fold, val_pred)\n",
    "        scores.append(score)\n",
    "\n",
    "\n",
    "    p2_cat_preds = np.zeros(test.shape[0])\n",
    "    test_pool = Pool(test , cat_features=test.columns.values)\n",
    "    for model in p2_cat_models:\n",
    "        p2_cat_preds += model.predict_proba(test_pool)[:, 1] / len(p2_cat_models) "
   ]
  },
  {
   "cell_type": "code",
   "execution_count": 125,
   "id": "e65bf916",
   "metadata": {
    "_kg_hide-input": true,
    "_kg_hide-output": true,
    "execution": {
     "iopub.execute_input": "2024-11-07T02:35:48.756262Z",
     "iopub.status.busy": "2024-11-07T02:35:48.755870Z",
     "iopub.status.idle": "2024-11-07T02:35:49.009959Z",
     "shell.execute_reply": "2024-11-07T02:35:49.008741Z"
    },
    "papermill": {
     "duration": 0.32822,
     "end_time": "2024-11-07T02:35:49.012391",
     "exception": false,
     "start_time": "2024-11-07T02:35:48.684171",
     "status": "completed"
    },
    "tags": []
   },
   "outputs": [
    {
     "name": "stdout",
     "output_type": "stream",
     "text": [
      "Final AUC after LASSO blending: 0.9758548368152867\n"
     ]
    }
   ],
   "source": [
    "if 'SOLUTION_15' in ENSEMBLE_SOLUTIONS:\n",
    "    \n",
    "    oof_data = pd.DataFrame({\n",
    "        'lgbm': lgbm_oof,\n",
    "        'cat': cat_oof,\n",
    "        'xgb': xgb_oof,\n",
    "        'p2_cat': p2_oof_preds\n",
    "    })\n",
    "\n",
    "    lasso = Lasso(alpha=0.001) \n",
    "    lasso.fit(oof_data, y)\n",
    "\n",
    "    oof_preds = lasso.predict(oof_data)\n",
    "    final_auc = roc_auc_score(y, oof_preds)\n",
    "    print(f\"Final AUC after LASSO blending: {final_auc}\")"
   ]
  },
  {
   "cell_type": "code",
   "execution_count": 126,
   "id": "077debbd",
   "metadata": {
    "_kg_hide-input": true,
    "_kg_hide-output": true,
    "execution": {
     "iopub.execute_input": "2024-11-07T02:35:49.174440Z",
     "iopub.status.busy": "2024-11-07T02:35:49.173563Z",
     "iopub.status.idle": "2024-11-07T02:35:51.171555Z",
     "shell.execute_reply": "2024-11-07T02:35:51.170398Z"
    },
    "papermill": {
     "duration": 2.072172,
     "end_time": "2024-11-07T02:35:51.173643",
     "exception": false,
     "start_time": "2024-11-07T02:35:49.101471",
     "status": "completed"
    },
    "tags": []
   },
   "outputs": [
    {
     "name": "stdout",
     "output_type": "stream",
     "text": [
      "0.48\n",
      "0.9402771855010661\n"
     ]
    }
   ],
   "source": [
    "if 'SOLUTION_15' in ENSEMBLE_SOLUTIONS:\n",
    "    \n",
    "    thresholds = np.arange(0.0, 1.0, 0.01)\n",
    "    best_threshold = 0.5\n",
    "    best_accuracy = 0\n",
    "\n",
    "    for threshold in thresholds:\n",
    "        y_pred = (oof_preds >= threshold).astype(int)\n",
    "\n",
    "        acc = accuracy_score(y, y_pred)\n",
    "\n",
    "        if acc > best_accuracy:\n",
    "            best_accuracy = acc\n",
    "            best_threshold = threshold\n",
    "\n",
    "    print(best_threshold)\n",
    "    print(best_accuracy)"
   ]
  },
  {
   "cell_type": "code",
   "execution_count": 127,
   "id": "563135dc",
   "metadata": {
    "_kg_hide-input": true,
    "_kg_hide-output": true,
    "execution": {
     "iopub.execute_input": "2024-11-07T02:35:51.316665Z",
     "iopub.status.busy": "2024-11-07T02:35:51.316270Z",
     "iopub.status.idle": "2024-11-07T02:35:51.525337Z",
     "shell.execute_reply": "2024-11-07T02:35:51.524450Z"
    },
    "papermill": {
     "duration": 0.282694,
     "end_time": "2024-11-07T02:35:51.527637",
     "exception": false,
     "start_time": "2024-11-07T02:35:51.244943",
     "status": "completed"
    },
    "tags": []
   },
   "outputs": [],
   "source": [
    "if 'SOLUTION_15' in ENSEMBLE_SOLUTIONS:\n",
    "    \n",
    "    sub = pd.read_csv('/kaggle/input/playground-series-s4e11/sample_submission.csv')\n",
    "\n",
    "    # preds = lgbm_preds * 0.5 + cat_preds * 0.5\n",
    "\n",
    "    res = pd.DataFrame({\n",
    "        'lgbm': lgbm_preds,\n",
    "        'cat': cat_preds,\n",
    "        'xgb': xgb_preds,\n",
    "        'p2_cat': p2_cat_preds\n",
    "    })\n",
    "    preds = lasso.predict(res)\n",
    "\n",
    "    sub['Depression'] = (p2_cat_preds > 0.5).astype(int)\n",
    "\n",
    "    # sub['Depression'] = final_predictions\n",
    "\n",
    "    sub.to_csv('subm_15.csv', index=False)\n",
    "\n",
    "    sub.head()"
   ]
  },
  {
   "cell_type": "markdown",
   "id": "7e40e7e2",
   "metadata": {
    "papermill": {
     "duration": 0.069412,
     "end_time": "2024-11-07T02:35:51.666766",
     "exception": false,
     "start_time": "2024-11-07T02:35:51.597354",
     "status": "completed"
    },
    "tags": []
   },
   "source": [
    "## 18. [EMH | CatBoost Only](https://www.kaggle.com/code/abdmental01/emh-catboost-only) V[7](), Lb=0.94371\n",
    "### [Sheikh Muhammad Abdullah](https://www.kaggle.com/abdmental01)"
   ]
  },
  {
   "cell_type": "code",
   "execution_count": 128,
   "id": "47afe8ce",
   "metadata": {
    "_kg_hide-input": true,
    "_kg_hide-output": true,
    "execution": {
     "iopub.execute_input": "2024-11-07T02:35:51.808307Z",
     "iopub.status.busy": "2024-11-07T02:35:51.807551Z",
     "iopub.status.idle": "2024-11-07T02:35:52.055243Z",
     "shell.execute_reply": "2024-11-07T02:35:52.054395Z"
    },
    "papermill": {
     "duration": 0.321009,
     "end_time": "2024-11-07T02:35:52.057634",
     "exception": false,
     "start_time": "2024-11-07T02:35:51.736625",
     "status": "completed"
    },
    "tags": []
   },
   "outputs": [],
   "source": [
    "if 'SOLUTION_18' in ENSEMBLE_SOLUTIONS:\n",
    "    \n",
    "    import numpy as np\n",
    "    import polars as pl\n",
    "    import pandas as pd\n",
    "    from sklearn.base import clone\n",
    "    import optuna\n",
    "    import os\n",
    "    import category_encoders as ce\n",
    "    from IPython.display import clear_output\n",
    "\n",
    "    import warnings\n",
    "    warnings.filterwarnings('ignore')\n",
    "    pd.options.display.max_columns = None\n",
    "\n",
    "    import lightgbm as lgb\n",
    "    from catboost import CatBoostRegressor, CatBoostClassifier, Pool\n",
    "    from sklearn.model_selection import *\n",
    "    from sklearn.metrics import *"
   ]
  },
  {
   "cell_type": "code",
   "execution_count": 129,
   "id": "62826dcb",
   "metadata": {
    "_kg_hide-input": true,
    "_kg_hide-output": true,
    "execution": {
     "iopub.execute_input": "2024-11-07T02:35:52.200435Z",
     "iopub.status.busy": "2024-11-07T02:35:52.199323Z",
     "iopub.status.idle": "2024-11-07T02:35:54.122573Z",
     "shell.execute_reply": "2024-11-07T02:35:54.121466Z"
    },
    "papermill": {
     "duration": 1.997159,
     "end_time": "2024-11-07T02:35:54.125239",
     "exception": false,
     "start_time": "2024-11-07T02:35:52.128080",
     "status": "completed"
    },
    "tags": []
   },
   "outputs": [
    {
     "name": "stdout",
     "output_type": "stream",
     "text": [
      "CPU times: user 1.84 s, sys: 68.5 ms, total: 1.91 s\n",
      "Wall time: 1.91 s\n"
     ]
    }
   ],
   "source": [
    "%%time\n",
    "\n",
    "if 'SOLUTION_18' in ENSEMBLE_SOLUTIONS:\n",
    "\n",
    "    train = pd.read_csv('/kaggle/input/playground-series-s4e11/train.csv')\n",
    "    test = pd.read_csv('/kaggle/input/playground-series-s4e11/test.csv')\n",
    "    sample = pd.read_csv('/kaggle/input/playground-series-s4e11/sample_submission.csv')\n",
    "    original = pd.read_csv('/kaggle/input/depression-surveydataset-for-analysis/final_depression_dataset_1.csv')\n",
    "\n",
    "    original['Depression'] = original['Depression'].map({\n",
    "        'No': 0,\n",
    "        'Yes': 1\n",
    "    })\n",
    "\n",
    "    train = train.drop('id',axis=1)\n",
    "    test = test.drop('id',axis=1)\n",
    "\n",
    "    train = pd.concat(objs=[train, original])\n",
    "\n",
    "    cat_c = [col for col in train.columns if col != 'Depression']\n",
    "\n",
    "    train[cat_c] = train[cat_c].fillna('None').astype('string')\n",
    "    test = test.fillna('None').astype('string')"
   ]
  },
  {
   "cell_type": "code",
   "execution_count": 130,
   "id": "3a15bd44",
   "metadata": {
    "_kg_hide-input": true,
    "_kg_hide-output": true,
    "execution": {
     "iopub.execute_input": "2024-11-07T02:35:54.268903Z",
     "iopub.status.busy": "2024-11-07T02:35:54.268496Z",
     "iopub.status.idle": "2024-11-07T02:35:54.308070Z",
     "shell.execute_reply": "2024-11-07T02:35:54.307145Z"
    },
    "papermill": {
     "duration": 0.114559,
     "end_time": "2024-11-07T02:35:54.310533",
     "exception": false,
     "start_time": "2024-11-07T02:35:54.195974",
     "status": "completed"
    },
    "tags": []
   },
   "outputs": [
    {
     "data": {
      "text/html": [
       "<div>\n",
       "<style scoped>\n",
       "    .dataframe tbody tr th:only-of-type {\n",
       "        vertical-align: middle;\n",
       "    }\n",
       "\n",
       "    .dataframe tbody tr th {\n",
       "        vertical-align: top;\n",
       "    }\n",
       "\n",
       "    .dataframe thead th {\n",
       "        text-align: right;\n",
       "    }\n",
       "</style>\n",
       "<table border=\"1\" class=\"dataframe\">\n",
       "  <thead>\n",
       "    <tr style=\"text-align: right;\">\n",
       "      <th></th>\n",
       "      <th>Name</th>\n",
       "      <th>Gender</th>\n",
       "      <th>Age</th>\n",
       "      <th>City</th>\n",
       "      <th>Working Professional or Student</th>\n",
       "      <th>Profession</th>\n",
       "      <th>Academic Pressure</th>\n",
       "      <th>Work Pressure</th>\n",
       "      <th>CGPA</th>\n",
       "      <th>Study Satisfaction</th>\n",
       "      <th>Job Satisfaction</th>\n",
       "      <th>Sleep Duration</th>\n",
       "      <th>Dietary Habits</th>\n",
       "      <th>Degree</th>\n",
       "      <th>Have you ever had suicidal thoughts ?</th>\n",
       "      <th>Work/Study Hours</th>\n",
       "      <th>Financial Stress</th>\n",
       "      <th>Family History of Mental Illness</th>\n",
       "      <th>Depression</th>\n",
       "    </tr>\n",
       "  </thead>\n",
       "  <tbody>\n",
       "    <tr>\n",
       "      <th>0</th>\n",
       "      <td>Aaradhya</td>\n",
       "      <td>Female</td>\n",
       "      <td>49.0</td>\n",
       "      <td>Ludhiana</td>\n",
       "      <td>Working Professional</td>\n",
       "      <td>Chef</td>\n",
       "      <td>None</td>\n",
       "      <td>5.0</td>\n",
       "      <td>None</td>\n",
       "      <td>None</td>\n",
       "      <td>2.0</td>\n",
       "      <td>More than 8 hours</td>\n",
       "      <td>Healthy</td>\n",
       "      <td>BHM</td>\n",
       "      <td>No</td>\n",
       "      <td>1.0</td>\n",
       "      <td>2.0</td>\n",
       "      <td>No</td>\n",
       "      <td>0</td>\n",
       "    </tr>\n",
       "    <tr>\n",
       "      <th>1</th>\n",
       "      <td>Vivan</td>\n",
       "      <td>Male</td>\n",
       "      <td>26.0</td>\n",
       "      <td>Varanasi</td>\n",
       "      <td>Working Professional</td>\n",
       "      <td>Teacher</td>\n",
       "      <td>None</td>\n",
       "      <td>4.0</td>\n",
       "      <td>None</td>\n",
       "      <td>None</td>\n",
       "      <td>3.0</td>\n",
       "      <td>Less than 5 hours</td>\n",
       "      <td>Unhealthy</td>\n",
       "      <td>LLB</td>\n",
       "      <td>Yes</td>\n",
       "      <td>7.0</td>\n",
       "      <td>3.0</td>\n",
       "      <td>No</td>\n",
       "      <td>1</td>\n",
       "    </tr>\n",
       "    <tr>\n",
       "      <th>2</th>\n",
       "      <td>Yuvraj</td>\n",
       "      <td>Male</td>\n",
       "      <td>33.0</td>\n",
       "      <td>Visakhapatnam</td>\n",
       "      <td>Student</td>\n",
       "      <td>None</td>\n",
       "      <td>5.0</td>\n",
       "      <td>None</td>\n",
       "      <td>8.97</td>\n",
       "      <td>2.0</td>\n",
       "      <td>None</td>\n",
       "      <td>5-6 hours</td>\n",
       "      <td>Healthy</td>\n",
       "      <td>B.Pharm</td>\n",
       "      <td>Yes</td>\n",
       "      <td>3.0</td>\n",
       "      <td>1.0</td>\n",
       "      <td>No</td>\n",
       "      <td>1</td>\n",
       "    </tr>\n",
       "    <tr>\n",
       "      <th>3</th>\n",
       "      <td>Yuvraj</td>\n",
       "      <td>Male</td>\n",
       "      <td>22.0</td>\n",
       "      <td>Mumbai</td>\n",
       "      <td>Working Professional</td>\n",
       "      <td>Teacher</td>\n",
       "      <td>None</td>\n",
       "      <td>5.0</td>\n",
       "      <td>None</td>\n",
       "      <td>None</td>\n",
       "      <td>1.0</td>\n",
       "      <td>Less than 5 hours</td>\n",
       "      <td>Moderate</td>\n",
       "      <td>BBA</td>\n",
       "      <td>Yes</td>\n",
       "      <td>10.0</td>\n",
       "      <td>1.0</td>\n",
       "      <td>Yes</td>\n",
       "      <td>1</td>\n",
       "    </tr>\n",
       "    <tr>\n",
       "      <th>4</th>\n",
       "      <td>Rhea</td>\n",
       "      <td>Female</td>\n",
       "      <td>30.0</td>\n",
       "      <td>Kanpur</td>\n",
       "      <td>Working Professional</td>\n",
       "      <td>Business Analyst</td>\n",
       "      <td>None</td>\n",
       "      <td>1.0</td>\n",
       "      <td>None</td>\n",
       "      <td>None</td>\n",
       "      <td>1.0</td>\n",
       "      <td>5-6 hours</td>\n",
       "      <td>Unhealthy</td>\n",
       "      <td>BBA</td>\n",
       "      <td>Yes</td>\n",
       "      <td>9.0</td>\n",
       "      <td>4.0</td>\n",
       "      <td>Yes</td>\n",
       "      <td>0</td>\n",
       "    </tr>\n",
       "  </tbody>\n",
       "</table>\n",
       "</div>"
      ],
      "text/plain": [
       "       Name  Gender   Age           City Working Professional or Student  \\\n",
       "0  Aaradhya  Female  49.0       Ludhiana            Working Professional   \n",
       "1     Vivan    Male  26.0       Varanasi            Working Professional   \n",
       "2    Yuvraj    Male  33.0  Visakhapatnam                         Student   \n",
       "3    Yuvraj    Male  22.0         Mumbai            Working Professional   \n",
       "4      Rhea  Female  30.0         Kanpur            Working Professional   \n",
       "\n",
       "         Profession Academic Pressure Work Pressure  CGPA Study Satisfaction  \\\n",
       "0              Chef              None           5.0  None               None   \n",
       "1           Teacher              None           4.0  None               None   \n",
       "2              None               5.0          None  8.97                2.0   \n",
       "3           Teacher              None           5.0  None               None   \n",
       "4  Business Analyst              None           1.0  None               None   \n",
       "\n",
       "  Job Satisfaction     Sleep Duration Dietary Habits   Degree  \\\n",
       "0              2.0  More than 8 hours        Healthy      BHM   \n",
       "1              3.0  Less than 5 hours      Unhealthy      LLB   \n",
       "2             None          5-6 hours        Healthy  B.Pharm   \n",
       "3              1.0  Less than 5 hours       Moderate      BBA   \n",
       "4              1.0          5-6 hours      Unhealthy      BBA   \n",
       "\n",
       "  Have you ever had suicidal thoughts ? Work/Study Hours Financial Stress  \\\n",
       "0                                    No              1.0              2.0   \n",
       "1                                   Yes              7.0              3.0   \n",
       "2                                   Yes              3.0              1.0   \n",
       "3                                   Yes             10.0              1.0   \n",
       "4                                   Yes              9.0              4.0   \n",
       "\n",
       "  Family History of Mental Illness  Depression  \n",
       "0                               No           0  \n",
       "1                               No           1  \n",
       "2                               No           1  \n",
       "3                              Yes           1  \n",
       "4                              Yes           0  "
      ]
     },
     "metadata": {},
     "output_type": "display_data"
    },
    {
     "data": {
      "text/html": [
       "<div>\n",
       "<style scoped>\n",
       "    .dataframe tbody tr th:only-of-type {\n",
       "        vertical-align: middle;\n",
       "    }\n",
       "\n",
       "    .dataframe tbody tr th {\n",
       "        vertical-align: top;\n",
       "    }\n",
       "\n",
       "    .dataframe thead th {\n",
       "        text-align: right;\n",
       "    }\n",
       "</style>\n",
       "<table border=\"1\" class=\"dataframe\">\n",
       "  <thead>\n",
       "    <tr style=\"text-align: right;\">\n",
       "      <th></th>\n",
       "      <th>Name</th>\n",
       "      <th>Gender</th>\n",
       "      <th>Age</th>\n",
       "      <th>City</th>\n",
       "      <th>Working Professional or Student</th>\n",
       "      <th>Profession</th>\n",
       "      <th>Academic Pressure</th>\n",
       "      <th>Work Pressure</th>\n",
       "      <th>CGPA</th>\n",
       "      <th>Study Satisfaction</th>\n",
       "      <th>Job Satisfaction</th>\n",
       "      <th>Sleep Duration</th>\n",
       "      <th>Dietary Habits</th>\n",
       "      <th>Degree</th>\n",
       "      <th>Have you ever had suicidal thoughts ?</th>\n",
       "      <th>Work/Study Hours</th>\n",
       "      <th>Financial Stress</th>\n",
       "      <th>Family History of Mental Illness</th>\n",
       "    </tr>\n",
       "  </thead>\n",
       "  <tbody>\n",
       "    <tr>\n",
       "      <th>0</th>\n",
       "      <td>Shivam</td>\n",
       "      <td>Male</td>\n",
       "      <td>53.0</td>\n",
       "      <td>Visakhapatnam</td>\n",
       "      <td>Working Professional</td>\n",
       "      <td>Judge</td>\n",
       "      <td>None</td>\n",
       "      <td>2.0</td>\n",
       "      <td>None</td>\n",
       "      <td>None</td>\n",
       "      <td>5.0</td>\n",
       "      <td>Less than 5 hours</td>\n",
       "      <td>Moderate</td>\n",
       "      <td>LLB</td>\n",
       "      <td>No</td>\n",
       "      <td>9.0</td>\n",
       "      <td>3.0</td>\n",
       "      <td>Yes</td>\n",
       "    </tr>\n",
       "    <tr>\n",
       "      <th>1</th>\n",
       "      <td>Sanya</td>\n",
       "      <td>Female</td>\n",
       "      <td>58.0</td>\n",
       "      <td>Kolkata</td>\n",
       "      <td>Working Professional</td>\n",
       "      <td>Educational Consultant</td>\n",
       "      <td>None</td>\n",
       "      <td>2.0</td>\n",
       "      <td>None</td>\n",
       "      <td>None</td>\n",
       "      <td>4.0</td>\n",
       "      <td>Less than 5 hours</td>\n",
       "      <td>Moderate</td>\n",
       "      <td>B.Ed</td>\n",
       "      <td>No</td>\n",
       "      <td>6.0</td>\n",
       "      <td>4.0</td>\n",
       "      <td>No</td>\n",
       "    </tr>\n",
       "    <tr>\n",
       "      <th>2</th>\n",
       "      <td>Yash</td>\n",
       "      <td>Male</td>\n",
       "      <td>53.0</td>\n",
       "      <td>Jaipur</td>\n",
       "      <td>Working Professional</td>\n",
       "      <td>Teacher</td>\n",
       "      <td>None</td>\n",
       "      <td>4.0</td>\n",
       "      <td>None</td>\n",
       "      <td>None</td>\n",
       "      <td>1.0</td>\n",
       "      <td>7-8 hours</td>\n",
       "      <td>Moderate</td>\n",
       "      <td>B.Arch</td>\n",
       "      <td>Yes</td>\n",
       "      <td>12.0</td>\n",
       "      <td>4.0</td>\n",
       "      <td>No</td>\n",
       "    </tr>\n",
       "    <tr>\n",
       "      <th>3</th>\n",
       "      <td>Nalini</td>\n",
       "      <td>Female</td>\n",
       "      <td>23.0</td>\n",
       "      <td>Rajkot</td>\n",
       "      <td>Student</td>\n",
       "      <td>None</td>\n",
       "      <td>5.0</td>\n",
       "      <td>None</td>\n",
       "      <td>6.84</td>\n",
       "      <td>1.0</td>\n",
       "      <td>None</td>\n",
       "      <td>More than 8 hours</td>\n",
       "      <td>Moderate</td>\n",
       "      <td>BSc</td>\n",
       "      <td>Yes</td>\n",
       "      <td>10.0</td>\n",
       "      <td>4.0</td>\n",
       "      <td>No</td>\n",
       "    </tr>\n",
       "    <tr>\n",
       "      <th>4</th>\n",
       "      <td>Shaurya</td>\n",
       "      <td>Male</td>\n",
       "      <td>47.0</td>\n",
       "      <td>Kalyan</td>\n",
       "      <td>Working Professional</td>\n",
       "      <td>Teacher</td>\n",
       "      <td>None</td>\n",
       "      <td>5.0</td>\n",
       "      <td>None</td>\n",
       "      <td>None</td>\n",
       "      <td>5.0</td>\n",
       "      <td>7-8 hours</td>\n",
       "      <td>Moderate</td>\n",
       "      <td>BCA</td>\n",
       "      <td>Yes</td>\n",
       "      <td>3.0</td>\n",
       "      <td>4.0</td>\n",
       "      <td>No</td>\n",
       "    </tr>\n",
       "  </tbody>\n",
       "</table>\n",
       "</div>"
      ],
      "text/plain": [
       "      Name  Gender   Age           City Working Professional or Student  \\\n",
       "0   Shivam    Male  53.0  Visakhapatnam            Working Professional   \n",
       "1    Sanya  Female  58.0        Kolkata            Working Professional   \n",
       "2     Yash    Male  53.0         Jaipur            Working Professional   \n",
       "3   Nalini  Female  23.0         Rajkot                         Student   \n",
       "4  Shaurya    Male  47.0         Kalyan            Working Professional   \n",
       "\n",
       "               Profession Academic Pressure Work Pressure  CGPA  \\\n",
       "0                   Judge              None           2.0  None   \n",
       "1  Educational Consultant              None           2.0  None   \n",
       "2                 Teacher              None           4.0  None   \n",
       "3                    None               5.0          None  6.84   \n",
       "4                 Teacher              None           5.0  None   \n",
       "\n",
       "  Study Satisfaction Job Satisfaction     Sleep Duration Dietary Habits  \\\n",
       "0               None              5.0  Less than 5 hours       Moderate   \n",
       "1               None              4.0  Less than 5 hours       Moderate   \n",
       "2               None              1.0          7-8 hours       Moderate   \n",
       "3                1.0             None  More than 8 hours       Moderate   \n",
       "4               None              5.0          7-8 hours       Moderate   \n",
       "\n",
       "   Degree Have you ever had suicidal thoughts ? Work/Study Hours  \\\n",
       "0     LLB                                    No              9.0   \n",
       "1    B.Ed                                    No              6.0   \n",
       "2  B.Arch                                   Yes             12.0   \n",
       "3     BSc                                   Yes             10.0   \n",
       "4     BCA                                   Yes              3.0   \n",
       "\n",
       "  Financial Stress Family History of Mental Illness  \n",
       "0              3.0                              Yes  \n",
       "1              4.0                               No  \n",
       "2              4.0                               No  \n",
       "3              4.0                               No  \n",
       "4              4.0                               No  "
      ]
     },
     "metadata": {},
     "output_type": "display_data"
    }
   ],
   "source": [
    "if 'SOLUTION_18' in ENSEMBLE_SOLUTIONS:\n",
    "    \n",
    "    display(train.head(), test.head())"
   ]
  },
  {
   "cell_type": "code",
   "execution_count": 131,
   "id": "644e9a7e",
   "metadata": {
    "_kg_hide-input": true,
    "_kg_hide-output": true,
    "execution": {
     "iopub.execute_input": "2024-11-07T02:35:54.506554Z",
     "iopub.status.busy": "2024-11-07T02:35:54.506085Z",
     "iopub.status.idle": "2024-11-07T02:35:54.585000Z",
     "shell.execute_reply": "2024-11-07T02:35:54.583961Z"
    },
    "papermill": {
     "duration": 0.204088,
     "end_time": "2024-11-07T02:35:54.587084",
     "exception": false,
     "start_time": "2024-11-07T02:35:54.382996",
     "status": "completed"
    },
    "tags": []
   },
   "outputs": [
    {
     "name": "stdout",
     "output_type": "stream",
     "text": [
      "CPU times: user 65.9 ms, sys: 969 µs, total: 66.9 ms\n",
      "Wall time: 66.5 ms\n"
     ]
    }
   ],
   "source": [
    "%%time\n",
    "\n",
    "if 'SOLUTION_18' in ENSEMBLE_SOLUTIONS:\n",
    "\n",
    "    y = train['Depression']\n",
    "    X = train.drop(['Depression'], axis=1)\n",
    "\n",
    "    def CAT_(test, catboost_params):\n",
    "\n",
    "        SKF = StratifiedKFold(n_splits=5, shuffle=True, random_state=SEED)\n",
    "        train_accuracies = []\n",
    "        valid_accuracies = []\n",
    "        test_predictions = []\n",
    "        oof_predictions = np.zeros(len(X))\n",
    "\n",
    "        test_pool = Pool(test, cat_features=X.columns.values)\n",
    "\n",
    "        for fold, (train_idx, val_idx) in enumerate(SKF.split(X, y)):\n",
    "            X_train, X_val = X.iloc[train_idx], X.iloc[val_idx]\n",
    "            y_train, y_val = y.iloc[train_idx], y.iloc[val_idx]\n",
    "\n",
    "            train_pool = Pool(X_train, y_train, cat_features=X.columns.values)\n",
    "            val_pool = Pool(X_val, y_val, cat_features=X.columns.values)\n",
    "\n",
    "            model = CatBoostClassifier(**catboost_params, random_state=SEED, verbose=0)\n",
    "            model.fit(X=train_pool, eval_set=val_pool, early_stopping_rounds=50)\n",
    "\n",
    "            train_predictions = model.predict(train_pool)\n",
    "            train_accuracy = accuracy_score(y_train, train_predictions)\n",
    "            train_accuracies.append(train_accuracy)\n",
    "\n",
    "            val_predictions = model.predict(val_pool)\n",
    "            valid_accuracy = accuracy_score(y_val, val_predictions)\n",
    "            valid_accuracies.append(valid_accuracy)\n",
    "\n",
    "            oof_predictions[val_idx] = model.predict_proba(val_pool)[:, 1]\n",
    "\n",
    "            test_fold_pred = model.predict_proba(test_pool)[:, 1]\n",
    "            test_predictions.append(test_fold_pred)\n",
    "\n",
    "            print(f'Fold {fold + 1} Train Accuracy: {train_accuracy:.3f}, Valid Accuracy: {valid_accuracy:.3f}')\n",
    "            clear_output(wait=True)\n",
    "\n",
    "        overall_train_accuracy = np.mean(train_accuracies)\n",
    "        overall_valid_accuracy = np.mean(valid_accuracies)\n",
    "        print(f'Overall Train Accuracy: {overall_train_accuracy:.3f}')\n",
    "        print(f'Overall Valid Accuracy: {overall_valid_accuracy:.3f}')\n",
    "\n",
    "        mean_oof_preds = np.mean(oof_predictions)\n",
    "        mean_test_preds = np.mean(test_predictions, axis=0)\n",
    "\n",
    "        return mean_oof_preds, mean_test_preds"
   ]
  },
  {
   "cell_type": "code",
   "execution_count": 132,
   "id": "b1f63c6d",
   "metadata": {
    "_kg_hide-input": true,
    "_kg_hide-output": true,
    "execution": {
     "iopub.execute_input": "2024-11-07T02:35:54.731706Z",
     "iopub.status.busy": "2024-11-07T02:35:54.730829Z",
     "iopub.status.idle": "2024-11-07T02:37:23.745248Z",
     "shell.execute_reply": "2024-11-07T02:37:23.744156Z"
    },
    "papermill": {
     "duration": 89.089346,
     "end_time": "2024-11-07T02:37:23.747557",
     "exception": false,
     "start_time": "2024-11-07T02:35:54.658211",
     "status": "completed"
    },
    "tags": []
   },
   "outputs": [
    {
     "name": "stdout",
     "output_type": "stream",
     "text": [
      "Overall Train Accuracy: 0.945\n",
      "Overall Valid Accuracy: 0.941\n",
      "CPU times: user 2min 3s, sys: 11.4 s, total: 2min 14s\n",
      "Wall time: 1min 29s\n"
     ]
    }
   ],
   "source": [
    "%%time\n",
    "    \n",
    "if 'SOLUTION_18' in ENSEMBLE_SOLUTIONS:  \n",
    "\n",
    "    SEED = 42\n",
    "\n",
    "    Params4 = {'loss_function': 'Logloss','eval_metric': 'AUC','learning_rate': 0.08114394459649094,\n",
    "        'iterations': 1000,'depth': 6,'random_strength':0,'l2_leaf_reg': 0.7047064221215757,'task_type': 'GPU'} # LB : 0.94381\n",
    "\n",
    "    meanOFF, meanTest = CAT_(test,Params4)"
   ]
  },
  {
   "cell_type": "code",
   "execution_count": 133,
   "id": "7e6b7f4a",
   "metadata": {
    "_kg_hide-input": true,
    "_kg_hide-output": true,
    "execution": {
     "iopub.execute_input": "2024-11-07T02:37:23.900360Z",
     "iopub.status.busy": "2024-11-07T02:37:23.899440Z",
     "iopub.status.idle": "2024-11-07T02:37:24.049616Z",
     "shell.execute_reply": "2024-11-07T02:37:24.048610Z"
    },
    "papermill": {
     "duration": 0.228163,
     "end_time": "2024-11-07T02:37:24.051733",
     "exception": false,
     "start_time": "2024-11-07T02:37:23.823570",
     "status": "completed"
    },
    "tags": []
   },
   "outputs": [
    {
     "name": "stdout",
     "output_type": "stream",
     "text": [
      "CPU times: user 144 ms, sys: 0 ns, total: 144 ms\n",
      "Wall time: 144 ms\n"
     ]
    }
   ],
   "source": [
    "%%time\n",
    "    \n",
    "if 'SOLUTION_18' in ENSEMBLE_SOLUTIONS:\n",
    "\n",
    "    sample['Depression'] = np.round(meanTest)\n",
    "\n",
    "    sample.to_csv('subm_18.csv', index=False)\n",
    "\n",
    "    sample.head()"
   ]
  },
  {
   "cell_type": "markdown",
   "id": "5249eed0",
   "metadata": {
    "papermill": {
     "duration": 0.071505,
     "end_time": "2024-11-07T02:37:24.194782",
     "exception": false,
     "start_time": "2024-11-07T02:37:24.123277",
     "status": "completed"
    },
    "tags": []
   },
   "source": [
    "## 19. [EMH | CatBoost Only](https://www.kaggle.com/code/abdmental01/emh-catboost-only) V[8](), Lb=0.94339\n",
    "### [Sheikh Muhammad Abdullah](https://www.kaggle.com/abdmental01)"
   ]
  },
  {
   "cell_type": "code",
   "execution_count": 134,
   "id": "9229a528",
   "metadata": {
    "_kg_hide-input": true,
    "_kg_hide-output": true,
    "execution": {
     "iopub.execute_input": "2024-11-07T02:37:24.340798Z",
     "iopub.status.busy": "2024-11-07T02:37:24.340109Z",
     "iopub.status.idle": "2024-11-07T02:37:24.346388Z",
     "shell.execute_reply": "2024-11-07T02:37:24.345464Z"
    },
    "papermill": {
     "duration": 0.081752,
     "end_time": "2024-11-07T02:37:24.348465",
     "exception": false,
     "start_time": "2024-11-07T02:37:24.266713",
     "status": "completed"
    },
    "tags": []
   },
   "outputs": [],
   "source": [
    "if 'SOLUTION_19' in ENSEMBLE_SOLUTIONS:\n",
    "    \n",
    "    import numpy as np\n",
    "    import polars as pl\n",
    "    import pandas as pd\n",
    "    from sklearn.base import clone\n",
    "    import optuna\n",
    "    import os\n",
    "    import category_encoders as ce\n",
    "    from IPython.display import clear_output\n",
    "\n",
    "    import warnings\n",
    "    warnings.filterwarnings('ignore')\n",
    "    pd.options.display.max_columns = None\n",
    "\n",
    "    import lightgbm as lgb\n",
    "    from catboost import CatBoostRegressor, CatBoostClassifier, Pool\n",
    "    from sklearn.model_selection import *\n",
    "    from sklearn.metrics import *"
   ]
  },
  {
   "cell_type": "code",
   "execution_count": 135,
   "id": "12d8af40",
   "metadata": {
    "_kg_hide-input": true,
    "_kg_hide-output": true,
    "execution": {
     "iopub.execute_input": "2024-11-07T02:37:24.493502Z",
     "iopub.status.busy": "2024-11-07T02:37:24.492620Z",
     "iopub.status.idle": "2024-11-07T02:37:28.876262Z",
     "shell.execute_reply": "2024-11-07T02:37:28.875113Z"
    },
    "papermill": {
     "duration": 4.458578,
     "end_time": "2024-11-07T02:37:28.878623",
     "exception": false,
     "start_time": "2024-11-07T02:37:24.420045",
     "status": "completed"
    },
    "tags": []
   },
   "outputs": [
    {
     "name": "stdout",
     "output_type": "stream",
     "text": [
      "CPU times: user 4.34 s, sys: 32.4 ms, total: 4.37 s\n",
      "Wall time: 4.37 s\n"
     ]
    }
   ],
   "source": [
    "%%time\n",
    "\n",
    "train = pd.read_csv('/kaggle/input/playground-series-s4e11/train.csv')\n",
    "test = pd.read_csv('/kaggle/input/playground-series-s4e11/test.csv')\n",
    "sample = pd.read_csv('/kaggle/input/playground-series-s4e11/sample_submission.csv')\n",
    "original = pd.read_csv('/kaggle/input/depression-surveydataset-for-analysis/final_depression_dataset_1.csv')\n",
    "\n",
    "original['Depression'] = original['Depression'].map({\n",
    "    'No': 0,\n",
    "    'Yes': 1\n",
    "})\n",
    "\n",
    "train = train.drop('id',axis=1)\n",
    "test = test.drop('id',axis=1)\n",
    "\n",
    "train = pd.concat(objs=[train, original])\n",
    "\n",
    "def clean_columns(df, column, valid_categories):\n",
    "\n",
    "    df[column] = df[column].apply(lambda x: x if x in valid_categories else 'Noise')\n",
    "    \n",
    "    return df\n",
    "\n",
    "valid_sleep_duration = [\n",
    "    \"Less than 5 hours\", \"5-6 hours\", \"6-7 hours\", \"7-8 hours\", \"More than 8 hours\"\n",
    "]\n",
    "valid_dietary_habits = [\"Healthy\", \"Moderate\", \"Unhealthy\"]\n",
    "\n",
    "train = clean_columns(train, 'Sleep Duration', valid_sleep_duration)\n",
    "train = clean_columns(train, 'Dietary Habits', valid_dietary_habits)\n",
    "test = clean_columns(test, 'Sleep Duration', valid_sleep_duration)\n",
    "test = clean_columns(test, 'Dietary Habits', valid_dietary_habits)\n",
    "\n",
    "def removieNoise(df, columns, threshold=100):\n",
    "    \n",
    "    for column in columns:\n",
    "        value_counts = df[column].value_counts()\n",
    "        low_freq_categories = value_counts[value_counts < threshold].index\n",
    "        df[column] = df[column].apply(lambda x: x if x not in low_freq_categories else 'Other')\n",
    "    \n",
    "    return df\n",
    "\n",
    "train = removieNoise(train, ['Name', 'City', 'Profession', 'Degree'])\n",
    "test = removieNoise(test, ['Name', 'City', 'Profession', 'Degree'])\n",
    "\n",
    "cat_c = [col for col in train.columns if col != 'Depression']\n",
    "\n",
    "train[cat_c] = train[cat_c].fillna('None').astype('string')\n",
    "test = test.fillna('None').astype('string')"
   ]
  },
  {
   "cell_type": "code",
   "execution_count": 136,
   "id": "db45e462",
   "metadata": {
    "_kg_hide-input": true,
    "_kg_hide-output": true,
    "execution": {
     "iopub.execute_input": "2024-11-07T02:37:29.024791Z",
     "iopub.status.busy": "2024-11-07T02:37:29.023904Z",
     "iopub.status.idle": "2024-11-07T02:37:29.028562Z",
     "shell.execute_reply": "2024-11-07T02:37:29.027681Z"
    },
    "papermill": {
     "duration": 0.079485,
     "end_time": "2024-11-07T02:37:29.030560",
     "exception": false,
     "start_time": "2024-11-07T02:37:28.951075",
     "status": "completed"
    },
    "tags": []
   },
   "outputs": [],
   "source": [
    "if 'SOLUTION_19' in ENSEMBLE_SOLUTIONS:\n",
    "    \n",
    "    display(train.head(), test.head())"
   ]
  },
  {
   "cell_type": "code",
   "execution_count": 137,
   "id": "0504c930",
   "metadata": {
    "_kg_hide-input": true,
    "_kg_hide-output": true,
    "execution": {
     "iopub.execute_input": "2024-11-07T02:37:29.176003Z",
     "iopub.status.busy": "2024-11-07T02:37:29.175085Z",
     "iopub.status.idle": "2024-11-07T02:37:29.187644Z",
     "shell.execute_reply": "2024-11-07T02:37:29.186719Z"
    },
    "papermill": {
     "duration": 0.088003,
     "end_time": "2024-11-07T02:37:29.189774",
     "exception": false,
     "start_time": "2024-11-07T02:37:29.101771",
     "status": "completed"
    },
    "tags": []
   },
   "outputs": [
    {
     "name": "stdout",
     "output_type": "stream",
     "text": [
      "CPU times: user 6 µs, sys: 0 ns, total: 6 µs\n",
      "Wall time: 9.06 µs\n"
     ]
    }
   ],
   "source": [
    "%%time\n",
    "    \n",
    "if 'SOLUTION_19' in ENSEMBLE_SOLUTIONS:\n",
    "\n",
    "    y = train['Depression']\n",
    "    X = train.drop(['Depression'], axis=1)\n",
    "\n",
    "    def CAT_(test, catboost_params):\n",
    "\n",
    "        SKF = StratifiedKFold(n_splits=5, shuffle=True, random_state=SEED)\n",
    "        train_accuracies = []\n",
    "        valid_accuracies = []\n",
    "        test_predictions = []\n",
    "        oof_predictions = np.zeros(len(X))\n",
    "\n",
    "        test_pool = Pool(test, cat_features=X.columns.values)\n",
    "\n",
    "        for fold, (train_idx, val_idx) in enumerate(SKF.split(X, y)):\n",
    "            X_train, X_val = X.iloc[train_idx], X.iloc[val_idx]\n",
    "            y_train, y_val = y.iloc[train_idx], y.iloc[val_idx]\n",
    "\n",
    "            train_pool = Pool(X_train, y_train, cat_features=X.columns.values)\n",
    "            val_pool = Pool(X_val, y_val, cat_features=X.columns.values)\n",
    "\n",
    "            model = CatBoostClassifier(**catboost_params, random_state=SEED, verbose=0)\n",
    "            model.fit(X=train_pool, eval_set=val_pool, early_stopping_rounds=50)\n",
    "\n",
    "            train_predictions = model.predict(train_pool)\n",
    "            train_accuracy = accuracy_score(y_train, train_predictions)\n",
    "            train_accuracies.append(train_accuracy)\n",
    "\n",
    "            val_predictions = model.predict(val_pool)\n",
    "            valid_accuracy = accuracy_score(y_val, val_predictions)\n",
    "            valid_accuracies.append(valid_accuracy)\n",
    "\n",
    "            oof_predictions[val_idx] = model.predict_proba(val_pool)[:, 1]\n",
    "\n",
    "            test_fold_pred = model.predict_proba(test_pool)[:, 1]\n",
    "            test_predictions.append(test_fold_pred)\n",
    "\n",
    "            print(f'Fold {fold + 1} Train Accuracy: {train_accuracy:.3f}, Valid Accuracy: {valid_accuracy:.3f}')\n",
    "            clear_output(wait=True)\n",
    "\n",
    "        overall_train_accuracy = np.mean(train_accuracies)\n",
    "        overall_valid_accuracy = np.mean(valid_accuracies)\n",
    "        print(f'Overall Train Accuracy: {overall_train_accuracy:.3f}')\n",
    "        print(f'Overall Valid Accuracy: {overall_valid_accuracy:.3f}')\n",
    "\n",
    "        mean_oof_preds = np.mean(oof_predictions)\n",
    "        mean_test_preds = np.mean(test_predictions, axis=0)\n",
    "\n",
    "        return mean_oof_preds, mean_test_preds"
   ]
  },
  {
   "cell_type": "code",
   "execution_count": 138,
   "id": "9900a222",
   "metadata": {
    "_kg_hide-input": true,
    "_kg_hide-output": true,
    "execution": {
     "iopub.execute_input": "2024-11-07T02:37:29.334735Z",
     "iopub.status.busy": "2024-11-07T02:37:29.333810Z",
     "iopub.status.idle": "2024-11-07T02:37:29.340753Z",
     "shell.execute_reply": "2024-11-07T02:37:29.339840Z"
    },
    "papermill": {
     "duration": 0.081435,
     "end_time": "2024-11-07T02:37:29.342779",
     "exception": false,
     "start_time": "2024-11-07T02:37:29.261344",
     "status": "completed"
    },
    "tags": []
   },
   "outputs": [
    {
     "name": "stdout",
     "output_type": "stream",
     "text": [
      "CPU times: user 5 µs, sys: 0 ns, total: 5 µs\n",
      "Wall time: 9.3 µs\n"
     ]
    }
   ],
   "source": [
    "%%time\n",
    "    \n",
    "if 'SOLUTION_19' in ENSEMBLE_SOLUTIONS:\n",
    "\n",
    "    SEED = 42\n",
    "\n",
    "    Params4 = {'loss_function': 'Logloss','eval_metric': 'AUC','learning_rate': 0.08114394459649094,\n",
    "        'iterations': 1000,'depth': 6,'random_strength':0,'l2_leaf_reg': 0.7047064221215757,'task_type': 'GPU'} # LB : 0.94381\n",
    "\n",
    "    meanOFF, meanTest = CAT_(test,Params4)"
   ]
  },
  {
   "cell_type": "code",
   "execution_count": 139,
   "id": "d8776af2",
   "metadata": {
    "_kg_hide-input": true,
    "_kg_hide-output": true,
    "execution": {
     "iopub.execute_input": "2024-11-07T02:37:29.488429Z",
     "iopub.status.busy": "2024-11-07T02:37:29.487679Z",
     "iopub.status.idle": "2024-11-07T02:37:29.493679Z",
     "shell.execute_reply": "2024-11-07T02:37:29.492790Z"
    },
    "papermill": {
     "duration": 0.081352,
     "end_time": "2024-11-07T02:37:29.495713",
     "exception": false,
     "start_time": "2024-11-07T02:37:29.414361",
     "status": "completed"
    },
    "tags": []
   },
   "outputs": [
    {
     "name": "stdout",
     "output_type": "stream",
     "text": [
      "CPU times: user 5 µs, sys: 0 ns, total: 5 µs\n",
      "Wall time: 10 µs\n"
     ]
    }
   ],
   "source": [
    "%%time\n",
    "\n",
    "if 'SOLUTION_19' in ENSEMBLE_SOLUTIONS:\n",
    "\n",
    "    sample['Depression'] = np.round(meanTest)\n",
    "\n",
    "    sample.to_csv('subm_19.csv', index=False)\n",
    "\n",
    "    sample.head()"
   ]
  },
  {
   "cell_type": "markdown",
   "id": "a8f867fd",
   "metadata": {
    "papermill": {
     "duration": 0.07105,
     "end_time": "2024-11-07T02:37:29.638484",
     "exception": false,
     "start_time": "2024-11-07T02:37:29.567434",
     "status": "completed"
    },
    "tags": []
   },
   "source": [
    "## 20. [S04E11 | Depression Prediction | Ensemble](https://www.kaggle.com/code/ravaghi/s04e11-depression-prediction-ensemble), Lb=0.94264\n",
    "### [Mahdi Ravaghi](https://www.kaggle.com/ravaghi)"
   ]
  },
  {
   "cell_type": "code",
   "execution_count": 140,
   "id": "1a59a1c4",
   "metadata": {
    "_kg_hide-input": true,
    "_kg_hide-output": true,
    "execution": {
     "iopub.execute_input": "2024-11-07T02:37:29.783486Z",
     "iopub.status.busy": "2024-11-07T02:37:29.782692Z",
     "iopub.status.idle": "2024-11-07T02:37:29.789069Z",
     "shell.execute_reply": "2024-11-07T02:37:29.788175Z"
    },
    "papermill": {
     "duration": 0.081124,
     "end_time": "2024-11-07T02:37:29.791069",
     "exception": false,
     "start_time": "2024-11-07T02:37:29.709945",
     "status": "completed"
    },
    "tags": []
   },
   "outputs": [],
   "source": [
    "if 'SOLUTION_20' in ENSEMBLE_SOLUTIONS:\n",
    "    \n",
    "    from sklearn.linear_model import LogisticRegression, Ridge\n",
    "    from sklearn.model_selection import StratifiedKFold\n",
    "    from sklearn.metrics import accuracy_score\n",
    "    from sklearn.base import clone\n",
    "    from catboost import CatBoostClassifier\n",
    "    from lightgbm import LGBMClassifier\n",
    "    from xgboost import XGBClassifier\n",
    "    from scipy.special import logit\n",
    "    import matplotlib.pyplot as plt\n",
    "    import seaborn as sns\n",
    "    import pandas as pd\n",
    "    import numpy as np\n",
    "    import warnings\n",
    "    import pickle\n",
    "    import shutil\n",
    "    import optuna\n",
    "    import json\n",
    "    import os\n",
    "    import gc\n",
    "\n",
    "    warnings.filterwarnings('ignore')"
   ]
  },
  {
   "cell_type": "code",
   "execution_count": 141,
   "id": "da1f6947",
   "metadata": {
    "_kg_hide-input": true,
    "_kg_hide-output": true,
    "execution": {
     "iopub.execute_input": "2024-11-07T02:37:29.939505Z",
     "iopub.status.busy": "2024-11-07T02:37:29.938731Z",
     "iopub.status.idle": "2024-11-07T02:37:29.943970Z",
     "shell.execute_reply": "2024-11-07T02:37:29.943083Z"
    },
    "papermill": {
     "duration": 0.081526,
     "end_time": "2024-11-07T02:37:29.946237",
     "exception": false,
     "start_time": "2024-11-07T02:37:29.864711",
     "status": "completed"
    },
    "tags": []
   },
   "outputs": [],
   "source": [
    "if 'SOLUTION_20' in ENSEMBLE_SOLUTIONS:\n",
    "    \n",
    "    class CFG:\n",
    "        train_path = '/kaggle/input/playground-series-s4e11/train.csv'\n",
    "        test_path = '/kaggle/input/playground-series-s4e11/test.csv'\n",
    "        sample_sub_path = '/kaggle/input/playground-series-s4e11/sample_submission.csv'\n",
    "\n",
    "        original_data_path = '/kaggle/input/depression-surveydataset-for-analysis/final_depression_dataset_1.csv'\n",
    "\n",
    "        target = 'Depression'\n",
    "        n_folds = 5\n",
    "        seed = 42"
   ]
  },
  {
   "cell_type": "markdown",
   "id": "bcf5e3b0",
   "metadata": {
    "_kg_hide-input": true,
    "_kg_hide-output": true,
    "papermill": {
     "duration": 0.071753,
     "end_time": "2024-11-07T02:37:30.090114",
     "exception": false,
     "start_time": "2024-11-07T02:37:30.018361",
     "status": "completed"
    },
    "tags": []
   },
   "source": [
    "### Data loading and preprocessing"
   ]
  },
  {
   "cell_type": "code",
   "execution_count": 142,
   "id": "29d0dd5d",
   "metadata": {
    "_kg_hide-input": true,
    "_kg_hide-output": true,
    "execution": {
     "iopub.execute_input": "2024-11-07T02:37:30.236270Z",
     "iopub.status.busy": "2024-11-07T02:37:30.235462Z",
     "iopub.status.idle": "2024-11-07T02:37:30.240584Z",
     "shell.execute_reply": "2024-11-07T02:37:30.239639Z"
    },
    "papermill": {
     "duration": 0.080236,
     "end_time": "2024-11-07T02:37:30.242464",
     "exception": false,
     "start_time": "2024-11-07T02:37:30.162228",
     "status": "completed"
    },
    "tags": []
   },
   "outputs": [],
   "source": [
    "if 'SOLUTION_20' in ENSEMBLE_SOLUTIONS:\n",
    "    \n",
    "    _train    = pd.read_csv(CFG.train_path, index_col='id')\n",
    "    _test     = pd.read_csv(CFG.test_path, index_col='id')\n",
    "    _original = pd.read_csv(CFG.original_data_path)"
   ]
  },
  {
   "cell_type": "markdown",
   "id": "215f1da8",
   "metadata": {
    "_kg_hide-input": true,
    "_kg_hide-output": true,
    "papermill": {
     "duration": 0.071871,
     "end_time": "2024-11-07T02:37:30.390502",
     "exception": false,
     "start_time": "2024-11-07T02:37:30.318631",
     "status": "completed"
    },
    "tags": []
   },
   "source": [
    "- Similar to previous months' playground competitions, the dataset this time is also imbalanced, with the majority consisting of negative cases for depression. The imbalance ratio is not very high, so we won't do any upsampling or downsampling."
   ]
  },
  {
   "cell_type": "code",
   "execution_count": 143,
   "id": "049f918d",
   "metadata": {
    "_kg_hide-input": true,
    "_kg_hide-output": true,
    "execution": {
     "iopub.execute_input": "2024-11-07T02:37:30.554209Z",
     "iopub.status.busy": "2024-11-07T02:37:30.553351Z",
     "iopub.status.idle": "2024-11-07T02:37:30.558026Z",
     "shell.execute_reply": "2024-11-07T02:37:30.557138Z"
    },
    "papermill": {
     "duration": 0.080418,
     "end_time": "2024-11-07T02:37:30.560036",
     "exception": false,
     "start_time": "2024-11-07T02:37:30.479618",
     "status": "completed"
    },
    "tags": []
   },
   "outputs": [],
   "source": [
    "if 'SOLUTION_20' in ENSEMBLE_SOLUTIONS:    \n",
    "\n",
    "    _train.Depression.value_counts(normalize=True)"
   ]
  },
  {
   "cell_type": "markdown",
   "id": "befce16f",
   "metadata": {
    "_kg_hide-input": true,
    "papermill": {
     "duration": 0.071486,
     "end_time": "2024-11-07T02:37:30.703630",
     "exception": false,
     "start_time": "2024-11-07T02:37:30.632144",
     "status": "completed"
    },
    "tags": []
   },
   "source": [
    "- There are several categorical columns in the dataset, and some contain missing values. We will leave the missing values as they are, as most of the models we'll be using can handle missing values on their own.\n",
    "- Some categorical columns have high cardinality, while others have only two unique values."
   ]
  },
  {
   "cell_type": "code",
   "execution_count": 144,
   "id": "805a9081",
   "metadata": {
    "_kg_hide-input": true,
    "_kg_hide-output": true,
    "execution": {
     "iopub.execute_input": "2024-11-07T02:37:30.849167Z",
     "iopub.status.busy": "2024-11-07T02:37:30.848360Z",
     "iopub.status.idle": "2024-11-07T02:37:30.855226Z",
     "shell.execute_reply": "2024-11-07T02:37:30.854223Z"
    },
    "papermill": {
     "duration": 0.081507,
     "end_time": "2024-11-07T02:37:30.857142",
     "exception": false,
     "start_time": "2024-11-07T02:37:30.775635",
     "status": "completed"
    },
    "tags": []
   },
   "outputs": [],
   "source": [
    "if 'SOLUTION_20' in ENSEMBLE_SOLUTIONS:\n",
    "    \n",
    "    cat_cols = _train.select_dtypes(include='object').columns.tolist()\n",
    "\n",
    "    fig, axes = plt.subplots(2, 5, figsize=(20, 10))\n",
    "    axes = axes.flatten()\n",
    "    for i, col in enumerate(cat_cols):\n",
    "        sns.countplot(data=_train, x=col, hue=CFG.target, ax=axes[i])\n",
    "        axes[i].set_title(f'{col} distribution')\n",
    "        axes[i].set_ylabel('')\n",
    "        axes[i].set_xlabel('')\n",
    "\n",
    "    plt.tight_layout()\n",
    "    plt.show()"
   ]
  },
  {
   "cell_type": "code",
   "execution_count": 145,
   "id": "acc5a5d5",
   "metadata": {
    "_kg_hide-input": true,
    "_kg_hide-output": true,
    "execution": {
     "iopub.execute_input": "2024-11-07T02:37:31.005035Z",
     "iopub.status.busy": "2024-11-07T02:37:31.004219Z",
     "iopub.status.idle": "2024-11-07T02:37:31.011104Z",
     "shell.execute_reply": "2024-11-07T02:37:31.010204Z"
    },
    "papermill": {
     "duration": 0.082239,
     "end_time": "2024-11-07T02:37:31.013173",
     "exception": false,
     "start_time": "2024-11-07T02:37:30.930934",
     "status": "completed"
    },
    "tags": []
   },
   "outputs": [],
   "source": [
    "if 'SOLUTION_20' in ENSEMBLE_SOLUTIONS:\n",
    "    \n",
    "    fig, ax = plt.subplots(1, 1, figsize=(10, 5))\n",
    "    sns.barplot(\n",
    "        x=_train[cat_cols].nunique().sort_values(ascending=False).values,\n",
    "        y=_train[cat_cols].nunique().sort_values(ascending=False).index,\n",
    "        ax=ax,\n",
    "        palette=\"viridis\"\n",
    "    )\n",
    "    ax.set_title('Unique values in categorical columns')\n",
    "\n",
    "    for i, value in enumerate(_train[cat_cols].nunique().sort_values(ascending=False).values):\n",
    "        ax.text(value, i, f'{value}', va='center')\n",
    "\n",
    "    plt.show()"
   ]
  },
  {
   "cell_type": "code",
   "execution_count": 146,
   "id": "52e05cb1",
   "metadata": {
    "_kg_hide-input": true,
    "_kg_hide-output": true,
    "execution": {
     "iopub.execute_input": "2024-11-07T02:37:31.159717Z",
     "iopub.status.busy": "2024-11-07T02:37:31.158820Z",
     "iopub.status.idle": "2024-11-07T02:37:31.166052Z",
     "shell.execute_reply": "2024-11-07T02:37:31.165138Z"
    },
    "papermill": {
     "duration": 0.082556,
     "end_time": "2024-11-07T02:37:31.167934",
     "exception": false,
     "start_time": "2024-11-07T02:37:31.085378",
     "status": "completed"
    },
    "tags": []
   },
   "outputs": [],
   "source": [
    "if 'SOLUTION_20' in ENSEMBLE_SOLUTIONS:\n",
    "    \n",
    "    train_null_values = _train.drop(columns=CFG.target).isnull().T\n",
    "    test_null_values = _test.isnull().T\n",
    "\n",
    "    fig, axes = plt.subplots(nrows=1, ncols=2, figsize=(14, 5))\n",
    "\n",
    "    sns.heatmap(train_null_values, cbar=False, ax=axes[0])\n",
    "    axes[0].set_title('Train')\n",
    "    axes[0].set_xticks([]) \n",
    "    axes[0].set_xlabel('')\n",
    "\n",
    "    sns.heatmap(test_null_values, cbar=False, ax=axes[1])\n",
    "    axes[1].set_title('Test')\n",
    "    axes[1].set_xticks([]) \n",
    "    axes[1].set_xlabel('')\n",
    "\n",
    "    plt.tight_layout()\n",
    "    plt.show()"
   ]
  },
  {
   "cell_type": "markdown",
   "id": "fa8f1259",
   "metadata": {
    "_kg_hide-input": true,
    "_kg_hide-output": true,
    "papermill": {
     "duration": 0.073022,
     "end_time": "2024-11-07T02:37:31.313433",
     "exception": false,
     "start_time": "2024-11-07T02:37:31.240411",
     "status": "completed"
    },
    "tags": []
   },
   "source": [
    "- Below, we'll create a function that:\n",
    "  1. Converts the categorical columns to the `category` datatype.\n",
    "  2. Ensures that targets are consistent between the competition and original dataset.\n",
    "  3. Makes sure the data types are consistent between the original and competition datasets.\n",
    "  4. Divides both datasets into features and targets to be used by the `Trainer` class later on."
   ]
  },
  {
   "cell_type": "code",
   "execution_count": 147,
   "id": "104cc5fd",
   "metadata": {
    "_kg_hide-input": true,
    "_kg_hide-output": true,
    "execution": {
     "iopub.execute_input": "2024-11-07T02:37:31.459659Z",
     "iopub.status.busy": "2024-11-07T02:37:31.458887Z",
     "iopub.status.idle": "2024-11-07T02:37:31.469610Z",
     "shell.execute_reply": "2024-11-07T02:37:31.468669Z"
    },
    "papermill": {
     "duration": 0.085971,
     "end_time": "2024-11-07T02:37:31.471668",
     "exception": false,
     "start_time": "2024-11-07T02:37:31.385697",
     "status": "completed"
    },
    "tags": []
   },
   "outputs": [],
   "source": [
    "if 'SOLUTION_20' in ENSEMBLE_SOLUTIONS:\n",
    "    \n",
    "    def get_data(model):\n",
    "        train = pd.read_csv(CFG.train_path, index_col='id')\n",
    "        test = pd.read_csv(CFG.test_path, index_col='id')\n",
    "        original = pd.read_csv(CFG.original_data_path)\n",
    "        original[CFG.target] = original[CFG.target].map({'Yes': 1, 'No': 0})\n",
    "\n",
    "        if model == 'cb':\n",
    "            cat_cols = test.columns.tolist()\n",
    "        else:\n",
    "            cat_cols = test.select_dtypes(include='object').columns.tolist()\n",
    "\n",
    "        train[cat_cols] = train[cat_cols].astype(str).astype('category')\n",
    "        test[cat_cols] = test[cat_cols].astype(str).astype('category')\n",
    "        original[cat_cols] = original[cat_cols].astype(str).astype('category')\n",
    "\n",
    "        for col in cat_cols:\n",
    "            common_categories = train[col].cat.categories.union(original[col].cat.categories)\n",
    "            train[col] = train[col].cat.set_categories(common_categories)\n",
    "            original[col] = original[col].cat.set_categories(common_categories)\n",
    "\n",
    "        for col in train.columns:\n",
    "            original[col] = original[col].astype(train[col].dtype)\n",
    "\n",
    "        X = train.drop(CFG.target, axis=1)\n",
    "        y = train[CFG.target]\n",
    "        X_test = test\n",
    "\n",
    "        X_original = original.drop(CFG.target, axis=1)\n",
    "        y_original = original[CFG.target]\n",
    "\n",
    "        return X, y, X_test, X_original, y_original"
   ]
  },
  {
   "cell_type": "markdown",
   "id": "618d34ad",
   "metadata": {
    "_kg_hide-input": true,
    "_kg_hide-output": true,
    "papermill": {
     "duration": 0.071966,
     "end_time": "2024-11-07T02:37:31.616106",
     "exception": false,
     "start_time": "2024-11-07T02:37:31.544140",
     "status": "completed"
    },
    "tags": []
   },
   "source": [
    "### Training base models"
   ]
  },
  {
   "cell_type": "code",
   "execution_count": 148,
   "id": "dd414c7f",
   "metadata": {
    "_kg_hide-input": true,
    "_kg_hide-output": true,
    "execution": {
     "iopub.execute_input": "2024-11-07T02:37:31.762866Z",
     "iopub.status.busy": "2024-11-07T02:37:31.762201Z",
     "iopub.status.idle": "2024-11-07T02:37:31.783300Z",
     "shell.execute_reply": "2024-11-07T02:37:31.782538Z"
    },
    "papermill": {
     "duration": 0.096611,
     "end_time": "2024-11-07T02:37:31.785304",
     "exception": false,
     "start_time": "2024-11-07T02:37:31.688693",
     "status": "completed"
    },
    "tags": []
   },
   "outputs": [],
   "source": [
    "if 'SOLUTION_20' in ENSEMBLE_SOLUTIONS:\n",
    "    \n",
    "    class Trainer:\n",
    "        def __init__(self, model, config=CFG, is_ensemble_model=False):\n",
    "            self.model = model\n",
    "            self.config = config\n",
    "            self.is_ensemble_model = is_ensemble_model\n",
    "\n",
    "        def fit_predict(self, X, y, X_test, X_original=None, y_original=None):\n",
    "            print(f'Training {self.model.__class__.__name__}\\n')\n",
    "\n",
    "            scores = []        \n",
    "            coeffs = np.zeros((1, X.shape[1]))\n",
    "            oof_pred_probs = np.zeros(X.shape[0])\n",
    "            test_pred_probs = np.zeros(X_test.shape[0])\n",
    "\n",
    "            skf = StratifiedKFold(n_splits=self.config.n_folds, random_state=self.config.seed, shuffle=True)\n",
    "            for fold_idx, (train_idx, val_idx) in enumerate(skf.split(X, y)):\n",
    "                X_train, X_val = X.iloc[train_idx], X.iloc[val_idx]\n",
    "                y_train, y_val = y[train_idx], y[val_idx]\n",
    "\n",
    "                if not self.is_ensemble_model:                                \n",
    "                    X_train = pd.concat([X_train, X_original], ignore_index=True)\n",
    "                    y_train = pd.concat([y_train, y_original], ignore_index=True)\n",
    "\n",
    "                model = clone(self.model)\n",
    "                model.fit(X_train, y_train)\n",
    "\n",
    "                if self.is_ensemble_model:\n",
    "                    coeffs += model.coef_ / self.config.n_folds\n",
    "                    if isinstance(self.model, LogisticRegression):\n",
    "                        n_iters = model.n_iter_[0]\n",
    "\n",
    "                y_pred_probs = model.predict(X_val) if isinstance(self.model, Ridge) else model.predict_proba(X_val)[: ,1]\n",
    "                oof_pred_probs[val_idx] = y_pred_probs \n",
    "\n",
    "                temp_test_pred_probs = model.predict(X_test) if isinstance(self.model, Ridge) else model.predict_proba(X_test)[:, 1]\n",
    "                test_pred_probs += temp_test_pred_probs / self.config.n_folds\n",
    "\n",
    "                score = accuracy_score(y_val, y_pred_probs.round())\n",
    "                scores.append(score)\n",
    "\n",
    "                del model, X_train, y_train, X_val, y_val, y_pred_probs\n",
    "                gc.collect()\n",
    "\n",
    "                if self.is_ensemble_model and isinstance(self.model, LogisticRegression):\n",
    "                    print(f'--- Fold {fold_idx + 1} - Accuracy: {score:.6f} ({n_iters} iterations)')\n",
    "                else:\n",
    "                    print(f'--- Fold {fold_idx + 1} - Accuracy: {score:.6f}')\n",
    "\n",
    "            overall_score = accuracy_score(y, oof_pred_probs.round())\n",
    "\n",
    "            print(f'\\n------ Overall: {overall_score:.6f} | Average: {np.mean(scores):.6f} ± {np.std(scores):.6f}')\n",
    "\n",
    "            if self.is_ensemble_model:\n",
    "                return oof_pred_probs, test_pred_probs, scores, coeffs\n",
    "            else:\n",
    "                os.makedirs('oof_pred_probs', exist_ok=True)\n",
    "                os.makedirs('test_pred_probs', exist_ok=True)\n",
    "                self._save_pred_probs(oof_pred_probs, np.mean(scores), 'oof')\n",
    "                self._save_pred_probs(test_pred_probs, np.mean(scores), 'test')\n",
    "                return oof_pred_probs, test_pred_probs, scores\n",
    "\n",
    "        def fit(self, X, y):\n",
    "            scores = []                \n",
    "            skf = StratifiedKFold(n_splits=self.config.n_folds, random_state=self.config.seed, shuffle=True)\n",
    "            for fold_idx, (train_idx, val_idx) in enumerate(skf.split(X, y)):\n",
    "                X_train, X_val = X.iloc[train_idx], X.iloc[val_idx]\n",
    "                y_train, y_val = y[train_idx], y[val_idx]\n",
    "\n",
    "                model = clone(self.model)\n",
    "                model.fit(X_train, y_train)\n",
    "\n",
    "                y_pred_probs = model.predict(X_val).round() if isinstance(self.model, Ridge) else model.predict_proba(X_val)[:, 1].round()     \n",
    "                score = accuracy_score(y_val, y_pred_probs)\n",
    "                scores.append(score)\n",
    "\n",
    "                del model, X_train, y_train, X_val, y_val, y_pred_probs\n",
    "                gc.collect() \n",
    "\n",
    "            return np.mean(scores)\n",
    "\n",
    "        def _save_pred_probs(self, pred_probs, cv_score, name):\n",
    "            model_name = self.model.__class__.__name__.lower().replace('classifier', '')\n",
    "            with open(f'{name}_pred_probs/{model_name}_{name}_pred_probs_{cv_score:.6f}.pkl', 'wb') as f:\n",
    "                pickle.dump(pred_probs, f)"
   ]
  },
  {
   "cell_type": "code",
   "execution_count": 149,
   "id": "4aa415b2",
   "metadata": {
    "_kg_hide-input": true,
    "_kg_hide-output": true,
    "execution": {
     "iopub.execute_input": "2024-11-07T02:37:31.932776Z",
     "iopub.status.busy": "2024-11-07T02:37:31.932385Z",
     "iopub.status.idle": "2024-11-07T02:37:31.938010Z",
     "shell.execute_reply": "2024-11-07T02:37:31.937141Z"
    },
    "papermill": {
     "duration": 0.082379,
     "end_time": "2024-11-07T02:37:31.939895",
     "exception": false,
     "start_time": "2024-11-07T02:37:31.857516",
     "status": "completed"
    },
    "tags": []
   },
   "outputs": [],
   "source": [
    "if 'SOLUTION_20' in ENSEMBLE_SOLUTIONS:\n",
    "    \n",
    "    def save_submission(name, test_pred_probs, score):\n",
    "        sub = pd.read_csv(CFG.sample_sub_path)\n",
    "        sub[CFG.target] = test_pred_probs.round().astype(int)\n",
    "        sub.to_csv(f'sub_{name}_{score:.6f}.csv', index=False)\n",
    "        return sub.head()"
   ]
  },
  {
   "cell_type": "code",
   "execution_count": 150,
   "id": "f83ee2e1",
   "metadata": {
    "_kg_hide-input": true,
    "_kg_hide-output": true,
    "execution": {
     "iopub.execute_input": "2024-11-07T02:37:32.087466Z",
     "iopub.status.busy": "2024-11-07T02:37:32.086571Z",
     "iopub.status.idle": "2024-11-07T02:37:32.099355Z",
     "shell.execute_reply": "2024-11-07T02:37:32.098428Z"
    },
    "papermill": {
     "duration": 0.088248,
     "end_time": "2024-11-07T02:37:32.101270",
     "exception": false,
     "start_time": "2024-11-07T02:37:32.013022",
     "status": "completed"
    },
    "tags": []
   },
   "outputs": [],
   "source": [
    "if 'SOLUTION_20' in ENSEMBLE_SOLUTIONS:\n",
    "    \n",
    "    cb_params = {\n",
    "        \"border_count\": 180,\n",
    "        \"colsample_bylevel\": 0.7351678905666684,\n",
    "        \"depth\": 4,\n",
    "        \"iterations\": 2372,\n",
    "        \"l2_leaf_reg\": 4.442847441200204,\n",
    "        \"learning_rate\": 0.0514109059943355,\n",
    "        \"min_child_samples\": 146,\n",
    "        \"random_state\": 42,\n",
    "        \"random_strength\": 0.18678416655567043,\n",
    "        \"scale_pos_weight\": 1.019889465491297,\n",
    "        \"subsample\": 0.3511896501762123,\n",
    "        \"verbose\": False\n",
    "    }\n",
    "\n",
    "    xgb_params = {\n",
    "        \"colsample_bylevel\": 0.25155109886677396,\n",
    "        \"colsample_bynode\": 0.5723191165109757,\n",
    "        \"colsample_bytree\": 0.18034301813835885,\n",
    "        \"enable_categorical\": True,\n",
    "        \"gamma\": 3.6392698070258622,\n",
    "        \"max_bins\": 26161,\n",
    "        \"max_depth\": 16,\n",
    "        \"max_leaves\": 67,\n",
    "        \"min_child_weight\": 34,\n",
    "        \"n_estimators\": 3853,\n",
    "        \"n_jobs\": -1,\n",
    "        \"random_state\": 42,\n",
    "        \"reg_alpha\": 7.996080341061729,\n",
    "        \"reg_lambda\": 46.83054555763492,\n",
    "        \"scale_pos_weight\": 1.2157646356820928,\n",
    "        \"subsample\": 0.9117754083869292,\n",
    "        \"verbosity\": 0\n",
    "    }\n",
    "\n",
    "    lgbm_params = {\n",
    "        \"boosting_type\": \"gbdt\",\n",
    "        \"colsample_bytree\": 0.18283018243382332,\n",
    "        \"learning_rate\": 0.09945326391012832,\n",
    "        \"max_bins\": 36644,\n",
    "        \"min_child_samples\": 105,\n",
    "        \"min_child_weight\": 0.2083765599710974,\n",
    "        \"n_estimators\": 244,\n",
    "        \"n_jobs\": -1,\n",
    "        \"num_leaves\": 122,\n",
    "        \"random_state\": 42,\n",
    "        \"reg_alpha\": 8.662578235164972,\n",
    "        \"reg_lambda\": 3.5696291074963926,\n",
    "        \"scale_pos_weight\": 1.0733293968870794,\n",
    "        \"subsample\": 0.5360642841695424,\n",
    "        \"verbose\": -1\n",
    "    }\n",
    "\n",
    "    lgbm_goss_params = {\n",
    "        \"boosting_type\": \"goss\",\n",
    "        \"colsample_bytree\": 0.11905309670044416,\n",
    "        \"learning_rate\": 0.04641567005485582,\n",
    "        \"max_bins\": 18501,\n",
    "        \"min_child_samples\": 283,\n",
    "        \"min_child_weight\": 0.5242575557671028,\n",
    "        \"n_estimators\": 966,\n",
    "        \"n_jobs\": -1,\n",
    "        \"num_leaves\": 159,\n",
    "        \"random_state\": 42,\n",
    "        \"reg_alpha\": 8.160196501794122,\n",
    "        \"reg_lambda\": 9.861767101758469,\n",
    "        \"scale_pos_weight\": 0.991416082619142,\n",
    "        \"subsample\": 0.9259030065865966,\n",
    "        \"verbose\": -1\n",
    "    }\n",
    "\n",
    "    lgbm_dart_params = {\n",
    "        \"boosting_type\": \"dart\",\n",
    "        \"colsample_bytree\": 0.1181378019860333,\n",
    "        \"learning_rate\": 0.0910272033595692,\n",
    "        \"max_bins\": 7386,\n",
    "        \"min_child_samples\": 225,\n",
    "        \"min_child_weight\": 0.28492487885169293,\n",
    "        \"n_estimators\": 1454,\n",
    "        \"n_jobs\": -1,\n",
    "        \"num_leaves\": 163,\n",
    "        \"random_state\": 42,\n",
    "        \"reg_alpha\": 2.9686583338116925,\n",
    "        \"reg_lambda\": 9.781841345026509,\n",
    "        \"scale_pos_weight\": 0.8309734952725212,\n",
    "        \"subsample\": 0.511061530253864,\n",
    "        \"verbose\": -1\n",
    "    }"
   ]
  },
  {
   "cell_type": "code",
   "execution_count": 151,
   "id": "789b1dd8",
   "metadata": {
    "_kg_hide-input": true,
    "_kg_hide-output": true,
    "execution": {
     "iopub.execute_input": "2024-11-07T02:37:32.247951Z",
     "iopub.status.busy": "2024-11-07T02:37:32.247017Z",
     "iopub.status.idle": "2024-11-07T02:37:32.251732Z",
     "shell.execute_reply": "2024-11-07T02:37:32.250886Z"
    },
    "papermill": {
     "duration": 0.079887,
     "end_time": "2024-11-07T02:37:32.253671",
     "exception": false,
     "start_time": "2024-11-07T02:37:32.173784",
     "status": "completed"
    },
    "tags": []
   },
   "outputs": [],
   "source": [
    "if 'SOLUTION_20' in ENSEMBLE_SOLUTIONS:\n",
    "    \n",
    "    scores = {}\n",
    "    oof_pred_probs = {}\n",
    "    test_pred_probs = {}"
   ]
  },
  {
   "cell_type": "code",
   "execution_count": 152,
   "id": "f9a704bc",
   "metadata": {
    "_kg_hide-input": true,
    "_kg_hide-output": true,
    "execution": {
     "iopub.execute_input": "2024-11-07T02:37:32.401192Z",
     "iopub.status.busy": "2024-11-07T02:37:32.400510Z",
     "iopub.status.idle": "2024-11-07T02:37:32.406183Z",
     "shell.execute_reply": "2024-11-07T02:37:32.405281Z"
    },
    "papermill": {
     "duration": 0.081476,
     "end_time": "2024-11-07T02:37:32.408213",
     "exception": false,
     "start_time": "2024-11-07T02:37:32.326737",
     "status": "completed"
    },
    "tags": []
   },
   "outputs": [],
   "source": [
    "if 'SOLUTION_20' in ENSEMBLE_SOLUTIONS:\n",
    "    \n",
    "    X, y, X_test, X_original, y_original = get_data(\"cb\")\n",
    "    cb_model = CatBoostClassifier(**cb_params, cat_features=X.columns.tolist())\n",
    "    cb_trainer = Trainer(cb_model)\n",
    "    oof_pred_probs['CatBoost'], test_pred_probs['CatBoost'], scores['CatBoost'] = cb_trainer.fit_predict(X, y, X_test, X_original, y_original)"
   ]
  },
  {
   "cell_type": "code",
   "execution_count": 153,
   "id": "aaa3ae73",
   "metadata": {
    "_kg_hide-input": true,
    "_kg_hide-output": true,
    "execution": {
     "iopub.execute_input": "2024-11-07T02:37:32.553863Z",
     "iopub.status.busy": "2024-11-07T02:37:32.553475Z",
     "iopub.status.idle": "2024-11-07T02:37:32.558987Z",
     "shell.execute_reply": "2024-11-07T02:37:32.558075Z"
    },
    "papermill": {
     "duration": 0.080454,
     "end_time": "2024-11-07T02:37:32.560942",
     "exception": false,
     "start_time": "2024-11-07T02:37:32.480488",
     "status": "completed"
    },
    "tags": []
   },
   "outputs": [],
   "source": [
    "if 'SOLUTION_20' in ENSEMBLE_SOLUTIONS:\n",
    "    \n",
    "    X, y, X_test, X_original, y_original = get_data(\"xgb\")\n",
    "    xgb_model = XGBClassifier(**xgb_params)\n",
    "    xgb_trainer = Trainer(xgb_model)\n",
    "    oof_pred_probs['XGBoost'], test_pred_probs['XGBoost'], scores['XGBoost'] = xgb_trainer.fit_predict(X, y, X_test, X_original, y_original)"
   ]
  },
  {
   "cell_type": "code",
   "execution_count": 154,
   "id": "34e30fb3",
   "metadata": {
    "_kg_hide-input": true,
    "_kg_hide-output": true,
    "execution": {
     "iopub.execute_input": "2024-11-07T02:37:32.708964Z",
     "iopub.status.busy": "2024-11-07T02:37:32.708053Z",
     "iopub.status.idle": "2024-11-07T02:37:32.713723Z",
     "shell.execute_reply": "2024-11-07T02:37:32.712800Z"
    },
    "papermill": {
     "duration": 0.081733,
     "end_time": "2024-11-07T02:37:32.715596",
     "exception": false,
     "start_time": "2024-11-07T02:37:32.633863",
     "status": "completed"
    },
    "tags": []
   },
   "outputs": [],
   "source": [
    "if 'SOLUTION_20' in ENSEMBLE_SOLUTIONS:\n",
    "    \n",
    "    X, y, X_test, X_original, y_original = get_data(\"lgbm\")\n",
    "    lgbm_model = LGBMClassifier(**lgbm_params)\n",
    "    lgbm_trainer = Trainer(lgbm_model)\n",
    "    oof_pred_probs['LightGBM'], test_pred_probs['LightGBM'], scores['LightGBM'] = lgbm_trainer.fit_predict(X, y, X_test, X_original, y_original)"
   ]
  },
  {
   "cell_type": "code",
   "execution_count": 155,
   "id": "e0861d34",
   "metadata": {
    "_kg_hide-input": true,
    "_kg_hide-output": true,
    "execution": {
     "iopub.execute_input": "2024-11-07T02:37:32.861995Z",
     "iopub.status.busy": "2024-11-07T02:37:32.861126Z",
     "iopub.status.idle": "2024-11-07T02:37:32.866870Z",
     "shell.execute_reply": "2024-11-07T02:37:32.865923Z"
    },
    "papermill": {
     "duration": 0.081346,
     "end_time": "2024-11-07T02:37:32.869321",
     "exception": false,
     "start_time": "2024-11-07T02:37:32.787975",
     "status": "completed"
    },
    "tags": []
   },
   "outputs": [],
   "source": [
    "if 'SOLUTION_20' in ENSEMBLE_SOLUTIONS:\n",
    "    \n",
    "    X, y, X_test, X_original, y_original = get_data(\"lgbm_goss\")\n",
    "    lgbm_goss_model = LGBMClassifier(**lgbm_goss_params)\n",
    "    lgbm_goss_trainer = Trainer(lgbm_goss_model)\n",
    "    oof_pred_probs['LightGBM (goss)'], test_pred_probs['LightGBM (goss)'], scores['LightGBM (goss)'] = lgbm_goss_trainer.fit_predict(X, y, X_test, X_original, y_original)"
   ]
  },
  {
   "cell_type": "code",
   "execution_count": 156,
   "id": "ffd04488",
   "metadata": {
    "_kg_hide-input": true,
    "_kg_hide-output": true,
    "execution": {
     "iopub.execute_input": "2024-11-07T02:37:33.017553Z",
     "iopub.status.busy": "2024-11-07T02:37:33.016671Z",
     "iopub.status.idle": "2024-11-07T02:37:33.022315Z",
     "shell.execute_reply": "2024-11-07T02:37:33.021417Z"
    },
    "papermill": {
     "duration": 0.081188,
     "end_time": "2024-11-07T02:37:33.024172",
     "exception": false,
     "start_time": "2024-11-07T02:37:32.942984",
     "status": "completed"
    },
    "tags": []
   },
   "outputs": [],
   "source": [
    "if 'SOLUTION_20' in ENSEMBLE_SOLUTIONS:\n",
    "    \n",
    "    X, y, X_test, X_original, y_original = get_data(\"lgbm_dart\")\n",
    "    lgbm_dart_model = LGBMClassifier(**lgbm_dart_params)\n",
    "    lgbm_dart_trainer = Trainer(lgbm_dart_model)\n",
    "    oof_pred_probs['LightGBM (dart)'], test_pred_probs['LightGBM (dart)'], scores['LightGBM (dart)'] = lgbm_dart_trainer.fit_predict(X, y, X_test, X_original, y_original)"
   ]
  },
  {
   "cell_type": "markdown",
   "id": "cd44c467",
   "metadata": {
    "_kg_hide-input": true,
    "_kg_hide-output": true,
    "papermill": {
     "duration": 0.072661,
     "end_time": "2024-11-07T02:37:33.169559",
     "exception": false,
     "start_time": "2024-11-07T02:37:33.096898",
     "status": "completed"
    },
    "tags": []
   },
   "source": [
    "### L2 Logistic Regression\n",
    "\n",
    "To ensemble the OOF files of the base models, we will:\n",
    "1. Tune and train a `LogisticRegression` model.\n",
    "2. Tune and train a `Ridge` model.\n",
    "3. Combine the two ensembles using a weighted average."
   ]
  },
  {
   "cell_type": "code",
   "execution_count": 157,
   "id": "704bd705",
   "metadata": {
    "_kg_hide-input": true,
    "_kg_hide-output": true,
    "execution": {
     "iopub.execute_input": "2024-11-07T02:37:33.317936Z",
     "iopub.status.busy": "2024-11-07T02:37:33.317034Z",
     "iopub.status.idle": "2024-11-07T02:37:33.326312Z",
     "shell.execute_reply": "2024-11-07T02:37:33.325516Z"
    },
    "papermill": {
     "duration": 0.085691,
     "end_time": "2024-11-07T02:37:33.328120",
     "exception": false,
     "start_time": "2024-11-07T02:37:33.242429",
     "status": "completed"
    },
    "tags": []
   },
   "outputs": [],
   "source": [
    "if 'SOLUTION_20' in ENSEMBLE_SOLUTIONS:\n",
    "    \n",
    "    def plot_weights(weights, title):\n",
    "        sorted_indices = np.argsort(weights[0])[::-1]\n",
    "        sorted_coeffs = np.array(weights[0])[sorted_indices]\n",
    "        sorted_model_names = np.array(list(oof_pred_probs.keys()))[sorted_indices]\n",
    "\n",
    "        plt.figure(figsize=(10, weights.shape[1] * 0.5))\n",
    "        ax = sns.barplot(x=sorted_coeffs, y=sorted_model_names, palette=\"RdYlGn_r\")\n",
    "\n",
    "        for i, (value, name) in enumerate(zip(sorted_coeffs, sorted_model_names)):\n",
    "            if value >= 0:\n",
    "                ax.text(value, i, f'{value:.3f}', va='center', ha='left', color='black')\n",
    "            else:\n",
    "                ax.text(value, i, f'{value:.3f}', va='center', ha='right', color='black')\n",
    "\n",
    "        xlim = ax.get_xlim()\n",
    "        ax.set_xlim(xlim[0] - 0.1 * abs(xlim[0]), xlim[1] + 0.1 * abs(xlim[1]))\n",
    "\n",
    "        plt.title(title)\n",
    "        plt.xlabel('')\n",
    "        plt.ylabel('')\n",
    "        plt.tight_layout()\n",
    "        plt.show()"
   ]
  },
  {
   "cell_type": "code",
   "execution_count": 158,
   "id": "672fc191",
   "metadata": {
    "_kg_hide-input": true,
    "_kg_hide-output": true,
    "execution": {
     "iopub.execute_input": "2024-11-07T02:37:33.475967Z",
     "iopub.status.busy": "2024-11-07T02:37:33.475177Z",
     "iopub.status.idle": "2024-11-07T02:37:33.479679Z",
     "shell.execute_reply": "2024-11-07T02:37:33.478759Z"
    },
    "papermill": {
     "duration": 0.080204,
     "end_time": "2024-11-07T02:37:33.481671",
     "exception": false,
     "start_time": "2024-11-07T02:37:33.401467",
     "status": "completed"
    },
    "tags": []
   },
   "outputs": [],
   "source": [
    "if 'SOLUTION_20' in ENSEMBLE_SOLUTIONS:\n",
    "    \n",
    "    l2_oof_pred_probs = {}\n",
    "    l2_test_pred_probs = {}"
   ]
  },
  {
   "cell_type": "code",
   "execution_count": 159,
   "id": "527ee261",
   "metadata": {
    "_kg_hide-input": true,
    "_kg_hide-output": true,
    "execution": {
     "iopub.execute_input": "2024-11-07T02:37:33.628885Z",
     "iopub.status.busy": "2024-11-07T02:37:33.628523Z",
     "iopub.status.idle": "2024-11-07T02:37:33.633703Z",
     "shell.execute_reply": "2024-11-07T02:37:33.632797Z"
    },
    "papermill": {
     "duration": 0.081404,
     "end_time": "2024-11-07T02:37:33.635772",
     "exception": false,
     "start_time": "2024-11-07T02:37:33.554368",
     "status": "completed"
    },
    "tags": []
   },
   "outputs": [],
   "source": [
    "if 'SOLUTION_20' in ENSEMBLE_SOLUTIONS:\n",
    "    \n",
    "    X = logit(pd.DataFrame(oof_pred_probs).clip(1e-15, 1-1e-15))\n",
    "    X_test = logit(pd.DataFrame(test_pred_probs).clip(1e-15, 1-1e-15))"
   ]
  },
  {
   "cell_type": "code",
   "execution_count": 160,
   "id": "1e8d373e",
   "metadata": {
    "_kg_hide-input": true,
    "_kg_hide-output": true,
    "execution": {
     "iopub.execute_input": "2024-11-07T02:37:33.783682Z",
     "iopub.status.busy": "2024-11-07T02:37:33.782775Z",
     "iopub.status.idle": "2024-11-07T02:37:33.789867Z",
     "shell.execute_reply": "2024-11-07T02:37:33.788939Z"
    },
    "papermill": {
     "duration": 0.083505,
     "end_time": "2024-11-07T02:37:33.791914",
     "exception": false,
     "start_time": "2024-11-07T02:37:33.708409",
     "status": "completed"
    },
    "tags": []
   },
   "outputs": [],
   "source": [
    "if 'SOLUTION_20' in ENSEMBLE_SOLUTIONS:  \n",
    "    \n",
    "    def objective(trial):    \n",
    "        params = {\n",
    "            'random_state': CFG.seed,\n",
    "            'max_iter': 500,\n",
    "            'C': trial.suggest_float('C', 0, 100),\n",
    "            'tol': trial.suggest_float('tol', 1e-7, 1e-3)\n",
    "        }\n",
    "\n",
    "        model = LogisticRegression(**params)\n",
    "        trainer = Trainer(model, is_ensemble_model=True)\n",
    "        return trainer.fit(X, y)\n",
    "\n",
    "    sampler = optuna.samplers.TPESampler(seed=CFG.seed)\n",
    "    study = optuna.create_study(direction='maximize', sampler=sampler)\n",
    "    study.optimize(objective, n_trials=500, n_jobs=-1)\n",
    "    best_params = study.best_params"
   ]
  },
  {
   "cell_type": "code",
   "execution_count": 161,
   "id": "31592c3f",
   "metadata": {
    "_kg_hide-input": true,
    "_kg_hide-output": true,
    "execution": {
     "iopub.execute_input": "2024-11-07T02:37:33.941650Z",
     "iopub.status.busy": "2024-11-07T02:37:33.941284Z",
     "iopub.status.idle": "2024-11-07T02:37:33.946601Z",
     "shell.execute_reply": "2024-11-07T02:37:33.945646Z"
    },
    "papermill": {
     "duration": 0.083278,
     "end_time": "2024-11-07T02:37:33.948535",
     "exception": false,
     "start_time": "2024-11-07T02:37:33.865257",
     "status": "completed"
    },
    "tags": []
   },
   "outputs": [],
   "source": [
    "if 'SOLUTION_20' in ENSEMBLE_SOLUTIONS:\n",
    "    \n",
    "    lr_params = {\n",
    "        'random_state': CFG.seed,\n",
    "        'max_iter': 500,\n",
    "        'C': best_params['C'],\n",
    "        'tol': best_params['tol']\n",
    "    }\n",
    "    print(json.dumps(lr_params, indent=2))"
   ]
  },
  {
   "cell_type": "code",
   "execution_count": 162,
   "id": "eb4bbf0f",
   "metadata": {
    "_kg_hide-input": true,
    "_kg_hide-output": true,
    "execution": {
     "iopub.execute_input": "2024-11-07T02:37:34.100898Z",
     "iopub.status.busy": "2024-11-07T02:37:34.099973Z",
     "iopub.status.idle": "2024-11-07T02:37:34.105732Z",
     "shell.execute_reply": "2024-11-07T02:37:34.104812Z"
    },
    "papermill": {
     "duration": 0.08572,
     "end_time": "2024-11-07T02:37:34.107690",
     "exception": false,
     "start_time": "2024-11-07T02:37:34.021970",
     "status": "completed"
    },
    "tags": []
   },
   "outputs": [],
   "source": [
    "if 'SOLUTION_20' in ENSEMBLE_SOLUTIONS:\n",
    "    \n",
    "    lr_model = LogisticRegression(**lr_params)\n",
    "    lr_trainer = Trainer(lr_model, is_ensemble_model=True)\n",
    "    l2_oof_pred_probs['l2-ensemble-lr'], l2_test_pred_probs['l2-ensemble-lr'], scores['L2 Ensemble LR'], lr_coeffs = lr_trainer.fit_predict(X, y, X_test)"
   ]
  },
  {
   "cell_type": "code",
   "execution_count": 163,
   "id": "13a8e3b7",
   "metadata": {
    "_kg_hide-input": true,
    "_kg_hide-output": true,
    "execution": {
     "iopub.execute_input": "2024-11-07T02:37:34.259345Z",
     "iopub.status.busy": "2024-11-07T02:37:34.258557Z",
     "iopub.status.idle": "2024-11-07T02:37:34.262998Z",
     "shell.execute_reply": "2024-11-07T02:37:34.262140Z"
    },
    "papermill": {
     "duration": 0.081205,
     "end_time": "2024-11-07T02:37:34.264857",
     "exception": false,
     "start_time": "2024-11-07T02:37:34.183652",
     "status": "completed"
    },
    "tags": []
   },
   "outputs": [],
   "source": [
    "if 'SOLUTION_20' in ENSEMBLE_SOLUTIONS:\n",
    "    \n",
    "    plot_weights(lr_coeffs, 'LR Coefficients')"
   ]
  },
  {
   "cell_type": "markdown",
   "id": "9a0849c2",
   "metadata": {
    "_kg_hide-input": true,
    "_kg_hide-output": true,
    "papermill": {
     "duration": 0.072698,
     "end_time": "2024-11-07T02:37:34.412080",
     "exception": false,
     "start_time": "2024-11-07T02:37:34.339382",
     "status": "completed"
    },
    "tags": []
   },
   "source": [
    "### L2 Ridge"
   ]
  },
  {
   "cell_type": "code",
   "execution_count": 164,
   "id": "7cda16e1",
   "metadata": {
    "_kg_hide-input": true,
    "_kg_hide-output": true,
    "execution": {
     "iopub.execute_input": "2024-11-07T02:37:34.560708Z",
     "iopub.status.busy": "2024-11-07T02:37:34.559797Z",
     "iopub.status.idle": "2024-11-07T02:37:34.564523Z",
     "shell.execute_reply": "2024-11-07T02:37:34.563636Z"
    },
    "papermill": {
     "duration": 0.080828,
     "end_time": "2024-11-07T02:37:34.566441",
     "exception": false,
     "start_time": "2024-11-07T02:37:34.485613",
     "status": "completed"
    },
    "tags": []
   },
   "outputs": [],
   "source": [
    "if 'SOLUTION_20' in ENSEMBLE_SOLUTIONS:\n",
    "    \n",
    "    X = pd.DataFrame(oof_pred_probs)\n",
    "    X_test = pd.DataFrame(test_pred_probs)"
   ]
  },
  {
   "cell_type": "code",
   "execution_count": 165,
   "id": "1a7b017e",
   "metadata": {
    "_kg_hide-input": true,
    "_kg_hide-output": true,
    "execution": {
     "iopub.execute_input": "2024-11-07T02:37:34.714592Z",
     "iopub.status.busy": "2024-11-07T02:37:34.713722Z",
     "iopub.status.idle": "2024-11-07T02:37:34.721188Z",
     "shell.execute_reply": "2024-11-07T02:37:34.720259Z"
    },
    "papermill": {
     "duration": 0.083748,
     "end_time": "2024-11-07T02:37:34.723232",
     "exception": false,
     "start_time": "2024-11-07T02:37:34.639484",
     "status": "completed"
    },
    "tags": []
   },
   "outputs": [],
   "source": [
    "if 'SOLUTION_20' in ENSEMBLE_SOLUTIONS:\n",
    "    \n",
    "    def objective(trial):    \n",
    "        params = {\n",
    "            'random_state': CFG.seed,\n",
    "            'alpha': trial.suggest_float('alpha', 0, 100),\n",
    "            'tol': trial.suggest_float('tol', 1e-10, 1e-2)\n",
    "        }\n",
    "\n",
    "        model = Ridge(**params)\n",
    "        trainer = Trainer(model, is_ensemble_model=True)\n",
    "        return trainer.fit(X, y)\n",
    "\n",
    "\n",
    "    sampler = optuna.samplers.TPESampler(seed=CFG.seed)\n",
    "    study = optuna.create_study(direction='maximize', sampler=sampler)\n",
    "    study.optimize(objective, n_trials=500, n_jobs=-1)\n",
    "    ridge_params = study.best_params"
   ]
  },
  {
   "cell_type": "code",
   "execution_count": 166,
   "id": "6101ee4f",
   "metadata": {
    "_kg_hide-input": true,
    "_kg_hide-output": true,
    "execution": {
     "iopub.execute_input": "2024-11-07T02:37:34.872558Z",
     "iopub.status.busy": "2024-11-07T02:37:34.872144Z",
     "iopub.status.idle": "2024-11-07T02:37:34.878034Z",
     "shell.execute_reply": "2024-11-07T02:37:34.876470Z"
    },
    "papermill": {
     "duration": 0.082794,
     "end_time": "2024-11-07T02:37:34.880138",
     "exception": false,
     "start_time": "2024-11-07T02:37:34.797344",
     "status": "completed"
    },
    "tags": []
   },
   "outputs": [],
   "source": [
    "if 'SOLUTION_20' in ENSEMBLE_SOLUTIONS:\n",
    "    \n",
    "    print(json.dumps(ridge_params, indent=2))"
   ]
  },
  {
   "cell_type": "code",
   "execution_count": 167,
   "id": "ad525f0a",
   "metadata": {
    "_kg_hide-input": true,
    "_kg_hide-output": true,
    "execution": {
     "iopub.execute_input": "2024-11-07T02:37:35.030993Z",
     "iopub.status.busy": "2024-11-07T02:37:35.030605Z",
     "iopub.status.idle": "2024-11-07T02:37:35.035837Z",
     "shell.execute_reply": "2024-11-07T02:37:35.034991Z"
    },
    "papermill": {
     "duration": 0.082107,
     "end_time": "2024-11-07T02:37:35.037780",
     "exception": false,
     "start_time": "2024-11-07T02:37:34.955673",
     "status": "completed"
    },
    "tags": []
   },
   "outputs": [],
   "source": [
    "if 'SOLUTION_20' in ENSEMBLE_SOLUTIONS:\n",
    "    \n",
    "    ridge_model = Ridge(**ridge_params)\n",
    "    ridge_trainer = Trainer(ridge_model, is_ensemble_model=True)\n",
    "    l2_oof_pred_probs['l2-ensemble-ridge'], l2_test_pred_probs['l2-ensemble-ridge'], scores['L2 Ensemble Ridge'], ridge_coeffs = ridge_trainer.fit_predict(X, y, X_test)"
   ]
  },
  {
   "cell_type": "code",
   "execution_count": 168,
   "id": "b5886b8c",
   "metadata": {
    "_kg_hide-input": true,
    "_kg_hide-output": true,
    "execution": {
     "iopub.execute_input": "2024-11-07T02:37:35.231915Z",
     "iopub.status.busy": "2024-11-07T02:37:35.231520Z",
     "iopub.status.idle": "2024-11-07T02:37:35.236186Z",
     "shell.execute_reply": "2024-11-07T02:37:35.235319Z"
    },
    "papermill": {
     "duration": 0.081547,
     "end_time": "2024-11-07T02:37:35.238238",
     "exception": false,
     "start_time": "2024-11-07T02:37:35.156691",
     "status": "completed"
    },
    "tags": []
   },
   "outputs": [],
   "source": [
    "if 'SOLUTION_20' in ENSEMBLE_SOLUTIONS:    \n",
    "    \n",
    "    plot_weights(ridge_coeffs, 'Ridge Coefficients')"
   ]
  },
  {
   "cell_type": "markdown",
   "id": "94005903",
   "metadata": {
    "_kg_hide-input": true,
    "_kg_hide-output": true,
    "papermill": {
     "duration": 0.074348,
     "end_time": "2024-11-07T02:37:35.386568",
     "exception": false,
     "start_time": "2024-11-07T02:37:35.312220",
     "status": "completed"
    },
    "tags": []
   },
   "source": [
    "### L3 Weighted ensemble"
   ]
  },
  {
   "cell_type": "code",
   "execution_count": 169,
   "id": "7e7cff78",
   "metadata": {
    "_kg_hide-input": true,
    "_kg_hide-output": true,
    "execution": {
     "iopub.execute_input": "2024-11-07T02:37:35.536172Z",
     "iopub.status.busy": "2024-11-07T02:37:35.535752Z",
     "iopub.status.idle": "2024-11-07T02:37:35.542875Z",
     "shell.execute_reply": "2024-11-07T02:37:35.541994Z"
    },
    "papermill": {
     "duration": 0.084256,
     "end_time": "2024-11-07T02:37:35.544760",
     "exception": false,
     "start_time": "2024-11-07T02:37:35.460504",
     "status": "completed"
    },
    "tags": []
   },
   "outputs": [],
   "source": [
    "if 'SOLUTION_20' in ENSEMBLE_SOLUTIONS:\n",
    "    \n",
    "    def objective(trial):\n",
    "        weights = np.array([trial.suggest_float(l2_model_name, 0, 1) for l2_model_name in l2_oof_pred_probs.keys()])\n",
    "        weights /= np.sum(weights)\n",
    "\n",
    "        preds = np.zeros(len(y))\n",
    "        for model, weight in zip(l2_oof_pred_probs.keys(), weights):\n",
    "            preds += l2_oof_pred_probs[model] * weight\n",
    "\n",
    "        return accuracy_score(y, preds.round())\n",
    "\n",
    "    sampler = optuna.samplers.TPESampler(seed=CFG.seed)\n",
    "    study = optuna.create_study(direction='maximize', sampler=sampler)\n",
    "    study.optimize(objective, n_trials=1000, n_jobs=-1)"
   ]
  },
  {
   "cell_type": "code",
   "execution_count": 170,
   "id": "b5ba6358",
   "metadata": {
    "_kg_hide-input": true,
    "_kg_hide-output": true,
    "execution": {
     "iopub.execute_input": "2024-11-07T02:37:35.695018Z",
     "iopub.status.busy": "2024-11-07T02:37:35.694585Z",
     "iopub.status.idle": "2024-11-07T02:37:35.699279Z",
     "shell.execute_reply": "2024-11-07T02:37:35.698458Z"
    },
    "papermill": {
     "duration": 0.082229,
     "end_time": "2024-11-07T02:37:35.701186",
     "exception": false,
     "start_time": "2024-11-07T02:37:35.618957",
     "status": "completed"
    },
    "tags": []
   },
   "outputs": [],
   "source": [
    "if 'SOLUTION_20' in ENSEMBLE_SOLUTIONS:\n",
    "    \n",
    "    scores['L3 Weighted Ensemble (LR + Ridge)'] = [study.best_value] * CFG.n_folds"
   ]
  },
  {
   "cell_type": "code",
   "execution_count": 171,
   "id": "c1923e2f",
   "metadata": {
    "_kg_hide-input": true,
    "_kg_hide-output": true,
    "execution": {
     "iopub.execute_input": "2024-11-07T02:37:35.852531Z",
     "iopub.status.busy": "2024-11-07T02:37:35.851584Z",
     "iopub.status.idle": "2024-11-07T02:37:35.856952Z",
     "shell.execute_reply": "2024-11-07T02:37:35.856030Z"
    },
    "papermill": {
     "duration": 0.082886,
     "end_time": "2024-11-07T02:37:35.858885",
     "exception": false,
     "start_time": "2024-11-07T02:37:35.775999",
     "status": "completed"
    },
    "tags": []
   },
   "outputs": [],
   "source": [
    "if 'SOLUTION_20' in ENSEMBLE_SOLUTIONS:\n",
    "    \n",
    "    best_weights = study.best_params\n",
    "    best_weights = [best_weights[l2_model] for l2_model in l2_oof_pred_probs.keys()]\n",
    "    best_weights /= np.sum(best_weights)\n",
    "    print(best_weights)"
   ]
  },
  {
   "cell_type": "code",
   "execution_count": 172,
   "id": "97d02c56",
   "metadata": {
    "_kg_hide-input": true,
    "_kg_hide-output": true,
    "execution": {
     "iopub.execute_input": "2024-11-07T02:37:36.011708Z",
     "iopub.status.busy": "2024-11-07T02:37:36.010838Z",
     "iopub.status.idle": "2024-11-07T02:37:36.016452Z",
     "shell.execute_reply": "2024-11-07T02:37:36.015504Z"
    },
    "papermill": {
     "duration": 0.084101,
     "end_time": "2024-11-07T02:37:36.018491",
     "exception": false,
     "start_time": "2024-11-07T02:37:35.934390",
     "status": "completed"
    },
    "tags": []
   },
   "outputs": [],
   "source": [
    "if 'SOLUTION_20' in ENSEMBLE_SOLUTIONS:\n",
    "    \n",
    "    plt.figure(figsize=(10, 6))\n",
    "    plt.pie(study.best_params.values(), labels=study.best_params.keys(), autopct='%1.1f%%', colors=sns.color_palette('Set2', 2))\n",
    "    plt.title(\"L3 Ensemble Weights\")\n",
    "    plt.tight_layout()\n",
    "    plt.show()"
   ]
  },
  {
   "cell_type": "code",
   "execution_count": 173,
   "id": "ba86b06e",
   "metadata": {
    "_kg_hide-input": true,
    "_kg_hide-output": true,
    "execution": {
     "iopub.execute_input": "2024-11-07T02:37:36.168375Z",
     "iopub.status.busy": "2024-11-07T02:37:36.167967Z",
     "iopub.status.idle": "2024-11-07T02:37:36.173634Z",
     "shell.execute_reply": "2024-11-07T02:37:36.172784Z"
    },
    "papermill": {
     "duration": 0.082421,
     "end_time": "2024-11-07T02:37:36.175457",
     "exception": false,
     "start_time": "2024-11-07T02:37:36.093036",
     "status": "completed"
    },
    "tags": []
   },
   "outputs": [],
   "source": [
    "if 'SOLUTION_20' in ENSEMBLE_SOLUTIONS:\n",
    "    \n",
    "    weighted_test_preds = np.zeros((X_test.shape[0]))\n",
    "    for model, weight in zip(l2_test_pred_probs.keys(), best_weights):\n",
    "        weighted_test_preds += l2_test_pred_probs[model] * weight\n",
    "\n",
    "    save_submission('l3-weighted-ensemble', weighted_test_preds, np.mean(scores['L3 Weighted Ensemble (LR + Ridge)']))"
   ]
  },
  {
   "cell_type": "markdown",
   "id": "6bc60ce8",
   "metadata": {
    "_kg_hide-input": true,
    "_kg_hide-output": true,
    "papermill": {
     "duration": 0.074215,
     "end_time": "2024-11-07T02:37:36.324402",
     "exception": false,
     "start_time": "2024-11-07T02:37:36.250187",
     "status": "completed"
    },
    "tags": []
   },
   "source": [
    "### Results"
   ]
  },
  {
   "cell_type": "code",
   "execution_count": 174,
   "id": "0a502051",
   "metadata": {
    "_kg_hide-input": true,
    "_kg_hide-output": true,
    "execution": {
     "iopub.execute_input": "2024-11-07T02:37:36.474264Z",
     "iopub.status.busy": "2024-11-07T02:37:36.473866Z",
     "iopub.status.idle": "2024-11-07T02:37:36.483552Z",
     "shell.execute_reply": "2024-11-07T02:37:36.482594Z"
    },
    "papermill": {
     "duration": 0.086972,
     "end_time": "2024-11-07T02:37:36.485518",
     "exception": false,
     "start_time": "2024-11-07T02:37:36.398546",
     "status": "completed"
    },
    "tags": []
   },
   "outputs": [],
   "source": [
    "if 'SOLUTION_20' in ENSEMBLE_SOLUTIONS:\n",
    "    \n",
    "    scores = pd.DataFrame(scores)\n",
    "    mean_scores = scores.mean().sort_values(ascending=False)\n",
    "    order = scores.mean().sort_values(ascending=False).index.tolist()\n",
    "\n",
    "    min_score = mean_scores.min()\n",
    "    max_score = mean_scores.max()\n",
    "    padding = (max_score - min_score) * 0.5\n",
    "    lower_limit = min_score - padding\n",
    "    upper_limit = max_score + padding\n",
    "\n",
    "    fig, axs = plt.subplots(1, 2, figsize=(15, scores.shape[1] * 0.6))\n",
    "\n",
    "    sns.boxplot(data=scores, order=order, ax=axs[0], orient='h', palette='RdYlGn_r')\n",
    "    axs[0].set_title('Fold Accuracy')\n",
    "    axs[0].set_xlabel('')\n",
    "    axs[0].set_ylabel('')\n",
    "\n",
    "    barplot = sns.barplot(x=mean_scores.values, y=mean_scores.index, ax=axs[1], palette='RdYlGn_r')\n",
    "    axs[1].set_title('Average Accuracy')\n",
    "    axs[1].set_xlabel('')\n",
    "    axs[1].set_xlim(left=lower_limit, right=upper_limit)\n",
    "    axs[1].set_ylabel('')\n",
    "\n",
    "    for i, score in enumerate(mean_scores.values):\n",
    "        barplot.text(score, i, round(score, 6), va='center')\n",
    "\n",
    "    plt.tight_layout()\n",
    "    plt.show()"
   ]
  },
  {
   "cell_type": "code",
   "execution_count": 175,
   "id": "ef299cfd",
   "metadata": {
    "_kg_hide-input": true,
    "_kg_hide-output": true,
    "execution": {
     "iopub.execute_input": "2024-11-07T02:37:36.635923Z",
     "iopub.status.busy": "2024-11-07T02:37:36.634969Z",
     "iopub.status.idle": "2024-11-07T02:37:36.639771Z",
     "shell.execute_reply": "2024-11-07T02:37:36.638839Z"
    },
    "papermill": {
     "duration": 0.081996,
     "end_time": "2024-11-07T02:37:36.641645",
     "exception": false,
     "start_time": "2024-11-07T02:37:36.559649",
     "status": "completed"
    },
    "tags": []
   },
   "outputs": [],
   "source": [
    "if 'SOLUTION_20' in ENSEMBLE_SOLUTIONS:\n",
    "    \n",
    "    shutil.rmtree('catboost_info', ignore_errors=True)"
   ]
  },
  {
   "cell_type": "markdown",
   "id": "6c638bd4",
   "metadata": {
    "papermill": {
     "duration": 0.073776,
     "end_time": "2024-11-07T02:37:36.789927",
     "exception": false,
     "start_time": "2024-11-07T02:37:36.716151",
     "status": "completed"
    },
    "tags": []
   },
   "source": [
    "### Ensemble of solutions & submit"
   ]
  },
  {
   "cell_type": "code",
   "execution_count": 176,
   "id": "3c204ee7",
   "metadata": {
    "execution": {
     "iopub.execute_input": "2024-11-07T02:37:36.941133Z",
     "iopub.status.busy": "2024-11-07T02:37:36.940740Z",
     "iopub.status.idle": "2024-11-07T02:37:37.170171Z",
     "shell.execute_reply": "2024-11-07T02:37:37.169149Z"
    },
    "papermill": {
     "duration": 0.308852,
     "end_time": "2024-11-07T02:37:37.172512",
     "exception": false,
     "start_time": "2024-11-07T02:37:36.863660",
     "status": "completed"
    },
    "tags": []
   },
   "outputs": [
    {
     "name": "stdout",
     "output_type": "stream",
     "text": [
      "\n",
      " option 27 ['SOLUTION_18', 'SOLUTION_12', 'SOLUTION_15'] [0.33, 0.33, 0.34]\n"
     ]
    },
    {
     "data": {
      "text/html": [
       "<div>\n",
       "<style scoped>\n",
       "    .dataframe tbody tr th:only-of-type {\n",
       "        vertical-align: middle;\n",
       "    }\n",
       "\n",
       "    .dataframe tbody tr th {\n",
       "        vertical-align: top;\n",
       "    }\n",
       "\n",
       "    .dataframe thead th {\n",
       "        text-align: right;\n",
       "    }\n",
       "</style>\n",
       "<table border=\"1\" class=\"dataframe\">\n",
       "  <thead>\n",
       "    <tr style=\"text-align: right;\">\n",
       "      <th></th>\n",
       "      <th>id</th>\n",
       "      <th>Depression_0</th>\n",
       "      <th>Depression_1</th>\n",
       "      <th>Depression_2</th>\n",
       "      <th>Depression</th>\n",
       "    </tr>\n",
       "  </thead>\n",
       "  <tbody>\n",
       "    <tr>\n",
       "      <th>0</th>\n",
       "      <td>140700</td>\n",
       "      <td>0.0</td>\n",
       "      <td>0.0</td>\n",
       "      <td>0</td>\n",
       "      <td>0.0</td>\n",
       "    </tr>\n",
       "    <tr>\n",
       "      <th>1</th>\n",
       "      <td>140701</td>\n",
       "      <td>0.0</td>\n",
       "      <td>0.0</td>\n",
       "      <td>0</td>\n",
       "      <td>0.0</td>\n",
       "    </tr>\n",
       "    <tr>\n",
       "      <th>2</th>\n",
       "      <td>140702</td>\n",
       "      <td>0.0</td>\n",
       "      <td>0.0</td>\n",
       "      <td>0</td>\n",
       "      <td>0.0</td>\n",
       "    </tr>\n",
       "    <tr>\n",
       "      <th>3</th>\n",
       "      <td>140703</td>\n",
       "      <td>1.0</td>\n",
       "      <td>1.0</td>\n",
       "      <td>1</td>\n",
       "      <td>1.0</td>\n",
       "    </tr>\n",
       "    <tr>\n",
       "      <th>4</th>\n",
       "      <td>140704</td>\n",
       "      <td>0.0</td>\n",
       "      <td>0.0</td>\n",
       "      <td>0</td>\n",
       "      <td>0.0</td>\n",
       "    </tr>\n",
       "    <tr>\n",
       "      <th>...</th>\n",
       "      <td>...</td>\n",
       "      <td>...</td>\n",
       "      <td>...</td>\n",
       "      <td>...</td>\n",
       "      <td>...</td>\n",
       "    </tr>\n",
       "    <tr>\n",
       "      <th>93795</th>\n",
       "      <td>234495</td>\n",
       "      <td>0.0</td>\n",
       "      <td>0.0</td>\n",
       "      <td>0</td>\n",
       "      <td>0.0</td>\n",
       "    </tr>\n",
       "    <tr>\n",
       "      <th>93796</th>\n",
       "      <td>234496</td>\n",
       "      <td>1.0</td>\n",
       "      <td>1.0</td>\n",
       "      <td>1</td>\n",
       "      <td>1.0</td>\n",
       "    </tr>\n",
       "    <tr>\n",
       "      <th>93797</th>\n",
       "      <td>234497</td>\n",
       "      <td>0.0</td>\n",
       "      <td>0.0</td>\n",
       "      <td>0</td>\n",
       "      <td>0.0</td>\n",
       "    </tr>\n",
       "    <tr>\n",
       "      <th>93798</th>\n",
       "      <td>234498</td>\n",
       "      <td>1.0</td>\n",
       "      <td>1.0</td>\n",
       "      <td>1</td>\n",
       "      <td>1.0</td>\n",
       "    </tr>\n",
       "    <tr>\n",
       "      <th>93799</th>\n",
       "      <td>234499</td>\n",
       "      <td>0.0</td>\n",
       "      <td>0.0</td>\n",
       "      <td>0</td>\n",
       "      <td>0.0</td>\n",
       "    </tr>\n",
       "  </tbody>\n",
       "</table>\n",
       "<p>93800 rows × 5 columns</p>\n",
       "</div>"
      ],
      "text/plain": [
       "           id  Depression_0  Depression_1  Depression_2  Depression\n",
       "0      140700           0.0           0.0             0         0.0\n",
       "1      140701           0.0           0.0             0         0.0\n",
       "2      140702           0.0           0.0             0         0.0\n",
       "3      140703           1.0           1.0             1         1.0\n",
       "4      140704           0.0           0.0             0         0.0\n",
       "...       ...           ...           ...           ...         ...\n",
       "93795  234495           0.0           0.0             0         0.0\n",
       "93796  234496           1.0           1.0             1         1.0\n",
       "93797  234497           0.0           0.0             0         0.0\n",
       "93798  234498           1.0           1.0             1         1.0\n",
       "93799  234499           0.0           0.0             0         0.0\n",
       "\n",
       "[93800 rows x 5 columns]"
      ]
     },
     "metadata": {},
     "output_type": "display_data"
    }
   ],
   "source": [
    "sms, option,solution,weights = ensemble_of_solutions()\n",
    "\n",
    "sub = sms[['id','Depression']]\n",
    "sub.to_csv('submission.csv', index=False)"
   ]
  },
  {
   "cell_type": "code",
   "execution_count": 177,
   "id": "93684e9f",
   "metadata": {
    "execution": {
     "iopub.execute_input": "2024-11-07T02:37:37.323638Z",
     "iopub.status.busy": "2024-11-07T02:37:37.322950Z",
     "iopub.status.idle": "2024-11-07T02:37:37.327621Z",
     "shell.execute_reply": "2024-11-07T02:37:37.326746Z"
    },
    "papermill": {
     "duration": 0.082471,
     "end_time": "2024-11-07T02:37:37.329521",
     "exception": false,
     "start_time": "2024-11-07T02:37:37.247050",
     "status": "completed"
    },
    "tags": []
   },
   "outputs": [],
   "source": [
    "#Archiv\n",
    "\n",
    "#FILES_SUBM          = ['subm_18.csv','subm_12.csv']\n",
    "#ENSEMBLE_SOLUTIONS  = ['SOLUTION_18','SOLUTION_12']\n",
    "\n",
    "#OPTION, WEIGHTS     = 'option 26', [0.550, 0.450]\n",
    "#OPTION, WEIGHTS     = 'option 26', [0.500, 0.500]\n",
    "#OPTION, WEIGHTS     = 'option 26', [0.450, 0.550]"
   ]
  }
 ],
 "metadata": {
  "kaggle": {
   "accelerator": "gpu",
   "dataSources": [
    {
     "databundleVersionId": 10008389,
     "sourceId": 84895,
     "sourceType": "competition"
    },
    {
     "datasetId": 5868381,
     "sourceId": 9616093,
     "sourceType": "datasetVersion"
    }
   ],
   "dockerImageVersionId": 30787,
   "isGpuEnabled": true,
   "isInternetEnabled": true,
   "language": "python",
   "sourceType": "notebook"
  },
  "kernelspec": {
   "display_name": "Python 3",
   "language": "python",
   "name": "python3"
  },
  "language_info": {
   "codemirror_mode": {
    "name": "ipython",
    "version": 3
   },
   "file_extension": ".py",
   "mimetype": "text/x-python",
   "name": "python",
   "nbconvert_exporter": "python",
   "pygments_lexer": "ipython3",
   "version": "3.10.14"
  },
  "papermill": {
   "default_parameters": {},
   "duration": 1476.65769,
   "end_time": "2024-11-07T02:37:39.969588",
   "environment_variables": {},
   "exception": null,
   "input_path": "__notebook__.ipynb",
   "output_path": "__notebook__.ipynb",
   "parameters": {},
   "start_time": "2024-11-07T02:13:03.311898",
   "version": "2.6.0"
  }
 },
 "nbformat": 4,
 "nbformat_minor": 5
}
