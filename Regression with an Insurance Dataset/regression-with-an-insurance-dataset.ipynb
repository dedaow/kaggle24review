{
 "cells": [
  {
   "cell_type": "code",
   "execution_count": 1,
   "id": "60631036",
   "metadata": {
    "_cell_guid": "b1076dfc-b9ad-4769-8c92-a6c4dae69d19",
    "_uuid": "8f2839f25d086af736a60e9eeb907d3b93b6e0e5",
    "execution": {
     "iopub.execute_input": "2024-12-03T16:17:21.798142Z",
     "iopub.status.busy": "2024-12-03T16:17:21.797676Z",
     "iopub.status.idle": "2024-12-03T16:17:23.031836Z",
     "shell.execute_reply": "2024-12-03T16:17:23.030972Z"
    },
    "papermill": {
     "duration": 1.244231,
     "end_time": "2024-12-03T16:17:23.033771",
     "exception": false,
     "start_time": "2024-12-03T16:17:21.789540",
     "status": "completed"
    },
    "tags": []
   },
   "outputs": [
    {
     "name": "stdout",
     "output_type": "stream",
     "text": [
      "/kaggle/input/playground-series-s4e12/sample_submission.csv\n",
      "/kaggle/input/playground-series-s4e12/train.csv\n",
      "/kaggle/input/playground-series-s4e12/test.csv\n"
     ]
    }
   ],
   "source": [
    "# This Python 3 environment comes with many helpful analytics libraries installed\n",
    "# It is defined by the kaggle/python Docker image: https://github.com/kaggle/docker-python\n",
    "# For example, here's several helpful packages to load\n",
    "\n",
    "import numpy as np # linear algebra\n",
    "import pandas as pd # data processing, CSV file I/O (e.g. pd.read_csv)\n",
    "\n",
    "# Input data files are available in the read-only \"../input/\" directory\n",
    "# For example, running this (by clicking run or pressing Shift+Enter) will list all files under the input directory\n",
    "\n",
    "import os\n",
    "for dirname, _, filenames in os.walk('/kaggle/input'):\n",
    "    for filename in filenames:\n",
    "        print(os.path.join(dirname, filename))\n",
    "\n",
    "# You can write up to 20GB to the current directory (/kaggle/working/) that gets preserved as output when you create a version using \"Save & Run All\" \n",
    "# You can also write temporary files to /kaggle/temp/, but they won't be saved outside of the current session"
   ]
  },
  {
   "cell_type": "markdown",
   "id": "1d389dc0",
   "metadata": {
    "papermill": {
     "duration": 0.004741,
     "end_time": "2024-12-03T16:17:23.042566",
     "exception": false,
     "start_time": "2024-12-03T16:17:23.037825",
     "status": "completed"
    },
    "tags": []
   },
   "source": [
    "# Libraries¶"
   ]
  },
  {
   "cell_type": "code",
   "execution_count": 2,
   "id": "e5253542",
   "metadata": {
    "execution": {
     "iopub.execute_input": "2024-12-03T16:17:23.051010Z",
     "iopub.status.busy": "2024-12-03T16:17:23.050665Z",
     "iopub.status.idle": "2024-12-03T16:17:26.006538Z",
     "shell.execute_reply": "2024-12-03T16:17:26.005559Z"
    },
    "papermill": {
     "duration": 2.962334,
     "end_time": "2024-12-03T16:17:26.008503",
     "exception": false,
     "start_time": "2024-12-03T16:17:23.046169",
     "status": "completed"
    },
    "tags": []
   },
   "outputs": [],
   "source": [
    "import pandas as pd\n",
    "import numpy as np\n",
    "from catboost import CatBoostRegressor\n",
    "from sklearn.model_selection import KFold\n",
    "from sklearn.metrics import mean_squared_log_error\n",
    "from sklearn.preprocessing import LabelEncoder, OrdinalEncoder\n",
    "from sklearn.preprocessing import OneHotEncoder\n",
    "\n",
    "\n",
    "\n",
    "import warnings\n",
    "warnings.filterwarnings(\"ignore\")"
   ]
  },
  {
   "cell_type": "markdown",
   "id": "668230d6",
   "metadata": {
    "papermill": {
     "duration": 0.003457,
     "end_time": "2024-12-03T16:17:26.015897",
     "exception": false,
     "start_time": "2024-12-03T16:17:26.012440",
     "status": "completed"
    },
    "tags": []
   },
   "source": [
    "# GPU"
   ]
  },
  {
   "cell_type": "code",
   "execution_count": 3,
   "id": "bba0f072",
   "metadata": {
    "execution": {
     "iopub.execute_input": "2024-12-03T16:17:26.024653Z",
     "iopub.status.busy": "2024-12-03T16:17:26.024243Z",
     "iopub.status.idle": "2024-12-03T16:17:31.304816Z",
     "shell.execute_reply": "2024-12-03T16:17:31.303815Z"
    },
    "papermill": {
     "duration": 5.286925,
     "end_time": "2024-12-03T16:17:31.306534",
     "exception": false,
     "start_time": "2024-12-03T16:17:26.019609",
     "status": "completed"
    },
    "tags": []
   },
   "outputs": [
    {
     "name": "stdout",
     "output_type": "stream",
     "text": [
      "可用GPU数量: 2\n",
      "GPU 0: Tesla T4\n",
      "显存使用情况: 0.00 MB 已用, 0.00 MB 总分配\n",
      "显存空余: 0.00 字节\n",
      "\n",
      "GPU 1: Tesla T4\n",
      "显存使用情况: 0.00 MB 已用, 0.00 MB 总分配\n",
      "显存空余: 0.00 字节\n",
      "\n"
     ]
    }
   ],
   "source": [
    "import torch\n",
    "\n",
    "def check_gpu_status():\n",
    "    if torch.cuda.is_available():\n",
    "        print(f\"可用GPU数量: {torch.cuda.device_count()}\")\n",
    "        for i in range(torch.cuda.device_count()):\n",
    "            print(f\"GPU {i}: {torch.cuda.get_device_name(i)}\")\n",
    "            print(f\"显存使用情况: {torch.cuda.memory_allocated(i) / 1024**2:.2f} MB 已用, {torch.cuda.memory_reserved(i) / 1024**2:.2f} MB 总分配\")\n",
    "            print(f\"显存空余: {torch.cuda.memory_reserved(i) - torch.cuda.memory_allocated(i):.2f} 字节\\n\")\n",
    "    else:\n",
    "        print(\"未检测到 GPU！\")\n",
    "\n",
    "check_gpu_status()"
   ]
  },
  {
   "cell_type": "markdown",
   "id": "455af863",
   "metadata": {
    "papermill": {
     "duration": 0.003442,
     "end_time": "2024-12-03T16:17:31.313861",
     "exception": false,
     "start_time": "2024-12-03T16:17:31.310419",
     "status": "completed"
    },
    "tags": []
   },
   "source": [
    "# IMPORT DATA"
   ]
  },
  {
   "cell_type": "code",
   "execution_count": 4,
   "id": "74c060a9",
   "metadata": {
    "execution": {
     "iopub.execute_input": "2024-12-03T16:17:31.322530Z",
     "iopub.status.busy": "2024-12-03T16:17:31.322106Z",
     "iopub.status.idle": "2024-12-03T16:17:40.823476Z",
     "shell.execute_reply": "2024-12-03T16:17:40.822728Z"
    },
    "papermill": {
     "duration": 9.50785,
     "end_time": "2024-12-03T16:17:40.825549",
     "exception": false,
     "start_time": "2024-12-03T16:17:31.317699",
     "status": "completed"
    },
    "tags": []
   },
   "outputs": [],
   "source": [
    "train = pd.read_csv(\"/kaggle/input/playground-series-s4e12/train.csv\")\n",
    "test = pd.read_csv(\"/kaggle/input/playground-series-s4e12/test.csv\")\n",
    "\n",
    "sample = pd.read_csv('/kaggle/input/playground-series-s4e12/sample_submission.csv')\n",
    "\n",
    "train.drop('id', axis=1, inplace=True)\n",
    "test.drop('id', axis=1, inplace=True) "
   ]
  },
  {
   "cell_type": "code",
   "execution_count": null,
   "id": "b2bc2f10",
   "metadata": {
    "papermill": {
     "duration": 0.003461,
     "end_time": "2024-12-03T16:17:40.833021",
     "exception": false,
     "start_time": "2024-12-03T16:17:40.829560",
     "status": "completed"
    },
    "tags": []
   },
   "outputs": [],
   "source": []
  },
  {
   "cell_type": "markdown",
   "id": "d4ca625c",
   "metadata": {
    "papermill": {
     "duration": 0.003743,
     "end_time": "2024-12-03T16:17:40.840609",
     "exception": false,
     "start_time": "2024-12-03T16:17:40.836866",
     "status": "completed"
    },
    "tags": []
   },
   "source": [
    "# DATA Processing¶"
   ]
  },
  {
   "cell_type": "code",
   "execution_count": 5,
   "id": "3b5cf995",
   "metadata": {
    "execution": {
     "iopub.execute_input": "2024-12-03T16:17:40.849202Z",
     "iopub.status.busy": "2024-12-03T16:17:40.848903Z",
     "iopub.status.idle": "2024-12-03T16:17:40.855586Z",
     "shell.execute_reply": "2024-12-03T16:17:40.854845Z"
    },
    "papermill": {
     "duration": 0.012928,
     "end_time": "2024-12-03T16:17:40.857219",
     "exception": false,
     "start_time": "2024-12-03T16:17:40.844291",
     "status": "completed"
    },
    "tags": []
   },
   "outputs": [],
   "source": [
    "def date(Df):\n",
    "\n",
    "    Df['Policy Start Date'] = pd.to_datetime(Df['Policy Start Date'])\n",
    "    Df['Year'] = Df['Policy Start Date'].dt.year\n",
    "    Df['Day'] = Df['Policy Start Date'].dt.day\n",
    "    Df['Month'] = Df['Policy Start Date'].dt.month\n",
    "    Df['Month_name'] = Df['Policy Start Date'].dt.month_name()\n",
    "    Df['Day_of_week'] = Df['Policy Start Date'].dt.day_name()\n",
    "    Df['Week'] = Df['Policy Start Date'].dt.isocalendar().week\n",
    "    Df['Year_sin'] = np.sin(2 * np.pi * Df['Year'])\n",
    "    Df['Year_cos'] = np.cos(2 * np.pi * Df['Year'])\n",
    "    Df['Month_sin'] = np.sin(2 * np.pi * Df['Month'] / 12) \n",
    "    Df['Month_cos'] = np.cos(2 * np.pi * Df['Month'] / 12)\n",
    "    Df['Day_sin'] = np.sin(2 * np.pi * Df['Day'] / 31)  \n",
    "    Df['Day_cos'] = np.cos(2 * np.pi * Df['Day'] / 31)\n",
    "    Df['Group']=(Df['Year']-2020)*48+Df['Month']*4+Df['Day']//7\n",
    "    \n",
    "    Df.drop('Policy Start Date', axis=1, inplace=True)\n",
    "\n",
    "    return Df"
   ]
  },
  {
   "cell_type": "code",
   "execution_count": 6,
   "id": "3cb08d52",
   "metadata": {
    "execution": {
     "iopub.execute_input": "2024-12-03T16:17:40.865660Z",
     "iopub.status.busy": "2024-12-03T16:17:40.865386Z",
     "iopub.status.idle": "2024-12-03T16:17:43.628795Z",
     "shell.execute_reply": "2024-12-03T16:17:43.628114Z"
    },
    "papermill": {
     "duration": 2.770127,
     "end_time": "2024-12-03T16:17:43.630924",
     "exception": false,
     "start_time": "2024-12-03T16:17:40.860797",
     "status": "completed"
    },
    "tags": []
   },
   "outputs": [],
   "source": [
    "train = date(train)\n",
    "test = date(test)\n",
    "\n",
    "cat_cols = [col for col in train.columns if train[col].dtype == 'object']\n",
    "feature_cols = list(test.columns)"
   ]
  },
  {
   "cell_type": "code",
   "execution_count": 7,
   "id": "91ececba",
   "metadata": {
    "execution": {
     "iopub.execute_input": "2024-12-03T16:17:43.639917Z",
     "iopub.status.busy": "2024-12-03T16:17:43.639649Z",
     "iopub.status.idle": "2024-12-03T16:17:43.645758Z",
     "shell.execute_reply": "2024-12-03T16:17:43.644804Z"
    },
    "papermill": {
     "duration": 0.012495,
     "end_time": "2024-12-03T16:17:43.647572",
     "exception": false,
     "start_time": "2024-12-03T16:17:43.635077",
     "status": "completed"
    },
    "tags": []
   },
   "outputs": [],
   "source": [
    "class CategoricalEncoder:\n",
    "    def __init__(self, train, test):\n",
    "        self.train = train\n",
    "        self.test = test\n",
    "\n",
    "    def frequency_encode(self, cat_cols, feature_cols, drop_org=False):\n",
    "        combined = pd.concat([self.train, self.test], axis=0, ignore_index=True)\n",
    "\n",
    "        new_cat_cols = [] \n",
    "        for col in cat_cols:\n",
    "            freq_encoding = combined[col].value_counts().to_dict()\n",
    "            \n",
    "            self.train[f\"{col}_freq\"] = self.train[col].map(freq_encoding).astype('float')\n",
    "            self.test[f\"{col}_freq\"] = self.test[col].map(freq_encoding).astype('float')\n",
    "\n",
    "            new_col_name = f\"{col}_freq\"\n",
    "            new_cat_cols.append(new_col_name)\n",
    "            feature_cols.append(new_col_name)\n",
    "            if drop_org:\n",
    "                feature_cols.remove(col)\n",
    "\n",
    "        return self.train, self.test, new_cat_cols, feature_cols"
   ]
  },
  {
   "cell_type": "code",
   "execution_count": 8,
   "id": "d87ac596",
   "metadata": {
    "execution": {
     "iopub.execute_input": "2024-12-03T16:17:43.656032Z",
     "iopub.status.busy": "2024-12-03T16:17:43.655754Z",
     "iopub.status.idle": "2024-12-03T16:17:47.549102Z",
     "shell.execute_reply": "2024-12-03T16:17:47.548382Z"
    },
    "papermill": {
     "duration": 3.900771,
     "end_time": "2024-12-03T16:17:47.552140",
     "exception": false,
     "start_time": "2024-12-03T16:17:43.651369",
     "status": "completed"
    },
    "tags": []
   },
   "outputs": [],
   "source": [
    "encoder = CategoricalEncoder(train, test)\n",
    "train, test, cat_cols, feature_cols = encoder.frequency_encode(cat_cols, feature_cols, drop_org=True)\n",
    "\n",
    "train = train[feature_cols + ['Premium Amount']]\n",
    "test = test[feature_cols]\n"
   ]
  },
  {
   "cell_type": "code",
   "execution_count": 9,
   "id": "b37bb8f0",
   "metadata": {
    "execution": {
     "iopub.execute_input": "2024-12-03T16:17:47.562724Z",
     "iopub.status.busy": "2024-12-03T16:17:47.562377Z",
     "iopub.status.idle": "2024-12-03T16:17:47.595663Z",
     "shell.execute_reply": "2024-12-03T16:17:47.594818Z"
    },
    "papermill": {
     "duration": 0.039672,
     "end_time": "2024-12-03T16:17:47.597307",
     "exception": false,
     "start_time": "2024-12-03T16:17:47.557635",
     "status": "completed"
    },
    "tags": []
   },
   "outputs": [
    {
     "data": {
      "text/html": [
       "<div>\n",
       "<style scoped>\n",
       "    .dataframe tbody tr th:only-of-type {\n",
       "        vertical-align: middle;\n",
       "    }\n",
       "\n",
       "    .dataframe tbody tr th {\n",
       "        vertical-align: top;\n",
       "    }\n",
       "\n",
       "    .dataframe thead th {\n",
       "        text-align: right;\n",
       "    }\n",
       "</style>\n",
       "<table border=\"1\" class=\"dataframe\">\n",
       "  <thead>\n",
       "    <tr style=\"text-align: right;\">\n",
       "      <th></th>\n",
       "      <th>Age</th>\n",
       "      <th>Annual Income</th>\n",
       "      <th>Number of Dependents</th>\n",
       "      <th>Health Score</th>\n",
       "      <th>Previous Claims</th>\n",
       "      <th>Vehicle Age</th>\n",
       "      <th>Credit Score</th>\n",
       "      <th>Insurance Duration</th>\n",
       "      <th>Year</th>\n",
       "      <th>Day</th>\n",
       "      <th>...</th>\n",
       "      <th>Occupation_freq</th>\n",
       "      <th>Location_freq</th>\n",
       "      <th>Policy Type_freq</th>\n",
       "      <th>Customer Feedback_freq</th>\n",
       "      <th>Smoking Status_freq</th>\n",
       "      <th>Exercise Frequency_freq</th>\n",
       "      <th>Property Type_freq</th>\n",
       "      <th>Month_name_freq</th>\n",
       "      <th>Day_of_week_freq</th>\n",
       "      <th>Premium Amount</th>\n",
       "    </tr>\n",
       "  </thead>\n",
       "  <tbody>\n",
       "    <tr>\n",
       "      <th>0</th>\n",
       "      <td>19.0</td>\n",
       "      <td>10049.0</td>\n",
       "      <td>1.0</td>\n",
       "      <td>22.598761</td>\n",
       "      <td>2.0</td>\n",
       "      <td>17.0</td>\n",
       "      <td>372.0</td>\n",
       "      <td>5.0</td>\n",
       "      <td>2023</td>\n",
       "      <td>23</td>\n",
       "      <td>...</td>\n",
       "      <td>470636.0</td>\n",
       "      <td>663201.0</td>\n",
       "      <td>669475.0</td>\n",
       "      <td>625952.0</td>\n",
       "      <td>996268.0</td>\n",
       "      <td>510693.0</td>\n",
       "      <td>667500.0</td>\n",
       "      <td>162307.0</td>\n",
       "      <td>284861.0</td>\n",
       "      <td>2869.0</td>\n",
       "    </tr>\n",
       "    <tr>\n",
       "      <th>1</th>\n",
       "      <td>39.0</td>\n",
       "      <td>31678.0</td>\n",
       "      <td>3.0</td>\n",
       "      <td>15.569731</td>\n",
       "      <td>1.0</td>\n",
       "      <td>12.0</td>\n",
       "      <td>694.0</td>\n",
       "      <td>2.0</td>\n",
       "      <td>2023</td>\n",
       "      <td>12</td>\n",
       "      <td>...</td>\n",
       "      <td>NaN</td>\n",
       "      <td>668067.0</td>\n",
       "      <td>665822.0</td>\n",
       "      <td>629122.0</td>\n",
       "      <td>1003732.0</td>\n",
       "      <td>498230.0</td>\n",
       "      <td>667500.0</td>\n",
       "      <td>164442.0</td>\n",
       "      <td>287191.0</td>\n",
       "      <td>1483.0</td>\n",
       "    </tr>\n",
       "    <tr>\n",
       "      <th>2</th>\n",
       "      <td>23.0</td>\n",
       "      <td>25602.0</td>\n",
       "      <td>3.0</td>\n",
       "      <td>47.177549</td>\n",
       "      <td>1.0</td>\n",
       "      <td>14.0</td>\n",
       "      <td>NaN</td>\n",
       "      <td>3.0</td>\n",
       "      <td>2023</td>\n",
       "      <td>30</td>\n",
       "      <td>...</td>\n",
       "      <td>470636.0</td>\n",
       "      <td>668732.0</td>\n",
       "      <td>669475.0</td>\n",
       "      <td>614826.0</td>\n",
       "      <td>1003732.0</td>\n",
       "      <td>510693.0</td>\n",
       "      <td>667500.0</td>\n",
       "      <td>165556.0</td>\n",
       "      <td>284861.0</td>\n",
       "      <td>567.0</td>\n",
       "    </tr>\n",
       "    <tr>\n",
       "      <th>3</th>\n",
       "      <td>21.0</td>\n",
       "      <td>141855.0</td>\n",
       "      <td>2.0</td>\n",
       "      <td>10.938144</td>\n",
       "      <td>1.0</td>\n",
       "      <td>0.0</td>\n",
       "      <td>367.0</td>\n",
       "      <td>1.0</td>\n",
       "      <td>2024</td>\n",
       "      <td>12</td>\n",
       "      <td>...</td>\n",
       "      <td>NaN</td>\n",
       "      <td>668067.0</td>\n",
       "      <td>664703.0</td>\n",
       "      <td>625952.0</td>\n",
       "      <td>1003732.0</td>\n",
       "      <td>491143.0</td>\n",
       "      <td>666022.0</td>\n",
       "      <td>164442.0</td>\n",
       "      <td>287424.0</td>\n",
       "      <td>765.0</td>\n",
       "    </tr>\n",
       "    <tr>\n",
       "      <th>4</th>\n",
       "      <td>21.0</td>\n",
       "      <td>39651.0</td>\n",
       "      <td>1.0</td>\n",
       "      <td>20.376094</td>\n",
       "      <td>0.0</td>\n",
       "      <td>8.0</td>\n",
       "      <td>598.0</td>\n",
       "      <td>4.0</td>\n",
       "      <td>2021</td>\n",
       "      <td>1</td>\n",
       "      <td>...</td>\n",
       "      <td>470636.0</td>\n",
       "      <td>668067.0</td>\n",
       "      <td>669475.0</td>\n",
       "      <td>625952.0</td>\n",
       "      <td>1003732.0</td>\n",
       "      <td>510693.0</td>\n",
       "      <td>667500.0</td>\n",
       "      <td>162307.0</td>\n",
       "      <td>287424.0</td>\n",
       "      <td>2022.0</td>\n",
       "    </tr>\n",
       "  </tbody>\n",
       "</table>\n",
       "<p>5 rows × 32 columns</p>\n",
       "</div>"
      ],
      "text/plain": [
       "    Age  Annual Income  Number of Dependents  Health Score  Previous Claims  \\\n",
       "0  19.0        10049.0                   1.0     22.598761              2.0   \n",
       "1  39.0        31678.0                   3.0     15.569731              1.0   \n",
       "2  23.0        25602.0                   3.0     47.177549              1.0   \n",
       "3  21.0       141855.0                   2.0     10.938144              1.0   \n",
       "4  21.0        39651.0                   1.0     20.376094              0.0   \n",
       "\n",
       "   Vehicle Age  Credit Score  Insurance Duration  Year  Day  ...  \\\n",
       "0         17.0         372.0                 5.0  2023   23  ...   \n",
       "1         12.0         694.0                 2.0  2023   12  ...   \n",
       "2         14.0           NaN                 3.0  2023   30  ...   \n",
       "3          0.0         367.0                 1.0  2024   12  ...   \n",
       "4          8.0         598.0                 4.0  2021    1  ...   \n",
       "\n",
       "   Occupation_freq  Location_freq  Policy Type_freq  Customer Feedback_freq  \\\n",
       "0         470636.0       663201.0          669475.0                625952.0   \n",
       "1              NaN       668067.0          665822.0                629122.0   \n",
       "2         470636.0       668732.0          669475.0                614826.0   \n",
       "3              NaN       668067.0          664703.0                625952.0   \n",
       "4         470636.0       668067.0          669475.0                625952.0   \n",
       "\n",
       "   Smoking Status_freq  Exercise Frequency_freq  Property Type_freq  \\\n",
       "0             996268.0                 510693.0            667500.0   \n",
       "1            1003732.0                 498230.0            667500.0   \n",
       "2            1003732.0                 510693.0            667500.0   \n",
       "3            1003732.0                 491143.0            666022.0   \n",
       "4            1003732.0                 510693.0            667500.0   \n",
       "\n",
       "   Month_name_freq  Day_of_week_freq  Premium Amount  \n",
       "0         162307.0          284861.0          2869.0  \n",
       "1         164442.0          287191.0          1483.0  \n",
       "2         165556.0          284861.0           567.0  \n",
       "3         164442.0          287424.0           765.0  \n",
       "4         162307.0          287424.0          2022.0  \n",
       "\n",
       "[5 rows x 32 columns]"
      ]
     },
     "execution_count": 9,
     "metadata": {},
     "output_type": "execute_result"
    }
   ],
   "source": [
    "train.head()"
   ]
  },
  {
   "cell_type": "code",
   "execution_count": 10,
   "id": "6bb1ef0d",
   "metadata": {
    "execution": {
     "iopub.execute_input": "2024-12-03T16:17:47.606849Z",
     "iopub.status.busy": "2024-12-03T16:17:47.606587Z",
     "iopub.status.idle": "2024-12-03T16:17:47.776445Z",
     "shell.execute_reply": "2024-12-03T16:17:47.775709Z"
    },
    "papermill": {
     "duration": 0.176949,
     "end_time": "2024-12-03T16:17:47.778525",
     "exception": false,
     "start_time": "2024-12-03T16:17:47.601576",
     "status": "completed"
    },
    "tags": []
   },
   "outputs": [],
   "source": [
    "X = train.drop('Premium Amount', axis=1)  \n",
    "y = train['Premium Amount']\n",
    "\n",
    "y_log = np.log1p(y)"
   ]
  },
  {
   "cell_type": "code",
   "execution_count": 11,
   "id": "9cb7a36a",
   "metadata": {
    "execution": {
     "iopub.execute_input": "2024-12-03T16:17:47.788604Z",
     "iopub.status.busy": "2024-12-03T16:17:47.788268Z",
     "iopub.status.idle": "2024-12-03T16:17:47.792178Z",
     "shell.execute_reply": "2024-12-03T16:17:47.791534Z"
    },
    "papermill": {
     "duration": 0.010499,
     "end_time": "2024-12-03T16:17:47.793711",
     "exception": false,
     "start_time": "2024-12-03T16:17:47.783212",
     "status": "completed"
    },
    "tags": []
   },
   "outputs": [],
   "source": [
    "def rmsle(y_true, y_pred):\n",
    "    return np.sqrt(mean_squared_log_error(y_true, y_pred))"
   ]
  },
  {
   "cell_type": "code",
   "execution_count": 12,
   "id": "7d91a51a",
   "metadata": {
    "execution": {
     "iopub.execute_input": "2024-12-03T16:17:47.803248Z",
     "iopub.status.busy": "2024-12-03T16:17:47.802993Z",
     "iopub.status.idle": "2024-12-03T16:19:02.761733Z",
     "shell.execute_reply": "2024-12-03T16:19:02.760973Z"
    },
    "papermill": {
     "duration": 74.965935,
     "end_time": "2024-12-03T16:19:02.763834",
     "exception": false,
     "start_time": "2024-12-03T16:17:47.797899",
     "status": "completed"
    },
    "tags": []
   },
   "outputs": [
    {
     "name": "stdout",
     "output_type": "stream",
     "text": [
      "Fold 1\n",
      "0:\tlearn: 1.0927138\ttest: 1.0934793\tbest: 1.0934793 (0)\ttotal: 346ms\tremaining: 17m 18s\n",
      "200:\tlearn: 1.0488506\ttest: 1.0501858\tbest: 1.0501858 (200)\ttotal: 1.97s\tremaining: 27.4s\n",
      "400:\tlearn: 1.0470857\ttest: 1.0491505\tbest: 1.0491505 (400)\ttotal: 3.67s\tremaining: 23.8s\n",
      "600:\tlearn: 1.0459035\ttest: 1.0488293\tbest: 1.0488293 (598)\ttotal: 5.41s\tremaining: 21.6s\n",
      "800:\tlearn: 1.0448941\ttest: 1.0486400\tbest: 1.0486360 (794)\ttotal: 7.14s\tremaining: 19.6s\n",
      "1000:\tlearn: 1.0439487\ttest: 1.0485827\tbest: 1.0485793 (987)\ttotal: 8.87s\tremaining: 17.7s\n",
      "1200:\tlearn: 1.0430424\ttest: 1.0485649\tbest: 1.0485592 (1166)\ttotal: 10.6s\tremaining: 15.9s\n",
      "1400:\tlearn: 1.0421672\ttest: 1.0485818\tbest: 1.0485518 (1357)\ttotal: 12.3s\tremaining: 14s\n",
      "1600:\tlearn: 1.0413562\ttest: 1.0486210\tbest: 1.0485518 (1357)\ttotal: 14.1s\tremaining: 12.3s\n",
      "bestTest = 1.048551829\n",
      "bestIteration = 1357\n",
      "Shrink model to first 1358 iterations.\n",
      "Fold 1 RMSLE: 1.0485518142307853\n",
      "Fold 2\n",
      "0:\tlearn: 1.0929991\ttest: 1.0922494\tbest: 1.0922494 (0)\ttotal: 11.8ms\tremaining: 35.4s\n",
      "200:\tlearn: 1.0490726\ttest: 1.0494160\tbest: 1.0494160 (200)\ttotal: 1.98s\tremaining: 27.6s\n",
      "400:\tlearn: 1.0473542\ttest: 1.0484563\tbest: 1.0484563 (400)\ttotal: 3.71s\tremaining: 24.1s\n",
      "600:\tlearn: 1.0461320\ttest: 1.0480982\tbest: 1.0480982 (600)\ttotal: 5.43s\tremaining: 21.7s\n",
      "800:\tlearn: 1.0450877\ttest: 1.0479583\tbest: 1.0479570 (796)\ttotal: 7.28s\tremaining: 20s\n",
      "1000:\tlearn: 1.0441213\ttest: 1.0479142\tbest: 1.0479027 (946)\ttotal: 8.82s\tremaining: 17.6s\n",
      "1200:\tlearn: 1.0432312\ttest: 1.0478976\tbest: 1.0478830 (1180)\ttotal: 10.4s\tremaining: 15.5s\n",
      "1400:\tlearn: 1.0423866\ttest: 1.0478881\tbest: 1.0478589 (1314)\ttotal: 11.9s\tremaining: 13.6s\n",
      "1600:\tlearn: 1.0414692\ttest: 1.0478610\tbest: 1.0478489 (1533)\ttotal: 13.5s\tremaining: 11.8s\n",
      "1800:\tlearn: 1.0406483\ttest: 1.0478661\tbest: 1.0478489 (1533)\ttotal: 15s\tremaining: 9.99s\n",
      "bestTest = 1.047848863\n",
      "bestIteration = 1533\n",
      "Shrink model to first 1534 iterations.\n",
      "Fold 2 RMSLE: 1.0478489161316955\n",
      "Fold 3\n",
      "0:\tlearn: 1.0929978\ttest: 1.0921525\tbest: 1.0921525 (0)\ttotal: 9.71ms\tremaining: 29.1s\n",
      "200:\tlearn: 1.0488414\ttest: 1.0500960\tbest: 1.0500960 (200)\ttotal: 1.73s\tremaining: 24.1s\n",
      "400:\tlearn: 1.0469850\ttest: 1.0491328\tbest: 1.0491328 (400)\ttotal: 3.46s\tremaining: 22.4s\n",
      "600:\tlearn: 1.0457009\ttest: 1.0487656\tbest: 1.0487622 (589)\ttotal: 5.2s\tremaining: 20.8s\n",
      "800:\tlearn: 1.0446955\ttest: 1.0486793\tbest: 1.0486785 (786)\ttotal: 6.93s\tremaining: 19s\n",
      "1000:\tlearn: 1.0437408\ttest: 1.0486212\tbest: 1.0486186 (970)\ttotal: 8.63s\tremaining: 17.2s\n",
      "1200:\tlearn: 1.0428575\ttest: 1.0486243\tbest: 1.0486063 (1028)\ttotal: 10.3s\tremaining: 15.4s\n",
      "bestTest = 1.048606342\n",
      "bestIteration = 1028\n",
      "Shrink model to first 1029 iterations.\n",
      "Fold 3 RMSLE: 1.0486063582617997\n",
      "Fold 4\n",
      "0:\tlearn: 1.0929421\ttest: 1.0926133\tbest: 1.0926133 (0)\ttotal: 10.8ms\tremaining: 32.4s\n",
      "200:\tlearn: 1.0493993\ttest: 1.0483355\tbest: 1.0483355 (200)\ttotal: 1.72s\tremaining: 23.9s\n",
      "400:\tlearn: 1.0476702\ttest: 1.0473579\tbest: 1.0473572 (399)\ttotal: 3.59s\tremaining: 23.3s\n",
      "600:\tlearn: 1.0464605\ttest: 1.0470407\tbest: 1.0470407 (600)\ttotal: 5.42s\tremaining: 21.6s\n",
      "800:\tlearn: 1.0454081\ttest: 1.0469254\tbest: 1.0469183 (763)\ttotal: 7.14s\tremaining: 19.6s\n",
      "1000:\tlearn: 1.0444074\ttest: 1.0468503\tbest: 1.0468314 (921)\ttotal: 8.67s\tremaining: 17.3s\n",
      "1200:\tlearn: 1.0434676\ttest: 1.0467353\tbest: 1.0467350 (1198)\ttotal: 10.2s\tremaining: 15.3s\n",
      "1400:\tlearn: 1.0425859\ttest: 1.0467262\tbest: 1.0467229 (1228)\ttotal: 11.7s\tremaining: 13.4s\n",
      "1600:\tlearn: 1.0417543\ttest: 1.0467299\tbest: 1.0467033 (1465)\ttotal: 13.3s\tremaining: 11.6s\n",
      "bestTest = 1.046703282\n",
      "bestIteration = 1465\n",
      "Shrink model to first 1466 iterations.\n",
      "Fold 4 RMSLE: 1.046703376302863\n",
      "Fold 5\n",
      "0:\tlearn: 1.0926331\ttest: 1.0938162\tbest: 1.0938162 (0)\ttotal: 10.8ms\tremaining: 32.3s\n",
      "200:\tlearn: 1.0488984\ttest: 1.0497924\tbest: 1.0497924 (200)\ttotal: 1.64s\tremaining: 22.8s\n",
      "400:\tlearn: 1.0470777\ttest: 1.0487426\tbest: 1.0487426 (400)\ttotal: 3.16s\tremaining: 20.5s\n",
      "600:\tlearn: 1.0459196\ttest: 1.0484787\tbest: 1.0484766 (599)\ttotal: 4.68s\tremaining: 18.7s\n",
      "800:\tlearn: 1.0449110\ttest: 1.0483893\tbest: 1.0483832 (765)\ttotal: 6.21s\tremaining: 17s\n",
      "1000:\tlearn: 1.0439296\ttest: 1.0482951\tbest: 1.0482942 (995)\ttotal: 7.99s\tremaining: 16s\n",
      "1200:\tlearn: 1.0430319\ttest: 1.0483017\tbest: 1.0482734 (1049)\ttotal: 9.88s\tremaining: 14.8s\n",
      "bestTest = 1.048273382\n",
      "bestIteration = 1049\n",
      "Shrink model to first 1050 iterations.\n",
      "Fold 5 RMSLE: 1.0482734152838418\n"
     ]
    }
   ],
   "source": [
    "def train_model():\n",
    "    kf = KFold(n_splits=5, shuffle=True, random_state=42)\n",
    "    oof = np.zeros(len(X))\n",
    "    models = []\n",
    "\n",
    "    for fold, (train_idx, valid_idx) in enumerate(kf.split(X)):\n",
    "        print(f\"Fold {fold + 1}\")\n",
    "        X_train, X_valid = X.iloc[train_idx], X.iloc[valid_idx]\n",
    "        y_train, y_valid = y_log.iloc[train_idx], y_log.iloc[valid_idx]\n",
    "\n",
    "        model = CatBoostRegressor(\n",
    "            iterations=3000,\n",
    "            learning_rate=0.05,\n",
    "            depth=6,\n",
    "            eval_metric=\"RMSE\",\n",
    "            random_seed=42,\n",
    "            verbose=200,\n",
    "            task_type='GPU',\n",
    "            l2_leaf_reg =  0.7,\n",
    "        )\n",
    "        \n",
    "        model.fit(X_train,\n",
    "                  y_train,\n",
    "                  eval_set=(X_valid, y_valid), \n",
    "                  early_stopping_rounds=300,\n",
    "                  # cat_features=cat_cols,\n",
    "                 )\n",
    "        models.append(model)\n",
    "        oof[valid_idx] = np.maximum(0, model.predict(X_valid))\n",
    "        fold_rmsle = rmsle(np.expm1(y_valid), np.expm1(oof[valid_idx]))\n",
    "        print(f\"Fold {fold + 1} RMSLE: {fold_rmsle}\")\n",
    "        \n",
    "    return models, oof\n",
    "models,oof = train_model()"
   ]
  },
  {
   "cell_type": "code",
   "execution_count": 13,
   "id": "319a3877",
   "metadata": {
    "execution": {
     "iopub.execute_input": "2024-12-03T16:19:02.788377Z",
     "iopub.status.busy": "2024-12-03T16:19:02.788014Z",
     "iopub.status.idle": "2024-12-03T16:19:02.826129Z",
     "shell.execute_reply": "2024-12-03T16:19:02.825166Z"
    },
    "papermill": {
     "duration": 0.052857,
     "end_time": "2024-12-03T16:19:02.828376",
     "exception": false,
     "start_time": "2024-12-03T16:19:02.775519",
     "status": "completed"
    },
    "tags": []
   },
   "outputs": [
    {
     "name": "stdout",
     "output_type": "stream",
     "text": [
      "1.0479970099105032\n"
     ]
    }
   ],
   "source": [
    "print(rmsle(y, np.expm1(oof)))"
   ]
  },
  {
   "cell_type": "code",
   "execution_count": 14,
   "id": "bffee7ed",
   "metadata": {
    "execution": {
     "iopub.execute_input": "2024-12-03T16:19:02.855565Z",
     "iopub.status.busy": "2024-12-03T16:19:02.855086Z",
     "iopub.status.idle": "2024-12-03T16:19:07.160952Z",
     "shell.execute_reply": "2024-12-03T16:19:07.160005Z"
    },
    "papermill": {
     "duration": 4.321464,
     "end_time": "2024-12-03T16:19:07.163042",
     "exception": false,
     "start_time": "2024-12-03T16:19:02.841578",
     "status": "completed"
    },
    "tags": []
   },
   "outputs": [
    {
     "data": {
      "text/html": [
       "<div>\n",
       "<style scoped>\n",
       "    .dataframe tbody tr th:only-of-type {\n",
       "        vertical-align: middle;\n",
       "    }\n",
       "\n",
       "    .dataframe tbody tr th {\n",
       "        vertical-align: top;\n",
       "    }\n",
       "\n",
       "    .dataframe thead th {\n",
       "        text-align: right;\n",
       "    }\n",
       "</style>\n",
       "<table border=\"1\" class=\"dataframe\">\n",
       "  <thead>\n",
       "    <tr style=\"text-align: right;\">\n",
       "      <th></th>\n",
       "      <th>id</th>\n",
       "      <th>Premium Amount</th>\n",
       "    </tr>\n",
       "  </thead>\n",
       "  <tbody>\n",
       "    <tr>\n",
       "      <th>0</th>\n",
       "      <td>1200000</td>\n",
       "      <td>786.039858</td>\n",
       "    </tr>\n",
       "    <tr>\n",
       "      <th>1</th>\n",
       "      <td>1200001</td>\n",
       "      <td>787.390070</td>\n",
       "    </tr>\n",
       "    <tr>\n",
       "      <th>2</th>\n",
       "      <td>1200002</td>\n",
       "      <td>778.321892</td>\n",
       "    </tr>\n",
       "    <tr>\n",
       "      <th>3</th>\n",
       "      <td>1200003</td>\n",
       "      <td>793.235726</td>\n",
       "    </tr>\n",
       "    <tr>\n",
       "      <th>4</th>\n",
       "      <td>1200004</td>\n",
       "      <td>749.701754</td>\n",
       "    </tr>\n",
       "  </tbody>\n",
       "</table>\n",
       "</div>"
      ],
      "text/plain": [
       "        id  Premium Amount\n",
       "0  1200000      786.039858\n",
       "1  1200001      787.390070\n",
       "2  1200002      778.321892\n",
       "3  1200003      793.235726\n",
       "4  1200004      749.701754"
      ]
     },
     "execution_count": 14,
     "metadata": {},
     "output_type": "execute_result"
    }
   ],
   "source": [
    "test_predictions = np.zeros(len(test))\n",
    "\n",
    "for model in models:\n",
    "    test_predictions += np.maximum(0, np.expm1(model.predict(test))) / len(models)\n",
    "\n",
    "\n",
    "sample['Premium Amount'] = test_predictions\n",
    "sample.to_csv('submission.csv', index = False)\n",
    "sample.head()"
   ]
  },
  {
   "cell_type": "code",
   "execution_count": null,
   "id": "ac7540fa",
   "metadata": {
    "papermill": {
     "duration": 0.007331,
     "end_time": "2024-12-03T16:19:07.178401",
     "exception": false,
     "start_time": "2024-12-03T16:19:07.171070",
     "status": "completed"
    },
    "tags": []
   },
   "outputs": [],
   "source": []
  },
  {
   "cell_type": "code",
   "execution_count": null,
   "id": "cf88a0be",
   "metadata": {
    "papermill": {
     "duration": 0.00657,
     "end_time": "2024-12-03T16:19:07.191617",
     "exception": false,
     "start_time": "2024-12-03T16:19:07.185047",
     "status": "completed"
    },
    "tags": []
   },
   "outputs": [],
   "source": []
  },
  {
   "cell_type": "code",
   "execution_count": 15,
   "id": "e7eda481",
   "metadata": {
    "execution": {
     "iopub.execute_input": "2024-12-03T16:19:07.206623Z",
     "iopub.status.busy": "2024-12-03T16:19:07.205841Z",
     "iopub.status.idle": "2024-12-03T16:42:00.215697Z",
     "shell.execute_reply": "2024-12-03T16:42:00.214872Z"
    },
    "papermill": {
     "duration": 1373.040203,
     "end_time": "2024-12-03T16:42:00.238285",
     "exception": false,
     "start_time": "2024-12-03T16:19:07.198082",
     "status": "completed"
    },
    "tags": []
   },
   "outputs": [
    {
     "name": "stdout",
     "output_type": "stream",
     "text": [
      "Search 1/15 with params: {'random_strength': 2, 'learning_rate': 0.03, 'l2_leaf_reg': 1.0, 'iterations': 3000, 'depth': 6, 'bagging_temperature': 1.0}\n",
      "  Fold 1\n",
      "    Fold 1 RMSLE: 1.0486\n",
      "  Fold 2\n",
      "    Fold 2 RMSLE: 1.0478\n",
      "  Fold 3\n",
      "    Fold 3 RMSLE: 1.0485\n",
      "  Fold 4\n",
      "    Fold 4 RMSLE: 1.0467\n",
      "  Fold 5\n",
      "    Fold 5 RMSLE: 1.0482\n",
      "Mean RMSLE for Search 1: 1.0480\n",
      "Search 2/15 with params: {'random_strength': 2, 'learning_rate': 0.03, 'l2_leaf_reg': 1.0, 'iterations': 2000, 'depth': 10, 'bagging_temperature': 0.5}\n",
      "  Fold 1\n",
      "    Fold 1 RMSLE: 1.0480\n",
      "  Fold 2\n",
      "    Fold 2 RMSLE: 1.0471\n",
      "  Fold 3\n",
      "    Fold 3 RMSLE: 1.0479\n",
      "  Fold 4\n",
      "    Fold 4 RMSLE: 1.0460\n",
      "  Fold 5\n",
      "    Fold 5 RMSLE: 1.0476\n",
      "Mean RMSLE for Search 2: 1.0473\n",
      "Search 3/15 with params: {'random_strength': 2, 'learning_rate': 0.05, 'l2_leaf_reg': 1.0, 'iterations': 4000, 'depth': 8, 'bagging_temperature': 1.0}\n",
      "  Fold 1\n",
      "    Fold 1 RMSLE: 1.0484\n",
      "  Fold 2\n",
      "    Fold 2 RMSLE: 1.0475\n",
      "  Fold 3\n",
      "    Fold 3 RMSLE: 1.0483\n",
      "  Fold 4\n",
      "    Fold 4 RMSLE: 1.0464\n",
      "  Fold 5\n",
      "    Fold 5 RMSLE: 1.0479\n",
      "Mean RMSLE for Search 3: 1.0477\n",
      "Search 4/15 with params: {'random_strength': 1, 'learning_rate': 0.03, 'l2_leaf_reg': 1.0, 'iterations': 3000, 'depth': 6, 'bagging_temperature': 1.5}\n",
      "  Fold 1\n",
      "    Fold 1 RMSLE: 1.0490\n",
      "  Fold 2\n",
      "    Fold 2 RMSLE: 1.0482\n",
      "  Fold 3\n",
      "    Fold 3 RMSLE: 1.0490\n",
      "  Fold 4\n",
      "    Fold 4 RMSLE: 1.0471\n",
      "  Fold 5\n",
      "    Fold 5 RMSLE: 1.0486\n",
      "Mean RMSLE for Search 4: 1.0484\n",
      "Search 5/15 with params: {'random_strength': 1, 'learning_rate': 0.05, 'l2_leaf_reg': 0.5, 'iterations': 4000, 'depth': 8, 'bagging_temperature': 1.5}\n",
      "  Fold 1\n",
      "    Fold 1 RMSLE: 1.0486\n",
      "  Fold 2\n",
      "    Fold 2 RMSLE: 1.0480\n",
      "  Fold 3\n",
      "    Fold 3 RMSLE: 1.0485\n",
      "  Fold 4\n",
      "    Fold 4 RMSLE: 1.0468\n",
      "  Fold 5\n",
      "    Fold 5 RMSLE: 1.0482\n",
      "Mean RMSLE for Search 5: 1.0480\n",
      "Search 6/15 with params: {'random_strength': 5, 'learning_rate': 0.03, 'l2_leaf_reg': 0.7, 'iterations': 2000, 'depth': 6, 'bagging_temperature': 1.5}\n",
      "  Fold 1\n",
      "    Fold 1 RMSLE: 1.0492\n",
      "  Fold 2\n",
      "    Fold 2 RMSLE: 1.0484\n",
      "  Fold 3\n",
      "    Fold 3 RMSLE: 1.0492\n",
      "  Fold 4\n",
      "    Fold 4 RMSLE: 1.0473\n",
      "  Fold 5\n",
      "    Fold 5 RMSLE: 1.0488\n",
      "Mean RMSLE for Search 6: 1.0486\n",
      "Search 7/15 with params: {'random_strength': 2, 'learning_rate': 0.01, 'l2_leaf_reg': 0.7, 'iterations': 3000, 'depth': 4, 'bagging_temperature': 1.0}\n",
      "  Fold 1\n",
      "    Fold 1 RMSLE: 1.0518\n",
      "  Fold 2\n",
      "    Fold 2 RMSLE: 1.0510\n",
      "  Fold 3\n",
      "    Fold 3 RMSLE: 1.0518\n",
      "  Fold 4\n",
      "    Fold 4 RMSLE: 1.0501\n",
      "  Fold 5\n",
      "    Fold 5 RMSLE: 1.0514\n",
      "Mean RMSLE for Search 7: 1.0512\n",
      "Search 8/15 with params: {'random_strength': 2, 'learning_rate': 0.05, 'l2_leaf_reg': 0.7, 'iterations': 4000, 'depth': 6, 'bagging_temperature': 1.0}\n",
      "  Fold 1\n",
      "    Fold 1 RMSLE: 1.0485\n",
      "  Fold 2\n",
      "    Fold 2 RMSLE: 1.0478\n",
      "  Fold 3\n",
      "    Fold 3 RMSLE: 1.0485\n",
      "  Fold 4\n",
      "    Fold 4 RMSLE: 1.0467\n",
      "  Fold 5\n",
      "    Fold 5 RMSLE: 1.0483\n",
      "Mean RMSLE for Search 8: 1.0480\n",
      "Search 9/15 with params: {'random_strength': 5, 'learning_rate': 0.05, 'l2_leaf_reg': 1.0, 'iterations': 2000, 'depth': 4, 'bagging_temperature': 1.5}\n",
      "  Fold 1\n",
      "    Fold 1 RMSLE: 1.0509\n",
      "  Fold 2\n",
      "    Fold 2 RMSLE: 1.0500\n",
      "  Fold 3\n",
      "    Fold 3 RMSLE: 1.0508\n",
      "  Fold 4\n",
      "    Fold 4 RMSLE: 1.0490\n",
      "  Fold 5\n",
      "    Fold 5 RMSLE: 1.0504\n",
      "Mean RMSLE for Search 9: 1.0502\n",
      "Search 10/15 with params: {'random_strength': 2, 'learning_rate': 0.03, 'l2_leaf_reg': 0.5, 'iterations': 4000, 'depth': 4, 'bagging_temperature': 0.5}\n",
      "  Fold 1\n",
      "    Fold 1 RMSLE: 1.0499\n",
      "  Fold 2\n",
      "    Fold 2 RMSLE: 1.0490\n",
      "  Fold 3\n",
      "    Fold 3 RMSLE: 1.0499\n",
      "  Fold 4\n",
      "    Fold 4 RMSLE: 1.0480\n",
      "  Fold 5\n",
      "    Fold 5 RMSLE: 1.0494\n",
      "Mean RMSLE for Search 10: 1.0493\n",
      "Search 11/15 with params: {'random_strength': 2, 'learning_rate': 0.05, 'l2_leaf_reg': 0.7, 'iterations': 4000, 'depth': 8, 'bagging_temperature': 1.0}\n",
      "  Fold 1\n",
      "    Fold 1 RMSLE: 1.0483\n",
      "  Fold 2\n",
      "    Fold 2 RMSLE: 1.0475\n",
      "  Fold 3\n",
      "    Fold 3 RMSLE: 1.0482\n",
      "  Fold 4\n",
      "    Fold 4 RMSLE: 1.0464\n",
      "  Fold 5\n",
      "    Fold 5 RMSLE: 1.0479\n",
      "Mean RMSLE for Search 11: 1.0477\n",
      "Search 12/15 with params: {'random_strength': 1, 'learning_rate': 0.05, 'l2_leaf_reg': 0.7, 'iterations': 3000, 'depth': 8, 'bagging_temperature': 1.5}\n",
      "  Fold 1\n",
      "    Fold 1 RMSLE: 1.0487\n",
      "  Fold 2\n",
      "    Fold 2 RMSLE: 1.0480\n",
      "  Fold 3\n",
      "    Fold 3 RMSLE: 1.0485\n",
      "  Fold 4\n",
      "    Fold 4 RMSLE: 1.0467\n",
      "  Fold 5\n",
      "    Fold 5 RMSLE: 1.0482\n",
      "Mean RMSLE for Search 12: 1.0480\n",
      "Search 13/15 with params: {'random_strength': 2, 'learning_rate': 0.03, 'l2_leaf_reg': 0.5, 'iterations': 4000, 'depth': 8, 'bagging_temperature': 1.0}\n",
      "  Fold 1\n",
      "    Fold 1 RMSLE: 1.0483\n",
      "  Fold 2\n",
      "    Fold 2 RMSLE: 1.0474\n",
      "  Fold 3\n",
      "    Fold 3 RMSLE: 1.0481\n",
      "  Fold 4\n",
      "    Fold 4 RMSLE: 1.0463\n",
      "  Fold 5\n",
      "    Fold 5 RMSLE: 1.0479\n",
      "Mean RMSLE for Search 13: 1.0476\n",
      "Search 14/15 with params: {'random_strength': 1, 'learning_rate': 0.03, 'l2_leaf_reg': 2.0, 'iterations': 2000, 'depth': 4, 'bagging_temperature': 1.0}\n",
      "  Fold 1\n",
      "    Fold 1 RMSLE: 1.0508\n",
      "  Fold 2\n",
      "    Fold 2 RMSLE: 1.0500\n",
      "  Fold 3\n",
      "    Fold 3 RMSLE: 1.0508\n",
      "  Fold 4\n",
      "    Fold 4 RMSLE: 1.0489\n",
      "  Fold 5\n",
      "    Fold 5 RMSLE: 1.0503\n",
      "Mean RMSLE for Search 14: 1.0502\n",
      "Search 15/15 with params: {'random_strength': 2, 'learning_rate': 0.01, 'l2_leaf_reg': 2.0, 'iterations': 4000, 'depth': 4, 'bagging_temperature': 1.5}\n",
      "  Fold 1\n",
      "    Fold 1 RMSLE: 1.0517\n",
      "  Fold 2\n",
      "    Fold 2 RMSLE: 1.0508\n",
      "  Fold 3\n",
      "    Fold 3 RMSLE: 1.0517\n",
      "  Fold 4\n",
      "    Fold 4 RMSLE: 1.0499\n",
      "  Fold 5\n",
      "    Fold 5 RMSLE: 1.0512\n",
      "Mean RMSLE for Search 15: 1.0510\n",
      "\n",
      "Best Parameters: {'random_strength': 2, 'learning_rate': 0.03, 'l2_leaf_reg': 1.0, 'iterations': 2000, 'depth': 10, 'bagging_temperature': 0.5}\n",
      "Best RMSLE: 1.0473\n"
     ]
    }
   ],
   "source": [
    "from sklearn.model_selection import ParameterSampler\n",
    "from sklearn.model_selection import KFold\n",
    "import numpy as np\n",
    "import pandas as pd\n",
    "from catboost import CatBoostRegressor\n",
    "from tqdm import tqdm\n",
    "\n",
    "# 定义超参数搜索空间\n",
    "param_grid = {\n",
    "    'iterations': [2000, 3000, 4000],\n",
    "    'learning_rate': [0.01, 0.03, 0.05],\n",
    "    'depth': [4, 6, 8, 10],\n",
    "    'l2_leaf_reg': [0.5, 0.7, 1.0, 2.0],\n",
    "    'bagging_temperature': [0.5, 1.0, 1.5],\n",
    "    'random_strength': [1, 2, 5]\n",
    "}\n",
    "\n",
    "# 随机抽取参数\n",
    "n_searches = 15\n",
    "param_list = list(ParameterSampler(param_grid, n_iter=n_searches, random_state=42))\n",
    "\n",
    "def random_search_train(X, y, param_list, n_splits=5, random_state=42):\n",
    "    kf = KFold(n_splits=n_splits, shuffle=True, random_state=random_state)\n",
    "    best_score = float('inf')\n",
    "    best_params = None\n",
    "    best_models = None\n",
    "    results = []\n",
    "\n",
    "    for idx, params in enumerate(param_list):\n",
    "        print(f\"Search {idx+1}/{len(param_list)} with params: {params}\")\n",
    "        oof = np.zeros(len(X))\n",
    "        models = []\n",
    "        fold_scores = []\n",
    "\n",
    "        for fold, (train_idx, valid_idx) in enumerate(kf.split(X)):\n",
    "            print(f\"  Fold {fold + 1}\")\n",
    "            X_train, X_valid = X.iloc[train_idx], X.iloc[valid_idx]\n",
    "            y_train, y_valid = np.log1p(y.iloc[train_idx]), np.log1p(y.iloc[valid_idx])\n",
    "\n",
    "            model = CatBoostRegressor(\n",
    "                **params,\n",
    "                random_seed=random_state,\n",
    "                eval_metric=\"RMSE\",\n",
    "                verbose=0,\n",
    "                task_type='GPU',\n",
    "            )\n",
    "            \n",
    "            model.fit(\n",
    "                X_train, y_train,\n",
    "                eval_set=(X_valid, y_valid),\n",
    "                early_stopping_rounds=300,\n",
    "            )\n",
    "            models.append(model)\n",
    "\n",
    "            # 预测和评估\n",
    "            oof[valid_idx] = np.maximum(0, model.predict(X_valid))\n",
    "            fold_rmsle = rmsle(np.expm1(y_valid), np.expm1(oof[valid_idx]))\n",
    "            fold_scores.append(fold_rmsle)\n",
    "\n",
    "            print(f\"    Fold {fold + 1} RMSLE: {fold_rmsle:.4f}\")\n",
    "        \n",
    "        mean_score = np.mean(fold_scores)\n",
    "        print(f\"Mean RMSLE for Search {idx+1}: {mean_score:.4f}\")\n",
    "\n",
    "        # 保存最佳模型\n",
    "        if mean_score < best_score:\n",
    "            best_score = mean_score\n",
    "            best_params = params\n",
    "            best_models = models\n",
    "\n",
    "        # 记录结果\n",
    "        results.append({'params': params, 'mean_rmsle': mean_score})\n",
    "    \n",
    "    results_df = pd.DataFrame(results)\n",
    "    print(\"\\nBest Parameters:\", best_params)\n",
    "    print(f\"Best RMSLE: {best_score:.4f}\")\n",
    "    return best_models, best_params, results_df\n",
    "\n",
    "# 执行随机搜索训练\n",
    "models, best_params, results_df = random_search_train(X, y, param_list)\n"
   ]
  },
  {
   "cell_type": "code",
   "execution_count": 16,
   "id": "8d130e13",
   "metadata": {
    "execution": {
     "iopub.execute_input": "2024-12-03T16:42:00.261916Z",
     "iopub.status.busy": "2024-12-03T16:42:00.261592Z",
     "iopub.status.idle": "2024-12-03T16:42:07.708190Z",
     "shell.execute_reply": "2024-12-03T16:42:07.707256Z"
    },
    "papermill": {
     "duration": 7.459883,
     "end_time": "2024-12-03T16:42:07.709894",
     "exception": false,
     "start_time": "2024-12-03T16:42:00.250011",
     "status": "completed"
    },
    "tags": []
   },
   "outputs": [
    {
     "data": {
      "text/html": [
       "<div>\n",
       "<style scoped>\n",
       "    .dataframe tbody tr th:only-of-type {\n",
       "        vertical-align: middle;\n",
       "    }\n",
       "\n",
       "    .dataframe tbody tr th {\n",
       "        vertical-align: top;\n",
       "    }\n",
       "\n",
       "    .dataframe thead th {\n",
       "        text-align: right;\n",
       "    }\n",
       "</style>\n",
       "<table border=\"1\" class=\"dataframe\">\n",
       "  <thead>\n",
       "    <tr style=\"text-align: right;\">\n",
       "      <th></th>\n",
       "      <th>id</th>\n",
       "      <th>Premium Amount</th>\n",
       "    </tr>\n",
       "  </thead>\n",
       "  <tbody>\n",
       "    <tr>\n",
       "      <th>0</th>\n",
       "      <td>1200000</td>\n",
       "      <td>815.438101</td>\n",
       "    </tr>\n",
       "    <tr>\n",
       "      <th>1</th>\n",
       "      <td>1200001</td>\n",
       "      <td>795.125828</td>\n",
       "    </tr>\n",
       "    <tr>\n",
       "      <th>2</th>\n",
       "      <td>1200002</td>\n",
       "      <td>785.394724</td>\n",
       "    </tr>\n",
       "    <tr>\n",
       "      <th>3</th>\n",
       "      <td>1200003</td>\n",
       "      <td>797.848012</td>\n",
       "    </tr>\n",
       "    <tr>\n",
       "      <th>4</th>\n",
       "      <td>1200004</td>\n",
       "      <td>745.831867</td>\n",
       "    </tr>\n",
       "  </tbody>\n",
       "</table>\n",
       "</div>"
      ],
      "text/plain": [
       "        id  Premium Amount\n",
       "0  1200000      815.438101\n",
       "1  1200001      795.125828\n",
       "2  1200002      785.394724\n",
       "3  1200003      797.848012\n",
       "4  1200004      745.831867"
      ]
     },
     "execution_count": 16,
     "metadata": {},
     "output_type": "execute_result"
    }
   ],
   "source": [
    "test_predictions = np.zeros(len(test))\n",
    "\n",
    "for model in models:\n",
    "    test_predictions += np.maximum(0, np.expm1(model.predict(test))) / len(models)\n",
    "\n",
    "\n",
    "sample['Premium Amount'] = test_predictions\n",
    "sample.to_csv('submission1.csv', index = False)\n",
    "sample.head()"
   ]
  },
  {
   "cell_type": "code",
   "execution_count": null,
   "id": "106fa75b",
   "metadata": {
    "papermill": {
     "duration": 0.0102,
     "end_time": "2024-12-03T16:42:07.730655",
     "exception": false,
     "start_time": "2024-12-03T16:42:07.720455",
     "status": "completed"
    },
    "tags": []
   },
   "outputs": [],
   "source": []
  },
  {
   "cell_type": "markdown",
   "id": "43c912dd",
   "metadata": {
    "papermill": {
     "duration": 0.010065,
     "end_time": "2024-12-03T16:42:07.750967",
     "exception": false,
     "start_time": "2024-12-03T16:42:07.740902",
     "status": "completed"
    },
    "tags": []
   },
   "source": [
    "# The end"
   ]
  }
 ],
 "metadata": {
  "kaggle": {
   "accelerator": "nvidiaTeslaT4",
   "dataSources": [
    {
     "databundleVersionId": 10305135,
     "sourceId": 84896,
     "sourceType": "competition"
    }
   ],
   "dockerImageVersionId": 30805,
   "isGpuEnabled": true,
   "isInternetEnabled": true,
   "language": "python",
   "sourceType": "notebook"
  },
  "kernelspec": {
   "display_name": "Python 3",
   "language": "python",
   "name": "python3"
  },
  "language_info": {
   "codemirror_mode": {
    "name": "ipython",
    "version": 3
   },
   "file_extension": ".py",
   "mimetype": "text/x-python",
   "name": "python",
   "nbconvert_exporter": "python",
   "pygments_lexer": "ipython3",
   "version": "3.10.14"
  },
  "papermill": {
   "default_parameters": {},
   "duration": 1492.204534,
   "end_time": "2024-12-03T16:42:10.282093",
   "environment_variables": {},
   "exception": null,
   "input_path": "__notebook__.ipynb",
   "output_path": "__notebook__.ipynb",
   "parameters": {},
   "start_time": "2024-12-03T16:17:18.077559",
   "version": "2.6.0"
  }
 },
 "nbformat": 4,
 "nbformat_minor": 5
}
