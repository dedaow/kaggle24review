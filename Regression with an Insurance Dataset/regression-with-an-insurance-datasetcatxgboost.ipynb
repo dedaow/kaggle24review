{
 "cells": [
  {
   "cell_type": "code",
   "execution_count": 1,
   "id": "de55a2a4",
   "metadata": {
    "_cell_guid": "b1076dfc-b9ad-4769-8c92-a6c4dae69d19",
    "_uuid": "8f2839f25d086af736a60e9eeb907d3b93b6e0e5",
    "execution": {
     "iopub.execute_input": "2024-12-05T06:05:24.810120Z",
     "iopub.status.busy": "2024-12-05T06:05:24.809383Z",
     "iopub.status.idle": "2024-12-05T06:05:25.516415Z",
     "shell.execute_reply": "2024-12-05T06:05:25.515389Z"
    },
    "papermill": {
     "duration": 0.71389,
     "end_time": "2024-12-05T06:05:25.518484",
     "exception": false,
     "start_time": "2024-12-05T06:05:24.804594",
     "status": "completed"
    },
    "tags": []
   },
   "outputs": [
    {
     "name": "stdout",
     "output_type": "stream",
     "text": [
      "/kaggle/input/playground-series-s4e12/sample_submission.csv\n",
      "/kaggle/input/playground-series-s4e12/train.csv\n",
      "/kaggle/input/playground-series-s4e12/test.csv\n"
     ]
    }
   ],
   "source": [
    "# This Python 3 environment comes with many helpful analytics libraries installed\n",
    "# It is defined by the kaggle/python Docker image: https://github.com/kaggle/docker-python\n",
    "# For example, here's several helpful packages to load\n",
    "\n",
    "import numpy as np # linear algebra\n",
    "import pandas as pd # data processing, CSV file I/O (e.g. pd.read_csv)\n",
    "\n",
    "# Input data files are available in the read-only \"../input/\" directory\n",
    "# For example, running this (by clicking run or pressing Shift+Enter) will list all files under the input directory\n",
    "\n",
    "import os\n",
    "for dirname, _, filenames in os.walk('/kaggle/input'):\n",
    "    for filename in filenames:\n",
    "        print(os.path.join(dirname, filename))\n",
    "\n",
    "# You can write up to 20GB to the current directory (/kaggle/working/) that gets preserved as output when you create a version using \"Save & Run All\" \n",
    "# You can also write temporary files to /kaggle/temp/, but they won't be saved outside of the current session"
   ]
  },
  {
   "cell_type": "code",
   "execution_count": 2,
   "id": "fb199788",
   "metadata": {
    "execution": {
     "iopub.execute_input": "2024-12-05T06:05:25.527105Z",
     "iopub.status.busy": "2024-12-05T06:05:25.526458Z",
     "iopub.status.idle": "2024-12-05T06:05:30.261542Z",
     "shell.execute_reply": "2024-12-05T06:05:30.260576Z"
    },
    "papermill": {
     "duration": 4.74106,
     "end_time": "2024-12-05T06:05:30.263413",
     "exception": false,
     "start_time": "2024-12-05T06:05:25.522353",
     "status": "completed"
    },
    "tags": []
   },
   "outputs": [
    {
     "name": "stdout",
     "output_type": "stream",
     "text": [
      "可用GPU数量: 2\n",
      "GPU 0: Tesla T4\n",
      "显存使用情况: 0.00 MB 已用, 0.00 MB 总分配\n",
      "显存空余: 0.00 字节\n",
      "\n",
      "GPU 1: Tesla T4\n",
      "显存使用情况: 0.00 MB 已用, 0.00 MB 总分配\n",
      "显存空余: 0.00 字节\n",
      "\n"
     ]
    }
   ],
   "source": [
    "import pandas as pd\n",
    "import numpy as np\n",
    "from catboost import CatBoostRegressor\n",
    "from sklearn.model_selection import KFold\n",
    "from sklearn.metrics import mean_squared_log_error\n",
    "from sklearn.preprocessing import LabelEncoder, OrdinalEncoder\n",
    "from sklearn.preprocessing import OneHotEncoder\n",
    "import xgboost as xgb\n",
    "from sklearn.model_selection import ParameterSampler, KFold\n",
    "\n",
    "import warnings\n",
    "warnings.filterwarnings(\"ignore\")\n",
    "\n",
    "import torch\n",
    "\n",
    "def check_gpu_status():\n",
    "    if torch.cuda.is_available():\n",
    "        print(f\"可用GPU数量: {torch.cuda.device_count()}\")\n",
    "        for i in range(torch.cuda.device_count()):\n",
    "            print(f\"GPU {i}: {torch.cuda.get_device_name(i)}\")\n",
    "            print(f\"显存使用情况: {torch.cuda.memory_allocated(i) / 1024**2:.2f} MB 已用, {torch.cuda.memory_reserved(i) / 1024**2:.2f} MB 总分配\")\n",
    "            print(f\"显存空余: {torch.cuda.memory_reserved(i) - torch.cuda.memory_allocated(i):.2f} 字节\\n\")\n",
    "    else:\n",
    "        print(\"未检测到 GPU！\")\n",
    "\n",
    "check_gpu_status()"
   ]
  },
  {
   "cell_type": "code",
   "execution_count": 3,
   "id": "12603ad7",
   "metadata": {
    "execution": {
     "iopub.execute_input": "2024-12-05T06:05:30.271734Z",
     "iopub.status.busy": "2024-12-05T06:05:30.271351Z",
     "iopub.status.idle": "2024-12-05T06:05:38.954330Z",
     "shell.execute_reply": "2024-12-05T06:05:38.953584Z"
    },
    "papermill": {
     "duration": 8.68933,
     "end_time": "2024-12-05T06:05:38.956257",
     "exception": false,
     "start_time": "2024-12-05T06:05:30.266927",
     "status": "completed"
    },
    "tags": []
   },
   "outputs": [],
   "source": [
    "train = pd.read_csv(\"/kaggle/input/playground-series-s4e12/train.csv\")\n",
    "test = pd.read_csv(\"/kaggle/input/playground-series-s4e12/test.csv\")\n",
    "\n",
    "sample = pd.read_csv('/kaggle/input/playground-series-s4e12/sample_submission.csv')\n",
    "\n",
    "train.drop('id', axis=1, inplace=True)\n",
    "test.drop('id', axis=1, inplace=True) "
   ]
  },
  {
   "cell_type": "code",
   "execution_count": 4,
   "id": "490dc953",
   "metadata": {
    "execution": {
     "iopub.execute_input": "2024-12-05T06:05:38.964036Z",
     "iopub.status.busy": "2024-12-05T06:05:38.963733Z",
     "iopub.status.idle": "2024-12-05T06:05:45.429809Z",
     "shell.execute_reply": "2024-12-05T06:05:45.428800Z"
    },
    "papermill": {
     "duration": 6.472311,
     "end_time": "2024-12-05T06:05:45.431927",
     "exception": false,
     "start_time": "2024-12-05T06:05:38.959616",
     "status": "completed"
    },
    "tags": []
   },
   "outputs": [],
   "source": [
    "def date(Df):\n",
    "\n",
    "    Df['Policy Start Date'] = pd.to_datetime(Df['Policy Start Date'])\n",
    "    Df['Year'] = Df['Policy Start Date'].dt.year\n",
    "    Df['Day'] = Df['Policy Start Date'].dt.day\n",
    "    Df['Month'] = Df['Policy Start Date'].dt.month\n",
    "    Df['Month_name'] = Df['Policy Start Date'].dt.month_name()\n",
    "    Df['Day_of_week'] = Df['Policy Start Date'].dt.day_name()\n",
    "    Df['Week'] = Df['Policy Start Date'].dt.isocalendar().week\n",
    "    Df['Year_sin'] = np.sin(2 * np.pi * Df['Year'])\n",
    "    Df['Year_cos'] = np.cos(2 * np.pi * Df['Year'])\n",
    "    Df['Month_sin'] = np.sin(2 * np.pi * Df['Month'] / 12) \n",
    "    Df['Month_cos'] = np.cos(2 * np.pi * Df['Month'] / 12)\n",
    "    Df['Day_sin'] = np.sin(2 * np.pi * Df['Day'] / 31)  \n",
    "    Df['Day_cos'] = np.cos(2 * np.pi * Df['Day'] / 31)\n",
    "    Df['Group']=(Df['Year']-2020)*48+Df['Month']*4+Df['Day']//7\n",
    "    \n",
    "    Df.drop('Policy Start Date', axis=1, inplace=True)\n",
    "\n",
    "    return Df\n",
    "train = date(train)\n",
    "test = date(test)\n",
    "\n",
    "cat_cols = [col for col in train.columns if train[col].dtype == 'object']\n",
    "feature_cols = list(test.columns)\n",
    "class CategoricalEncoder:\n",
    "    def __init__(self, train, test):\n",
    "        self.train = train\n",
    "        self.test = test\n",
    "\n",
    "    def frequency_encode(self, cat_cols, feature_cols, drop_org=False):\n",
    "        combined = pd.concat([self.train, self.test], axis=0, ignore_index=True)\n",
    "\n",
    "        new_cat_cols = [] \n",
    "        for col in cat_cols:\n",
    "            freq_encoding = combined[col].value_counts().to_dict()\n",
    "            \n",
    "            self.train[f\"{col}_freq\"] = self.train[col].map(freq_encoding).astype('float')\n",
    "            self.test[f\"{col}_freq\"] = self.test[col].map(freq_encoding).astype('float')\n",
    "\n",
    "            new_col_name = f\"{col}_freq\"\n",
    "            new_cat_cols.append(new_col_name)\n",
    "            feature_cols.append(new_col_name)\n",
    "            if drop_org:\n",
    "                feature_cols.remove(col)\n",
    "\n",
    "        return self.train, self.test, new_cat_cols, feature_cols\n",
    "encoder = CategoricalEncoder(train, test)\n",
    "train, test, cat_cols, feature_cols = encoder.frequency_encode(cat_cols, feature_cols, drop_org=True)\n",
    "\n",
    "train = train[feature_cols + ['Premium Amount']]\n",
    "test = test[feature_cols]"
   ]
  },
  {
   "cell_type": "code",
   "execution_count": 5,
   "id": "a771d6d8",
   "metadata": {
    "execution": {
     "iopub.execute_input": "2024-12-05T06:05:45.439799Z",
     "iopub.status.busy": "2024-12-05T06:05:45.439503Z",
     "iopub.status.idle": "2024-12-05T06:05:45.608666Z",
     "shell.execute_reply": "2024-12-05T06:05:45.607971Z"
    },
    "papermill": {
     "duration": 0.175163,
     "end_time": "2024-12-05T06:05:45.610581",
     "exception": false,
     "start_time": "2024-12-05T06:05:45.435418",
     "status": "completed"
    },
    "tags": []
   },
   "outputs": [],
   "source": [
    "X = train.drop('Premium Amount', axis=1)  \n",
    "y = train['Premium Amount']\n",
    "\n",
    "y_log = np.log1p(y)\n",
    "def rmsle(y_true, y_pred):\n",
    "    return np.sqrt(mean_squared_log_error(y_true, y_pred))"
   ]
  },
  {
   "cell_type": "code",
   "execution_count": 6,
   "id": "024607bc",
   "metadata": {
    "execution": {
     "iopub.execute_input": "2024-12-05T06:05:45.620108Z",
     "iopub.status.busy": "2024-12-05T06:05:45.619468Z",
     "iopub.status.idle": "2024-12-05T06:19:53.106609Z",
     "shell.execute_reply": "2024-12-05T06:19:53.105874Z"
    },
    "papermill": {
     "duration": 847.493451,
     "end_time": "2024-12-05T06:19:53.108704",
     "exception": false,
     "start_time": "2024-12-05T06:05:45.615253",
     "status": "completed"
    },
    "tags": []
   },
   "outputs": [
    {
     "name": "stderr",
     "output_type": "stream",
     "text": [
      "[I 2024-12-05 06:05:45,727] A new study created in memory with name: no-name-c2fcb635-69a5-4fdf-939e-5285e0da8ab1\n"
     ]
    },
    {
     "name": "stdout",
     "output_type": "stream",
     "text": [
      "  Fold 1\n",
      "    Fold 1 RMSLE: 1.0466\n",
      "  Fold 2\n",
      "    Fold 2 RMSLE: 1.0457\n",
      "  Fold 3\n",
      "    Fold 3 RMSLE: 1.0467\n",
      "  Fold 4\n",
      "    Fold 4 RMSLE: 1.0447\n",
      "  Fold 5\n"
     ]
    },
    {
     "name": "stderr",
     "output_type": "stream",
     "text": [
      "[I 2024-12-05 06:06:36,103] Trial 0 finished with value: 1.0459571931124476 and parameters: {'n_estimators': 1000, 'learning_rate': 0.05, 'max_depth': 8, 'subsample': 1.0, 'colsample_bytree': 0.7, 'min_child_weight': 1, 'gamma': 0.3, 'reg_alpha': 0.0, 'reg_lambda': 1.0}. Best is trial 0 with value: 1.0459571931124476.\n"
     ]
    },
    {
     "name": "stdout",
     "output_type": "stream",
     "text": [
      "    Fold 5 RMSLE: 1.0462\n",
      "Mean RMSLE: 1.0460\n",
      "  Fold 1\n",
      "    Fold 1 RMSLE: 1.0484\n",
      "  Fold 2\n",
      "    Fold 2 RMSLE: 1.0472\n",
      "  Fold 3\n",
      "    Fold 3 RMSLE: 1.0480\n",
      "  Fold 4\n",
      "    Fold 4 RMSLE: 1.0463\n",
      "  Fold 5\n"
     ]
    },
    {
     "name": "stderr",
     "output_type": "stream",
     "text": [
      "[I 2024-12-05 06:08:34,799] Trial 1 finished with value: 1.0475079773818377 and parameters: {'n_estimators': 2000, 'learning_rate': 0.03, 'max_depth': 4, 'subsample': 0.7, 'colsample_bytree': 1.0, 'min_child_weight': 2, 'gamma': 0.2, 'reg_alpha': 0.07, 'reg_lambda': 0.0}. Best is trial 0 with value: 1.0459571931124476.\n"
     ]
    },
    {
     "name": "stdout",
     "output_type": "stream",
     "text": [
      "    Fold 5 RMSLE: 1.0477\n",
      "Mean RMSLE: 1.0475\n",
      "  Fold 1\n",
      "    Fold 1 RMSLE: 1.0468\n",
      "  Fold 2\n",
      "    Fold 2 RMSLE: 1.0460\n",
      "  Fold 3\n",
      "    Fold 3 RMSLE: 1.0467\n",
      "  Fold 4\n",
      "    Fold 4 RMSLE: 1.0448\n",
      "  Fold 5\n"
     ]
    },
    {
     "name": "stderr",
     "output_type": "stream",
     "text": [
      "[I 2024-12-05 06:09:54,769] Trial 2 finished with value: 1.0461305118361302 and parameters: {'n_estimators': 1000, 'learning_rate': 0.03, 'max_depth': 10, 'subsample': 0.7, 'colsample_bytree': 1.0, 'min_child_weight': 1, 'gamma': 0.1, 'reg_alpha': 0.1, 'reg_lambda': 0.30000000000000004}. Best is trial 0 with value: 1.0459571931124476.\n"
     ]
    },
    {
     "name": "stdout",
     "output_type": "stream",
     "text": [
      "    Fold 5 RMSLE: 1.0464\n",
      "Mean RMSLE: 1.0461\n",
      "  Fold 1\n",
      "    Fold 1 RMSLE: 1.0486\n",
      "  Fold 2\n",
      "    Fold 2 RMSLE: 1.0474\n",
      "  Fold 3\n",
      "    Fold 3 RMSLE: 1.0482\n",
      "  Fold 4\n",
      "    Fold 4 RMSLE: 1.0466\n",
      "  Fold 5\n"
     ]
    },
    {
     "name": "stderr",
     "output_type": "stream",
     "text": [
      "[I 2024-12-05 06:11:00,249] Trial 3 finished with value: 1.0477177004816256 and parameters: {'n_estimators': 1000, 'learning_rate': 0.03, 'max_depth': 4, 'subsample': 0.8999999999999999, 'colsample_bytree': 1.0, 'min_child_weight': 4, 'gamma': 0.3, 'reg_alpha': 0.06, 'reg_lambda': 0.2}. Best is trial 0 with value: 1.0459571931124476.\n"
     ]
    },
    {
     "name": "stdout",
     "output_type": "stream",
     "text": [
      "    Fold 5 RMSLE: 1.0478\n",
      "Mean RMSLE: 1.0477\n",
      "  Fold 1\n",
      "    Fold 1 RMSLE: 1.0464\n",
      "  Fold 2\n",
      "    Fold 2 RMSLE: 1.0457\n",
      "  Fold 3\n",
      "    Fold 3 RMSLE: 1.0463\n",
      "  Fold 4\n",
      "    Fold 4 RMSLE: 1.0446\n",
      "  Fold 5\n"
     ]
    },
    {
     "name": "stderr",
     "output_type": "stream",
     "text": [
      "[I 2024-12-05 06:11:54,964] Trial 4 finished with value: 1.045793759983385 and parameters: {'n_estimators': 3000, 'learning_rate': 0.05, 'max_depth': 8, 'subsample': 0.7, 'colsample_bytree': 0.8999999999999999, 'min_child_weight': 3, 'gamma': 0.1, 'reg_alpha': 0.07, 'reg_lambda': 0.1}. Best is trial 4 with value: 1.045793759983385.\n"
     ]
    },
    {
     "name": "stdout",
     "output_type": "stream",
     "text": [
      "    Fold 5 RMSLE: 1.0460\n",
      "Mean RMSLE: 1.0458\n",
      "  Fold 1\n",
      "    Fold 1 RMSLE: 1.0472\n",
      "  Fold 2\n",
      "    Fold 2 RMSLE: 1.0465\n",
      "  Fold 3\n",
      "    Fold 3 RMSLE: 1.0470\n",
      "  Fold 4\n",
      "    Fold 4 RMSLE: 1.0452\n",
      "  Fold 5\n"
     ]
    },
    {
     "name": "stderr",
     "output_type": "stream",
     "text": [
      "[I 2024-12-05 06:13:09,371] Trial 5 finished with value: 1.0465581341640784 and parameters: {'n_estimators': 1000, 'learning_rate': 0.05, 'max_depth': 10, 'subsample': 0.7999999999999999, 'colsample_bytree': 0.7999999999999999, 'min_child_weight': 3, 'gamma': 0.3, 'reg_alpha': 0.04, 'reg_lambda': 0.0}. Best is trial 4 with value: 1.045793759983385.\n"
     ]
    },
    {
     "name": "stdout",
     "output_type": "stream",
     "text": [
      "    Fold 5 RMSLE: 1.0469\n",
      "Mean RMSLE: 1.0466\n",
      "  Fold 1\n",
      "    Fold 1 RMSLE: 1.0477\n",
      "  Fold 2\n",
      "    Fold 2 RMSLE: 1.0467\n",
      "  Fold 3\n",
      "    Fold 3 RMSLE: 1.0477\n",
      "  Fold 4\n",
      "    Fold 4 RMSLE: 1.0457\n",
      "  Fold 5\n"
     ]
    },
    {
     "name": "stderr",
     "output_type": "stream",
     "text": [
      "[I 2024-12-05 06:14:31,642] Trial 6 finished with value: 1.0469906280926007 and parameters: {'n_estimators': 1000, 'learning_rate': 0.05, 'max_depth': 10, 'subsample': 0.7999999999999999, 'colsample_bytree': 0.7, 'min_child_weight': 4, 'gamma': 0.0, 'reg_alpha': 0.07, 'reg_lambda': 0.5}. Best is trial 4 with value: 1.045793759983385.\n"
     ]
    },
    {
     "name": "stdout",
     "output_type": "stream",
     "text": [
      "    Fold 5 RMSLE: 1.0472\n",
      "Mean RMSLE: 1.0470\n",
      "  Fold 1\n",
      "    Fold 1 RMSLE: 1.0467\n",
      "  Fold 2\n",
      "    Fold 2 RMSLE: 1.0457\n",
      "  Fold 3\n",
      "    Fold 3 RMSLE: 1.0467\n",
      "  Fold 4\n",
      "    Fold 4 RMSLE: 1.0448\n",
      "  Fold 5\n"
     ]
    },
    {
     "name": "stderr",
     "output_type": "stream",
     "text": [
      "[I 2024-12-05 06:15:21,337] Trial 7 finished with value: 1.0460811427044114 and parameters: {'n_estimators': 3000, 'learning_rate': 0.05, 'max_depth': 6, 'subsample': 1.0, 'colsample_bytree': 1.0, 'min_child_weight': 2, 'gamma': 0.3, 'reg_alpha': 0.03, 'reg_lambda': 0.1}. Best is trial 4 with value: 1.045793759983385.\n"
     ]
    },
    {
     "name": "stdout",
     "output_type": "stream",
     "text": [
      "    Fold 5 RMSLE: 1.0464\n",
      "Mean RMSLE: 1.0461\n",
      "  Fold 1\n",
      "    Fold 1 RMSLE: 1.0465\n",
      "  Fold 2\n",
      "    Fold 2 RMSLE: 1.0456\n",
      "  Fold 3\n",
      "    Fold 3 RMSLE: 1.0466\n",
      "  Fold 4\n",
      "    Fold 4 RMSLE: 1.0446\n",
      "  Fold 5\n"
     ]
    },
    {
     "name": "stderr",
     "output_type": "stream",
     "text": [
      "[I 2024-12-05 06:17:50,942] Trial 8 finished with value: 1.045891285939501 and parameters: {'n_estimators': 2000, 'learning_rate': 0.01, 'max_depth': 6, 'subsample': 0.7999999999999999, 'colsample_bytree': 0.8999999999999999, 'min_child_weight': 3, 'gamma': 0.2, 'reg_alpha': 0.0, 'reg_lambda': 0.6000000000000001}. Best is trial 4 with value: 1.045793759983385.\n"
     ]
    },
    {
     "name": "stdout",
     "output_type": "stream",
     "text": [
      "    Fold 5 RMSLE: 1.0461\n",
      "Mean RMSLE: 1.0459\n",
      "  Fold 1\n",
      "    Fold 1 RMSLE: 1.0501\n",
      "  Fold 2\n",
      "    Fold 2 RMSLE: 1.0488\n",
      "  Fold 3\n",
      "    Fold 3 RMSLE: 1.0496\n",
      "  Fold 4\n",
      "    Fold 4 RMSLE: 1.0481\n",
      "  Fold 5\n"
     ]
    },
    {
     "name": "stderr",
     "output_type": "stream",
     "text": [
      "[I 2024-12-05 06:18:55,462] Trial 9 finished with value: 1.0492030550143006 and parameters: {'n_estimators': 1000, 'learning_rate': 0.01, 'max_depth': 4, 'subsample': 1.0, 'colsample_bytree': 0.7999999999999999, 'min_child_weight': 5, 'gamma': 0.2, 'reg_alpha': 0.09, 'reg_lambda': 0.8}. Best is trial 4 with value: 1.045793759983385.\n"
     ]
    },
    {
     "name": "stdout",
     "output_type": "stream",
     "text": [
      "    Fold 5 RMSLE: 1.0494\n",
      "Mean RMSLE: 1.0492\n",
      "\n",
      "Best Parameters: {'n_estimators': 3000, 'learning_rate': 0.05, 'max_depth': 8, 'subsample': 0.7, 'colsample_bytree': 0.8999999999999999, 'min_child_weight': 3, 'gamma': 0.1, 'reg_alpha': 0.07, 'reg_lambda': 0.1}\n",
      "Best RMSLE: 1.0458\n",
      "Final Model Training - Fold 1\n",
      "Final Model Training - Fold 2\n",
      "Final Model Training - Fold 3\n",
      "Final Model Training - Fold 4\n",
      "Final Model Training - Fold 5\n"
     ]
    }
   ],
   "source": [
    "import optuna\n",
    "import xgboost as xgb\n",
    "import numpy as np\n",
    "import pandas as pd\n",
    "from sklearn.model_selection import KFold\n",
    "\n",
    "# 定义 RMSLE 评估函数\n",
    "def rmsle(y_true, y_pred):\n",
    "    return np.sqrt(np.mean(np.square(np.log1p(y_true) - np.log1p(y_pred))))\n",
    "\n",
    "# 定义 Optuna 的目标函数\n",
    "def objective(trial, X, y, n_splits=5, random_state=42):\n",
    "    # 定义超参数搜索空间\n",
    "    param = {\n",
    "        'n_estimators': trial.suggest_int('n_estimators', 1000, 3000, step=1000),\n",
    "        'learning_rate': trial.suggest_categorical('learning_rate', [0.01, 0.03, 0.05]),\n",
    "        'max_depth': trial.suggest_int('max_depth', 4, 10, step=2),\n",
    "        'subsample': trial.suggest_float('subsample', 0.7, 1.0, step=0.1),\n",
    "        'colsample_bytree': trial.suggest_float('colsample_bytree', 0.7, 1.0, step=0.1),\n",
    "        'min_child_weight': trial.suggest_int('min_child_weight', 1, 5),\n",
    "        'gamma': trial.suggest_float('gamma', 0, 0.3, step=0.1),\n",
    "        'reg_alpha': trial.suggest_float('reg_alpha', 0, 0.1, step=0.01),\n",
    "        'reg_lambda': trial.suggest_float('reg_lambda', 0, 1.0, step=0.1),\n",
    "    }\n",
    "\n",
    "    kf = KFold(n_splits=n_splits, shuffle=True, random_state=random_state)\n",
    "    oof = np.zeros(len(X))\n",
    "    fold_scores = []\n",
    "\n",
    "    for fold, (train_idx, valid_idx) in enumerate(kf.split(X)):\n",
    "        print(f\"  Fold {fold + 1}\")\n",
    "        X_train, X_valid = X.iloc[train_idx], X.iloc[valid_idx]\n",
    "        y_train, y_valid = np.log1p(y.iloc[train_idx]), np.log1p(y.iloc[valid_idx])\n",
    "\n",
    "        model = xgb.XGBRegressor(\n",
    "            **param,\n",
    "            objective='reg:squarederror',\n",
    "            random_state=random_state,\n",
    "            eval_metric=\"rmse\",\n",
    "            verbosity=0,\n",
    "            tree_method='gpu_hist',  # 使用 GPU 加速\n",
    "            booster='gbtree',\n",
    "        )\n",
    "        \n",
    "        model.fit(\n",
    "            X_train, y_train,\n",
    "            eval_set=[(X_valid, y_valid)],\n",
    "            early_stopping_rounds=300,\n",
    "            verbose=False,\n",
    "        )\n",
    "\n",
    "        # 预测和评估\n",
    "        oof[valid_idx] = np.maximum(0, model.predict(X_valid))\n",
    "        fold_rmsle = rmsle(np.expm1(y_valid), np.expm1(oof[valid_idx]))\n",
    "        fold_scores.append(fold_rmsle)\n",
    "\n",
    "        print(f\"    Fold {fold + 1} RMSLE: {fold_rmsle:.4f}\")\n",
    "\n",
    "    mean_score = np.mean(fold_scores)\n",
    "    print(f\"Mean RMSLE: {mean_score:.4f}\")\n",
    "    \n",
    "    return mean_score\n",
    "\n",
    "# 使用 Optuna 进行超参数优化\n",
    "def optimize_hyperparameters(X, y, n_trials=10, n_splits=5):\n",
    "    study = optuna.create_study(direction='minimize')  # 目标是最小化 RMSLE\n",
    "    study.optimize(lambda trial: objective(trial, X, y, n_splits), n_trials=n_trials)\n",
    "    \n",
    "    print(\"\\nBest Parameters:\", study.best_params)\n",
    "    print(f\"Best RMSLE: {study.best_value:.4f}\")\n",
    "    return study.best_params, study.best_value, study\n",
    "\n",
    "# 执行超参数优化\n",
    "best_params, best_rmsle, study = optimize_hyperparameters(X, y)\n",
    "\n",
    "# 使用最佳参数训练最终模型\n",
    "kf = KFold(n_splits=5, shuffle=True, random_state=42)\n",
    "models = []\n",
    "for fold, (train_idx, valid_idx) in enumerate(kf.split(X)):\n",
    "    print(f\"Final Model Training - Fold {fold + 1}\")\n",
    "    X_train, X_valid = X.iloc[train_idx], X.iloc[valid_idx]\n",
    "    y_train, y_valid = np.log1p(y.iloc[train_idx]), np.log1p(y.iloc[valid_idx])\n",
    "\n",
    "    model = xgb.XGBRegressor(\n",
    "        **best_params,\n",
    "        objective='reg:squarederror',\n",
    "        random_state=42,\n",
    "        eval_metric=\"rmse\",\n",
    "        tree_method='gpu_hist',\n",
    "        booster='gbtree',\n",
    "    )\n",
    "    \n",
    "    model.fit(\n",
    "        X_train, y_train,\n",
    "        eval_set=[(X_valid, y_valid)],\n",
    "        early_stopping_rounds=300,\n",
    "        verbose=False,\n",
    "    )\n",
    "    models.append(model)\n",
    "\n",
    "# 对测试集进行预测\n",
    "test_predictions = np.zeros(len(test))\n",
    "for model in models:\n",
    "    test_predictions += np.maximum(0, np.expm1(model.predict(test))) / len(models)\n",
    "\n",
    "# 将预测结果保存到 CSV 文件\n",
    "sample['Premium Amount'] = test_predictions\n",
    "sample.to_csv('submission_xgb_optuna.csv', index=False)"
   ]
  },
  {
   "cell_type": "code",
   "execution_count": 7,
   "id": "60dce263",
   "metadata": {
    "execution": {
     "iopub.execute_input": "2024-12-05T06:19:53.122485Z",
     "iopub.status.busy": "2024-12-05T06:19:53.121927Z",
     "iopub.status.idle": "2024-12-05T06:38:53.288118Z",
     "shell.execute_reply": "2024-12-05T06:38:53.287368Z"
    },
    "papermill": {
     "duration": 1140.175274,
     "end_time": "2024-12-05T06:38:53.290210",
     "exception": false,
     "start_time": "2024-12-05T06:19:53.114936",
     "status": "completed"
    },
    "tags": []
   },
   "outputs": [
    {
     "name": "stderr",
     "output_type": "stream",
     "text": [
      "[I 2024-12-05 06:19:53,131] A new study created in memory with name: no-name-f7ff8fe6-ad6d-481d-93ae-70a083ecea34\n"
     ]
    },
    {
     "name": "stdout",
     "output_type": "stream",
     "text": [
      "  Fold 1\n",
      "    Fold 1 RMSLE: 1.0484\n",
      "  Fold 2\n",
      "    Fold 2 RMSLE: 1.0476\n",
      "  Fold 3\n",
      "    Fold 3 RMSLE: 1.0483\n",
      "  Fold 4\n",
      "    Fold 4 RMSLE: 1.0465\n",
      "  Fold 5\n"
     ]
    },
    {
     "name": "stderr",
     "output_type": "stream",
     "text": [
      "[I 2024-12-05 06:21:44,889] Trial 0 finished with value: 1.0477973528039441 and parameters: {'iterations': 4000, 'learning_rate': 0.03, 'depth': 10, 'l2_leaf_reg': 2.0, 'bagging_temperature': 1.0, 'random_strength': 5}. Best is trial 0 with value: 1.0477973528039441.\n"
     ]
    },
    {
     "name": "stdout",
     "output_type": "stream",
     "text": [
      "    Fold 5 RMSLE: 1.0481\n",
      "Mean RMSLE: 1.0478\n",
      "  Fold 1\n",
      "    Fold 1 RMSLE: 1.0487\n",
      "  Fold 2\n",
      "    Fold 2 RMSLE: 1.0478\n",
      "  Fold 3\n",
      "    Fold 3 RMSLE: 1.0486\n",
      "  Fold 4\n",
      "    Fold 4 RMSLE: 1.0467\n",
      "  Fold 5\n"
     ]
    },
    {
     "name": "stderr",
     "output_type": "stream",
     "text": [
      "[I 2024-12-05 06:23:53,202] Trial 1 finished with value: 1.04801378883259 and parameters: {'iterations': 3000, 'learning_rate': 0.03, 'depth': 6, 'l2_leaf_reg': 2.0, 'bagging_temperature': 1.0, 'random_strength': 5}. Best is trial 0 with value: 1.0477973528039441.\n"
     ]
    },
    {
     "name": "stdout",
     "output_type": "stream",
     "text": [
      "    Fold 5 RMSLE: 1.0482\n",
      "Mean RMSLE: 1.0480\n",
      "  Fold 1\n",
      "    Fold 1 RMSLE: 1.0488\n",
      "  Fold 2\n",
      "    Fold 2 RMSLE: 1.0479\n",
      "  Fold 3\n",
      "    Fold 3 RMSLE: 1.0487\n",
      "  Fold 4\n",
      "    Fold 4 RMSLE: 1.0468\n",
      "  Fold 5\n"
     ]
    },
    {
     "name": "stderr",
     "output_type": "stream",
     "text": [
      "[I 2024-12-05 06:26:56,636] Trial 2 finished with value: 1.0481011570688605 and parameters: {'iterations': 3000, 'learning_rate': 0.01, 'depth': 8, 'l2_leaf_reg': 0.7, 'bagging_temperature': 1.5, 'random_strength': 4}. Best is trial 0 with value: 1.0477973528039441.\n"
     ]
    },
    {
     "name": "stdout",
     "output_type": "stream",
     "text": [
      "    Fold 5 RMSLE: 1.0483\n",
      "Mean RMSLE: 1.0481\n",
      "  Fold 1\n",
      "    Fold 1 RMSLE: 1.0503\n",
      "  Fold 2\n",
      "    Fold 2 RMSLE: 1.0495\n",
      "  Fold 3\n",
      "    Fold 3 RMSLE: 1.0504\n",
      "  Fold 4\n",
      "    Fold 4 RMSLE: 1.0484\n",
      "  Fold 5\n"
     ]
    },
    {
     "name": "stderr",
     "output_type": "stream",
     "text": [
      "[I 2024-12-05 06:28:34,413] Trial 3 finished with value: 1.0497324626191733 and parameters: {'iterations': 3000, 'learning_rate': 0.03, 'depth': 4, 'l2_leaf_reg': 2.0, 'bagging_temperature': 1.0, 'random_strength': 1}. Best is trial 0 with value: 1.0477973528039441.\n"
     ]
    },
    {
     "name": "stdout",
     "output_type": "stream",
     "text": [
      "    Fold 5 RMSLE: 1.0499\n",
      "Mean RMSLE: 1.0497\n",
      "  Fold 1\n",
      "    Fold 1 RMSLE: 1.0487\n",
      "  Fold 2\n",
      "    Fold 2 RMSLE: 1.0479\n",
      "  Fold 3\n",
      "    Fold 3 RMSLE: 1.0487\n",
      "  Fold 4\n",
      "    Fold 4 RMSLE: 1.0469\n",
      "  Fold 5\n"
     ]
    },
    {
     "name": "stderr",
     "output_type": "stream",
     "text": [
      "[I 2024-12-05 06:31:25,950] Trial 4 finished with value: 1.0480893259116144 and parameters: {'iterations': 4000, 'learning_rate': 0.01, 'depth': 6, 'l2_leaf_reg': 0.5, 'bagging_temperature': 1.0, 'random_strength': 1}. Best is trial 0 with value: 1.0477973528039441.\n"
     ]
    },
    {
     "name": "stdout",
     "output_type": "stream",
     "text": [
      "    Fold 5 RMSLE: 1.0483\n",
      "Mean RMSLE: 1.0481\n",
      "  Fold 1\n",
      "    Fold 1 RMSLE: 1.0479\n",
      "  Fold 2\n",
      "    Fold 2 RMSLE: 1.0472\n",
      "  Fold 3\n",
      "    Fold 3 RMSLE: 1.0479\n",
      "  Fold 4\n",
      "    Fold 4 RMSLE: 1.0461\n",
      "  Fold 5\n"
     ]
    },
    {
     "name": "stderr",
     "output_type": "stream",
     "text": [
      "[I 2024-12-05 06:32:56,698] Trial 5 finished with value: 1.0473814579387084 and parameters: {'iterations': 2000, 'learning_rate': 0.03, 'depth': 8, 'l2_leaf_reg': 0.5, 'bagging_temperature': 0.5, 'random_strength': 5}. Best is trial 5 with value: 1.0473814579387084.\n"
     ]
    },
    {
     "name": "stdout",
     "output_type": "stream",
     "text": [
      "    Fold 5 RMSLE: 1.0477\n",
      "Mean RMSLE: 1.0474\n",
      "  Fold 1\n",
      "    Fold 1 RMSLE: 1.0529\n",
      "  Fold 2\n",
      "    Fold 2 RMSLE: 1.0519\n",
      "  Fold 3\n",
      "    Fold 3 RMSLE: 1.0527\n",
      "  Fold 4\n",
      "    Fold 4 RMSLE: 1.0511\n",
      "  Fold 5\n"
     ]
    },
    {
     "name": "stderr",
     "output_type": "stream",
     "text": [
      "[I 2024-12-05 06:34:03,129] Trial 6 finished with value: 1.0521858950185368 and parameters: {'iterations': 2000, 'learning_rate': 0.01, 'depth': 4, 'l2_leaf_reg': 0.7, 'bagging_temperature': 1.5, 'random_strength': 2}. Best is trial 5 with value: 1.0473814579387084.\n"
     ]
    },
    {
     "name": "stdout",
     "output_type": "stream",
     "text": [
      "    Fold 5 RMSLE: 1.0523\n",
      "Mean RMSLE: 1.0522\n",
      "  Fold 1\n",
      "    Fold 1 RMSLE: 1.0484\n",
      "  Fold 2\n",
      "    Fold 2 RMSLE: 1.0475\n",
      "  Fold 3\n",
      "    Fold 3 RMSLE: 1.0483\n",
      "  Fold 4\n",
      "    Fold 4 RMSLE: 1.0465\n",
      "  Fold 5\n"
     ]
    },
    {
     "name": "stderr",
     "output_type": "stream",
     "text": [
      "[I 2024-12-05 06:35:51,509] Trial 7 finished with value: 1.0477764967531982 and parameters: {'iterations': 4000, 'learning_rate': 0.03, 'depth': 10, 'l2_leaf_reg': 0.5, 'bagging_temperature': 1.0, 'random_strength': 4}. Best is trial 5 with value: 1.0473814579387084.\n"
     ]
    },
    {
     "name": "stdout",
     "output_type": "stream",
     "text": [
      "    Fold 5 RMSLE: 1.0481\n",
      "Mean RMSLE: 1.0478\n",
      "  Fold 1\n",
      "    Fold 1 RMSLE: 1.0485\n",
      "  Fold 2\n",
      "    Fold 2 RMSLE: 1.0477\n",
      "  Fold 3\n",
      "    Fold 3 RMSLE: 1.0486\n",
      "  Fold 4\n",
      "    Fold 4 RMSLE: 1.0464\n",
      "  Fold 5\n"
     ]
    },
    {
     "name": "stderr",
     "output_type": "stream",
     "text": [
      "[I 2024-12-05 06:37:02,892] Trial 8 finished with value: 1.047863843684337 and parameters: {'iterations': 2000, 'learning_rate': 0.05, 'depth': 10, 'l2_leaf_reg': 1.0, 'bagging_temperature': 1.0, 'random_strength': 3}. Best is trial 5 with value: 1.0473814579387084.\n"
     ]
    },
    {
     "name": "stdout",
     "output_type": "stream",
     "text": [
      "    Fold 5 RMSLE: 1.0481\n",
      "Mean RMSLE: 1.0479\n",
      "  Fold 1\n",
      "    Fold 1 RMSLE: 1.0491\n",
      "  Fold 2\n",
      "    Fold 2 RMSLE: 1.0483\n",
      "  Fold 3\n",
      "    Fold 3 RMSLE: 1.0491\n",
      "  Fold 4\n",
      "    Fold 4 RMSLE: 1.0472\n",
      "  Fold 5\n"
     ]
    },
    {
     "name": "stderr",
     "output_type": "stream",
     "text": [
      "[I 2024-12-05 06:38:24,361] Trial 9 finished with value: 1.0485086607961898 and parameters: {'iterations': 2000, 'learning_rate': 0.05, 'depth': 6, 'l2_leaf_reg': 1.0, 'bagging_temperature': 1.5, 'random_strength': 3}. Best is trial 5 with value: 1.0473814579387084.\n"
     ]
    },
    {
     "name": "stdout",
     "output_type": "stream",
     "text": [
      "    Fold 5 RMSLE: 1.0488\n",
      "Mean RMSLE: 1.0485\n",
      "\n",
      "Best Parameters: {'iterations': 2000, 'learning_rate': 0.03, 'depth': 8, 'l2_leaf_reg': 0.5, 'bagging_temperature': 0.5, 'random_strength': 5}\n",
      "Best RMSLE: 1.0474\n"
     ]
    }
   ],
   "source": [
    "import optuna\n",
    "from catboost import CatBoostRegressor\n",
    "import numpy as np\n",
    "import pandas as pd\n",
    "from sklearn.model_selection import KFold\n",
    "\n",
    "# 定义 RMSLE 评估函数\n",
    "def rmsle(y_true, y_pred):\n",
    "    return np.sqrt(np.mean(np.square(np.log1p(y_true) - np.log1p(y_pred))))\n",
    "\n",
    "# 定义目标函数\n",
    "def objective(trial, X, y, n_splits=1, random_state=42):\n",
    "    # 定义超参数搜索空间\n",
    "    param = {\n",
    "        'iterations': trial.suggest_int('iterations', 2000, 4000, step=1000),\n",
    "        'learning_rate': trial.suggest_categorical('learning_rate', [0.01, 0.03, 0.05]),\n",
    "        'depth': trial.suggest_int('depth', 4, 10, step=2),\n",
    "        'l2_leaf_reg': trial.suggest_categorical('l2_leaf_reg', [0.5, 0.7, 1.0, 2.0]),\n",
    "        'bagging_temperature': trial.suggest_categorical('bagging_temperature', [0.5, 1.0, 1.5]),\n",
    "        'random_strength': trial.suggest_int('random_strength', 1, 5),\n",
    "    }\n",
    "\n",
    "    kf = KFold(n_splits=n_splits, shuffle=True, random_state=random_state)\n",
    "    oof = np.zeros(len(X))\n",
    "    fold_scores = []\n",
    "\n",
    "    for fold, (train_idx, valid_idx) in enumerate(kf.split(X)):\n",
    "        print(f\"  Fold {fold + 1}\")\n",
    "        X_train, X_valid = X.iloc[train_idx], X.iloc[valid_idx]\n",
    "        y_train, y_valid = np.log1p(y.iloc[train_idx]), np.log1p(y.iloc[valid_idx])\n",
    "\n",
    "        model = CatBoostRegressor(\n",
    "            **param,\n",
    "            random_seed=random_state,\n",
    "            eval_metric=\"RMSE\",\n",
    "            verbose=0,\n",
    "            task_type='GPU',\n",
    "        )\n",
    "        \n",
    "        model.fit(\n",
    "            X_train, y_train,\n",
    "            eval_set=(X_valid, y_valid),\n",
    "            early_stopping_rounds=300,\n",
    "        )\n",
    "\n",
    "        # 预测和评估\n",
    "        oof[valid_idx] = np.maximum(0, model.predict(X_valid))\n",
    "        fold_rmsle = rmsle(np.expm1(y_valid), np.expm1(oof[valid_idx]))\n",
    "        fold_scores.append(fold_rmsle)\n",
    "\n",
    "        print(f\"    Fold {fold + 1} RMSLE: {fold_rmsle:.4f}\")\n",
    "\n",
    "    mean_score = np.mean(fold_scores)\n",
    "    print(f\"Mean RMSLE: {mean_score:.4f}\")\n",
    "    \n",
    "    return mean_score\n",
    "\n",
    "# 使用 Optuna 进行超参数优化\n",
    "def optimize_hyperparameters(X, y, n_trials=10, n_splits=5):\n",
    "    study = optuna.create_study(direction='minimize')  # 目标是最小化 RMSLE\n",
    "    study.optimize(lambda trial: objective(trial, X, y, n_splits), n_trials=n_trials)\n",
    "    \n",
    "    print(\"\\nBest Parameters:\", study.best_params)\n",
    "    print(f\"Best RMSLE: {study.best_value:.4f}\")\n",
    "    return study.best_params, study.best_value\n",
    "\n",
    "# 执行超参数优化\n",
    "best_params, best_rmsle = optimize_hyperparameters(X, y)\n",
    "\n",
    "# 使用最佳参数训练最终模型\n",
    "final_model = CatBoostRegressor(\n",
    "    **best_params,\n",
    "    random_seed=42,\n",
    "    eval_metric=\"RMSE\",\n",
    "    verbose=0,\n",
    "    task_type='GPU',\n",
    ")\n",
    "\n",
    "# 在整个训练集上训练最终模型\n",
    "final_model.fit(X, np.log1p(y))\n",
    "\n",
    "# 对测试集进行预测\n",
    "test_predictions = np.maximum(0, np.expm1(final_model.predict(test)))  # 预测并还原数据\n",
    "\n",
    "# 将预测结果保存到 CSV 文件\n",
    "sample_submission = pd.read_csv('/kaggle/input/playground-series-s4e12/sample_submission.csv')  # 替换为你的样本文件路径\n",
    "sample_submission['Premium Amount'] = test_predictions\n",
    "\n",
    "# 保存预测结果\n",
    "sample_submission.to_csv('submission_optuna_catboost.csv', index=False)"
   ]
  },
  {
   "cell_type": "code",
   "execution_count": 8,
   "id": "76a025aa",
   "metadata": {
    "execution": {
     "iopub.execute_input": "2024-12-05T06:38:53.309252Z",
     "iopub.status.busy": "2024-12-05T06:38:53.308936Z",
     "iopub.status.idle": "2024-12-05T06:38:55.019473Z",
     "shell.execute_reply": "2024-12-05T06:38:55.018488Z"
    },
    "papermill": {
     "duration": 1.72231,
     "end_time": "2024-12-05T06:38:55.021369",
     "exception": false,
     "start_time": "2024-12-05T06:38:53.299059",
     "status": "completed"
    },
    "tags": []
   },
   "outputs": [
    {
     "name": "stdout",
     "output_type": "stream",
     "text": [
      "        id  Premium Amount\n",
      "0  1200000      793.580108\n",
      "1  1200001      798.630011\n",
      "2  1200002      781.575901\n",
      "3  1200003      788.266926\n",
      "4  1200004      746.247652\n"
     ]
    }
   ],
   "source": [
    "import pandas as pd\n",
    "\n",
    "# 加载两个已有的 CSV 文件\n",
    "sample_submission_xgb = pd.read_csv('submission_xgb_optuna.csv')\n",
    "sample_submission_catboost = pd.read_csv('submission_optuna_catboost.csv')\n",
    "\n",
    "# 提取预测结果列 'Premium Amount'\n",
    "xgb_preds = sample_submission_xgb['Premium Amount']\n",
    "catboost_preds = sample_submission_catboost['Premium Amount']\n",
    "\n",
    "# 设置加权系数（例如 1:1 权重）\n",
    "w1, w2 = 0.6, 0.4\n",
    "\n",
    "# 加权融合预测值\n",
    "final_preds = (w1 * xgb_preds + w2 * catboost_preds) / (w1 + w2)\n",
    "\n",
    "# 将融合后的结果存入 DataFrame 中\n",
    "sample_submission_xgb['Premium Amount'] = final_preds\n",
    "\n",
    "# 保存加权融合后的结果为新的 CSV 文件\n",
    "sample_submission_xgb.to_csv('submission_fused6_4.csv', index=False)\n",
    "\n",
    "# 显示前几行结果确认\n",
    "print(sample_submission_xgb.head())\n"
   ]
  },
  {
   "cell_type": "code",
   "execution_count": 9,
   "id": "4ef1ae1d",
   "metadata": {
    "execution": {
     "iopub.execute_input": "2024-12-05T06:38:55.040551Z",
     "iopub.status.busy": "2024-12-05T06:38:55.040207Z",
     "iopub.status.idle": "2024-12-05T06:38:56.770693Z",
     "shell.execute_reply": "2024-12-05T06:38:56.769599Z"
    },
    "papermill": {
     "duration": 1.741665,
     "end_time": "2024-12-05T06:38:56.772406",
     "exception": false,
     "start_time": "2024-12-05T06:38:55.030741",
     "status": "completed"
    },
    "tags": []
   },
   "outputs": [
    {
     "name": "stdout",
     "output_type": "stream",
     "text": [
      "        id  Premium Amount\n",
      "0  1200000      793.082134\n",
      "1  1200001      797.522141\n",
      "2  1200002      784.460864\n",
      "3  1200003      790.074581\n",
      "4  1200004      748.147668\n"
     ]
    }
   ],
   "source": [
    "import pandas as pd\n",
    "\n",
    "# 加载两个已有的 CSV 文件\n",
    "sample_submission_xgb = pd.read_csv('submission_xgb_optuna.csv')\n",
    "sample_submission_catboost = pd.read_csv('submission_optuna_catboost.csv')\n",
    "\n",
    "# 提取预测结果列 'Premium Amount'\n",
    "xgb_preds = sample_submission_xgb['Premium Amount']\n",
    "catboost_preds = sample_submission_catboost['Premium Amount']\n",
    "\n",
    "# 设置加权系数（例如 1:1 权重）\n",
    "w1, w2 = 0.7, 0.3\n",
    "\n",
    "# 加权融合预测值\n",
    "final_preds = (w1 * xgb_preds + w2 * catboost_preds) / (w1 + w2)\n",
    "\n",
    "# 将融合后的结果存入 DataFrame 中\n",
    "sample_submission_xgb['Premium Amount'] = final_preds\n",
    "\n",
    "# 保存加权融合后的结果为新的 CSV 文件\n",
    "sample_submission_xgb.to_csv('submission_fused7_3.csv', index=False)\n",
    "\n",
    "# 显示前几行结果确认\n",
    "print(sample_submission_xgb.head())\n"
   ]
  },
  {
   "cell_type": "code",
   "execution_count": 10,
   "id": "4930b98d",
   "metadata": {
    "execution": {
     "iopub.execute_input": "2024-12-05T06:38:56.791970Z",
     "iopub.status.busy": "2024-12-05T06:38:56.791171Z",
     "iopub.status.idle": "2024-12-05T06:38:58.511263Z",
     "shell.execute_reply": "2024-12-05T06:38:58.510504Z"
    },
    "papermill": {
     "duration": 1.731959,
     "end_time": "2024-12-05T06:38:58.513362",
     "exception": false,
     "start_time": "2024-12-05T06:38:56.781403",
     "status": "completed"
    },
    "tags": []
   },
   "outputs": [
    {
     "name": "stdout",
     "output_type": "stream",
     "text": [
      "        id  Premium Amount\n",
      "0  1200000      792.584159\n",
      "1  1200001      796.414271\n",
      "2  1200002      787.345827\n",
      "3  1200003      791.882235\n",
      "4  1200004      750.047685\n"
     ]
    }
   ],
   "source": [
    "import pandas as pd\n",
    "\n",
    "# 加载两个已有的 CSV 文件\n",
    "sample_submission_xgb = pd.read_csv('submission_xgb_optuna.csv')\n",
    "sample_submission_catboost = pd.read_csv('submission_optuna_catboost.csv')\n",
    "\n",
    "# 提取预测结果列 'Premium Amount'\n",
    "xgb_preds = sample_submission_xgb['Premium Amount']\n",
    "catboost_preds = sample_submission_catboost['Premium Amount']\n",
    "\n",
    "# 设置加权系数（例如 1:1 权重）\n",
    "w1, w2 = 0.8, 0.2\n",
    "\n",
    "# 加权融合预测值\n",
    "final_preds = (w1 * xgb_preds + w2 * catboost_preds) / (w1 + w2)\n",
    "\n",
    "# 将融合后的结果存入 DataFrame 中\n",
    "sample_submission_xgb['Premium Amount'] = final_preds\n",
    "\n",
    "# 保存加权融合后的结果为新的 CSV 文件\n",
    "sample_submission_xgb.to_csv('submission_fused8_2.csv', index=False)\n",
    "\n",
    "# 显示前几行结果确认\n",
    "print(sample_submission_xgb.head())\n"
   ]
  },
  {
   "cell_type": "code",
   "execution_count": 11,
   "id": "3a8b7647",
   "metadata": {
    "execution": {
     "iopub.execute_input": "2024-12-05T06:38:58.533181Z",
     "iopub.status.busy": "2024-12-05T06:38:58.532892Z",
     "iopub.status.idle": "2024-12-05T06:39:00.242374Z",
     "shell.execute_reply": "2024-12-05T06:39:00.241453Z"
    },
    "papermill": {
     "duration": 1.720981,
     "end_time": "2024-12-05T06:39:00.244332",
     "exception": false,
     "start_time": "2024-12-05T06:38:58.523351",
     "status": "completed"
    },
    "tags": []
   },
   "outputs": [
    {
     "name": "stdout",
     "output_type": "stream",
     "text": [
      "        id  Premium Amount\n",
      "0  1200000      792.086185\n",
      "1  1200001      795.306402\n",
      "2  1200002      790.230790\n",
      "3  1200003      793.689889\n",
      "4  1200004      751.947701\n"
     ]
    }
   ],
   "source": [
    "import pandas as pd\n",
    "\n",
    "# 加载两个已有的 CSV 文件\n",
    "sample_submission_xgb = pd.read_csv('submission_xgb_optuna.csv')\n",
    "sample_submission_catboost = pd.read_csv('submission_optuna_catboost.csv')\n",
    "\n",
    "# 提取预测结果列 'Premium Amount'\n",
    "xgb_preds = sample_submission_xgb['Premium Amount']\n",
    "catboost_preds = sample_submission_catboost['Premium Amount']\n",
    "\n",
    "# 设置加权系数（例如 1:1 权重）\n",
    "w1, w2 = 0.9, 0.1\n",
    "\n",
    "# 加权融合预测值\n",
    "final_preds = (w1 * xgb_preds + w2 * catboost_preds) / (w1 + w2)\n",
    "\n",
    "# 将融合后的结果存入 DataFrame 中\n",
    "sample_submission_xgb['Premium Amount'] = final_preds\n",
    "\n",
    "# 保存加权融合后的结果为新的 CSV 文件\n",
    "sample_submission_xgb.to_csv('submission_fused9_1.csv', index=False)\n",
    "\n",
    "# 显示前几行结果确认\n",
    "print(sample_submission_xgb.head())\n"
   ]
  },
  {
   "cell_type": "code",
   "execution_count": 12,
   "id": "9e969c62",
   "metadata": {
    "execution": {
     "iopub.execute_input": "2024-12-05T06:39:00.263339Z",
     "iopub.status.busy": "2024-12-05T06:39:00.262973Z",
     "iopub.status.idle": "2024-12-05T06:39:01.990269Z",
     "shell.execute_reply": "2024-12-05T06:39:01.989261Z"
    },
    "papermill": {
     "duration": 1.738642,
     "end_time": "2024-12-05T06:39:01.992021",
     "exception": false,
     "start_time": "2024-12-05T06:39:00.253379",
     "status": "completed"
    },
    "tags": []
   },
   "outputs": [
    {
     "name": "stdout",
     "output_type": "stream",
     "text": [
      "        id  Premium Amount\n",
      "0  1200000      791.837198\n",
      "1  1200001      794.752467\n",
      "2  1200002      791.673272\n",
      "3  1200003      794.593716\n",
      "4  1200004      752.897709\n"
     ]
    }
   ],
   "source": [
    "import pandas as pd\n",
    "\n",
    "# 加载两个已有的 CSV 文件\n",
    "sample_submission_xgb = pd.read_csv('submission_xgb_optuna.csv')\n",
    "sample_submission_catboost = pd.read_csv('submission_optuna_catboost.csv')\n",
    "\n",
    "# 提取预测结果列 'Premium Amount'\n",
    "xgb_preds = sample_submission_xgb['Premium Amount']\n",
    "catboost_preds = sample_submission_catboost['Premium Amount']\n",
    "\n",
    "# 设置加权系数（例如 1:1 权重）\n",
    "w1, w2 = 0.95, 0.05\n",
    "\n",
    "# 加权融合预测值\n",
    "final_preds = (w1 * xgb_preds + w2 * catboost_preds) / (w1 + w2)\n",
    "\n",
    "# 将融合后的结果存入 DataFrame 中\n",
    "sample_submission_xgb['Premium Amount'] = final_preds\n",
    "\n",
    "# 保存加权融合后的结果为新的 CSV 文件\n",
    "sample_submission_xgb.to_csv('submission_fused95.csv', index=False)\n",
    "\n",
    "# 显示前几行结果确认\n",
    "print(sample_submission_xgb.head())\n"
   ]
  },
  {
   "cell_type": "code",
   "execution_count": null,
   "id": "ceb0aa15",
   "metadata": {
    "papermill": {
     "duration": 0.009074,
     "end_time": "2024-12-05T06:39:02.009980",
     "exception": false,
     "start_time": "2024-12-05T06:39:02.000906",
     "status": "completed"
    },
    "tags": []
   },
   "outputs": [],
   "source": []
  },
  {
   "cell_type": "code",
   "execution_count": null,
   "id": "9cd83306",
   "metadata": {
    "papermill": {
     "duration": 0.0085,
     "end_time": "2024-12-05T06:39:02.028071",
     "exception": false,
     "start_time": "2024-12-05T06:39:02.019571",
     "status": "completed"
    },
    "tags": []
   },
   "outputs": [],
   "source": []
  },
  {
   "cell_type": "code",
   "execution_count": null,
   "id": "ba6378d4",
   "metadata": {
    "papermill": {
     "duration": 0.008387,
     "end_time": "2024-12-05T06:39:02.045293",
     "exception": false,
     "start_time": "2024-12-05T06:39:02.036906",
     "status": "completed"
    },
    "tags": []
   },
   "outputs": [],
   "source": []
  }
 ],
 "metadata": {
  "kaggle": {
   "accelerator": "nvidiaTeslaT4",
   "dataSources": [
    {
     "databundleVersionId": 10305135,
     "sourceId": 84896,
     "sourceType": "competition"
    }
   ],
   "dockerImageVersionId": 30805,
   "isGpuEnabled": true,
   "isInternetEnabled": true,
   "language": "python",
   "sourceType": "notebook"
  },
  "kernelspec": {
   "display_name": "Python 3",
   "language": "python",
   "name": "python3"
  },
  "language_info": {
   "codemirror_mode": {
    "name": "ipython",
    "version": 3
   },
   "file_extension": ".py",
   "mimetype": "text/x-python",
   "name": "python",
   "nbconvert_exporter": "python",
   "pygments_lexer": "ipython3",
   "version": "3.10.14"
  },
  "papermill": {
   "default_parameters": {},
   "duration": 2021.20214,
   "end_time": "2024-12-05T06:39:03.575782",
   "environment_variables": {},
   "exception": null,
   "input_path": "__notebook__.ipynb",
   "output_path": "__notebook__.ipynb",
   "parameters": {},
   "start_time": "2024-12-05T06:05:22.373642",
   "version": "2.6.0"
  }
 },
 "nbformat": 4,
 "nbformat_minor": 5
}
