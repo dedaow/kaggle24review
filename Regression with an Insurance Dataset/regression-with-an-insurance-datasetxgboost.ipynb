{
 "cells": [
  {
   "cell_type": "code",
   "execution_count": 1,
   "id": "5c1b46d3",
   "metadata": {
    "_cell_guid": "b1076dfc-b9ad-4769-8c92-a6c4dae69d19",
    "_uuid": "8f2839f25d086af736a60e9eeb907d3b93b6e0e5",
    "execution": {
     "iopub.execute_input": "2024-12-04T06:04:48.062763Z",
     "iopub.status.busy": "2024-12-04T06:04:48.062419Z",
     "iopub.status.idle": "2024-12-04T06:04:48.837178Z",
     "shell.execute_reply": "2024-12-04T06:04:48.836202Z"
    },
    "papermill": {
     "duration": 0.781267,
     "end_time": "2024-12-04T06:04:48.839010",
     "exception": false,
     "start_time": "2024-12-04T06:04:48.057743",
     "status": "completed"
    },
    "tags": []
   },
   "outputs": [
    {
     "name": "stdout",
     "output_type": "stream",
     "text": [
      "/kaggle/input/playground-series-s4e12/sample_submission.csv\n",
      "/kaggle/input/playground-series-s4e12/train.csv\n",
      "/kaggle/input/playground-series-s4e12/test.csv\n"
     ]
    }
   ],
   "source": [
    "# This Python 3 environment comes with many helpful analytics libraries installed\n",
    "# It is defined by the kaggle/python Docker image: https://github.com/kaggle/docker-python\n",
    "# For example, here's several helpful packages to load\n",
    "\n",
    "import numpy as np # linear algebra\n",
    "import pandas as pd # data processing, CSV file I/O (e.g. pd.read_csv)\n",
    "\n",
    "# Input data files are available in the read-only \"../input/\" directory\n",
    "# For example, running this (by clicking run or pressing Shift+Enter) will list all files under the input directory\n",
    "\n",
    "import os\n",
    "for dirname, _, filenames in os.walk('/kaggle/input'):\n",
    "    for filename in filenames:\n",
    "        print(os.path.join(dirname, filename))\n",
    "\n",
    "# You can write up to 20GB to the current directory (/kaggle/working/) that gets preserved as output when you create a version using \"Save & Run All\" \n",
    "# You can also write temporary files to /kaggle/temp/, but they won't be saved outside of the current session"
   ]
  },
  {
   "cell_type": "markdown",
   "id": "101a791e",
   "metadata": {
    "papermill": {
     "duration": 0.002661,
     "end_time": "2024-12-04T06:04:48.844852",
     "exception": false,
     "start_time": "2024-12-04T06:04:48.842191",
     "status": "completed"
    },
    "tags": []
   },
   "source": [
    "# library gpus"
   ]
  },
  {
   "cell_type": "code",
   "execution_count": 2,
   "id": "50e686b7",
   "metadata": {
    "execution": {
     "iopub.execute_input": "2024-12-04T06:04:48.851725Z",
     "iopub.status.busy": "2024-12-04T06:04:48.851055Z",
     "iopub.status.idle": "2024-12-04T06:04:54.258628Z",
     "shell.execute_reply": "2024-12-04T06:04:54.257400Z"
    },
    "papermill": {
     "duration": 5.412954,
     "end_time": "2024-12-04T06:04:54.260454",
     "exception": false,
     "start_time": "2024-12-04T06:04:48.847500",
     "status": "completed"
    },
    "tags": []
   },
   "outputs": [
    {
     "name": "stdout",
     "output_type": "stream",
     "text": [
      "可用GPU数量: 2\n",
      "GPU 0: Tesla T4\n",
      "显存使用情况: 0.00 MB 已用, 0.00 MB 总分配\n",
      "显存空余: 0.00 字节\n",
      "\n",
      "GPU 1: Tesla T4\n",
      "显存使用情况: 0.00 MB 已用, 0.00 MB 总分配\n",
      "显存空余: 0.00 字节\n",
      "\n"
     ]
    }
   ],
   "source": [
    "import pandas as pd\n",
    "import numpy as np\n",
    "from catboost import CatBoostRegressor\n",
    "from sklearn.model_selection import KFold\n",
    "from sklearn.metrics import mean_squared_log_error\n",
    "from sklearn.preprocessing import LabelEncoder, OrdinalEncoder\n",
    "from sklearn.preprocessing import OneHotEncoder\n",
    "import xgboost as xgb\n",
    "from sklearn.model_selection import ParameterSampler, KFold\n",
    "\n",
    "import warnings\n",
    "warnings.filterwarnings(\"ignore\")\n",
    "\n",
    "import torch\n",
    "\n",
    "def check_gpu_status():\n",
    "    if torch.cuda.is_available():\n",
    "        print(f\"可用GPU数量: {torch.cuda.device_count()}\")\n",
    "        for i in range(torch.cuda.device_count()):\n",
    "            print(f\"GPU {i}: {torch.cuda.get_device_name(i)}\")\n",
    "            print(f\"显存使用情况: {torch.cuda.memory_allocated(i) / 1024**2:.2f} MB 已用, {torch.cuda.memory_reserved(i) / 1024**2:.2f} MB 总分配\")\n",
    "            print(f\"显存空余: {torch.cuda.memory_reserved(i) - torch.cuda.memory_allocated(i):.2f} 字节\\n\")\n",
    "    else:\n",
    "        print(\"未检测到 GPU！\")\n",
    "\n",
    "check_gpu_status()\n",
    "\n"
   ]
  },
  {
   "cell_type": "markdown",
   "id": "219b2b25",
   "metadata": {
    "papermill": {
     "duration": 0.002793,
     "end_time": "2024-12-04T06:04:54.266354",
     "exception": false,
     "start_time": "2024-12-04T06:04:54.263561",
     "status": "completed"
    },
    "tags": []
   },
   "source": [
    "# IMPORT DATA"
   ]
  },
  {
   "cell_type": "code",
   "execution_count": 3,
   "id": "4298994c",
   "metadata": {
    "execution": {
     "iopub.execute_input": "2024-12-04T06:04:54.273659Z",
     "iopub.status.busy": "2024-12-04T06:04:54.273115Z",
     "iopub.status.idle": "2024-12-04T06:05:03.313020Z",
     "shell.execute_reply": "2024-12-04T06:05:03.312108Z"
    },
    "papermill": {
     "duration": 9.045967,
     "end_time": "2024-12-04T06:05:03.315126",
     "exception": false,
     "start_time": "2024-12-04T06:04:54.269159",
     "status": "completed"
    },
    "tags": []
   },
   "outputs": [],
   "source": [
    "\n",
    "train = pd.read_csv(\"/kaggle/input/playground-series-s4e12/train.csv\")\n",
    "test = pd.read_csv(\"/kaggle/input/playground-series-s4e12/test.csv\")\n",
    "\n",
    "sample = pd.read_csv('/kaggle/input/playground-series-s4e12/sample_submission.csv')\n",
    "\n",
    "train.drop('id', axis=1, inplace=True)\n",
    "test.drop('id', axis=1, inplace=True) \n",
    " \n",
    "\n"
   ]
  },
  {
   "cell_type": "markdown",
   "id": "9070f8c1",
   "metadata": {
    "papermill": {
     "duration": 0.002867,
     "end_time": "2024-12-04T06:05:03.322166",
     "exception": false,
     "start_time": "2024-12-04T06:05:03.319299",
     "status": "completed"
    },
    "tags": []
   },
   "source": [
    "# data prosessing"
   ]
  },
  {
   "cell_type": "code",
   "execution_count": 4,
   "id": "314116ae",
   "metadata": {
    "execution": {
     "iopub.execute_input": "2024-12-04T06:05:03.328840Z",
     "iopub.status.busy": "2024-12-04T06:05:03.328558Z",
     "iopub.status.idle": "2024-12-04T06:05:09.661652Z",
     "shell.execute_reply": "2024-12-04T06:05:09.660928Z"
    },
    "papermill": {
     "duration": 6.338673,
     "end_time": "2024-12-04T06:05:09.663689",
     "exception": false,
     "start_time": "2024-12-04T06:05:03.325016",
     "status": "completed"
    },
    "tags": []
   },
   "outputs": [],
   "source": [
    "def date(Df):\n",
    "\n",
    "    Df['Policy Start Date'] = pd.to_datetime(Df['Policy Start Date'])\n",
    "    Df['Year'] = Df['Policy Start Date'].dt.year\n",
    "    Df['Day'] = Df['Policy Start Date'].dt.day\n",
    "    Df['Month'] = Df['Policy Start Date'].dt.month\n",
    "    Df['Month_name'] = Df['Policy Start Date'].dt.month_name()\n",
    "    Df['Day_of_week'] = Df['Policy Start Date'].dt.day_name()\n",
    "    Df['Week'] = Df['Policy Start Date'].dt.isocalendar().week\n",
    "    Df['Year_sin'] = np.sin(2 * np.pi * Df['Year'])\n",
    "    Df['Year_cos'] = np.cos(2 * np.pi * Df['Year'])\n",
    "    Df['Month_sin'] = np.sin(2 * np.pi * Df['Month'] / 12) \n",
    "    Df['Month_cos'] = np.cos(2 * np.pi * Df['Month'] / 12)\n",
    "    Df['Day_sin'] = np.sin(2 * np.pi * Df['Day'] / 31)  \n",
    "    Df['Day_cos'] = np.cos(2 * np.pi * Df['Day'] / 31)\n",
    "    Df['Group']=(Df['Year']-2020)*48+Df['Month']*4+Df['Day']//7\n",
    "    \n",
    "    Df.drop('Policy Start Date', axis=1, inplace=True)\n",
    "\n",
    "    return Df\n",
    "train = date(train)\n",
    "test = date(test)\n",
    "\n",
    "cat_cols = [col for col in train.columns if train[col].dtype == 'object']\n",
    "feature_cols = list(test.columns)\n",
    "class CategoricalEncoder:\n",
    "    def __init__(self, train, test):\n",
    "        self.train = train\n",
    "        self.test = test\n",
    "\n",
    "    def frequency_encode(self, cat_cols, feature_cols, drop_org=False):\n",
    "        combined = pd.concat([self.train, self.test], axis=0, ignore_index=True)\n",
    "\n",
    "        new_cat_cols = [] \n",
    "        for col in cat_cols:\n",
    "            freq_encoding = combined[col].value_counts().to_dict()\n",
    "            \n",
    "            self.train[f\"{col}_freq\"] = self.train[col].map(freq_encoding).astype('float')\n",
    "            self.test[f\"{col}_freq\"] = self.test[col].map(freq_encoding).astype('float')\n",
    "\n",
    "            new_col_name = f\"{col}_freq\"\n",
    "            new_cat_cols.append(new_col_name)\n",
    "            feature_cols.append(new_col_name)\n",
    "            if drop_org:\n",
    "                feature_cols.remove(col)\n",
    "\n",
    "        return self.train, self.test, new_cat_cols, feature_cols\n",
    "encoder = CategoricalEncoder(train, test)\n",
    "train, test, cat_cols, feature_cols = encoder.frequency_encode(cat_cols, feature_cols, drop_org=True)\n",
    "\n",
    "train = train[feature_cols + ['Premium Amount']]\n",
    "test = test[feature_cols]"
   ]
  },
  {
   "cell_type": "code",
   "execution_count": 5,
   "id": "2ee15235",
   "metadata": {
    "execution": {
     "iopub.execute_input": "2024-12-04T06:05:09.670780Z",
     "iopub.status.busy": "2024-12-04T06:05:09.670522Z",
     "iopub.status.idle": "2024-12-04T06:05:09.839965Z",
     "shell.execute_reply": "2024-12-04T06:05:09.839309Z"
    },
    "papermill": {
     "duration": 0.175242,
     "end_time": "2024-12-04T06:05:09.842062",
     "exception": false,
     "start_time": "2024-12-04T06:05:09.666820",
     "status": "completed"
    },
    "tags": []
   },
   "outputs": [],
   "source": [
    "X = train.drop('Premium Amount', axis=1)  \n",
    "y = train['Premium Amount']\n",
    "\n",
    "y_log = np.log1p(y)\n",
    "def rmsle(y_true, y_pred):\n",
    "    return np.sqrt(mean_squared_log_error(y_true, y_pred))"
   ]
  },
  {
   "cell_type": "markdown",
   "id": "741ab291",
   "metadata": {
    "papermill": {
     "duration": 0.002712,
     "end_time": "2024-12-04T06:05:09.847945",
     "exception": false,
     "start_time": "2024-12-04T06:05:09.845233",
     "status": "completed"
    },
    "tags": []
   },
   "source": [
    "# xgboost"
   ]
  },
  {
   "cell_type": "code",
   "execution_count": 6,
   "id": "e21f0008",
   "metadata": {
    "execution": {
     "iopub.execute_input": "2024-12-04T06:05:09.854706Z",
     "iopub.status.busy": "2024-12-04T06:05:09.854447Z",
     "iopub.status.idle": "2024-12-04T06:27:31.581554Z",
     "shell.execute_reply": "2024-12-04T06:27:31.580577Z"
    },
    "papermill": {
     "duration": 1341.733062,
     "end_time": "2024-12-04T06:27:31.583717",
     "exception": false,
     "start_time": "2024-12-04T06:05:09.850655",
     "status": "completed"
    },
    "tags": []
   },
   "outputs": [
    {
     "name": "stdout",
     "output_type": "stream",
     "text": [
      "Search 1/15 with params: {'subsample': 1.0, 'reg_lambda': 0, 'reg_alpha': 0, 'n_estimators': 1000, 'min_child_weight': 3, 'max_depth': 6, 'learning_rate': 0.01, 'gamma': 0.3, 'colsample_bytree': 1.0}\n",
      "  Fold 1\n",
      "    Fold 1 RMSLE: 1.0468\n",
      "  Fold 2\n",
      "    Fold 2 RMSLE: 1.0458\n",
      "  Fold 3\n",
      "    Fold 3 RMSLE: 1.0469\n",
      "  Fold 4\n",
      "    Fold 4 RMSLE: 1.0449\n",
      "  Fold 5\n",
      "    Fold 5 RMSLE: 1.0464\n",
      "Mean RMSLE for Search 1: 1.0461\n",
      "Search 2/15 with params: {'subsample': 0.7, 'reg_lambda': 0, 'reg_alpha': 0, 'n_estimators': 1000, 'min_child_weight': 1, 'max_depth': 6, 'learning_rate': 0.03, 'gamma': 0.3, 'colsample_bytree': 0.8}\n",
      "  Fold 1\n",
      "    Fold 1 RMSLE: 1.0468\n",
      "  Fold 2\n",
      "    Fold 2 RMSLE: 1.0458\n",
      "  Fold 3\n",
      "    Fold 3 RMSLE: 1.0468\n",
      "  Fold 4\n",
      "    Fold 4 RMSLE: 1.0448\n",
      "  Fold 5\n",
      "    Fold 5 RMSLE: 1.0463\n",
      "Mean RMSLE for Search 2: 1.0461\n",
      "Search 3/15 with params: {'subsample': 1.0, 'reg_lambda': 0.1, 'reg_alpha': 0.1, 'n_estimators': 2000, 'min_child_weight': 3, 'max_depth': 10, 'learning_rate': 0.01, 'gamma': 0, 'colsample_bytree': 0.7}\n",
      "  Fold 1\n",
      "    Fold 1 RMSLE: 1.0469\n",
      "  Fold 2\n",
      "    Fold 2 RMSLE: 1.0461\n",
      "  Fold 3\n",
      "    Fold 3 RMSLE: 1.0470\n",
      "  Fold 4\n",
      "    Fold 4 RMSLE: 1.0450\n",
      "  Fold 5\n",
      "    Fold 5 RMSLE: 1.0467\n",
      "Mean RMSLE for Search 3: 1.0463\n",
      "Search 4/15 with params: {'subsample': 1.0, 'reg_lambda': 1.0, 'reg_alpha': 0.01, 'n_estimators': 2000, 'min_child_weight': 1, 'max_depth': 8, 'learning_rate': 0.05, 'gamma': 0.1, 'colsample_bytree': 0.7}\n",
      "  Fold 1\n",
      "    Fold 1 RMSLE: 1.0466\n",
      "  Fold 2\n",
      "    Fold 2 RMSLE: 1.0457\n",
      "  Fold 3\n",
      "    Fold 3 RMSLE: 1.0466\n",
      "  Fold 4\n",
      "    Fold 4 RMSLE: 1.0446\n",
      "  Fold 5\n",
      "    Fold 5 RMSLE: 1.0461\n",
      "Mean RMSLE for Search 4: 1.0459\n",
      "Search 5/15 with params: {'subsample': 1.0, 'reg_lambda': 0, 'reg_alpha': 0, 'n_estimators': 2000, 'min_child_weight': 5, 'max_depth': 4, 'learning_rate': 0.03, 'gamma': 0.1, 'colsample_bytree': 1.0}\n",
      "  Fold 1\n",
      "    Fold 1 RMSLE: 1.0485\n",
      "  Fold 2\n",
      "    Fold 2 RMSLE: 1.0471\n",
      "  Fold 3\n",
      "    Fold 3 RMSLE: 1.0480\n",
      "  Fold 4\n",
      "    Fold 4 RMSLE: 1.0463\n",
      "  Fold 5\n",
      "    Fold 5 RMSLE: 1.0476\n",
      "Mean RMSLE for Search 5: 1.0475\n",
      "Search 6/15 with params: {'subsample': 0.7, 'reg_lambda': 0.1, 'reg_alpha': 0, 'n_estimators': 3000, 'min_child_weight': 1, 'max_depth': 6, 'learning_rate': 0.01, 'gamma': 0.1, 'colsample_bytree': 0.8}\n",
      "  Fold 1\n",
      "    Fold 1 RMSLE: 1.0467\n",
      "  Fold 2\n",
      "    Fold 2 RMSLE: 1.0458\n",
      "  Fold 3\n",
      "    Fold 3 RMSLE: 1.0467\n",
      "  Fold 4\n",
      "    Fold 4 RMSLE: 1.0448\n",
      "  Fold 5\n",
      "    Fold 5 RMSLE: 1.0463\n",
      "Mean RMSLE for Search 6: 1.0461\n",
      "Search 7/15 with params: {'subsample': 0.8, 'reg_lambda': 1.0, 'reg_alpha': 0.1, 'n_estimators': 1000, 'min_child_weight': 3, 'max_depth': 8, 'learning_rate': 0.05, 'gamma': 0, 'colsample_bytree': 0.8}\n",
      "  Fold 1\n",
      "    Fold 1 RMSLE: 1.0464\n",
      "  Fold 2\n",
      "    Fold 2 RMSLE: 1.0457\n",
      "  Fold 3\n",
      "    Fold 3 RMSLE: 1.0463\n",
      "  Fold 4\n",
      "    Fold 4 RMSLE: 1.0445\n",
      "  Fold 5\n",
      "    Fold 5 RMSLE: 1.0460\n",
      "Mean RMSLE for Search 7: 1.0458\n",
      "Search 8/15 with params: {'subsample': 1.0, 'reg_lambda': 0.1, 'reg_alpha': 0, 'n_estimators': 1000, 'min_child_weight': 1, 'max_depth': 10, 'learning_rate': 0.03, 'gamma': 0.1, 'colsample_bytree': 1.0}\n",
      "  Fold 1\n",
      "    Fold 1 RMSLE: 1.0471\n",
      "  Fold 2\n",
      "    Fold 2 RMSLE: 1.0463\n",
      "  Fold 3\n",
      "    Fold 3 RMSLE: 1.0471\n",
      "  Fold 4\n",
      "    Fold 4 RMSLE: 1.0452\n",
      "  Fold 5\n",
      "    Fold 5 RMSLE: 1.0469\n",
      "Mean RMSLE for Search 8: 1.0465\n",
      "Search 9/15 with params: {'subsample': 0.8, 'reg_lambda': 0, 'reg_alpha': 0, 'n_estimators': 2000, 'min_child_weight': 5, 'max_depth': 6, 'learning_rate': 0.01, 'gamma': 0.3, 'colsample_bytree': 0.7}\n",
      "  Fold 1\n",
      "    Fold 1 RMSLE: 1.0468\n",
      "  Fold 2\n",
      "    Fold 2 RMSLE: 1.0458\n",
      "  Fold 3\n",
      "    Fold 3 RMSLE: 1.0468\n",
      "  Fold 4\n",
      "    Fold 4 RMSLE: 1.0449\n",
      "  Fold 5\n",
      "    Fold 5 RMSLE: 1.0463\n",
      "Mean RMSLE for Search 9: 1.0461\n",
      "Search 10/15 with params: {'subsample': 1.0, 'reg_lambda': 0, 'reg_alpha': 0, 'n_estimators': 1000, 'min_child_weight': 3, 'max_depth': 6, 'learning_rate': 0.05, 'gamma': 0.3, 'colsample_bytree': 0.8}\n",
      "  Fold 1\n",
      "    Fold 1 RMSLE: 1.0468\n",
      "  Fold 2\n",
      "    Fold 2 RMSLE: 1.0458\n",
      "  Fold 3\n",
      "    Fold 3 RMSLE: 1.0467\n",
      "  Fold 4\n",
      "    Fold 4 RMSLE: 1.0447\n",
      "  Fold 5\n",
      "    Fold 5 RMSLE: 1.0463\n",
      "Mean RMSLE for Search 10: 1.0461\n",
      "Search 11/15 with params: {'subsample': 0.8, 'reg_lambda': 1.0, 'reg_alpha': 0.1, 'n_estimators': 2000, 'min_child_weight': 1, 'max_depth': 8, 'learning_rate': 0.03, 'gamma': 0.1, 'colsample_bytree': 0.7}\n",
      "  Fold 1\n",
      "    Fold 1 RMSLE: 1.0465\n",
      "  Fold 2\n",
      "    Fold 2 RMSLE: 1.0456\n",
      "  Fold 3\n",
      "    Fold 3 RMSLE: 1.0465\n",
      "  Fold 4\n",
      "    Fold 4 RMSLE: 1.0447\n",
      "  Fold 5\n",
      "    Fold 5 RMSLE: 1.0460\n",
      "Mean RMSLE for Search 11: 1.0459\n",
      "Search 12/15 with params: {'subsample': 1.0, 'reg_lambda': 0, 'reg_alpha': 0.01, 'n_estimators': 1000, 'min_child_weight': 3, 'max_depth': 8, 'learning_rate': 0.03, 'gamma': 0.1, 'colsample_bytree': 1.0}\n",
      "  Fold 1\n",
      "    Fold 1 RMSLE: 1.0464\n",
      "  Fold 2\n",
      "    Fold 2 RMSLE: 1.0456\n",
      "  Fold 3\n",
      "    Fold 3 RMSLE: 1.0464\n",
      "  Fold 4\n",
      "    Fold 4 RMSLE: 1.0443\n",
      "  Fold 5\n",
      "    Fold 5 RMSLE: 1.0460\n",
      "Mean RMSLE for Search 12: 1.0457\n",
      "Search 13/15 with params: {'subsample': 1.0, 'reg_lambda': 0.1, 'reg_alpha': 0, 'n_estimators': 1000, 'min_child_weight': 3, 'max_depth': 10, 'learning_rate': 0.05, 'gamma': 0.1, 'colsample_bytree': 0.8}\n",
      "  Fold 1\n",
      "    Fold 1 RMSLE: 1.0472\n",
      "  Fold 2\n",
      "    Fold 2 RMSLE: 1.0463\n",
      "  Fold 3\n",
      "    Fold 3 RMSLE: 1.0471\n",
      "  Fold 4\n",
      "    Fold 4 RMSLE: 1.0452\n",
      "  Fold 5\n",
      "    Fold 5 RMSLE: 1.0471\n",
      "Mean RMSLE for Search 13: 1.0466\n",
      "Search 14/15 with params: {'subsample': 1.0, 'reg_lambda': 0.1, 'reg_alpha': 0.1, 'n_estimators': 1000, 'min_child_weight': 5, 'max_depth': 8, 'learning_rate': 0.05, 'gamma': 0, 'colsample_bytree': 0.8}\n",
      "  Fold 1\n",
      "    Fold 1 RMSLE: 1.0463\n",
      "  Fold 2\n",
      "    Fold 2 RMSLE: 1.0456\n",
      "  Fold 3\n",
      "    Fold 3 RMSLE: 1.0463\n",
      "  Fold 4\n",
      "    Fold 4 RMSLE: 1.0444\n",
      "  Fold 5\n",
      "    Fold 5 RMSLE: 1.0459\n",
      "Mean RMSLE for Search 14: 1.0457\n",
      "Search 15/15 with params: {'subsample': 0.7, 'reg_lambda': 0.1, 'reg_alpha': 0.01, 'n_estimators': 3000, 'min_child_weight': 5, 'max_depth': 6, 'learning_rate': 0.03, 'gamma': 0.3, 'colsample_bytree': 0.8}\n",
      "  Fold 1\n",
      "    Fold 1 RMSLE: 1.0467\n",
      "  Fold 2\n",
      "    Fold 2 RMSLE: 1.0458\n",
      "  Fold 3\n",
      "    Fold 3 RMSLE: 1.0468\n",
      "  Fold 4\n",
      "    Fold 4 RMSLE: 1.0448\n",
      "  Fold 5\n",
      "    Fold 5 RMSLE: 1.0463\n",
      "Mean RMSLE for Search 15: 1.0461\n",
      "\n",
      "Best Parameters: {'subsample': 1.0, 'reg_lambda': 0.1, 'reg_alpha': 0.1, 'n_estimators': 1000, 'min_child_weight': 5, 'max_depth': 8, 'learning_rate': 0.05, 'gamma': 0, 'colsample_bytree': 0.8}\n",
      "Best RMSLE: 1.0457\n"
     ]
    }
   ],
   "source": [
    "# 定义 XGBoost 的随机搜索训练函数\n",
    "def random_search_train_xgb(X, y, param_list, n_splits=5, random_state=42):\n",
    "    kf = KFold(n_splits=n_splits, shuffle=True, random_state=random_state)\n",
    "    best_score = float('inf')\n",
    "    best_params = None\n",
    "    best_models = None\n",
    "    results = []\n",
    "\n",
    "    for idx, params in enumerate(param_list):\n",
    "        print(f\"Search {idx+1}/{len(param_list)} with params: {params}\")\n",
    "        oof = np.zeros(len(X))\n",
    "        models = []\n",
    "        fold_scores = []\n",
    "\n",
    "        for fold, (train_idx, valid_idx) in enumerate(kf.split(X)):\n",
    "            print(f\"  Fold {fold + 1}\")\n",
    "            X_train, X_valid = X.iloc[train_idx], X.iloc[valid_idx]\n",
    "            y_train, y_valid = np.log1p(y.iloc[train_idx]), np.log1p(y.iloc[valid_idx])\n",
    "\n",
    "            model = xgb.XGBRegressor(\n",
    "                **params,\n",
    "                objective='reg:squarederror',\n",
    "                random_state=random_state,\n",
    "                eval_metric=\"rmse\",\n",
    "                verbosity=0,\n",
    "                tree_method='gpu_hist',  # 使用 GPU 加速\n",
    "                booster='gbtree',\n",
    "            )\n",
    "            \n",
    "            model.fit(\n",
    "                X_train, y_train,\n",
    "                eval_set=[(X_valid, y_valid)],\n",
    "                early_stopping_rounds=300,\n",
    "                verbose=False,\n",
    "            )\n",
    "            models.append(model)\n",
    "\n",
    "            # 预测和评估\n",
    "            oof[valid_idx] = np.maximum(0, model.predict(X_valid))\n",
    "            fold_rmsle = rmsle(np.expm1(y_valid), np.expm1(oof[valid_idx]))\n",
    "            fold_scores.append(fold_rmsle)\n",
    "\n",
    "            print(f\"    Fold {fold + 1} RMSLE: {fold_rmsle:.4f}\")\n",
    "        \n",
    "        mean_score = np.mean(fold_scores)\n",
    "        print(f\"Mean RMSLE for Search {idx+1}: {mean_score:.4f}\")\n",
    "\n",
    "        # 保存最佳模型\n",
    "        if mean_score < best_score:\n",
    "            best_score = mean_score\n",
    "            best_params = params\n",
    "            best_models = models\n",
    "\n",
    "        # 记录结果\n",
    "        results.append({'params': params, 'mean_rmsle': mean_score})\n",
    "    \n",
    "    results_df = pd.DataFrame(results)\n",
    "    print(\"\\nBest Parameters:\", best_params)\n",
    "    print(f\"Best RMSLE: {best_score:.4f}\")\n",
    "    return best_models, best_params, results_df\n",
    "\n",
    "# 定义超参数搜索空间\n",
    "param_grid = {\n",
    "    'n_estimators': [1000, 2000, 3000],\n",
    "    'learning_rate': [0.01, 0.03, 0.05],\n",
    "    'max_depth': [4, 6, 8, 10],\n",
    "    'subsample': [0.7, 0.8, 1.0],\n",
    "    'colsample_bytree': [0.7, 0.8, 1.0],\n",
    "    'min_child_weight': [1, 3, 5],\n",
    "    'gamma': [0, 0.1, 0.3],\n",
    "    'reg_alpha': [0, 0.01, 0.1],\n",
    "    'reg_lambda': [0, 0.1, 1.0]\n",
    "}\n",
    "\n",
    "# 随机抽取参数\n",
    "n_searches = 15\n",
    "param_list = list(ParameterSampler(param_grid, n_iter=n_searches, random_state=42))\n",
    "\n",
    "# 执行随机搜索训练\n",
    "models, best_params, results_df = random_search_train_xgb(X, y, param_list)\n",
    "\n",
    "# 对测试集进行预测\n",
    "test_predictions = np.zeros(len(test))\n",
    "for model in models:\n",
    "    test_predictions += np.maximum(0, np.expm1(model.predict(test))) / len(models)\n",
    "\n",
    "# 将预测结果保存到 CSV 文件\n",
    "sample['Premium Amount'] = test_predictions\n",
    "sample.to_csv('submission_xgb.csv', index=False)\n"
   ]
  },
  {
   "cell_type": "markdown",
   "id": "7e7f4aea",
   "metadata": {
    "papermill": {
     "duration": 0.005775,
     "end_time": "2024-12-04T06:27:31.596029",
     "exception": false,
     "start_time": "2024-12-04T06:27:31.590254",
     "status": "completed"
    },
    "tags": []
   },
   "source": [
    "# submission"
   ]
  },
  {
   "cell_type": "code",
   "execution_count": 7,
   "id": "e8f8dc3f",
   "metadata": {
    "execution": {
     "iopub.execute_input": "2024-12-04T06:27:31.608833Z",
     "iopub.status.busy": "2024-12-04T06:27:31.608554Z",
     "iopub.status.idle": "2024-12-04T06:27:35.747809Z",
     "shell.execute_reply": "2024-12-04T06:27:35.746978Z"
    },
    "papermill": {
     "duration": 4.14783,
     "end_time": "2024-12-04T06:27:35.749664",
     "exception": false,
     "start_time": "2024-12-04T06:27:31.601834",
     "status": "completed"
    },
    "tags": []
   },
   "outputs": [
    {
     "data": {
      "text/html": [
       "<div>\n",
       "<style scoped>\n",
       "    .dataframe tbody tr th:only-of-type {\n",
       "        vertical-align: middle;\n",
       "    }\n",
       "\n",
       "    .dataframe tbody tr th {\n",
       "        vertical-align: top;\n",
       "    }\n",
       "\n",
       "    .dataframe thead th {\n",
       "        text-align: right;\n",
       "    }\n",
       "</style>\n",
       "<table border=\"1\" class=\"dataframe\">\n",
       "  <thead>\n",
       "    <tr style=\"text-align: right;\">\n",
       "      <th></th>\n",
       "      <th>id</th>\n",
       "      <th>Premium Amount</th>\n",
       "    </tr>\n",
       "  </thead>\n",
       "  <tbody>\n",
       "    <tr>\n",
       "      <th>0</th>\n",
       "      <td>1200000</td>\n",
       "      <td>808.712921</td>\n",
       "    </tr>\n",
       "    <tr>\n",
       "      <th>1</th>\n",
       "      <td>1200001</td>\n",
       "      <td>801.173965</td>\n",
       "    </tr>\n",
       "    <tr>\n",
       "      <th>2</th>\n",
       "      <td>1200002</td>\n",
       "      <td>789.772614</td>\n",
       "    </tr>\n",
       "    <tr>\n",
       "      <th>3</th>\n",
       "      <td>1200003</td>\n",
       "      <td>788.977814</td>\n",
       "    </tr>\n",
       "    <tr>\n",
       "      <th>4</th>\n",
       "      <td>1200004</td>\n",
       "      <td>751.742554</td>\n",
       "    </tr>\n",
       "  </tbody>\n",
       "</table>\n",
       "</div>"
      ],
      "text/plain": [
       "        id  Premium Amount\n",
       "0  1200000      808.712921\n",
       "1  1200001      801.173965\n",
       "2  1200002      789.772614\n",
       "3  1200003      788.977814\n",
       "4  1200004      751.742554"
      ]
     },
     "execution_count": 7,
     "metadata": {},
     "output_type": "execute_result"
    }
   ],
   "source": [
    "test_predictions = np.zeros(len(test))\n",
    "\n",
    "for model in models:\n",
    "    test_predictions += np.maximum(0, np.expm1(model.predict(test))) / len(models)\n",
    "\n",
    "\n",
    "sample['Premium Amount'] = test_predictions\n",
    "sample.to_csv('submission1xgb.csv' , index = False)\n",
    "sample.head()"
   ]
  },
  {
   "cell_type": "code",
   "execution_count": null,
   "id": "b19c0734",
   "metadata": {
    "papermill": {
     "duration": 0.006082,
     "end_time": "2024-12-04T06:27:35.762070",
     "exception": false,
     "start_time": "2024-12-04T06:27:35.755988",
     "status": "completed"
    },
    "tags": []
   },
   "outputs": [],
   "source": []
  },
  {
   "cell_type": "code",
   "execution_count": null,
   "id": "90d98e15",
   "metadata": {
    "papermill": {
     "duration": 0.006247,
     "end_time": "2024-12-04T06:27:35.774241",
     "exception": false,
     "start_time": "2024-12-04T06:27:35.767994",
     "status": "completed"
    },
    "tags": []
   },
   "outputs": [],
   "source": []
  },
  {
   "cell_type": "code",
   "execution_count": null,
   "id": "79e890a2",
   "metadata": {
    "papermill": {
     "duration": 0.006052,
     "end_time": "2024-12-04T06:27:35.786278",
     "exception": false,
     "start_time": "2024-12-04T06:27:35.780226",
     "status": "completed"
    },
    "tags": []
   },
   "outputs": [],
   "source": []
  }
 ],
 "metadata": {
  "kaggle": {
   "accelerator": "nvidiaTeslaT4",
   "dataSources": [
    {
     "databundleVersionId": 10305135,
     "sourceId": 84896,
     "sourceType": "competition"
    }
   ],
   "dockerImageVersionId": 30805,
   "isGpuEnabled": true,
   "isInternetEnabled": true,
   "language": "python",
   "sourceType": "notebook"
  },
  "kernelspec": {
   "display_name": "Python 3",
   "language": "python",
   "name": "python3"
  },
  "language_info": {
   "codemirror_mode": {
    "name": "ipython",
    "version": 3
   },
   "file_extension": ".py",
   "mimetype": "text/x-python",
   "name": "python",
   "nbconvert_exporter": "python",
   "pygments_lexer": "ipython3",
   "version": "3.10.14"
  },
  "papermill": {
   "default_parameters": {},
   "duration": 1372.006701,
   "end_time": "2024-12-04T06:27:37.413172",
   "environment_variables": {},
   "exception": null,
   "input_path": "__notebook__.ipynb",
   "output_path": "__notebook__.ipynb",
   "parameters": {},
   "start_time": "2024-12-04T06:04:45.406471",
   "version": "2.6.0"
  }
 },
 "nbformat": 4,
 "nbformat_minor": 5
}
